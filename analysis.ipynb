{
 "cells": [
  {
   "cell_type": "markdown",
   "metadata": {},
   "source": [
    "## Required imports"
   ]
  },
  {
   "cell_type": "code",
   "execution_count": 1,
   "metadata": {},
   "outputs": [],
   "source": [
    "# For plots.\n",
    "from tkinter.messagebox import NO\n",
    "from pip import main\n",
    "\n",
    "import plotly.express as px\n",
    "from plotly.subplots import make_subplots\n",
    "import plotly.graph_objects as go\n",
    "\n",
    "import plotly.io as pio\n",
    "pio.kaleido.scope.mathjax = None\n",
    "pio.templates.default = \"gridon\"\n",
    "\n",
    "WIDTH = 1000\n",
    "HALF_WIDTH = WIDTH/2\n",
    "QUARTER_WIDTH = WIDTH/4\n",
    "HEIGHT = 1000\n",
    "HALF_HEIGHT = HEIGHT/2\n",
    "QUARTER_HEIGHT = HEIGHT/4\n",
    "\n",
    "# For csv reading.\n",
    "import pandas as pd\n",
    "\n",
    "# For maths.\n",
    "import numpy as np\n",
    "\n",
    "# For fuzzy markers\n",
    "import random\n",
    "\n",
    "# Other constants\n",
    "NOTASSIGNED = 'Not assigned'"
   ]
  },
  {
   "cell_type": "markdown",
   "metadata": {},
   "source": [
    "## Functions to retrieve journal and conference rankings"
   ]
  },
  {
   "cell_type": "code",
   "execution_count": 2,
   "metadata": {},
   "outputs": [],
   "source": [
    "def retrieve_sjr(row, dic_sjr_dfs):\n",
    "    if row['Publication Source'] != 'Journal':\n",
    "        return None\n",
    "    title = row['Publication Title']\n",
    "    sourceID = row['SourceID']\n",
    "    year = row['Publication Year']\n",
    "    if (year == 2022):\n",
    "        return NOTASSIGNED\n",
    "\n",
    "    print(f'Title: {title}\\nSourceID: {sourceID}')\n",
    "    df_sjr = dic_sjr_dfs[f'{year}']\n",
    "\n",
    "    df_title_contains = df_sjr[df_sjr['Sourceid'] == sourceID]\n",
    "\n",
    "    if df_title_contains.empty:\n",
    "        print('Empty!')\n",
    "        return NOTASSIGNED\n",
    "\n",
    "    print(f'Article from year {year}')\n",
    "\n",
    "    if pd.isna(df_title_contains.iloc[0]['SJR']) or df_title_contains.iloc[0]['SJR'] == '-':\n",
    "        return NOTASSIGNED\n",
    "    print(df_title_contains.iloc[0]['SJR'])\n",
    "\n",
    "\n",
    "    return df_title_contains.iloc[0]['SJR']\n",
    "\n",
    "def retrieve_quartile(row, dic_quartiles_dfs):\n",
    "    if row['Publication Source'] != 'Journal':\n",
    "        return None\n",
    "    title = row['Publication Title']\n",
    "    sourceID = row['SourceID']\n",
    "    year = row['Publication Year']\n",
    "    if (year == 2022):\n",
    "        return NOTASSIGNED\n",
    "\n",
    "    print(f'Title: {title}\\nSourceID: {sourceID}')\n",
    "    df_quartiles = dic_quartiles_dfs[f'{year}']\n",
    "\n",
    "    df_title_contains = df_quartiles[df_quartiles['Sourceid'] == sourceID]\n",
    "\n",
    "    if df_title_contains.empty:\n",
    "        print('Empty!')\n",
    "        return NOTASSIGNED\n",
    "\n",
    "    print(f'Article from year {year}')\n",
    "    if pd.isna(df_title_contains.iloc[0]['SJR Best Quartile']) or df_title_contains.iloc[0]['SJR Best Quartile'] == '-':\n",
    "        return NOTASSIGNED\n",
    "    print(df_title_contains.iloc[0]['SJR Best Quartile'])\n",
    "\n",
    "\n",
    "    return df_title_contains.iloc[0]['SJR Best Quartile']\n",
    "\n",
    "def retrieve_conference(row, dic_conferences_dfs):\n",
    "    if row['Publication Source'] != 'Conference':\n",
    "        return None\n",
    "\n",
    "    title = row['Publication Title']\n",
    "    conferenceID = row['ConferenceID']\n",
    "    year = row['Publication Year']\n",
    "    if (year == 2022):\n",
    "        return NOTASSIGNED\n",
    "\n",
    "    print(f'Title: {title}\\ConferenceID: {conferenceID}')\n",
    "    df_conferences = dic_conferences_dfs[f'{year}']\n",
    "\n",
    "    df_title_contains = df_conferences[df_conferences[0] == conferenceID]\n",
    "\n",
    "    if df_title_contains.empty:\n",
    "        print('Empty!')\n",
    "        return NOTASSIGNED\n",
    "\n",
    "    print(f'Article from year {year}')\n",
    "    if pd.isna(df_title_contains.iloc[0][4]) or df_title_contains.iloc[0][4] == '-':\n",
    "        return NOTASSIGNED\n",
    "    print(df_title_contains.iloc[0][4])\n",
    "\n",
    "    return df_title_contains.iloc[0][4]"
   ]
  },
  {
   "cell_type": "markdown",
   "metadata": {},
   "source": [
    "# Retrieve jornal rankings from scimagojr databases"
   ]
  },
  {
   "cell_type": "code",
   "execution_count": 3,
   "metadata": {},
   "outputs": [
    {
     "name": "stdout",
     "output_type": "stream",
     "text": [
      "Title: IEEE Transactions on Quantum Engineering\n",
      "SourceID: nan\n",
      "Empty!\n",
      "Title: Neural Computing and Applications\n",
      "SourceID: 24800.0\n",
      "Article from year 2019\n",
      "Q1\n",
      "Title: Energies\n",
      "SourceID: 62932.0\n",
      "Article from year 2016\n",
      "Q1\n",
      "Title: International Journal of Intelligent Systems and Applications\n",
      "SourceID: 21101021990.0\n",
      "Empty!\n",
      "Title: International Journal of Systems Assurance Engineering and Management\n",
      "SourceID: 19700177002.0\n",
      "Article from year 2020\n",
      "Q3\n",
      "Title: Applied Thermal Engineering\n",
      "SourceID: 13688.0\n",
      "Article from year 2020\n",
      "Q1\n",
      "Title: International Transactions on Electrical Energy Systems\n",
      "SourceID: 21100241220.0\n",
      "Article from year 2021\n",
      "Q2\n",
      "Title: Journal of Cloud Computing\n",
      "SourceID: 21100383744.0\n",
      "Article from year 2020\n",
      "Q2\n",
      "Title: Energy Conversion and Management\n",
      "SourceID: 29372.0\n",
      "Article from year 2020\n",
      "Q1\n",
      "Title: IEEE Transactions on Systems, Man, and Cybernetics: Systems\n",
      "SourceID: 21100262320.0\n",
      "Article from year 2013\n",
      "Q1\n",
      "Title: Frontiers in ICT\n",
      "SourceID: 21100893766.0\n",
      "Article from year 2017\n",
      "Title: Frontiers in Computer Science\n",
      "SourceID: nan\n",
      "Empty!\n",
      "Title: Applied Mechanics and Materials\n",
      "SourceID: 4700151914.0\n",
      "Article from year 2012\n",
      "Q4\n",
      "Title: IEEE Transactions on Intelligent Transportation Systems\n",
      "SourceID: 18378.0\n",
      "Article from year 2020\n",
      "Q1\n",
      "Title: International Journal of Electrical Power & Energy Systems\n",
      "SourceID: 17985.0\n",
      "Article from year 2011\n",
      "Q1\n",
      "Title: Engineering Applications of Artificial Intelligence\n",
      "SourceID: 24182.0\n",
      "Article from year 2011\n",
      "Q1\n",
      "Title: Energy\n",
      "SourceID: 29348.0\n",
      "Article from year 2017\n",
      "Q1\n",
      "Title: Mathematical Problems in Engineering\n",
      "SourceID: 13082.0\n",
      "Article from year 2014\n",
      "Q2\n",
      "Title: IEEE Transactions on Industrial Informatics\n",
      "SourceID: 144912.0\n",
      "Article from year 2012\n",
      "Q1\n",
      "Title: Annals of Nuclear Energy\n",
      "SourceID: 29363.0\n",
      "Article from year 2013\n",
      "Q1\n",
      "Title: Applied Soft Computing\n",
      "SourceID: 18136.0\n",
      "Article from year 2014\n",
      "Q1\n",
      "Title: Advances in Structural Engineering\n",
      "SourceID: 14469.0\n",
      "Article from year 2014\n",
      "Q2\n",
      "Title: Applied Mathematics and Information Sciences\n",
      "SourceID: 21100197928.0\n",
      "Article from year 2014\n",
      "Q3\n",
      "Title: Applied Soft Computing\n",
      "SourceID: 18136.0\n",
      "Article from year 2011\n",
      "Q1\n",
      "Title: Applied Soft Computing\n",
      "SourceID: 18136.0\n",
      "Article from year 2019\n",
      "Q1\n",
      "Title: Expert Systems with Applications\n",
      "SourceID: 24201.0\n",
      "Article from year 2020\n",
      "Q1\n",
      "Title: Advances in Space Research\n",
      "SourceID: 12375.0\n",
      "Article from year 2018\n",
      "Q2\n",
      "Title: International Transactions on Electrical Energy Systems\n",
      "SourceID: 21100241220.0\n",
      "Article from year 2018\n",
      "Q2\n",
      "Title: International Journal of Electrical Power & Energy Systems\n",
      "SourceID: 17985.0\n",
      "Article from year 2014\n",
      "Q1\n",
      "Title: Applied Thermal Engineering\n",
      "SourceID: 13688.0\n",
      "Article from year 2012\n",
      "Q1\n",
      "Title: IEEE Access\n",
      "SourceID: 21100374601.0\n",
      "Article from year 2020\n",
      "Q1\n",
      "Title: Journal of Hydrology\n",
      "SourceID: 50089.0\n",
      "Article from year 2021\n",
      "Q1\n",
      "Title: Energy Sources, Part B: Economics, Planning, and Policy\n",
      "SourceID: 4700152713.0\n",
      "Article from year 2021\n",
      "Q1\n",
      "Title: Scientific Reports\n",
      "SourceID: 21100200805.0\n",
      "Article from year 2019\n",
      "Q1\n",
      "Title: Computers & Industrial Engineering\n",
      "SourceID: 18164.0\n",
      "Article from year 2021\n",
      "Q1\n",
      "Title: Sustainable Energy, Grids and Networks\n",
      "SourceID: 21100371258.0\n",
      "Article from year 2021\n",
      "Q1\n",
      "Title: Journal of Hydrology\n",
      "SourceID: 50089.0\n",
      "Article from year 2020\n",
      "Q1\n",
      "Title: Energy Science and Engineering\n",
      "SourceID: 21100817528.0\n",
      "Article from year 2020\n",
      "Q2\n",
      "Title: Journal of Hydrology\n",
      "SourceID: 50089.0\n",
      "Article from year 2020\n",
      "Q1\n",
      "Title: IEEE Access\n",
      "SourceID: 21100374601.0\n",
      "Article from year 2020\n",
      "Q1\n",
      "Title: Structural Control and Health Monitoring\n",
      "SourceID: 12246.0\n",
      "Article from year 2021\n",
      "Q1\n",
      "Title: Advances in Water Resources\n",
      "SourceID: 19627.0\n",
      "Article from year 2020\n",
      "Q1\n",
      "Title: Expert Systems with Applications\n",
      "SourceID: 24201.0\n",
      "Article from year 2014\n",
      "Q1\n",
      "Title: Energy Reports\n",
      "SourceID: 21100389511.0\n",
      "Article from year 2021\n",
      "Q1\n",
      "Title: IET Generation, Transmission and Distribution\n",
      "SourceID: 5400152713.0\n",
      "Article from year 2020\n",
      "Q1\n",
      "Title: International Journal of Applied Metaheuristic Computing\n",
      "SourceID: 21100858129.0\n",
      "Article from year 2020\n",
      "Q4\n",
      "Title: Sustainable Cities and Society\n",
      "SourceID: 19700194105.0\n",
      "Article from year 2019\n",
      "Q1\n",
      "Title: IET Generation, Transmission and Distribution\n",
      "SourceID: 5400152713.0\n",
      "Article from year 2018\n",
      "Q1\n",
      "Title: Aerospace Science and Technology\n",
      "SourceID: 12507.0\n",
      "Article from year 2018\n",
      "Q1\n",
      "Title: Shock and Vibration\n",
      "SourceID: 13511.0\n",
      "Article from year 2017\n",
      "Q2\n",
      "Title: Swarm and Evolutionary Computation\n",
      "SourceID: 19900192513.0\n",
      "Article from year 2016\n",
      "Q1\n",
      "Title: Mathematical Problems in Engineering\n",
      "SourceID: 13082.0\n",
      "Article from year 2016\n",
      "Q2\n",
      "Title: Shock and Vibration\n",
      "SourceID: nan\n",
      "Empty!\n",
      "Title: Mathematical Problems in Engineering\n",
      "SourceID: 13082.0\n",
      "Article from year 2015\n",
      "Q2\n",
      "Title: Mathematical Problems in Engineering\n",
      "SourceID: 13082.0\n",
      "Article from year 2013\n",
      "Q2\n",
      "Title: International Journal of Electrical Power and Energy Systems\n",
      "SourceID: nan\n",
      "Empty!\n",
      "Title: International Journal of Communication Networks and Distributed Systems\n",
      "SourceID: nan\n",
      "Empty!\n",
      "Title: Proceedings of the Institution of Mechanical Engineers, Part B: Journal of Engineering Manufacture\n",
      "SourceID: nan\n",
      "Empty!\n",
      "Title: Mathematical Problems in Engineering\n",
      "SourceID: 13082.0\n",
      "Article from year 2020\n",
      "Q3\n",
      "Title: PLoS ONE\n",
      "SourceID: 10600153309.0\n",
      "Article from year 2017\n",
      "Q1\n",
      "Title: Soft Computing\n",
      "SourceID: 28554.0\n",
      "Article from year 2017\n",
      "Q2\n",
      "Title: Computers and Industrial Engineering\n",
      "SourceID: 18164.0\n",
      "Article from year 2016\n",
      "Q1\n",
      "Title: Applied Mathematical Modelling\n",
      "SourceID: 28065.0\n",
      "Article from year 2016\n",
      "Q1\n",
      "Title: Expert Systems with Applications\n",
      "SourceID: 24201.0\n",
      "Article from year 2021\n",
      "Q1\n",
      "Title: Neural Computing and Applications\n",
      "SourceID: 24800.0\n",
      "Article from year 2020\n",
      "Q1\n",
      "Title: International Journal of Computational Intelligence and Applications\n",
      "SourceID: 14500154706.0\n",
      "Article from year 2020\n",
      "Q3\n",
      "Title: IEEE Transactions on Industrial Informatics\n",
      "SourceID: 144912.0\n",
      "Article from year 2015\n",
      "Q1\n",
      "Title: International Transactions on Electrical Energy Systems\n",
      "SourceID: 21100241220.0\n",
      "Article from year 2021\n",
      "Q2\n",
      "Title: ISA Transactions\n",
      "SourceID: 29805.0\n",
      "Article from year 2021\n",
      "Q1\n",
      "Title: CMES - Computer Modeling in Engineering and Sciences\n",
      "SourceID: 28642.0\n",
      "Article from year 2020\n",
      "Q3\n",
      "Title: IEEE Access\n",
      "SourceID: 21100374601.0\n",
      "Article from year 2020\n",
      "Q1\n",
      "Title: IEEE Access\n",
      "SourceID: 21100374601.0\n",
      "Article from year 2019\n",
      "Q1\n",
      "Title: Algorithms\n",
      "SourceID: 21100199795.0\n",
      "Article from year 2019\n",
      "Q3\n",
      "Title: IET Radar, Sonar and Navigation\n",
      "SourceID: 5700165202.0\n",
      "Article from year 2017\n",
      "Q2\n",
      "Title: Neurocomputing\n",
      "SourceID: 24807.0\n",
      "Article from year 2016\n",
      "Q1\n",
      "Title: Energies\n",
      "SourceID: 62932.0\n",
      "Article from year 2015\n",
      "Q1\n",
      "Title: Advances in Mechanical Engineering\n",
      "SourceID: 19700182334.0\n",
      "Article from year 2014\n",
      "Q3\n",
      "Title: Environmental Modeling and Assessment\n",
      "SourceID: 23276.0\n",
      "Article from year 2019\n",
      "Q2\n",
      "Title: Energy\n",
      "SourceID: 29348.0\n",
      "Article from year 2020\n",
      "Q1\n",
      "Title: Journal of Hydrology\n",
      "SourceID: 50089.0\n",
      "Article from year 2017\n",
      "Q1\n",
      "Title: Energies\n",
      "SourceID: 62932.0\n",
      "Article from year 2016\n",
      "Q1\n",
      "Title: International Journal of Multimedia and Ubiquitous Engineering\n",
      "SourceID: nan\n",
      "Empty!\n",
      "Title: Journal of Systems Science and Systems Engineering\n",
      "SourceID: 4700152484.0\n",
      "Article from year 2016\n",
      "Q2\n",
      "Title: Mathematical Biosciences and Engineering\n",
      "SourceID: 5200152802.0\n",
      "Article from year 2020\n",
      "Q2\n",
      "Title: Scientific Reports\n",
      "SourceID: 21100200805.0\n",
      "Article from year 2020\n",
      "Q1\n",
      "Title: IET Renewable Power Generation\n",
      "SourceID: 5600152809.0\n",
      "Article from year 2020\n",
      "Q2\n",
      "Title: Proceedings of the Institution of Mechanical Engineers, Part G: Journal of Aerospace Engineering\n",
      "SourceID: 29080.0\n",
      "Article from year 2020\n",
      "Q2\n",
      "Title: Tsinghua Science and Technology\n",
      "SourceID: 25522.0\n",
      "Article from year 2020\n",
      "Q1\n",
      "Title: Advances in Space Research\n",
      "SourceID: 12375.0\n",
      "Article from year 2021\n",
      "Q2\n",
      "Title: Journal of Physics: Conference Series\n",
      "SourceID: 130053.0\n",
      "Article from year 2021\n",
      "Title: IEEE Access\n",
      "SourceID: 21100374601.0\n",
      "Article from year 2021\n",
      "Q1\n",
      "Title: SN Computer Science\n",
      "SourceID: nan\n",
      "Empty!\n",
      "Title: Proceedings of the Institution of Mechanical Engineers, Part G: Journal of Aerospace Engineering\n",
      "SourceID: 29080.0\n",
      "Article from year 2020\n",
      "Q2\n",
      "Title: Computer Science and Information Systems\n",
      "SourceID: 19300157037.0\n",
      "Article from year 2020\n",
      "Q3\n",
      "Title: Applied Energy\n",
      "SourceID: 28801.0\n",
      "Article from year 2021\n",
      "Q1\n",
      "Title: Quantum Information Processing\n",
      "SourceID: 24831.0\n",
      "Article from year 2020\n",
      "Q2\n",
      "Title: Energies\n",
      "SourceID: 62932.0\n",
      "Article from year 2019\n",
      "Q2\n",
      "Title: Frontiers in ICT\n",
      "SourceID: 21100893766.0\n",
      "Article from year 2019\n",
      "Q2\n",
      "Title: Frontiers in Computer Science\n",
      "SourceID: nan\n",
      "Empty!\n",
      "Title: IEEE Access\n",
      "SourceID: 21100374601.0\n",
      "Article from year 2019\n",
      "Q1\n",
      "Title: Nonlinear Dynamics\n",
      "SourceID: 21576.0\n",
      "Article from year 2019\n",
      "Q1\n",
      "Title: Computers and Chemical Engineering\n",
      "SourceID: 24600.0\n",
      "Article from year 2020\n",
      "Q1\n",
      "Title: Computers and Chemical Engineering\n",
      "SourceID: 24600.0\n",
      "Article from year 2020\n",
      "Q1\n",
      "Title: Energy Conversion and Management\n",
      "SourceID: 29372.0\n",
      "Article from year 2016\n",
      "Q1\n",
      "Title: Pattern Recognition\n",
      "SourceID: 24823.0\n",
      "Article from year 2017\n",
      "Q1\n",
      "Title: Energies\n",
      "SourceID: 62932.0\n",
      "Article from year 2017\n",
      "Q1\n",
      "Title: IEEE Transactions on Quantum Engineering\n",
      "SourceID: nan\n",
      "Empty!\n",
      "Title: Neural Computing and Applications\n",
      "SourceID: 24800.0\n",
      "Article from year 2019\n",
      "0.796\n",
      "Title: Energies\n",
      "SourceID: 62932.0\n",
      "Article from year 2016\n",
      "0.662\n",
      "Title: International Journal of Intelligent Systems and Applications\n",
      "SourceID: 21101021990.0\n",
      "Empty!\n",
      "Title: International Journal of Systems Assurance Engineering and Management\n",
      "SourceID: 19700177002.0\n",
      "Article from year 2020\n",
      "0.3\n",
      "Title: Applied Thermal Engineering\n",
      "SourceID: 13688.0\n",
      "Article from year 2020\n",
      "1.714\n",
      "Title: International Transactions on Electrical Energy Systems\n",
      "SourceID: 21100241220.0\n",
      "Article from year 2021\n",
      "0.6\n",
      "Title: Journal of Cloud Computing\n",
      "SourceID: 21100383744.0\n",
      "Article from year 2020\n",
      "0.593\n",
      "Title: Energy Conversion and Management\n",
      "SourceID: 29372.0\n",
      "Article from year 2020\n",
      "2.743\n",
      "Title: IEEE Transactions on Systems, Man, and Cybernetics: Systems\n",
      "SourceID: 21100262320.0\n",
      "Article from year 2013\n",
      "1.403\n",
      "Title: Frontiers in ICT\n",
      "SourceID: 21100893766.0\n",
      "Article from year 2017\n",
      "Title: Frontiers in Computer Science\n",
      "SourceID: nan\n",
      "Empty!\n",
      "Title: Applied Mechanics and Materials\n",
      "SourceID: 4700151914.0\n",
      "Article from year 2012\n",
      "0.123\n",
      "Title: IEEE Transactions on Intelligent Transportation Systems\n",
      "SourceID: 18378.0\n",
      "Article from year 2020\n",
      "1.591\n",
      "Title: International Journal of Electrical Power & Energy Systems\n",
      "SourceID: 17985.0\n",
      "Article from year 2011\n",
      "0.985\n",
      "Title: Engineering Applications of Artificial Intelligence\n",
      "SourceID: 24182.0\n",
      "Article from year 2011\n",
      "0.857\n",
      "Title: Energy\n",
      "SourceID: 29348.0\n",
      "Article from year 2017\n",
      "1.99\n",
      "Title: Mathematical Problems in Engineering\n",
      "SourceID: 13082.0\n",
      "Article from year 2014\n",
      "0.287\n",
      "Title: IEEE Transactions on Industrial Informatics\n",
      "SourceID: 144912.0\n",
      "Article from year 2012\n",
      "0.934\n",
      "Title: Annals of Nuclear Energy\n",
      "SourceID: 29363.0\n",
      "Article from year 2013\n",
      "1.052\n",
      "Title: Applied Soft Computing\n",
      "SourceID: 18136.0\n",
      "Article from year 2014\n",
      "1.592\n",
      "Title: Advances in Structural Engineering\n",
      "SourceID: 14469.0\n",
      "Article from year 2014\n",
      "0.544\n",
      "Title: Applied Mathematics and Information Sciences\n",
      "SourceID: 21100197928.0\n",
      "Article from year 2014\n",
      "0.318\n",
      "Title: Applied Soft Computing\n",
      "SourceID: 18136.0\n",
      "Article from year 2011\n",
      "1.251\n",
      "Title: Applied Soft Computing\n",
      "SourceID: 18136.0\n",
      "Article from year 2019\n",
      "1.405\n",
      "Title: Expert Systems with Applications\n",
      "SourceID: 24201.0\n",
      "Article from year 2020\n",
      "1.368\n",
      "Title: Advances in Space Research\n",
      "SourceID: 12375.0\n",
      "Article from year 2018\n",
      "0.589\n",
      "Title: International Transactions on Electrical Energy Systems\n",
      "SourceID: 21100241220.0\n",
      "Article from year 2018\n",
      "0.453\n",
      "Title: International Journal of Electrical Power & Energy Systems\n",
      "SourceID: 17985.0\n",
      "Article from year 2014\n",
      "1.328\n",
      "Title: Applied Thermal Engineering\n",
      "SourceID: 13688.0\n",
      "Article from year 2012\n",
      "1.492\n",
      "Title: IEEE Access\n",
      "SourceID: 21100374601.0\n",
      "Article from year 2020\n",
      "0.587\n",
      "Title: Journal of Hydrology\n",
      "SourceID: 50089.0\n",
      "Article from year 2021\n",
      "1.611\n",
      "Title: Energy Sources, Part B: Economics, Planning, and Policy\n",
      "SourceID: 4700152713.0\n",
      "Article from year 2021\n",
      "0.802\n",
      "Title: Scientific Reports\n",
      "SourceID: 21100200805.0\n",
      "Article from year 2019\n",
      "1.341\n",
      "Title: Computers & Industrial Engineering\n",
      "SourceID: 18164.0\n",
      "Article from year 2021\n",
      "1.775\n",
      "Title: Sustainable Energy, Grids and Networks\n",
      "SourceID: 21100371258.0\n",
      "Article from year 2021\n",
      "1.2\n",
      "Title: Journal of Hydrology\n",
      "SourceID: 50089.0\n",
      "Article from year 2020\n",
      "1.684\n",
      "Title: Energy Science and Engineering\n",
      "SourceID: 21100817528.0\n",
      "Article from year 2020\n",
      "0.638\n",
      "Title: Journal of Hydrology\n",
      "SourceID: 50089.0\n",
      "Article from year 2020\n",
      "1.684\n",
      "Title: IEEE Access\n",
      "SourceID: 21100374601.0\n",
      "Article from year 2020\n",
      "0.587\n",
      "Title: Structural Control and Health Monitoring\n",
      "SourceID: 12246.0\n",
      "Article from year 2021\n",
      "1.854\n",
      "Title: Advances in Water Resources\n",
      "SourceID: 19627.0\n",
      "Article from year 2020\n",
      "1.314\n",
      "Title: Expert Systems with Applications\n",
      "SourceID: 24201.0\n",
      "Article from year 2014\n",
      "1.476\n",
      "Title: Energy Reports\n",
      "SourceID: 21100389511.0\n",
      "Article from year 2021\n",
      "0.894\n",
      "Title: IET Generation, Transmission and Distribution\n",
      "SourceID: 5400152713.0\n",
      "Article from year 2020\n",
      "0.92\n",
      "Title: International Journal of Applied Metaheuristic Computing\n",
      "SourceID: 21100858129.0\n",
      "Article from year 2020\n",
      "0.158\n",
      "Title: Sustainable Cities and Society\n",
      "SourceID: 19700194105.0\n",
      "Article from year 2019\n",
      "1.356\n",
      "Title: IET Generation, Transmission and Distribution\n",
      "SourceID: 5400152713.0\n",
      "Article from year 2018\n",
      "1.099\n",
      "Title: Aerospace Science and Technology\n",
      "SourceID: 12507.0\n",
      "Article from year 2018\n",
      "0.952\n",
      "Title: Shock and Vibration\n",
      "SourceID: 13511.0\n",
      "Article from year 2017\n",
      "0.468\n",
      "Title: Swarm and Evolutionary Computation\n",
      "SourceID: 19900192513.0\n",
      "Article from year 2016\n",
      "1.365\n",
      "Title: Mathematical Problems in Engineering\n",
      "SourceID: 13082.0\n",
      "Article from year 2016\n",
      "0.279\n",
      "Title: Shock and Vibration\n",
      "SourceID: nan\n",
      "Empty!\n",
      "Title: Mathematical Problems in Engineering\n",
      "SourceID: 13082.0\n",
      "Article from year 2015\n",
      "0.285\n",
      "Title: Mathematical Problems in Engineering\n",
      "SourceID: 13082.0\n",
      "Article from year 2013\n",
      "0.289\n",
      "Title: International Journal of Electrical Power and Energy Systems\n",
      "SourceID: nan\n",
      "Empty!\n",
      "Title: International Journal of Communication Networks and Distributed Systems\n",
      "SourceID: nan\n",
      "Empty!\n",
      "Title: Proceedings of the Institution of Mechanical Engineers, Part B: Journal of Engineering Manufacture\n",
      "SourceID: nan\n",
      "Empty!\n",
      "Title: Mathematical Problems in Engineering\n",
      "SourceID: 13082.0\n",
      "Article from year 2020\n",
      "0.262\n",
      "Title: PLoS ONE\n",
      "SourceID: 10600153309.0\n",
      "Article from year 2017\n",
      "1.164\n",
      "Title: Soft Computing\n",
      "SourceID: 28554.0\n",
      "Article from year 2017\n",
      "0.593\n",
      "Title: Computers and Industrial Engineering\n",
      "SourceID: 18164.0\n",
      "Article from year 2016\n",
      "1.484\n",
      "Title: Applied Mathematical Modelling\n",
      "SourceID: 28065.0\n",
      "Article from year 2016\n",
      "1.139\n",
      "Title: Expert Systems with Applications\n",
      "SourceID: 24201.0\n",
      "Article from year 2021\n",
      "2.07\n",
      "Title: Neural Computing and Applications\n",
      "SourceID: 24800.0\n",
      "Article from year 2020\n",
      "0.713\n",
      "Title: International Journal of Computational Intelligence and Applications\n",
      "SourceID: 14500154706.0\n",
      "Article from year 2020\n",
      "0.283\n",
      "Title: IEEE Transactions on Industrial Informatics\n",
      "SourceID: 144912.0\n",
      "Article from year 2015\n",
      "2.381\n",
      "Title: International Transactions on Electrical Energy Systems\n",
      "SourceID: 21100241220.0\n",
      "Article from year 2021\n",
      "0.6\n",
      "Title: ISA Transactions\n",
      "SourceID: 29805.0\n",
      "Article from year 2021\n",
      "1.474\n",
      "Title: CMES - Computer Modeling in Engineering and Sciences\n",
      "SourceID: 28642.0\n",
      "Article from year 2020\n",
      "0.341\n",
      "Title: IEEE Access\n",
      "SourceID: 21100374601.0\n",
      "Article from year 2020\n",
      "0.587\n",
      "Title: IEEE Access\n",
      "SourceID: 21100374601.0\n",
      "Article from year 2019\n",
      "0.775\n",
      "Title: Algorithms\n",
      "SourceID: 21100199795.0\n",
      "Article from year 2019\n",
      "0.358\n",
      "Title: IET Radar, Sonar and Navigation\n",
      "SourceID: 5700165202.0\n",
      "Article from year 2017\n",
      "0.548\n",
      "Title: Neurocomputing\n",
      "SourceID: 24807.0\n",
      "Article from year 2016\n",
      "0.879\n",
      "Title: Energies\n",
      "SourceID: 62932.0\n",
      "Article from year 2015\n",
      "0.785\n",
      "Title: Advances in Mechanical Engineering\n",
      "SourceID: 19700182334.0\n",
      "Article from year 2014\n",
      "0.249\n",
      "Title: Environmental Modeling and Assessment\n",
      "SourceID: 23276.0\n",
      "Article from year 2019\n",
      "0.414\n",
      "Title: Energy\n",
      "SourceID: 29348.0\n",
      "Article from year 2020\n",
      "1.961\n",
      "Title: Journal of Hydrology\n",
      "SourceID: 50089.0\n",
      "Article from year 2017\n",
      "1.832\n",
      "Title: Energies\n",
      "SourceID: 62932.0\n",
      "Article from year 2016\n",
      "0.662\n",
      "Title: International Journal of Multimedia and Ubiquitous Engineering\n",
      "SourceID: nan\n",
      "Empty!\n",
      "Title: Journal of Systems Science and Systems Engineering\n",
      "SourceID: 4700152484.0\n",
      "Article from year 2016\n",
      "0.418\n",
      "Title: Mathematical Biosciences and Engineering\n",
      "SourceID: 5200152802.0\n",
      "Article from year 2020\n",
      "0.451\n",
      "Title: Scientific Reports\n",
      "SourceID: 21100200805.0\n",
      "Article from year 2020\n",
      "1.24\n",
      "Title: IET Renewable Power Generation\n",
      "SourceID: 5600152809.0\n",
      "Article from year 2020\n",
      "1.005\n",
      "Title: Proceedings of the Institution of Mechanical Engineers, Part G: Journal of Aerospace Engineering\n",
      "SourceID: 29080.0\n",
      "Article from year 2020\n",
      "0.39\n",
      "Title: Tsinghua Science and Technology\n",
      "SourceID: 25522.0\n",
      "Article from year 2020\n",
      "0.428\n",
      "Title: Advances in Space Research\n",
      "SourceID: 12375.0\n",
      "Article from year 2021\n",
      "0.613\n",
      "Title: Journal of Physics: Conference Series\n",
      "SourceID: 130053.0\n",
      "Article from year 2021\n",
      "0.21\n",
      "Title: IEEE Access\n",
      "SourceID: 21100374601.0\n",
      "Article from year 2021\n",
      "0.927\n",
      "Title: SN Computer Science\n",
      "SourceID: nan\n",
      "Empty!\n",
      "Title: Proceedings of the Institution of Mechanical Engineers, Part G: Journal of Aerospace Engineering\n",
      "SourceID: 29080.0\n",
      "Article from year 2020\n",
      "0.39\n",
      "Title: Computer Science and Information Systems\n",
      "SourceID: 19300157037.0\n",
      "Article from year 2020\n",
      "0.244\n",
      "Title: Applied Energy\n",
      "SourceID: 28801.0\n",
      "Article from year 2021\n",
      "3.062\n",
      "Title: Quantum Information Processing\n",
      "SourceID: 24831.0\n",
      "Article from year 2020\n",
      "0.583\n",
      "Title: Energies\n",
      "SourceID: 62932.0\n",
      "Article from year 2019\n",
      "0.635\n",
      "Title: Frontiers in ICT\n",
      "SourceID: 21100893766.0\n",
      "Article from year 2019\n",
      "0.37\n",
      "Title: Frontiers in Computer Science\n",
      "SourceID: nan\n",
      "Empty!\n",
      "Title: IEEE Access\n",
      "SourceID: 21100374601.0\n",
      "Article from year 2019\n",
      "0.775\n",
      "Title: Nonlinear Dynamics\n",
      "SourceID: 21576.0\n",
      "Article from year 2019\n",
      "1.394\n",
      "Title: Computers and Chemical Engineering\n",
      "SourceID: 24600.0\n",
      "Article from year 2020\n",
      "1.017\n",
      "Title: Computers and Chemical Engineering\n",
      "SourceID: 24600.0\n",
      "Article from year 2020\n",
      "1.017\n",
      "Title: Energy Conversion and Management\n",
      "SourceID: 29372.0\n",
      "Article from year 2016\n",
      "2.232\n",
      "Title: Pattern Recognition\n",
      "SourceID: 24823.0\n",
      "Article from year 2017\n",
      "1.065\n",
      "Title: Energies\n",
      "SourceID: 62932.0\n",
      "Article from year 2017\n",
      "0.67\n"
     ]
    }
   ],
   "source": [
    "df_quality = pd.read_csv('QualityChecklists.csv', sep=',', decimal='.', converters = {'ISIC Section': str, 'ISIC Division': str, 'ISIC Group': str, 'ISIC Class': str})\n",
    "\n",
    "dic_scimagojr_dfs = {}\n",
    "dic_scimagojr_dfs['2021'] = pd.read_csv(\n",
    "    'scimagojr 2021.csv', sep=';', decimal=',', quotechar=\"\\\"\")\n",
    "dic_scimagojr_dfs['2020'] = pd.read_csv(\n",
    "    'scimagojr 2020.csv', sep=';', decimal=',', quotechar=\"\\\"\")\n",
    "dic_scimagojr_dfs['2019'] = pd.read_csv(\n",
    "    'scimagojr 2019.csv', sep=';', decimal=',', quotechar=\"\\\"\")\n",
    "dic_scimagojr_dfs['2018'] = pd.read_csv(\n",
    "    'scimagojr 2018.csv', sep=';', decimal=',', quotechar=\"\\\"\")\n",
    "dic_scimagojr_dfs['2017'] = pd.read_csv(\n",
    "    'scimagojr 2017.csv', sep=';', decimal=',', quotechar=\"\\\"\")\n",
    "dic_scimagojr_dfs['2016'] = pd.read_csv(\n",
    "    'scimagojr 2016.csv', sep=';', decimal=',', quotechar=\"\\\"\")\n",
    "dic_scimagojr_dfs['2015'] = pd.read_csv(\n",
    "    'scimagojr 2015.csv', sep=';', decimal=',', quotechar=\"\\\"\")\n",
    "dic_scimagojr_dfs['2014'] = pd.read_csv(\n",
    "    'scimagojr 2014.csv', sep=';', decimal=',', quotechar=\"\\\"\")\n",
    "dic_scimagojr_dfs['2013'] = pd.read_csv(\n",
    "    'scimagojr 2013.csv', sep=';', decimal=',', quotechar=\"\\\"\")\n",
    "dic_scimagojr_dfs['2012'] = pd.read_csv(\n",
    "    'scimagojr 2012.csv', sep=';', decimal=',', quotechar=\"\\\"\")\n",
    "dic_scimagojr_dfs['2011'] = pd.read_csv(\n",
    "    'scimagojr 2011.csv', sep=';', decimal=',', quotechar=\"\\\"\")\n",
    "\n",
    "df_quality['SJCR Quartile'] = df_quality.apply(\n",
    "    lambda row: retrieve_quartile(row, dic_scimagojr_dfs), axis=1)\n",
    "\n",
    "df_quality['SJR Indicator'] = df_quality.apply(\n",
    "    lambda row: retrieve_sjr(row, dic_scimagojr_dfs), axis=1)"
   ]
  },
  {
   "cell_type": "markdown",
   "metadata": {},
   "source": [
    "## Retrieve CORE rankings from CORE databases"
   ]
  },
  {
   "cell_type": "code",
   "execution_count": 4,
   "metadata": {},
   "outputs": [
    {
     "name": "stdout",
     "output_type": "stream",
     "text": [
      "Title: Proceedings of the Genetic and Evolutionary Computation Conference Companion\\ConferenceID: 556.0\n",
      "Article from year 2018\n",
      "A\n",
      "Title: 15th ACM Conference on Recommender Systems, RecSys 2021, September 27, 2021  -  October 1, 2021\\ConferenceID: 28.0\n",
      "Article from year 2021\n",
      "A\n",
      "Title: 2020 International Conference for Emerging Technology, INCET 2020, June 5, 2020  -  June 7, 2020\\ConferenceID: nan\n",
      "Empty!\n",
      "Title: nan\\ConferenceID: nan\n",
      "Empty!\n",
      "Title: nan\\ConferenceID: nan\n",
      "Empty!\n",
      "Title: nan\\ConferenceID: nan\n",
      "Empty!\n",
      "Title: International Conference on Renewable Power Generation (RPG 2015)\\ConferenceID: nan\n",
      "Empty!\n",
      "Title: 2019 IEEE Congress on Evolutionary Computation (CEC)\\ConferenceID: 2061.0\n",
      "Article from year 2019\n",
      "B\n",
      "Title: IEEE-International Conference On Advances In Engineering, Science And Management (ICAESM -2012)\\ConferenceID: nan\n",
      "Empty!\n",
      "Title: 2020 Chinese Automation Congress (CAC)\\ConferenceID: nan\n",
      "Empty!\n",
      "Title: 2019 2nd World Conference on Mechanical Engineering and Intelligent Manufacturing (WCMEIM)\\ConferenceID: nan\n",
      "Empty!\n",
      "Title: 2019 Chinese Control And Decision Conference (CCDC)\\ConferenceID: nan\n",
      "Empty!\n",
      "Title: 2012 International Conference on Computer Distributed Control and Intelligent Environmental Monitoring\\ConferenceID: nan\n",
      "Empty!\n",
      "Title: 2021 IEEE/ACIS 22nd International Conference on Software Engineering, Artificial Intelligence, Networking and Parallel/Distributed Computing (SNPD)\\ConferenceID: 1214.0\n",
      "Article from year 2021\n",
      "C\n",
      "Title: 2021 International Conference on System, Computation, Automation and Networking (ICSCAN)\\ConferenceID: nan\n",
      "Empty!\n",
      "Title: 2019 IEEE/AIAA 38th Digital Avionics Systems Conference (DASC)\\ConferenceID: nan\n",
      "Empty!\n",
      "Title: 2020 Integrated Communications Navigation and Surveillance Conference (ICNS)\\ConferenceID: nan\n",
      "Empty!\n",
      "Title: 2021 IEEE High Performance Extreme Computing Conference (HPEC)\\ConferenceID: nan\n",
      "Empty!\n",
      "Title: Proceedings of the 13th International Conference on Agents and Artificial Intelligence\\ConferenceID: 902.0\n",
      "Article from year 2021\n",
      "B\n",
      "Title: nan\\ConferenceID: nan\n",
      "Empty!\n",
      "Title: nan\\ConferenceID: nan\n",
      "Empty!\n",
      "Title: nan\\ConferenceID: nan\n",
      "Empty!\n",
      "Title: Computational Intelligence and Its Applications\\ConferenceID: nan\n",
      "Empty!\n",
      "Title: nan\\ConferenceID: nan\n",
      "Empty!\n",
      "Title: nan\\ConferenceID: nan\n",
      "Empty!\n",
      "Title: Computational Science – ICCS 2021\\ConferenceID: 952.0\n",
      "Article from year 2021\n",
      "A\n",
      "Title: Artificial Intelligence and Soft Computing\\ConferenceID: 912.0\n",
      "Article from year 2021\n",
      "National: Poland\n",
      "Title: nan\\ConferenceID: 706.0\n",
      "Article from year 2021\n",
      "B\n",
      "Title: nan\\ConferenceID: nan\n",
      "Empty!\n",
      "Title: nan\\ConferenceID: nan\n",
      "Empty!\n",
      "Title: nan\\ConferenceID: 695.0\n",
      "Article from year 2021\n",
      "A\n",
      "Title: 2021 China Automation Congress (CAC)\\ConferenceID: nan\n",
      "Empty!\n",
      "Title: Computational Science – ICCS 2020\\ConferenceID: 952.0\n",
      "Article from year 2020\n",
      "A\n",
      "Title: nan\\ConferenceID: 873.0\n",
      "Article from year 2019\n",
      "B\n",
      "Title: nan\\ConferenceID: 611.0\n",
      "Article from year 2020\n",
      "B\n",
      "Title: Ornamental Horticulture\\ConferenceID: nan\n",
      "Empty!\n"
     ]
    }
   ],
   "source": [
    "dic_CORE_dfs = {}\n",
    "dic_CORE_dfs['2021'] = pd.read_csv(\n",
    "    'CORE 2021.csv', sep=',', quotechar=\"\\\"\", header=None)\n",
    "dic_CORE_dfs['2020'] = pd.read_csv(\n",
    "    'CORE 2020.csv', sep=',', quotechar=\"\\\"\", header=None)\n",
    "dic_CORE_dfs['2019'] = pd.read_csv(\n",
    "    'CORE 2020.csv', sep=',', quotechar=\"\\\"\", header=None)\n",
    "dic_CORE_dfs['2018'] = pd.read_csv(\n",
    "    'CORE 2018.csv', sep=',', quotechar=\"\\\"\", header=None)\n",
    "dic_CORE_dfs['2017'] = pd.read_csv(\n",
    "    'CORE 2017.csv', sep=',', quotechar=\"\\\"\", header=None)\n",
    "dic_CORE_dfs['2016'] = pd.read_csv(\n",
    "    'CORE 2017.csv', sep=',', quotechar=\"\\\"\", header=None)\n",
    "dic_CORE_dfs['2015'] = pd.read_csv(\n",
    "    'CORE 2017.csv', sep=',', quotechar=\"\\\"\", header=None)\n",
    "dic_CORE_dfs['2014'] = pd.read_csv(\n",
    "    'CORE 2014.csv', sep=',', quotechar=\"\\\"\", header=None)\n",
    "dic_CORE_dfs['2013'] = pd.read_csv(\n",
    "    'CORE 2013.csv', sep=',', quotechar=\"\\\"\", header=None)\n",
    "dic_CORE_dfs['2012'] = pd.read_csv(\n",
    "    'CORE 2013.csv', sep=',', quotechar=\"\\\"\", header=None)\n",
    "dic_CORE_dfs['2011'] = pd.read_csv(\n",
    "    'CORE 2013.csv', sep=',', quotechar=\"\\\"\", header=None)\n",
    "\n",
    "df_quality['CORE Ranking'] = df_quality.apply(\n",
    "    lambda row: retrieve_conference(row, dic_CORE_dfs), axis=1)"
   ]
  },
  {
   "cell_type": "code",
   "execution_count": 5,
   "metadata": {},
   "outputs": [
    {
     "data": {
      "application/vnd.plotly.v1+json": {
       "config": {
        "plotlyServerURL": "https://plot.ly"
       },
       "data": [
        {
         "alignmentgroup": "True",
         "hovertemplate": "Publication Source=%{x}<br># of studies=%{y}<extra></extra>",
         "legendgroup": "",
         "marker": {
          "color": "#1F77B4",
          "pattern": {
           "shape": ""
          }
         },
         "name": "",
         "offsetgroup": "",
         "orientation": "v",
         "showlegend": false,
         "textposition": "auto",
         "texttemplate": "%{y}",
         "type": "bar",
         "x": [
          "Conference",
          "Journal",
          "Workshop"
         ],
         "xaxis": "x",
         "y": [
          36,
          111,
          2
         ],
         "yaxis": "y"
        }
       ],
       "layout": {
        "barmode": "relative",
        "legend": {
         "tracegroupgap": 0
        },
        "margin": {
         "t": 60
        },
        "template": {
         "data": {
          "pie": [
           {
            "automargin": true,
            "type": "pie"
           }
          ]
         },
         "layout": {
          "xaxis": {
           "showgrid": true,
           "title": {
            "standoff": 15
           }
          },
          "yaxis": {
           "showgrid": true,
           "title": {
            "standoff": 15
           }
          }
         }
        },
        "xaxis": {
         "anchor": "y",
         "domain": [
          0,
          1
         ],
         "title": {
          "text": "Publication Source"
         }
        },
        "yaxis": {
         "anchor": "x",
         "domain": [
          0,
          1
         ],
         "title": {
          "text": "# of studies"
         }
        }
       }
      }
     },
     "metadata": {},
     "output_type": "display_data"
    }
   ],
   "source": [
    "df = df_quality.groupby(by=['Publication Source']).size().reset_index(name='# of studies')\n",
    "\n",
    "fig = px.bar(data_frame = df, x='Publication Source', y='# of studies', text_auto=True)\n",
    "fig.write_image('searchandstudyselectionvalidation/validation_journals_and_conferences.pdf', width=WIDTH, height=HALF_HEIGHT)\n",
    "fig.show()"
   ]
  },
  {
   "cell_type": "markdown",
   "metadata": {},
   "source": [
    "## Validate study selection with distributions of studies according to their rankings"
   ]
  },
  {
   "cell_type": "code",
   "execution_count": 6,
   "metadata": {},
   "outputs": [
    {
     "name": "stdout",
     "output_type": "stream",
     "text": [
      "(111, 95)\n"
     ]
    },
    {
     "data": {
      "application/vnd.plotly.v1+json": {
       "config": {
        "plotlyServerURL": "https://plot.ly"
       },
       "data": [
        {
         "alignmentgroup": "True",
         "bingroup": "x",
         "hovertemplate": "SJR Indicator=%{x}<br>count=%{y}<extra></extra>",
         "legendgroup": "",
         "marker": {
          "color": "#1F77B4",
          "pattern": {
           "shape": ""
          }
         },
         "name": "",
         "nbinsx": 16,
         "offsetgroup": "",
         "orientation": "v",
         "showlegend": false,
         "texttemplate": "%{value}",
         "type": "histogram",
         "x": [
          "Not assigned",
          0.796,
          0.662,
          "Not assigned",
          0.3,
          1.714,
          "Not assigned",
          0.6,
          0.593,
          2.743,
          1.403,
          "Not assigned",
          "Not assigned",
          0.123,
          1.591,
          0.985,
          0.857,
          1.99,
          0.287,
          0.934,
          1.052,
          1.592,
          0.544,
          0.318,
          1.251,
          1.405,
          1.368,
          0.589,
          0.453,
          1.328,
          1.492,
          0.587,
          1.611,
          0.802,
          "Not assigned",
          1.341,
          1.775,
          1.2,
          1.684,
          0.638,
          1.684,
          0.587,
          1.854,
          1.314,
          1.476,
          0.894,
          0.92,
          0.158,
          1.356,
          1.099,
          0.952,
          0.468,
          1.365,
          0.279,
          "Not assigned",
          0.285,
          0.289,
          "Not assigned",
          "Not assigned",
          "Not assigned",
          0.262,
          1.164,
          0.593,
          1.484,
          1.139,
          2.07,
          0.713,
          0.283,
          2.381,
          0.6,
          1.474,
          0.341,
          0.587,
          0.775,
          0.358,
          0.548,
          0.879,
          0.785,
          0.249,
          0.414,
          1.961,
          1.832,
          0.662,
          "Not assigned",
          0.418,
          0.451,
          1.24,
          1.005,
          0.39,
          0.428,
          "Not assigned",
          "Not assigned",
          "Not assigned",
          0.613,
          0.21,
          0.927,
          "Not assigned",
          0.39,
          0.244,
          3.062,
          0.583,
          0.635,
          0.37,
          "Not assigned",
          0.775,
          1.394,
          1.017,
          1.017,
          2.232,
          1.065,
          0.67
         ],
         "xaxis": "x",
         "yaxis": "y"
        }
       ],
       "layout": {
        "bargap": 0.2,
        "barmode": "relative",
        "legend": {
         "tracegroupgap": 0
        },
        "margin": {
         "t": 60
        },
        "shapes": [
         {
          "line": {
           "color": "red",
           "dash": "dash"
          },
          "type": "line",
          "x0": 1,
          "x1": 1,
          "xref": "x",
          "y0": 0,
          "y1": 1,
          "yref": "y domain"
         }
        ],
        "template": {
         "data": {
          "pie": [
           {
            "automargin": true,
            "type": "pie"
           }
          ]
         },
         "layout": {
          "xaxis": {
           "showgrid": true,
           "title": {
            "standoff": 15
           }
          },
          "yaxis": {
           "showgrid": true,
           "title": {
            "standoff": 15
           }
          }
         }
        },
        "xaxis": {
         "anchor": "y",
         "domain": [
          0,
          1
         ],
         "range": [
          0,
          3.2
         ],
         "title": {
          "text": "SJR Indicator"
         }
        },
        "yaxis": {
         "anchor": "x",
         "domain": [
          0,
          1
         ],
         "title": {
          "text": "count"
         }
        }
       }
      }
     },
     "metadata": {},
     "output_type": "display_data"
    }
   ],
   "source": [
    "df_journals = df_quality[df_quality['Publication Source'] == 'Journal'] \n",
    "print(df_journals.shape)\n",
    "\n",
    "RANGE_X = [0,3.2]\n",
    "\n",
    "fig = px.histogram(data_frame = df_journals, x='SJR Indicator', text_auto=True, nbins=16, range_x=RANGE_X)\n",
    "fig.add_vline(x=1, line_dash=\"dash\", line_color=\"red\")\n",
    "fig.update_layout(bargap=0.2)\n",
    "fig.write_image('searchandstudyselectionvalidation/journals_histogram_sjr.pdf', width=WIDTH, height=QUARTER_HEIGHT)\n",
    "fig.show()"
   ]
  },
  {
   "cell_type": "code",
   "execution_count": 7,
   "metadata": {},
   "outputs": [
    {
     "name": "stdout",
     "output_type": "stream",
     "text": [
      "(111, 95)\n"
     ]
    },
    {
     "data": {
      "application/vnd.plotly.v1+json": {
       "config": {
        "plotlyServerURL": "https://plot.ly"
       },
       "data": [
        {
         "alignmentgroup": "True",
         "boxpoints": "all",
         "hovertemplate": "SJR Indicator=%{x}<extra></extra>",
         "legendgroup": "",
         "marker": {
          "color": "#1F77B4"
         },
         "name": "",
         "notched": false,
         "offsetgroup": "",
         "orientation": "h",
         "showlegend": false,
         "type": "box",
         "x": [
          "Not assigned",
          0.796,
          0.662,
          "Not assigned",
          0.3,
          1.714,
          "Not assigned",
          0.6,
          0.593,
          2.743,
          1.403,
          "Not assigned",
          "Not assigned",
          0.123,
          1.591,
          0.985,
          0.857,
          1.99,
          0.287,
          0.934,
          1.052,
          1.592,
          0.544,
          0.318,
          1.251,
          1.405,
          1.368,
          0.589,
          0.453,
          1.328,
          1.492,
          0.587,
          1.611,
          0.802,
          "Not assigned",
          1.341,
          1.775,
          1.2,
          1.684,
          0.638,
          1.684,
          0.587,
          1.854,
          1.314,
          1.476,
          0.894,
          0.92,
          0.158,
          1.356,
          1.099,
          0.952,
          0.468,
          1.365,
          0.279,
          "Not assigned",
          0.285,
          0.289,
          "Not assigned",
          "Not assigned",
          "Not assigned",
          0.262,
          1.164,
          0.593,
          1.484,
          1.139,
          2.07,
          0.713,
          0.283,
          2.381,
          0.6,
          1.474,
          0.341,
          0.587,
          0.775,
          0.358,
          0.548,
          0.879,
          0.785,
          0.249,
          0.414,
          1.961,
          1.832,
          0.662,
          "Not assigned",
          0.418,
          0.451,
          1.24,
          1.005,
          0.39,
          0.428,
          "Not assigned",
          "Not assigned",
          "Not assigned",
          0.613,
          0.21,
          0.927,
          "Not assigned",
          0.39,
          0.244,
          3.062,
          0.583,
          0.635,
          0.37,
          "Not assigned",
          0.775,
          1.394,
          1.017,
          1.017,
          2.232,
          1.065,
          0.67
         ],
         "x0": " ",
         "xaxis": "x",
         "y0": " ",
         "yaxis": "y"
        }
       ],
       "layout": {
        "boxmode": "group",
        "legend": {
         "tracegroupgap": 0
        },
        "margin": {
         "t": 60
        },
        "shapes": [
         {
          "line": {
           "color": "red",
           "dash": "dash"
          },
          "type": "line",
          "x0": 1,
          "x1": 1,
          "xref": "x",
          "y0": 0,
          "y1": 1,
          "yref": "y domain"
         }
        ],
        "template": {
         "data": {
          "pie": [
           {
            "automargin": true,
            "type": "pie"
           }
          ]
         },
         "layout": {
          "xaxis": {
           "showgrid": true,
           "title": {
            "standoff": 15
           }
          },
          "yaxis": {
           "showgrid": true,
           "title": {
            "standoff": 15
           }
          }
         }
        },
        "xaxis": {
         "anchor": "y",
         "domain": [
          0,
          1
         ],
         "range": [
          0,
          3.2
         ],
         "title": {
          "text": "SJR Indicator"
         }
        },
        "yaxis": {
         "anchor": "x",
         "domain": [
          0,
          1
         ]
        }
       }
      }
     },
     "metadata": {},
     "output_type": "display_data"
    }
   ],
   "source": [
    "df_journals = df_quality[df_quality['Publication Source'] == 'Journal'] \n",
    "print(df_journals.shape)\n",
    "\n",
    "fig = px.box(data_frame = df_journals, x='SJR Indicator', points='all',range_x=RANGE_X)\n",
    "fig.add_vline(x=1, line_dash=\"dash\", line_color=\"red\")\n",
    "fig.write_image('searchandstudyselectionvalidation/journals_boxplot_sjr.pdf', width=WIDTH, height=QUARTER_HEIGHT)\n",
    "fig.show()"
   ]
  },
  {
   "cell_type": "code",
   "execution_count": 8,
   "metadata": {},
   "outputs": [
    {
     "name": "stdout",
     "output_type": "stream",
     "text": [
      "(111, 95)\n",
      "  SJCR Quartile  # of studies\n",
      "0  Not assigned            17\n",
      "1            Q1            60\n",
      "2            Q2            24\n",
      "3            Q3             8\n",
      "4            Q4             2\n"
     ]
    },
    {
     "data": {
      "application/vnd.plotly.v1+json": {
       "config": {
        "plotlyServerURL": "https://plot.ly"
       },
       "data": [
        {
         "alignmentgroup": "True",
         "hovertemplate": "SJCR Quartile=%{x}<br># of studies=%{y}<extra></extra>",
         "legendgroup": "",
         "marker": {
          "color": "#1F77B4",
          "pattern": {
           "shape": ""
          }
         },
         "name": "",
         "offsetgroup": "",
         "orientation": "v",
         "showlegend": false,
         "textposition": "auto",
         "texttemplate": "%{y}",
         "type": "bar",
         "x": [
          "Not assigned",
          "Q1",
          "Q2",
          "Q3",
          "Q4"
         ],
         "xaxis": "x",
         "y": [
          17,
          60,
          24,
          8,
          2
         ],
         "yaxis": "y"
        }
       ],
       "layout": {
        "barmode": "relative",
        "height": 250,
        "legend": {
         "tracegroupgap": 0
        },
        "margin": {
         "t": 60
        },
        "template": {
         "data": {
          "pie": [
           {
            "automargin": true,
            "type": "pie"
           }
          ]
         },
         "layout": {
          "xaxis": {
           "showgrid": true,
           "title": {
            "standoff": 15
           }
          },
          "yaxis": {
           "showgrid": true,
           "title": {
            "standoff": 15
           }
          }
         }
        },
        "width": 1000,
        "xaxis": {
         "anchor": "y",
         "domain": [
          0,
          1
         ],
         "title": {
          "text": "SJCR Quartile"
         }
        },
        "yaxis": {
         "anchor": "x",
         "domain": [
          0,
          1
         ],
         "title": {
          "text": "# of studies"
         }
        }
       }
      }
     },
     "metadata": {},
     "output_type": "display_data"
    }
   ],
   "source": [
    "df_journals = df_quality[df_quality['Publication Source'] == 'Journal'] \n",
    "\n",
    "df = df_journals.groupby(by=['SJCR Quartile'], dropna=False).size().reset_index(name='# of studies')\n",
    "\n",
    "print(df_journals.shape)\n",
    "print(df)\n",
    "\n",
    "fig = px.bar(data_frame = df, x='SJCR Quartile', y='# of studies', text_auto=True, width=WIDTH, height=QUARTER_HEIGHT)\n",
    "fig.write_image('searchandstudyselectionvalidation/journals_bar_sjcr_quartile.pdf')\n",
    "fig.show()"
   ]
  },
  {
   "cell_type": "code",
   "execution_count": 9,
   "metadata": {},
   "outputs": [
    {
     "name": "stdout",
     "output_type": "stream",
     "text": [
      "(36, 95)\n"
     ]
    },
    {
     "data": {
      "application/vnd.plotly.v1+json": {
       "config": {
        "plotlyServerURL": "https://plot.ly"
       },
       "data": [
        {
         "alignmentgroup": "True",
         "hovertemplate": "CORE Ranking=%{x}<br># of studies=%{y}<extra></extra>",
         "legendgroup": "",
         "marker": {
          "color": "#1F77B4",
          "pattern": {
           "shape": ""
          }
         },
         "name": "",
         "offsetgroup": "",
         "orientation": "v",
         "showlegend": false,
         "textposition": "auto",
         "texttemplate": "%{y}",
         "type": "bar",
         "x": [
          "A",
          "B",
          "C",
          "National: Poland",
          "Not assigned"
         ],
         "xaxis": "x",
         "y": [
          5,
          5,
          1,
          1,
          24
         ],
         "yaxis": "y"
        }
       ],
       "layout": {
        "barmode": "relative",
        "legend": {
         "tracegroupgap": 0
        },
        "margin": {
         "t": 60
        },
        "template": {
         "data": {
          "pie": [
           {
            "automargin": true,
            "type": "pie"
           }
          ]
         },
         "layout": {
          "xaxis": {
           "showgrid": true,
           "title": {
            "standoff": 15
           }
          },
          "yaxis": {
           "showgrid": true,
           "title": {
            "standoff": 15
           }
          }
         }
        },
        "xaxis": {
         "anchor": "y",
         "domain": [
          0,
          1
         ],
         "title": {
          "text": "CORE Ranking"
         }
        },
        "yaxis": {
         "anchor": "x",
         "domain": [
          0,
          1
         ],
         "title": {
          "text": "# of studies"
         }
        }
       }
      }
     },
     "metadata": {},
     "output_type": "display_data"
    }
   ],
   "source": [
    "df_conferences = df_quality[df_quality['Publication Source'] == 'Conference'] \n",
    "print(df_conferences.shape)\n",
    "\n",
    "df = df_conferences.groupby(by=['CORE Ranking']).size().reset_index(name='# of studies')\n",
    "\n",
    "fig = px.bar(data_frame = df, x='CORE Ranking', y='# of studies', text_auto=True)\n",
    "fig.write_image('searchandstudyselectionvalidation/conference_bar_core.pdf', width=WIDTH, height=QUARTER_HEIGHT)\n",
    "fig.show()"
   ]
  },
  {
   "cell_type": "markdown",
   "metadata": {},
   "source": [
    "## Quality Assessment"
   ]
  },
  {
   "cell_type": "code",
   "execution_count": 10,
   "metadata": {},
   "outputs": [
    {
     "data": {
      "application/vnd.plotly.v1+json": {
       "config": {
        "plotlyServerURL": "https://plot.ly"
       },
       "data": [
        {
         "alignmentgroup": "True",
         "boxpoints": "all",
         "hovertemplate": "SSTOTAL=%{x}<extra></extra>",
         "legendgroup": "",
         "marker": {
          "color": "#1F77B4"
         },
         "name": "",
         "notched": false,
         "offsetgroup": "",
         "orientation": "h",
         "showlegend": false,
         "type": "box",
         "x": [
          0.571428571,
          0.571428571,
          0.2,
          0.714285714,
          0.142857143,
          0.75,
          0.75,
          0.555555556,
          0.25,
          0.571428571,
          0.75,
          0.375,
          0.75,
          0.5,
          0.625,
          0.75,
          0.333333333,
          0.75,
          0.625,
          0.625,
          0.75,
          0.555555556,
          0.625,
          0.375,
          0.571428571,
          0.75,
          0.5,
          0.333333333,
          0.333333333,
          0.444444444,
          0.444444444,
          0.7,
          0.555555556,
          0.666666667,
          0.555555556,
          0.75,
          0.555555556,
          0.625,
          0.444444444,
          0.875,
          0.75,
          0.666666667,
          0.444444444,
          0.666666667,
          0.555555556,
          0.75,
          0.75,
          0.444444444,
          0.666666667,
          0.75,
          0.666666667,
          0.5,
          0.5,
          0.75,
          0.555555556,
          0.571428571,
          0.666666667,
          0.75,
          0.444444444,
          0.75,
          0.777777778,
          0.555555556,
          0.75,
          0.625,
          0.875,
          0.666666667,
          0.625,
          0.444444444,
          0.666666667,
          0.625,
          0.75,
          0.444444444,
          0.625,
          0.5,
          0.875,
          0.625,
          0.625,
          0.625,
          0.666666667,
          0.666666667,
          0.444444444,
          0.777777778,
          0.666666667,
          0.666666667,
          0.777777778,
          0.75,
          0.625,
          0.777777778,
          0.666666667,
          0.555555556,
          0.875,
          0.666666667,
          0.75,
          0.625,
          0.75,
          0.444444444,
          0.777777778,
          0.75,
          0.555555556,
          0.555555556,
          0.444444444,
          0.444444444,
          0.375,
          0.555555556,
          0.666666667,
          0.75,
          0.625,
          0.875,
          0.75,
          0.875,
          0.444444444,
          0.75,
          0.75,
          0.75,
          0.444444444,
          0.555555556,
          0.75,
          0.5,
          0.75,
          0.555555556,
          0.444444444,
          0.555555556,
          0.25,
          0.777777778,
          0.666666667,
          0.444444444,
          0.375,
          0.555555556,
          0.625,
          0.555555556,
          0.555555556,
          0.75,
          0.555555556,
          0.333333333,
          0.666666667,
          0.555555556,
          0.75,
          0.666666667,
          0.666666667,
          0.875,
          0.555555556,
          0.875,
          0.444444444,
          0.625,
          0.625,
          0.5,
          0.428571429,
          0.75,
          0.666666667
         ],
         "x0": " ",
         "xaxis": "x",
         "y0": " ",
         "yaxis": "y"
        }
       ],
       "layout": {
        "boxmode": "group",
        "legend": {
         "tracegroupgap": 0
        },
        "margin": {
         "t": 60
        },
        "template": {
         "data": {
          "pie": [
           {
            "automargin": true,
            "type": "pie"
           }
          ]
         },
         "layout": {
          "xaxis": {
           "showgrid": true,
           "title": {
            "standoff": 15
           }
          },
          "yaxis": {
           "showgrid": true,
           "title": {
            "standoff": 15
           }
          }
         }
        },
        "xaxis": {
         "anchor": "y",
         "domain": [
          0,
          1
         ],
         "range": [
          0,
          1
         ],
         "title": {
          "text": "SSTOTAL"
         }
        },
        "yaxis": {
         "anchor": "x",
         "domain": [
          0,
          1
         ]
        }
       }
      }
     },
     "metadata": {},
     "output_type": "display_data"
    },
    {
     "name": "stdout",
     "output_type": "stream",
     "text": [
      "mean: 0.6130765953355707\n",
      "std: 0.1481334441050715\n",
      "variance: 0.021943517262430344\n",
      "min: 0.142857143\n",
      "max: 0.875\n",
      "median: 0.625\n"
     ]
    }
   ],
   "source": [
    "fig = px.box(data_frame = df_quality, x='SSTOTAL', points='all',range_x=[0,1])\n",
    "fig.write_image('qualityassessment/sstotal_boxplot.pdf', width=WIDTH, height=QUARTER_HEIGHT)\n",
    "fig.show()\n",
    "\n",
    "mean = np.mean(df_quality['SSTOTAL'])\n",
    "print(f'mean: {mean}')\n",
    "\n",
    "std = np.std(df_quality['SSTOTAL'])\n",
    "print(f'std: {std}')\n",
    "\n",
    "variance = np.var(df_quality['SSTOTAL'])\n",
    "print(f'variance: {variance}')\n",
    "\n",
    "min = np.min(df_quality['SSTOTAL'])\n",
    "print(f'min: {min}')\n",
    "\n",
    "max = np.max(df_quality['SSTOTAL'])\n",
    "print(f'max: {max}')\n",
    "\n",
    "median = np.median(df_quality['SSTOTAL'])\n",
    "print(f'median: {median}')\n"
   ]
  },
  {
   "cell_type": "code",
   "execution_count": 11,
   "metadata": {},
   "outputs": [
    {
     "data": {
      "application/vnd.plotly.v1+json": {
       "config": {
        "plotlyServerURL": "https://plot.ly"
       },
       "data": [
        {
         "alignmentgroup": "True",
         "boxpoints": "all",
         "hovertemplate": "SRTOTAL=%{x}<extra></extra>",
         "legendgroup": "",
         "marker": {
          "color": "#1F77B4"
         },
         "name": "",
         "notched": false,
         "offsetgroup": "",
         "orientation": "h",
         "showlegend": false,
         "type": "box",
         "x": [
          0.714285714,
          0.714285714,
          0.833333333,
          0.866666667,
          0.357142857,
          0.666666667,
          0.866666667,
          0.733333333,
          0.857142857,
          0.785714286,
          0.75,
          0.571428571,
          0.466666667,
          0.666666667,
          0.666666667,
          0.6,
          0.538461538,
          0.8,
          0.733333333,
          0.733333333,
          0.666666667,
          0.666666667,
          0.6,
          0.714285714,
          0.642857143,
          0.8,
          0.466666667,
          0.428571429,
          0.466666667,
          0.533333333,
          0.6,
          0.666666667,
          0.733333333,
          0.666666667,
          0.6,
          0.666666667,
          0.8,
          0.8,
          0.733333333,
          0.8,
          0.8,
          0.6,
          0.733333333,
          0.666666667,
          0.666666667,
          0.666666667,
          0.8,
          0.4,
          0.666666667,
          0.666666667,
          0.666666667,
          0.384615385,
          0.230769231,
          0.6,
          0.733333333,
          0.571428571,
          0.666666667,
          0.733333333,
          0.6,
          0.733333333,
          0.666666667,
          0.533333333,
          0.666666667,
          0.666666667,
          0.733333333,
          0.666666667,
          0.666666667,
          0.733333333,
          0.733333333,
          0.733333333,
          0.733333333,
          0.666666667,
          0.666666667,
          0.666666667,
          0.666666667,
          0.666666667,
          0.666666667,
          0.6,
          0.666666667,
          0.733333333,
          0.6,
          0.733333333,
          0.733333333,
          0.666666667,
          0.733333333,
          0.533333333,
          0.666666667,
          0.666666667,
          0.6,
          0.6,
          0.6,
          0.733333333,
          0.533333333,
          0.6,
          0.8,
          0.666666667,
          0.666666667,
          0.666666667,
          0.733333333,
          0.666666667,
          0.666666667,
          0.666666667,
          0.5,
          0.666666667,
          0.666666667,
          0.666666667,
          0.533333333,
          0.8,
          0.8,
          0.733333333,
          0.533333333,
          0.666666667,
          0.733333333,
          0.733333333,
          0.533333333,
          0.733333333,
          0.6,
          0.533333333,
          0.733333333,
          0.533333333,
          0.6,
          0.666666667,
          0.714285714,
          0.733333333,
          0.666666667,
          0.666666667,
          0.642857143,
          0.666666667,
          0.533333333,
          0.8,
          0.6,
          0.8,
          0.666666667,
          0.733333333,
          0.666666667,
          0.75,
          0.6,
          0.733333333,
          0.666666667,
          0.666666667,
          0.666666667,
          0.8,
          0.666666667,
          0.6,
          0.8,
          0.857142857,
          0.571428571,
          0.733333333,
          0.666666667
         ],
         "x0": " ",
         "xaxis": "x",
         "y0": " ",
         "yaxis": "y"
        }
       ],
       "layout": {
        "boxmode": "group",
        "legend": {
         "tracegroupgap": 0
        },
        "margin": {
         "t": 60
        },
        "template": {
         "data": {
          "pie": [
           {
            "automargin": true,
            "type": "pie"
           }
          ]
         },
         "layout": {
          "xaxis": {
           "showgrid": true,
           "title": {
            "standoff": 15
           }
          },
          "yaxis": {
           "showgrid": true,
           "title": {
            "standoff": 15
           }
          }
         }
        },
        "xaxis": {
         "anchor": "y",
         "domain": [
          0,
          1
         ],
         "range": [
          0,
          1
         ],
         "title": {
          "text": "SRTOTAL"
         }
        },
        "yaxis": {
         "anchor": "x",
         "domain": [
          0,
          1
         ]
        }
       }
      }
     },
     "metadata": {},
     "output_type": "display_data"
    },
    {
     "name": "stdout",
     "output_type": "stream",
     "text": [
      "mean: 0.6661971138724835\n",
      "std: 0.10162169300183199\n",
      "variance: 0.010326968488558588\n",
      "min: 0.230769231\n",
      "max: 0.866666667\n",
      "median: 0.666666667\n"
     ]
    }
   ],
   "source": [
    "fig = px.box(data_frame = df_quality, x='SRTOTAL', points='all',range_x=[0,1])\n",
    "fig.write_image('qualityassessment/srtotal_boxplot.pdf', width=WIDTH, height=QUARTER_HEIGHT)\n",
    "fig.show()\n",
    "\n",
    "mean = np.mean(df_quality['SRTOTAL'])\n",
    "print(f'mean: {mean}')\n",
    "\n",
    "std = np.std(df_quality['SRTOTAL'])\n",
    "print(f'std: {std}')\n",
    "\n",
    "variance = np.var(df_quality['SRTOTAL'])\n",
    "print(f'variance: {variance}')\n",
    "\n",
    "min = np.min(df_quality['SRTOTAL'])\n",
    "print(f'min: {min}')\n",
    "\n",
    "max = np.max(df_quality['SRTOTAL'])\n",
    "print(f'max: {max}')\n",
    "\n",
    "median = np.median(df_quality['SRTOTAL'])\n",
    "print(f'median: {median}')"
   ]
  },
  {
   "cell_type": "code",
   "execution_count": 12,
   "metadata": {},
   "outputs": [
    {
     "data": {
      "application/vnd.plotly.v1+json": {
       "config": {
        "plotlyServerURL": "https://plot.ly"
       },
       "data": [
        {
         "hovertemplate": "SSTOTAL=%{x}<br>SRTOTAL=%{y}<extra></extra>",
         "legendgroup": "",
         "marker": {
          "color": "#1F77B4",
          "symbol": "circle"
         },
         "mode": "markers",
         "name": "",
         "orientation": "v",
         "showlegend": false,
         "type": "scatter",
         "x": [
          0.5804690287495953,
          0.5531454479402429,
          0.18950820244288233,
          0.7240429753393977,
          0.12583623125487792,
          0.768502088065756,
          0.7383532734265219,
          0.5371210090876584,
          0.2563782962369099,
          0.5781827989972353,
          0.7661832304352267,
          0.3664048439117879,
          0.7539462216639046,
          0.5038165496004486,
          0.6252601896997786,
          0.7686455548407932,
          0.32562700144458034,
          0.7328629886907371,
          0.6356771571539815,
          0.6394913043376415,
          0.730581395849601,
          0.5536228085729561,
          0.6164634260026287,
          0.3847930410322575,
          0.5595993475896125,
          0.751651430818641,
          0.5172832432211575,
          0.3481914880880718,
          0.3358506970636349,
          0.43590022516095006,
          0.4413150654601626,
          0.6803805602067636,
          0.5537102724864679,
          0.6759572804343863,
          0.5717218125809308,
          0.7353707686547499,
          0.5479650423802609,
          0.621326397343782,
          0.43804318842694373,
          0.8566806566350991,
          0.7682632816285987,
          0.6541244672615505,
          0.4285321284110107,
          0.6579741234335005,
          0.5359272985537363,
          0.7405449354705991,
          0.7451384334224205,
          0.4540805822898386,
          0.6825203190004269,
          0.7695019872353946,
          0.6589504073576904,
          0.5105212049168057,
          0.48513900150534867,
          0.7668327881596598,
          0.5582378488688041,
          0.569499551310404,
          0.6730232778059279,
          0.7683679026197002,
          0.4461695955707527,
          0.7416331737888441,
          0.7755900368770958,
          0.5378256183815897,
          0.7583086972577552,
          0.6060095877955407,
          0.8654884934411121,
          0.6605907296328214,
          0.6235973479182462,
          0.4631187639956814,
          0.6534306532101336,
          0.6177157848622596,
          0.7628231293278446,
          0.4447630944880856,
          0.6359970653761353,
          0.5013041003520673,
          0.8795691844669555,
          0.6188401764864274,
          0.6078805709414516,
          0.6177683478818581,
          0.6740322229662818,
          0.6782026294986213,
          0.46251652842554436,
          0.769943223649522,
          0.6709983126436517,
          0.655694389081053,
          0.7659838145607287,
          0.7624785408773922,
          0.6166741107493092,
          0.7845254514568891,
          0.6601011009344173,
          0.5580905548291782,
          0.8906145221270697,
          0.6535457910402633,
          0.7443442826631949,
          0.6378402119100132,
          0.7545452348868534,
          0.439607467571084,
          0.7891165931133677,
          0.7623504021250176,
          0.5415210402745742,
          0.5377068994652496,
          0.4509332563757068,
          0.42885247536228027,
          0.39332148850961013,
          0.5625909364349894,
          0.6700856138007799,
          0.7684333547821759,
          0.6050745743147025,
          0.8756474201695259,
          0.7665722144014081,
          0.8776255673021692,
          0.4350102140214413,
          0.7301270534392094,
          0.7467209554787744,
          0.7475293595006386,
          0.4268389939179187,
          0.5583105573275997,
          0.7686358682641369,
          0.5116399761247101,
          0.7583395254826256,
          0.5637435000694796,
          0.4492002125177891,
          0.536975718433306,
          0.24374941600578048,
          0.7908747502137118,
          0.6495941611820862,
          0.4453667081496212,
          0.3709357538674942,
          0.5400736637198265,
          0.6437360941246741,
          0.5414618730440591,
          0.5616669651782226,
          0.7607442045081354,
          0.5591787762330118,
          0.32992047516835704,
          0.6613371824285315,
          0.5380216496963491,
          0.7409019994009279,
          0.6609470934842926,
          0.6620522259876525,
          0.8758311188996057,
          0.5518788370517714,
          0.8683370779651061,
          0.4401471391448851,
          0.6394487757000475,
          0.6395964002733828,
          0.4861530010739444,
          0.4460137108773402,
          0.7577269656836112,
          0.6472212564311808
         ],
         "xaxis": "x",
         "y": [
          0.7320634980660282,
          0.7232027775765211,
          0.8259664383893496,
          0.8505745566512132,
          0.3593147241611369,
          0.6817403509832651,
          0.8717744571047842,
          0.7385529797518772,
          0.845906749745471,
          0.8010707747005705,
          0.7604167112757355,
          0.5548793903789557,
          0.4777211796696264,
          0.6623168588791998,
          0.6834082634265697,
          0.5931199459092312,
          0.5210756681950854,
          0.8175049533850635,
          0.7254441071016949,
          0.7197460321642236,
          0.6499203431494839,
          0.6534491957357139,
          0.5857694603613663,
          0.6958995724269408,
          0.6325709818799118,
          0.7859692894877323,
          0.46379409087889223,
          0.414339591130697,
          0.4554710364107039,
          0.5279226163501812,
          0.5958116326813292,
          0.6710536877253362,
          0.7394162111724146,
          0.6552452508838856,
          0.6041238609359089,
          0.6508437763653638,
          0.78678964436671,
          0.8050582579964786,
          0.7258664295007407,
          0.7971724398544466,
          0.7824183876217398,
          0.601626485206714,
          0.7359887426977046,
          0.6634112868446052,
          0.6579947916968989,
          0.6492043117776616,
          0.8102556560951967,
          0.39487606849880436,
          0.6845382057865504,
          0.6730478808090375,
          0.6779999873525964,
          0.38071894880434787,
          0.2503518851529829,
          0.5860080567947507,
          0.7496808922993179,
          0.5633850963849789,
          0.6676219164807575,
          0.722875512156948,
          0.6063210851408211,
          0.7460717979221069,
          0.6628295405755791,
          0.5330094273727068,
          0.6637494992571505,
          0.6737887084289831,
          0.7208413111882062,
          0.679622726940762,
          0.6861696530800072,
          0.7441471899124036,
          0.7250151998579312,
          0.7254966344563075,
          0.7522943131446829,
          0.6835282630276843,
          0.6566499282564913,
          0.6690555441017789,
          0.6802445551008902,
          0.6777961189207542,
          0.6511150931227603,
          0.5821353619974619,
          0.6820762454372935,
          0.7417620694080219,
          0.6166330633747655,
          0.7375236570360609,
          0.7364905695636504,
          0.6796337242762006,
          0.7528246812040471,
          0.5214517182365668,
          0.6694480719011222,
          0.6592115898922449,
          0.6078879626542235,
          0.6055723457231592,
          0.616250916523982,
          0.7467880463135209,
          0.5515942965403624,
          0.6064571657620256,
          0.8094410428230183,
          0.6836992573928153,
          0.681638891964146,
          0.6517330210585011,
          0.7197518718774102,
          0.6529950628598968,
          0.6684617089957686,
          0.6629970591204906,
          0.5102131573728008,
          0.6541588278365662,
          0.6533001196130628,
          0.6749297494486487,
          0.5345937922407514,
          0.8188410708967248,
          0.8071225895224231,
          0.7174487701618217,
          0.5239008678482311,
          0.6840863673385678,
          0.7464287054060901,
          0.7506506287628658,
          0.5311244225988554,
          0.7193349618885101,
          0.5959979535027184,
          0.5384901052638681,
          0.7502339034334012,
          0.5507522438609822,
          0.6112469157058572,
          0.6828950590775932,
          0.6973420489559472,
          0.7504034764053666,
          0.6504768833622704,
          0.652886939629691,
          0.6305142697697638,
          0.6722419005465523,
          0.5384502649937034,
          0.7975563081737369,
          0.6118696638834707,
          0.7853843053604798,
          0.6480151142410514,
          0.7448042389405779,
          0.660213160865053,
          0.7682339758931516,
          0.6129169885620199,
          0.7372026802855777,
          0.6580289037522549,
          0.6758218568598966,
          0.6531142621163959,
          0.815580115849618,
          0.6634271028932645,
          0.586266366115814,
          0.7892265961382575,
          0.8654782621983881,
          0.5536838686167744,
          0.7437186466571681,
          0.6804557640379151
         ],
         "yaxis": "y"
        }
       ],
       "layout": {
        "legend": {
         "tracegroupgap": 0
        },
        "margin": {
         "t": 60
        },
        "shapes": [
         {
          "line": {
           "color": "red"
          },
          "type": "line",
          "x0": 0,
          "x1": 1,
          "xref": "x",
          "y0": 0,
          "y1": 1,
          "yref": "y"
         }
        ],
        "template": {
         "data": {
          "pie": [
           {
            "automargin": true,
            "type": "pie"
           }
          ]
         },
         "layout": {
          "xaxis": {
           "showgrid": true,
           "title": {
            "standoff": 15
           }
          },
          "yaxis": {
           "showgrid": true,
           "title": {
            "standoff": 15
           }
          }
         }
        },
        "xaxis": {
         "anchor": "y",
         "domain": [
          0,
          1
         ],
         "range": [
          0,
          1
         ],
         "title": {
          "text": "Quality of Study"
         }
        },
        "yaxis": {
         "anchor": "x",
         "domain": [
          0,
          1
         ],
         "range": [
          0,
          1
         ],
         "title": {
          "text": "Quality of Reporting"
         }
        }
       }
      }
     },
     "metadata": {},
     "output_type": "display_data"
    },
    {
     "data": {
      "application/vnd.plotly.v1+json": {
       "config": {
        "plotlyServerURL": "https://plot.ly"
       },
       "data": [
        {
         "hovertemplate": "x=%{x}<br>y=%{y}<extra></extra>",
         "legendgroup": "",
         "marker": {
          "color": "#1F77B4",
          "symbol": "circle"
         },
         "mode": "markers",
         "name": "",
         "orientation": "h",
         "showlegend": false,
         "type": "scatter",
         "x": [
          0.571428571,
          0.571428571,
          0.2,
          0.714285714,
          0.142857143,
          0.75,
          0.75,
          0.555555556,
          0.25,
          0.571428571,
          0.75,
          0.375,
          0.75,
          0.5,
          0.625,
          0.75,
          0.333333333,
          0.75,
          0.625,
          0.625,
          0.75,
          0.555555556,
          0.625,
          0.375,
          0.571428571,
          0.75,
          0.5,
          0.333333333,
          0.333333333,
          0.444444444,
          0.444444444,
          0.7,
          0.555555556,
          0.666666667,
          0.555555556,
          0.75,
          0.555555556,
          0.625,
          0.444444444,
          0.875,
          0.75,
          0.666666667,
          0.444444444,
          0.666666667,
          0.555555556,
          0.75,
          0.75,
          0.444444444,
          0.666666667,
          0.75,
          0.666666667,
          0.5,
          0.5,
          0.75,
          0.555555556,
          0.571428571,
          0.666666667,
          0.75,
          0.444444444,
          0.75,
          0.777777778,
          0.555555556,
          0.75,
          0.625,
          0.875,
          0.666666667,
          0.625,
          0.444444444,
          0.666666667,
          0.625,
          0.75,
          0.444444444,
          0.625,
          0.5,
          0.875,
          0.625,
          0.625,
          0.625,
          0.666666667,
          0.666666667,
          0.444444444,
          0.777777778,
          0.666666667,
          0.666666667,
          0.777777778,
          0.75,
          0.625,
          0.777777778,
          0.666666667,
          0.555555556,
          0.875,
          0.666666667,
          0.75,
          0.625,
          0.75,
          0.444444444,
          0.777777778,
          0.75,
          0.555555556,
          0.555555556,
          0.444444444,
          0.444444444,
          0.375,
          0.555555556,
          0.666666667,
          0.75,
          0.625,
          0.875,
          0.75,
          0.875,
          0.444444444,
          0.75,
          0.75,
          0.75,
          0.444444444,
          0.555555556,
          0.75,
          0.5,
          0.75,
          0.555555556,
          0.444444444,
          0.555555556,
          0.25,
          0.777777778,
          0.666666667,
          0.444444444,
          0.375,
          0.555555556,
          0.625,
          0.555555556,
          0.555555556,
          0.75,
          0.555555556,
          0.333333333,
          0.666666667,
          0.555555556,
          0.75,
          0.666666667,
          0.666666667,
          0.875,
          0.555555556,
          0.875,
          0.444444444,
          0.625,
          0.625,
          0.5,
          0.428571429,
          0.75,
          0.666666667
         ],
         "xaxis": "x",
         "y": [
          null,
          null,
          "Not assigned",
          null,
          null,
          0.796,
          0.662,
          "Not assigned",
          0.3,
          1.714,
          "Not assigned",
          null,
          0.6,
          0.593,
          null,
          null,
          null,
          2.743,
          1.403,
          "Not assigned",
          "Not assigned",
          null,
          0.123,
          null,
          null,
          1.591,
          null,
          null,
          null,
          null,
          0.985,
          0.857,
          1.99,
          0.287,
          0.934,
          1.052,
          1.592,
          0.544,
          0.318,
          1.251,
          1.405,
          1.368,
          0.589,
          0.453,
          1.328,
          1.492,
          null,
          null,
          0.587,
          1.611,
          0.802,
          null,
          null,
          "Not assigned",
          1.341,
          1.775,
          1.2,
          1.684,
          0.638,
          1.684,
          0.587,
          null,
          null,
          1.854,
          1.314,
          1.476,
          0.894,
          0.92,
          0.158,
          1.356,
          1.099,
          0.952,
          null,
          0.468,
          1.365,
          null,
          0.279,
          "Not assigned",
          0.285,
          0.289,
          "Not assigned",
          "Not assigned",
          "Not assigned",
          null,
          null,
          0.262,
          1.164,
          0.593,
          1.484,
          1.139,
          2.07,
          0.713,
          0.283,
          2.381,
          0.6,
          1.474,
          0.341,
          0.587,
          0.775,
          0.358,
          0.548,
          0.879,
          null,
          0.785,
          0.249,
          0.414,
          null,
          1.961,
          1.832,
          0.662,
          "Not assigned",
          0.418,
          0.451,
          1.24,
          1.005,
          0.39,
          0.428,
          "Not assigned",
          "Not assigned",
          "Not assigned",
          null,
          0.613,
          0.21,
          0.927,
          "Not assigned",
          null,
          0.39,
          0.244,
          null,
          3.062,
          null,
          null,
          null,
          null,
          null,
          0.583,
          0.635,
          null,
          0.37,
          "Not assigned",
          0.775,
          1.394,
          1.017,
          null,
          1.017,
          2.232,
          null,
          1.065,
          0.67
         ],
         "yaxis": "y"
        }
       ],
       "layout": {
        "legend": {
         "tracegroupgap": 0
        },
        "margin": {
         "t": 60
        },
        "template": {
         "data": {
          "pie": [
           {
            "automargin": true,
            "type": "pie"
           }
          ]
         },
         "layout": {
          "xaxis": {
           "showgrid": true,
           "title": {
            "standoff": 15
           }
          },
          "yaxis": {
           "showgrid": true,
           "title": {
            "standoff": 15
           }
          }
         }
        },
        "xaxis": {
         "anchor": "y",
         "domain": [
          0,
          1
         ],
         "range": [
          0,
          1
         ],
         "title": {
          "text": "Quality of Study"
         }
        },
        "yaxis": {
         "anchor": "x",
         "domain": [
          0,
          1
         ],
         "title": {
          "text": "SJR Indicator"
         }
        }
       }
      }
     },
     "metadata": {},
     "output_type": "display_data"
    },
    {
     "data": {
      "application/vnd.plotly.v1+json": {
       "config": {
        "plotlyServerURL": "https://plot.ly"
       },
       "data": [
        {
         "hovertemplate": "x=%{x}<br>y=%{y}<extra></extra>",
         "legendgroup": "",
         "marker": {
          "color": "#1F77B4",
          "symbol": "circle"
         },
         "mode": "markers",
         "name": "",
         "orientation": "h",
         "showlegend": false,
         "type": "scatter",
         "x": [
          0.714285714,
          0.714285714,
          0.833333333,
          0.866666667,
          0.357142857,
          0.666666667,
          0.866666667,
          0.733333333,
          0.857142857,
          0.785714286,
          0.75,
          0.571428571,
          0.466666667,
          0.666666667,
          0.666666667,
          0.6,
          0.538461538,
          0.8,
          0.733333333,
          0.733333333,
          0.666666667,
          0.666666667,
          0.6,
          0.714285714,
          0.642857143,
          0.8,
          0.466666667,
          0.428571429,
          0.466666667,
          0.533333333,
          0.6,
          0.666666667,
          0.733333333,
          0.666666667,
          0.6,
          0.666666667,
          0.8,
          0.8,
          0.733333333,
          0.8,
          0.8,
          0.6,
          0.733333333,
          0.666666667,
          0.666666667,
          0.666666667,
          0.8,
          0.4,
          0.666666667,
          0.666666667,
          0.666666667,
          0.384615385,
          0.230769231,
          0.6,
          0.733333333,
          0.571428571,
          0.666666667,
          0.733333333,
          0.6,
          0.733333333,
          0.666666667,
          0.533333333,
          0.666666667,
          0.666666667,
          0.733333333,
          0.666666667,
          0.666666667,
          0.733333333,
          0.733333333,
          0.733333333,
          0.733333333,
          0.666666667,
          0.666666667,
          0.666666667,
          0.666666667,
          0.666666667,
          0.666666667,
          0.6,
          0.666666667,
          0.733333333,
          0.6,
          0.733333333,
          0.733333333,
          0.666666667,
          0.733333333,
          0.533333333,
          0.666666667,
          0.666666667,
          0.6,
          0.6,
          0.6,
          0.733333333,
          0.533333333,
          0.6,
          0.8,
          0.666666667,
          0.666666667,
          0.666666667,
          0.733333333,
          0.666666667,
          0.666666667,
          0.666666667,
          0.5,
          0.666666667,
          0.666666667,
          0.666666667,
          0.533333333,
          0.8,
          0.8,
          0.733333333,
          0.533333333,
          0.666666667,
          0.733333333,
          0.733333333,
          0.533333333,
          0.733333333,
          0.6,
          0.533333333,
          0.733333333,
          0.533333333,
          0.6,
          0.666666667,
          0.714285714,
          0.733333333,
          0.666666667,
          0.666666667,
          0.642857143,
          0.666666667,
          0.533333333,
          0.8,
          0.6,
          0.8,
          0.666666667,
          0.733333333,
          0.666666667,
          0.75,
          0.6,
          0.733333333,
          0.666666667,
          0.666666667,
          0.666666667,
          0.8,
          0.666666667,
          0.6,
          0.8,
          0.857142857,
          0.571428571,
          0.733333333,
          0.666666667
         ],
         "xaxis": "x",
         "y": [
          null,
          null,
          "Not assigned",
          null,
          null,
          0.796,
          0.662,
          "Not assigned",
          0.3,
          1.714,
          "Not assigned",
          null,
          0.6,
          0.593,
          null,
          null,
          null,
          2.743,
          1.403,
          "Not assigned",
          "Not assigned",
          null,
          0.123,
          null,
          null,
          1.591,
          null,
          null,
          null,
          null,
          0.985,
          0.857,
          1.99,
          0.287,
          0.934,
          1.052,
          1.592,
          0.544,
          0.318,
          1.251,
          1.405,
          1.368,
          0.589,
          0.453,
          1.328,
          1.492,
          null,
          null,
          0.587,
          1.611,
          0.802,
          null,
          null,
          "Not assigned",
          1.341,
          1.775,
          1.2,
          1.684,
          0.638,
          1.684,
          0.587,
          null,
          null,
          1.854,
          1.314,
          1.476,
          0.894,
          0.92,
          0.158,
          1.356,
          1.099,
          0.952,
          null,
          0.468,
          1.365,
          null,
          0.279,
          "Not assigned",
          0.285,
          0.289,
          "Not assigned",
          "Not assigned",
          "Not assigned",
          null,
          null,
          0.262,
          1.164,
          0.593,
          1.484,
          1.139,
          2.07,
          0.713,
          0.283,
          2.381,
          0.6,
          1.474,
          0.341,
          0.587,
          0.775,
          0.358,
          0.548,
          0.879,
          null,
          0.785,
          0.249,
          0.414,
          null,
          1.961,
          1.832,
          0.662,
          "Not assigned",
          0.418,
          0.451,
          1.24,
          1.005,
          0.39,
          0.428,
          "Not assigned",
          "Not assigned",
          "Not assigned",
          null,
          0.613,
          0.21,
          0.927,
          "Not assigned",
          null,
          0.39,
          0.244,
          null,
          3.062,
          null,
          null,
          null,
          null,
          null,
          0.583,
          0.635,
          null,
          0.37,
          "Not assigned",
          0.775,
          1.394,
          1.017,
          null,
          1.017,
          2.232,
          null,
          1.065,
          0.67
         ],
         "yaxis": "y"
        }
       ],
       "layout": {
        "legend": {
         "tracegroupgap": 0
        },
        "margin": {
         "t": 60
        },
        "template": {
         "data": {
          "pie": [
           {
            "automargin": true,
            "type": "pie"
           }
          ]
         },
         "layout": {
          "xaxis": {
           "showgrid": true,
           "title": {
            "standoff": 15
           }
          },
          "yaxis": {
           "showgrid": true,
           "title": {
            "standoff": 15
           }
          }
         }
        },
        "xaxis": {
         "anchor": "y",
         "domain": [
          0,
          1
         ],
         "range": [
          0,
          1
         ],
         "title": {
          "text": "Quality of Reporting"
         }
        },
        "yaxis": {
         "anchor": "x",
         "domain": [
          0,
          1
         ],
         "title": {
          "text": "SJR Indicator"
         }
        }
       }
      }
     },
     "metadata": {},
     "output_type": "display_data"
    }
   ],
   "source": [
    "df_fuzzed = df_quality.copy()\n",
    "\n",
    "df_fuzzed['SSTOTAL'] = df_fuzzed.apply(\n",
    "    lambda row: row['SSTOTAL'] + random.uniform(-0.02, 0.02), axis=1)\n",
    "\n",
    "df_fuzzed['SRTOTAL'] = df_fuzzed.apply(\n",
    "    lambda row: row['SRTOTAL'] + random.uniform(-0.02, 0.02), axis=1)\n",
    "\n",
    "fig = px.scatter(df_fuzzed, x='SSTOTAL', y='SRTOTAL')\n",
    "\n",
    "fig.update_xaxes(range=[0, 1], title=\"Quality of Study\")\n",
    "fig.update_yaxes(range=[0, 1], title=\"Quality of Reporting\")\n",
    "\n",
    "fig.add_shape(type='line',\n",
    "              x0=0,\n",
    "              y0=0,\n",
    "              x1=1,\n",
    "              y1=1,\n",
    "              line=dict(color='red',),\n",
    "              xref='x',\n",
    "              yref='y'\n",
    "              )\n",
    "\n",
    "fig.write_image('qualityassessment/sstotal_vs_srtotal.pdf', width=WIDTH, height=HEIGHT)\n",
    "fig.show()\n",
    "\n",
    "\n",
    "fig = px.scatter(x=df_quality['SSTOTAL'], y=df_quality['SJR Indicator'])\n",
    "fig.update_xaxes(range=[0, 1], title=\"Quality of Study\")\n",
    "fig.update_yaxes(title=\"SJR Indicator\")\n",
    "fig.write_image('qualityassessment/sstotal_vs_sjr.pdf', width=WIDTH, height=HALF_HEIGHT)\n",
    "fig.show()\n",
    "\n",
    "fig = px.scatter(x=df_quality['SRTOTAL'], y=df_quality['SJR Indicator'])\n",
    "fig.update_xaxes(range=[0, 1], title=\"Quality of Reporting\")\n",
    "fig.update_yaxes(title=\"SJR Indicator\")\n",
    "fig.write_image('qualityassessment/srtotal_vs_sjr.pdf', width=WIDTH, height=HALF_HEIGHT)\n",
    "fig.show()"
   ]
  },
  {
   "cell_type": "code",
   "execution_count": 13,
   "metadata": {},
   "outputs": [
    {
     "name": "stdout",
     "output_type": "stream",
     "text": [
      "correlate: [61.58031064]\n"
     ]
    }
   ],
   "source": [
    "correlate = np.correlate(df_quality['SSTOTAL'], df_quality['SRTOTAL'])\n",
    "print(f'correlate: {correlate}')"
   ]
  },
  {
   "cell_type": "code",
   "execution_count": 14,
   "metadata": {},
   "outputs": [
    {
     "name": "stdout",
     "output_type": "stream",
     "text": [
      "cor: 0.3114409521572176\n",
      "pval: 5.5269888923878485e-05\n"
     ]
    }
   ],
   "source": [
    "from scipy.stats import spearmanr, pearsonr\n",
    "\n",
    "cor, pval = spearmanr(a=df_quality['SSTOTAL'], b=df_quality['SRTOTAL'], alternative='greater')\n",
    "\n",
    "print(f'cor: {cor}\\npval: {pval}')"
   ]
  },
  {
   "cell_type": "code",
   "execution_count": 15,
   "metadata": {},
   "outputs": [
    {
     "name": "stderr",
     "output_type": "stream",
     "text": [
      "C:\\Users\\Work\\AppData\\Local\\Temp\\ipykernel_32300\\3384157465.py:6: SettingWithCopyWarning:\n",
      "\n",
      "\n",
      "A value is trying to be set on a copy of a slice from a DataFrame.\n",
      "Try using .loc[row_indexer,col_indexer] = value instead\n",
      "\n",
      "See the caveats in the documentation: https://pandas.pydata.org/pandas-docs/stable/user_guide/indexing.html#returning-a-view-versus-a-copy\n",
      "\n"
     ]
    }
   ],
   "source": [
    "def not_assigned_to_int(row):\n",
    "    if type(row['SJR Indicator']) == str:\n",
    "        return -1\n",
    "    return row['SJR Indicator']\n",
    "\n",
    "df_journals['SJR Indicator'] = df_journals.apply (lambda row: not_assigned_to_int(row), axis=1)"
   ]
  },
  {
   "cell_type": "code",
   "execution_count": 16,
   "metadata": {},
   "outputs": [
    {
     "name": "stderr",
     "output_type": "stream",
     "text": [
      "C:\\Users\\Work\\AppData\\Local\\Temp\\ipykernel_32300\\61218674.py:10: SettingWithCopyWarning:\n",
      "\n",
      "\n",
      "A value is trying to be set on a copy of a slice from a DataFrame.\n",
      "Try using .loc[row_indexer,col_indexer] = value instead\n",
      "\n",
      "See the caveats in the documentation: https://pandas.pydata.org/pandas-docs/stable/user_guide/indexing.html#returning-a-view-versus-a-copy\n",
      "\n"
     ]
    }
   ],
   "source": [
    "def core_ranking_to_int(row):\n",
    "    if row['CORE Ranking'] == 'A':\n",
    "        return 1\n",
    "    if row['CORE Ranking'] == 'B':\n",
    "        return 2\n",
    "    if row['CORE Ranking'] == 'C':\n",
    "        return 3\n",
    "    return 4\n",
    "\n",
    "df_conferences['int_core_ranking'] = df_conferences.apply (lambda row: core_ranking_to_int(row), axis=1)"
   ]
  },
  {
   "cell_type": "code",
   "execution_count": 17,
   "metadata": {},
   "outputs": [
    {
     "data": {
      "text/plain": [
       "-1.0"
      ]
     },
     "execution_count": 17,
     "metadata": {},
     "output_type": "execute_result"
    }
   ],
   "source": [
    "type(df_journals['SJR Indicator'].iloc[0])\n",
    "df_journals['SJR Indicator'].iloc[0]"
   ]
  },
  {
   "cell_type": "code",
   "execution_count": 18,
   "metadata": {},
   "outputs": [
    {
     "name": "stdout",
     "output_type": "stream",
     "text": [
      "cor: 0.1115339647775459\n",
      "pval: 0.12192419650316626\n"
     ]
    }
   ],
   "source": [
    "from scipy.stats import spearmanr\n",
    "\n",
    "cor, pval = spearmanr(a=df_journals['SSTOTAL'], b=df_journals['SJR Indicator'], alternative='greater')\n",
    "\n",
    "print(f'cor: {cor}\\npval: {pval}')"
   ]
  },
  {
   "cell_type": "code",
   "execution_count": 19,
   "metadata": {},
   "outputs": [
    {
     "name": "stdout",
     "output_type": "stream",
     "text": [
      "cor: 0.21574777139574017\n",
      "pval: 0.011478013561074661\n"
     ]
    }
   ],
   "source": [
    "from scipy.stats import spearmanr\n",
    "\n",
    "cor, pval = spearmanr(a=df_journals['SRTOTAL'], b=df_journals['SJR Indicator'], alternative='greater')\n",
    "\n",
    "print(f'cor: {cor}\\npval: {pval}')"
   ]
  },
  {
   "cell_type": "code",
   "execution_count": 20,
   "metadata": {},
   "outputs": [
    {
     "name": "stdout",
     "output_type": "stream",
     "text": [
      "cor: -0.3770284813643129\n",
      "pval: 0.011703861911782952\n"
     ]
    }
   ],
   "source": [
    "from scipy.stats import spearmanr\n",
    "\n",
    "cor, pval = spearmanr(a=df_conferences['SSTOTAL'], b=df_conferences['int_core_ranking'], alternative='less')\n",
    "\n",
    "print(f'cor: {cor}\\npval: {pval}')"
   ]
  },
  {
   "cell_type": "code",
   "execution_count": 21,
   "metadata": {},
   "outputs": [
    {
     "name": "stdout",
     "output_type": "stream",
     "text": [
      "cor: -0.4044414647345252\n",
      "pval: 0.007211456781739799\n"
     ]
    }
   ],
   "source": [
    "from scipy.stats import spearmanr\n",
    "\n",
    "cor, pval = spearmanr(a=df_conferences['SRTOTAL'], b=df_conferences['int_core_ranking'], alternative='less')\n",
    "\n",
    "print(f'cor: {cor}\\npval: {pval}')"
   ]
  },
  {
   "cell_type": "code",
   "execution_count": 22,
   "metadata": {},
   "outputs": [
    {
     "data": {
      "application/vnd.plotly.v1+json": {
       "config": {
        "plotlyServerURL": "https://plot.ly"
       },
       "data": [
        {
         "alignmentgroup": "True",
         "boxpoints": "all",
         "hovertemplate": "x=%{x}<br>y=%{y}<extra></extra>",
         "legendgroup": "",
         "marker": {
          "color": "#1F77B4"
         },
         "name": "",
         "notched": false,
         "offsetgroup": "",
         "orientation": "h",
         "showlegend": false,
         "type": "box",
         "x": [
          0.571428571,
          0.714285714,
          0.142857143,
          0.375,
          0.625,
          0.75,
          0.333333333,
          0.555555556,
          0.375,
          0.5,
          0.333333333,
          0.333333333,
          0.444444444,
          0.75,
          0.444444444,
          0.5,
          0.5,
          0.555555556,
          0.75,
          0.625,
          0.625,
          0.666666667,
          0.777777778,
          0.375,
          0.625,
          0.444444444,
          0.444444444,
          0.625,
          0.555555556,
          0.75,
          0.555555556,
          0.333333333,
          0.666666667,
          0.666666667,
          0.625,
          0.428571429
         ],
         "x0": " ",
         "xaxis": "x",
         "y": [
          "A",
          "A",
          "Not assigned",
          "Not assigned",
          "Not assigned",
          "Not assigned",
          "Not assigned",
          "B",
          "Not assigned",
          "Not assigned",
          "Not assigned",
          "Not assigned",
          "Not assigned",
          "C",
          "Not assigned",
          "Not assigned",
          "Not assigned",
          "Not assigned",
          "B",
          "Not assigned",
          "Not assigned",
          "Not assigned",
          "Not assigned",
          "Not assigned",
          "Not assigned",
          "A",
          "National: Poland",
          "B",
          "Not assigned",
          "Not assigned",
          "A",
          "Not assigned",
          "A",
          "B",
          "B",
          "Not assigned"
         ],
         "y0": " ",
         "yaxis": "y"
        }
       ],
       "layout": {
        "boxmode": "group",
        "legend": {
         "tracegroupgap": 0
        },
        "margin": {
         "l": 120,
         "t": 60
        },
        "template": {
         "data": {
          "pie": [
           {
            "automargin": true,
            "type": "pie"
           }
          ]
         },
         "layout": {
          "xaxis": {
           "showgrid": true,
           "title": {
            "standoff": 15
           }
          },
          "yaxis": {
           "showgrid": true,
           "title": {
            "standoff": 15
           }
          }
         }
        },
        "xaxis": {
         "anchor": "y",
         "domain": [
          0,
          1
         ],
         "range": [
          0,
          1
         ],
         "title": {
          "text": "Quality of Study"
         }
        },
        "yaxis": {
         "anchor": "x",
         "categoryorder": "category descending",
         "domain": [
          0,
          1
         ],
         "title": {
          "text": "CORE Ranking"
         }
        }
       }
      }
     },
     "metadata": {},
     "output_type": "display_data"
    },
    {
     "data": {
      "application/vnd.plotly.v1+json": {
       "config": {
        "plotlyServerURL": "https://plot.ly"
       },
       "data": [
        {
         "alignmentgroup": "True",
         "boxpoints": "all",
         "hovertemplate": "x=%{x}<br>y=%{y}<extra></extra>",
         "legendgroup": "",
         "marker": {
          "color": "#1F77B4"
         },
         "name": "",
         "notched": false,
         "offsetgroup": "",
         "orientation": "h",
         "showlegend": false,
         "type": "box",
         "x": [
          0.714285714,
          0.866666667,
          0.357142857,
          0.571428571,
          0.666666667,
          0.6,
          0.538461538,
          0.666666667,
          0.714285714,
          0.466666667,
          0.428571429,
          0.466666667,
          0.533333333,
          0.8,
          0.4,
          0.384615385,
          0.230769231,
          0.533333333,
          0.666666667,
          0.666666667,
          0.666666667,
          0.666666667,
          0.733333333,
          0.5,
          0.533333333,
          0.6,
          0.666666667,
          0.533333333,
          0.6,
          0.8,
          0.666666667,
          0.733333333,
          0.666666667,
          0.733333333,
          0.6,
          0.571428571
         ],
         "x0": " ",
         "xaxis": "x",
         "y": [
          "A",
          "A",
          "Not assigned",
          "Not assigned",
          "Not assigned",
          "Not assigned",
          "Not assigned",
          "B",
          "Not assigned",
          "Not assigned",
          "Not assigned",
          "Not assigned",
          "Not assigned",
          "C",
          "Not assigned",
          "Not assigned",
          "Not assigned",
          "Not assigned",
          "B",
          "Not assigned",
          "Not assigned",
          "Not assigned",
          "Not assigned",
          "Not assigned",
          "Not assigned",
          "A",
          "National: Poland",
          "B",
          "Not assigned",
          "Not assigned",
          "A",
          "Not assigned",
          "A",
          "B",
          "B",
          "Not assigned"
         ],
         "y0": " ",
         "yaxis": "y"
        }
       ],
       "layout": {
        "boxmode": "group",
        "legend": {
         "tracegroupgap": 0
        },
        "margin": {
         "l": 120,
         "t": 60
        },
        "template": {
         "data": {
          "pie": [
           {
            "automargin": true,
            "type": "pie"
           }
          ]
         },
         "layout": {
          "xaxis": {
           "showgrid": true,
           "title": {
            "standoff": 15
           }
          },
          "yaxis": {
           "showgrid": true,
           "title": {
            "standoff": 15
           }
          }
         }
        },
        "xaxis": {
         "anchor": "y",
         "domain": [
          0,
          1
         ],
         "range": [
          0,
          1
         ],
         "title": {
          "text": "Quality of Reporting"
         }
        },
        "yaxis": {
         "anchor": "x",
         "categoryorder": "category descending",
         "domain": [
          0,
          1
         ],
         "title": {
          "text": "CORE Ranking"
         }
        }
       }
      }
     },
     "metadata": {},
     "output_type": "display_data"
    }
   ],
   "source": [
    "fig = px.box(x=df_conferences['SSTOTAL'], y=df_conferences['CORE Ranking'], points='all', category_orders={'Core Ranking': ['A', 'B', 'C', 'National: Poland', 'Not assigned']})\n",
    "fig.update_xaxes(range=[0, 1], title=\"Quality of Study\")\n",
    "fig.update_yaxes(title=\"CORE Ranking\", categoryorder='category descending')\n",
    "fig.update_layout(margin={\"l\": 120})\n",
    "fig.write_image('qualityassessment/sstotal_vs_core.pdf', width=WIDTH, height=HALF_HEIGHT)\n",
    "fig.show()\n",
    "\n",
    "fig = px.box(x=df_conferences['SRTOTAL'], y=df_conferences['CORE Ranking'], points='all', category_orders={'Core Ranking': ['A', 'B', 'C', 'National: Poland', 'Not assigned']})\n",
    "fig.update_xaxes(range=[0, 1], title=\"Quality of Reporting\")\n",
    "fig.update_yaxes(title=\"CORE Ranking\", categoryorder='category descending')\n",
    "fig.update_layout(margin={\"l\": 120})\n",
    "fig.write_image('qualityassessment/srtotal_vs_core.pdf', width=WIDTH, height=HALF_HEIGHT)\n",
    "fig.show()"
   ]
  },
  {
   "cell_type": "code",
   "execution_count": 23,
   "metadata": {},
   "outputs": [
    {
     "data": {
      "application/vnd.plotly.v1+json": {
       "config": {
        "plotlyServerURL": "https://plot.ly"
       },
       "data": [
        {
         "alignmentgroup": "True",
         "boxpoints": "all",
         "hovertemplate": "x=%{x}<br>y=%{y}<extra></extra>",
         "legendgroup": "",
         "marker": {
          "color": "#1F77B4"
         },
         "name": "",
         "notched": false,
         "offsetgroup": "",
         "orientation": "h",
         "showlegend": false,
         "type": "box",
         "x": [
          0.2,
          0.75,
          0.75,
          0.555555556,
          0.25,
          0.571428571,
          0.75,
          0.75,
          0.5,
          0.75,
          0.625,
          0.625,
          0.75,
          0.625,
          0.75,
          0.444444444,
          0.7,
          0.555555556,
          0.666666667,
          0.555555556,
          0.75,
          0.555555556,
          0.625,
          0.444444444,
          0.875,
          0.75,
          0.666666667,
          0.444444444,
          0.666666667,
          0.555555556,
          0.75,
          0.666666667,
          0.75,
          0.666666667,
          0.75,
          0.555555556,
          0.571428571,
          0.666666667,
          0.75,
          0.444444444,
          0.75,
          0.777777778,
          0.625,
          0.875,
          0.666666667,
          0.625,
          0.444444444,
          0.666666667,
          0.625,
          0.75,
          0.444444444,
          0.5,
          0.875,
          0.625,
          0.625,
          0.666666667,
          0.666666667,
          0.444444444,
          0.777777778,
          0.666666667,
          0.75,
          0.625,
          0.777777778,
          0.666666667,
          0.555555556,
          0.875,
          0.666666667,
          0.75,
          0.625,
          0.75,
          0.444444444,
          0.777777778,
          0.75,
          0.555555556,
          0.555555556,
          0.444444444,
          0.444444444,
          0.555555556,
          0.666666667,
          0.75,
          0.875,
          0.75,
          0.875,
          0.444444444,
          0.75,
          0.75,
          0.75,
          0.444444444,
          0.555555556,
          0.75,
          0.5,
          0.75,
          0.555555556,
          0.555555556,
          0.25,
          0.777777778,
          0.666666667,
          0.375,
          0.555555556,
          0.555555556,
          0.555555556,
          0.75,
          0.666666667,
          0.875,
          0.555555556,
          0.875,
          0.444444444,
          0.625,
          0.5,
          0.75,
          0.666666667
         ],
         "x0": " ",
         "xaxis": "x",
         "y": [
          "Not assigned",
          "Q1",
          "Q1",
          "Not assigned",
          "Q3",
          "Q1",
          "Not assigned",
          "Q2",
          "Q2",
          "Q1",
          "Q1",
          "Not assigned",
          "Not assigned",
          "Q4",
          "Q1",
          "Q1",
          "Q1",
          "Q1",
          "Q2",
          "Q1",
          "Q1",
          "Q1",
          "Q2",
          "Q3",
          "Q1",
          "Q1",
          "Q1",
          "Q2",
          "Q2",
          "Q1",
          "Q1",
          "Q1",
          "Q1",
          "Q1",
          "Not assigned",
          "Q1",
          "Q1",
          "Q1",
          "Q1",
          "Q2",
          "Q1",
          "Q1",
          "Q1",
          "Q1",
          "Q1",
          "Q1",
          "Q1",
          "Q4",
          "Q1",
          "Q1",
          "Q1",
          "Q2",
          "Q1",
          "Q2",
          "Not assigned",
          "Q2",
          "Q2",
          "Not assigned",
          "Not assigned",
          "Not assigned",
          "Q3",
          "Q1",
          "Q2",
          "Q1",
          "Q1",
          "Q1",
          "Q1",
          "Q3",
          "Q1",
          "Q2",
          "Q1",
          "Q3",
          "Q1",
          "Q1",
          "Q3",
          "Q2",
          "Q1",
          "Q1",
          "Q3",
          "Q2",
          "Q1",
          "Q1",
          "Q1",
          "Not assigned",
          "Q2",
          "Q2",
          "Q1",
          "Q2",
          "Q2",
          "Q1",
          "Not assigned",
          "Not assigned",
          "Not assigned",
          "Q2",
          "Not assigned",
          "Q1",
          "Not assigned",
          "Q2",
          "Q3",
          "Q1",
          "Q2",
          "Q2",
          "Q2",
          "Not assigned",
          "Q1",
          "Q1",
          "Q1",
          "Q1",
          "Q1",
          "Q1",
          "Q1"
         ],
         "y0": " ",
         "yaxis": "y"
        }
       ],
       "layout": {
        "boxmode": "group",
        "legend": {
         "tracegroupgap": 0
        },
        "margin": {
         "l": 120,
         "t": 60
        },
        "template": {
         "data": {
          "pie": [
           {
            "automargin": true,
            "type": "pie"
           }
          ]
         },
         "layout": {
          "xaxis": {
           "showgrid": true,
           "title": {
            "standoff": 15
           }
          },
          "yaxis": {
           "showgrid": true,
           "title": {
            "standoff": 15
           }
          }
         }
        },
        "xaxis": {
         "anchor": "y",
         "domain": [
          0,
          1
         ],
         "range": [
          0,
          1
         ],
         "title": {
          "text": "Quality of Study"
         }
        },
        "yaxis": {
         "anchor": "x",
         "categoryorder": "category descending",
         "domain": [
          0,
          1
         ],
         "title": {
          "text": "SJR Best Quartile"
         }
        }
       }
      }
     },
     "metadata": {},
     "output_type": "display_data"
    },
    {
     "data": {
      "application/vnd.plotly.v1+json": {
       "config": {
        "plotlyServerURL": "https://plot.ly"
       },
       "data": [
        {
         "alignmentgroup": "True",
         "boxpoints": "all",
         "hovertemplate": "x=%{x}<br>y=%{y}<extra></extra>",
         "legendgroup": "",
         "marker": {
          "color": "#1F77B4"
         },
         "name": "",
         "notched": false,
         "offsetgroup": "",
         "orientation": "h",
         "showlegend": false,
         "type": "box",
         "x": [
          0.833333333,
          0.666666667,
          0.866666667,
          0.733333333,
          0.857142857,
          0.785714286,
          0.75,
          0.466666667,
          0.666666667,
          0.8,
          0.733333333,
          0.733333333,
          0.666666667,
          0.6,
          0.8,
          0.6,
          0.666666667,
          0.733333333,
          0.666666667,
          0.6,
          0.666666667,
          0.8,
          0.8,
          0.733333333,
          0.8,
          0.8,
          0.6,
          0.733333333,
          0.666666667,
          0.666666667,
          0.666666667,
          0.666666667,
          0.666666667,
          0.666666667,
          0.6,
          0.733333333,
          0.571428571,
          0.666666667,
          0.733333333,
          0.6,
          0.733333333,
          0.666666667,
          0.666666667,
          0.733333333,
          0.666666667,
          0.666666667,
          0.733333333,
          0.733333333,
          0.733333333,
          0.733333333,
          0.666666667,
          0.666666667,
          0.666666667,
          0.666666667,
          0.6,
          0.666666667,
          0.733333333,
          0.6,
          0.733333333,
          0.733333333,
          0.533333333,
          0.666666667,
          0.666666667,
          0.6,
          0.6,
          0.6,
          0.733333333,
          0.533333333,
          0.6,
          0.8,
          0.666666667,
          0.666666667,
          0.666666667,
          0.733333333,
          0.666666667,
          0.666666667,
          0.666666667,
          0.666666667,
          0.666666667,
          0.666666667,
          0.8,
          0.8,
          0.733333333,
          0.533333333,
          0.666666667,
          0.733333333,
          0.733333333,
          0.533333333,
          0.733333333,
          0.6,
          0.533333333,
          0.733333333,
          0.533333333,
          0.666666667,
          0.714285714,
          0.733333333,
          0.666666667,
          0.642857143,
          0.666666667,
          0.8,
          0.75,
          0.6,
          0.666666667,
          0.666666667,
          0.666666667,
          0.8,
          0.666666667,
          0.8,
          0.857142857,
          0.733333333,
          0.666666667
         ],
         "x0": " ",
         "xaxis": "x",
         "y": [
          "Not assigned",
          "Q1",
          "Q1",
          "Not assigned",
          "Q3",
          "Q1",
          "Not assigned",
          "Q2",
          "Q2",
          "Q1",
          "Q1",
          "Not assigned",
          "Not assigned",
          "Q4",
          "Q1",
          "Q1",
          "Q1",
          "Q1",
          "Q2",
          "Q1",
          "Q1",
          "Q1",
          "Q2",
          "Q3",
          "Q1",
          "Q1",
          "Q1",
          "Q2",
          "Q2",
          "Q1",
          "Q1",
          "Q1",
          "Q1",
          "Q1",
          "Not assigned",
          "Q1",
          "Q1",
          "Q1",
          "Q1",
          "Q2",
          "Q1",
          "Q1",
          "Q1",
          "Q1",
          "Q1",
          "Q1",
          "Q1",
          "Q4",
          "Q1",
          "Q1",
          "Q1",
          "Q2",
          "Q1",
          "Q2",
          "Not assigned",
          "Q2",
          "Q2",
          "Not assigned",
          "Not assigned",
          "Not assigned",
          "Q3",
          "Q1",
          "Q2",
          "Q1",
          "Q1",
          "Q1",
          "Q1",
          "Q3",
          "Q1",
          "Q2",
          "Q1",
          "Q3",
          "Q1",
          "Q1",
          "Q3",
          "Q2",
          "Q1",
          "Q1",
          "Q3",
          "Q2",
          "Q1",
          "Q1",
          "Q1",
          "Not assigned",
          "Q2",
          "Q2",
          "Q1",
          "Q2",
          "Q2",
          "Q1",
          "Not assigned",
          "Not assigned",
          "Not assigned",
          "Q2",
          "Not assigned",
          "Q1",
          "Not assigned",
          "Q2",
          "Q3",
          "Q1",
          "Q2",
          "Q2",
          "Q2",
          "Not assigned",
          "Q1",
          "Q1",
          "Q1",
          "Q1",
          "Q1",
          "Q1",
          "Q1"
         ],
         "y0": " ",
         "yaxis": "y"
        }
       ],
       "layout": {
        "boxmode": "group",
        "legend": {
         "tracegroupgap": 0
        },
        "margin": {
         "l": 120,
         "t": 60
        },
        "template": {
         "data": {
          "pie": [
           {
            "automargin": true,
            "type": "pie"
           }
          ]
         },
         "layout": {
          "xaxis": {
           "showgrid": true,
           "title": {
            "standoff": 15
           }
          },
          "yaxis": {
           "showgrid": true,
           "title": {
            "standoff": 15
           }
          }
         }
        },
        "xaxis": {
         "anchor": "y",
         "domain": [
          0,
          1
         ],
         "range": [
          0,
          1
         ],
         "title": {
          "text": "Quality of Reporting"
         }
        },
        "yaxis": {
         "anchor": "x",
         "categoryorder": "category descending",
         "domain": [
          0,
          1
         ],
         "title": {
          "text": "SJR Best Quartile"
         }
        }
       }
      }
     },
     "metadata": {},
     "output_type": "display_data"
    }
   ],
   "source": [
    "fig = px.box(x=df_journals['SSTOTAL'], y=df_journals['SJCR Quartile'], points='all', category_orders={'SJCR Quartile': ['Q1', 'Q2', 'Q3', 'Q4', 'Not assigned']})\n",
    "fig.update_xaxes(range=[0, 1], title=\"Quality of Study\")\n",
    "fig.update_yaxes(title=\"SJR Best Quartile\", categoryorder='category descending')\n",
    "fig.update_layout(margin={\"l\": 120})\n",
    "fig.write_image('qualityassessment/sstotal_vs_sjrquartile.pdf', width=WIDTH, height=HALF_HEIGHT)\n",
    "fig.show()\n",
    "\n",
    "fig = px.box(x=df_journals['SRTOTAL'], y=df_journals['SJCR Quartile'], points='all', category_orders={'SJCR Quartile': ['Q1', 'Q2', 'Q3', 'Q4', 'Not assigned']})\n",
    "fig.update_xaxes(range=[0, 1], title=\"Quality of Reporting\")\n",
    "fig.update_yaxes(title=\"SJR Best Quartile\", categoryorder='category descending')\n",
    "fig.update_layout(margin={\"l\": 120})\n",
    "fig.write_image('qualityassessment/srtotal_vs_sjrquartile.pdf', width=WIDTH, height=HALF_HEIGHT)\n",
    "fig.show()"
   ]
  },
  {
   "cell_type": "code",
   "execution_count": 24,
   "metadata": {},
   "outputs": [
    {
     "name": "stdout",
     "output_type": "stream",
     "text": [
      "0        Workshop\n",
      "1      Conference\n",
      "2         Journal\n",
      "3      Conference\n",
      "4      Conference\n",
      "          ...    \n",
      "144       Journal\n",
      "145       Journal\n",
      "146    Conference\n",
      "147       Journal\n",
      "148       Journal\n",
      "Name: Publication Source, Length: 149, dtype: object\n"
     ]
    }
   ],
   "source": [
    "print(df_quality['Publication Source'])"
   ]
  },
  {
   "attachments": {},
   "cell_type": "markdown",
   "metadata": {},
   "source": [
    "## Individual Feature Analysis\n",
    "\n",
    "### Boxplots of SS00 and SR00"
   ]
  },
  {
   "cell_type": "code",
   "execution_count": 25,
   "metadata": {},
   "outputs": [
    {
     "data": {
      "application/vnd.plotly.v1+json": {
       "config": {
        "plotlyServerURL": "https://plot.ly"
       },
       "data": [
        {
         "name": "SR00",
         "type": "box",
         "x": [
          0.714285714,
          0.714285714,
          0.833333333,
          0.866666667,
          0.357142857,
          0.666666667,
          0.866666667,
          0.733333333,
          0.857142857,
          0.785714286,
          0.75,
          0.571428571,
          0.466666667,
          0.666666667,
          0.666666667,
          0.6,
          0.538461538,
          0.8,
          0.733333333,
          0.733333333,
          0.666666667,
          0.666666667,
          0.6,
          0.714285714,
          0.642857143,
          0.8,
          0.466666667,
          0.428571429,
          0.466666667,
          0.533333333,
          0.6,
          0.666666667,
          0.733333333,
          0.666666667,
          0.6,
          0.666666667,
          0.8,
          0.8,
          0.733333333,
          0.8,
          0.8,
          0.6,
          0.733333333,
          0.666666667,
          0.666666667,
          0.666666667,
          0.8,
          0.4,
          0.666666667,
          0.666666667,
          0.666666667,
          0.384615385,
          0.230769231,
          0.6,
          0.733333333,
          0.571428571,
          0.666666667,
          0.733333333,
          0.6,
          0.733333333,
          0.666666667,
          0.533333333,
          0.666666667,
          0.666666667,
          0.733333333,
          0.666666667,
          0.666666667,
          0.733333333,
          0.733333333,
          0.733333333,
          0.733333333,
          0.666666667,
          0.666666667,
          0.666666667,
          0.666666667,
          0.666666667,
          0.666666667,
          0.6,
          0.666666667,
          0.733333333,
          0.6,
          0.733333333,
          0.733333333,
          0.666666667,
          0.733333333,
          0.533333333,
          0.666666667,
          0.666666667,
          0.6,
          0.6,
          0.6,
          0.733333333,
          0.533333333,
          0.6,
          0.8,
          0.666666667,
          0.666666667,
          0.666666667,
          0.733333333,
          0.666666667,
          0.666666667,
          0.666666667,
          0.5,
          0.666666667,
          0.666666667,
          0.666666667,
          0.533333333,
          0.8,
          0.8,
          0.733333333,
          0.533333333,
          0.666666667,
          0.733333333,
          0.733333333,
          0.533333333,
          0.733333333,
          0.6,
          0.533333333,
          0.733333333,
          0.533333333,
          0.6,
          0.666666667,
          0.714285714,
          0.733333333,
          0.666666667,
          0.666666667,
          0.642857143,
          0.666666667,
          0.533333333,
          0.8,
          0.6,
          0.8,
          0.666666667,
          0.733333333,
          0.666666667,
          0.75,
          0.6,
          0.733333333,
          0.666666667,
          0.666666667,
          0.666666667,
          0.8,
          0.666666667,
          0.6,
          0.8,
          0.857142857,
          0.571428571,
          0.733333333,
          0.666666667
         ],
         "xaxis": "x",
         "yaxis": "y"
        },
        {
         "name": "SS00",
         "type": "box",
         "x": [
          0.571428571,
          0.571428571,
          0.2,
          0.714285714,
          0.142857143,
          0.75,
          0.75,
          0.555555556,
          0.25,
          0.571428571,
          0.75,
          0.375,
          0.75,
          0.5,
          0.625,
          0.75,
          0.333333333,
          0.75,
          0.625,
          0.625,
          0.75,
          0.555555556,
          0.625,
          0.375,
          0.571428571,
          0.75,
          0.5,
          0.333333333,
          0.333333333,
          0.444444444,
          0.444444444,
          0.7,
          0.555555556,
          0.666666667,
          0.555555556,
          0.75,
          0.555555556,
          0.625,
          0.444444444,
          0.875,
          0.75,
          0.666666667,
          0.444444444,
          0.666666667,
          0.555555556,
          0.75,
          0.75,
          0.444444444,
          0.666666667,
          0.75,
          0.666666667,
          0.5,
          0.5,
          0.75,
          0.555555556,
          0.571428571,
          0.666666667,
          0.75,
          0.444444444,
          0.75,
          0.777777778,
          0.555555556,
          0.75,
          0.625,
          0.875,
          0.666666667,
          0.625,
          0.444444444,
          0.666666667,
          0.625,
          0.75,
          0.444444444,
          0.625,
          0.5,
          0.875,
          0.625,
          0.625,
          0.625,
          0.666666667,
          0.666666667,
          0.444444444,
          0.777777778,
          0.666666667,
          0.666666667,
          0.777777778,
          0.75,
          0.625,
          0.777777778,
          0.666666667,
          0.555555556,
          0.875,
          0.666666667,
          0.75,
          0.625,
          0.75,
          0.444444444,
          0.777777778,
          0.75,
          0.555555556,
          0.555555556,
          0.444444444,
          0.444444444,
          0.375,
          0.555555556,
          0.666666667,
          0.75,
          0.625,
          0.875,
          0.75,
          0.875,
          0.444444444,
          0.75,
          0.75,
          0.75,
          0.444444444,
          0.555555556,
          0.75,
          0.5,
          0.75,
          0.555555556,
          0.444444444,
          0.555555556,
          0.25,
          0.777777778,
          0.666666667,
          0.444444444,
          0.375,
          0.555555556,
          0.625,
          0.555555556,
          0.555555556,
          0.75,
          0.555555556,
          0.333333333,
          0.666666667,
          0.555555556,
          0.75,
          0.666666667,
          0.666666667,
          0.875,
          0.555555556,
          0.875,
          0.444444444,
          0.625,
          0.625,
          0.5,
          0.428571429,
          0.75,
          0.666666667
         ],
         "xaxis": "x",
         "yaxis": "y"
        }
       ],
       "layout": {
        "showlegend": false,
        "template": {
         "data": {
          "pie": [
           {
            "automargin": true,
            "type": "pie"
           }
          ]
         },
         "layout": {
          "xaxis": {
           "showgrid": true,
           "title": {
            "standoff": 15
           }
          },
          "yaxis": {
           "showgrid": true,
           "title": {
            "standoff": 15
           }
          }
         }
        },
        "xaxis": {
         "anchor": "y",
         "domain": [
          0,
          1
         ],
         "range": [
          0,
          1
         ],
         "title": {
          "text": "Score"
         }
        },
        "yaxis": {
         "anchor": "x",
         "domain": [
          0,
          1
         ],
         "title": {
          "text": "Feature ID"
         }
        }
       }
      }
     },
     "metadata": {},
     "output_type": "display_data"
    }
   ],
   "source": [
    "fig = make_subplots(rows=1, cols=1)\n",
    "\n",
    "fig.add_trace(go.Box(x=df_quality['SRTOTAL'], name='SR00'), row=1, col=1)\n",
    "fig.add_trace(go.Box(x=df_quality['SSTOTAL'], name='SS00'), row=1, col=1)\n",
    "fig.update_xaxes(range=[0, 1], title='Score')\n",
    "fig.update_yaxes(title=\"Feature ID\")\n",
    "fig.update_layout(showlegend=False)\n",
    "fig.write_image('analysis/individual_ss00_sr00.pdf', width=WIDTH, height=HALF_HEIGHT)\n",
    "fig.show()"
   ]
  },
  {
   "attachments": {},
   "cell_type": "markdown",
   "metadata": {},
   "source": [
    "### Stacked charts SS01 to SS10"
   ]
  },
  {
   "cell_type": "code",
   "execution_count": 26,
   "metadata": {},
   "outputs": [],
   "source": [
    "def get_feature_counts(dataframe: pd.DataFrame, feature_name: str, feature_id: str) -> pd.DataFrame:\n",
    "    counts = dataframe.value_counts(subset=[feature_name], dropna=False)\n",
    "    row_yes = pd.DataFrame({'Feature ID': feature_id, 'Response': 'Yes', 'Count': counts.get('YES', 0)}, pd.Index([feature_id], name='Feature ID'))\n",
    "    row_no = pd.DataFrame({'Feature ID': feature_id, 'Response': 'No', 'Count': counts.get('NO', 0)}, pd.Index([feature_id], name='Feature ID'))\n",
    "    row_nan = pd.DataFrame({'Feature ID': feature_id, 'Response': 'N/A', 'Count': counts.get(np.nan, 0)}, pd.Index([feature_id], name='Feature ID'))\n",
    "    return pd.concat([row_yes, row_no, row_nan])\n"
   ]
  },
  {
   "cell_type": "code",
   "execution_count": 27,
   "metadata": {},
   "outputs": [
    {
     "data": {
      "text/html": [
       "<div>\n",
       "<style scoped>\n",
       "    .dataframe tbody tr th:only-of-type {\n",
       "        vertical-align: middle;\n",
       "    }\n",
       "\n",
       "    .dataframe tbody tr th {\n",
       "        vertical-align: top;\n",
       "    }\n",
       "\n",
       "    .dataframe thead th {\n",
       "        text-align: right;\n",
       "    }\n",
       "</style>\n",
       "<table border=\"1\" class=\"dataframe\">\n",
       "  <thead>\n",
       "    <tr style=\"text-align: right;\">\n",
       "      <th></th>\n",
       "      <th>Response</th>\n",
       "      <th>Count</th>\n",
       "      <th>Feature ID</th>\n",
       "    </tr>\n",
       "    <tr>\n",
       "      <th>Feature ID</th>\n",
       "      <th></th>\n",
       "      <th></th>\n",
       "      <th></th>\n",
       "    </tr>\n",
       "  </thead>\n",
       "  <tbody>\n",
       "    <tr>\n",
       "      <th>SS01</th>\n",
       "      <td>Yes</td>\n",
       "      <td>132</td>\n",
       "      <td>SS01</td>\n",
       "    </tr>\n",
       "    <tr>\n",
       "      <th>SS01</th>\n",
       "      <td>No</td>\n",
       "      <td>17</td>\n",
       "      <td>SS01</td>\n",
       "    </tr>\n",
       "    <tr>\n",
       "      <th>SS01</th>\n",
       "      <td>N/A</td>\n",
       "      <td>0</td>\n",
       "      <td>SS01</td>\n",
       "    </tr>\n",
       "    <tr>\n",
       "      <th>SS02</th>\n",
       "      <td>Yes</td>\n",
       "      <td>117</td>\n",
       "      <td>SS02</td>\n",
       "    </tr>\n",
       "    <tr>\n",
       "      <th>SS02</th>\n",
       "      <td>No</td>\n",
       "      <td>15</td>\n",
       "      <td>SS02</td>\n",
       "    </tr>\n",
       "    <tr>\n",
       "      <th>SS02</th>\n",
       "      <td>N/A</td>\n",
       "      <td>17</td>\n",
       "      <td>SS02</td>\n",
       "    </tr>\n",
       "    <tr>\n",
       "      <th>SS03</th>\n",
       "      <td>Yes</td>\n",
       "      <td>70</td>\n",
       "      <td>SS03</td>\n",
       "    </tr>\n",
       "    <tr>\n",
       "      <th>SS03</th>\n",
       "      <td>No</td>\n",
       "      <td>79</td>\n",
       "      <td>SS03</td>\n",
       "    </tr>\n",
       "    <tr>\n",
       "      <th>SS03</th>\n",
       "      <td>N/A</td>\n",
       "      <td>0</td>\n",
       "      <td>SS03</td>\n",
       "    </tr>\n",
       "    <tr>\n",
       "      <th>SS04</th>\n",
       "      <td>Yes</td>\n",
       "      <td>76</td>\n",
       "      <td>SS04</td>\n",
       "    </tr>\n",
       "    <tr>\n",
       "      <th>SS04</th>\n",
       "      <td>No</td>\n",
       "      <td>0</td>\n",
       "      <td>SS04</td>\n",
       "    </tr>\n",
       "    <tr>\n",
       "      <th>SS04</th>\n",
       "      <td>N/A</td>\n",
       "      <td>73</td>\n",
       "      <td>SS04</td>\n",
       "    </tr>\n",
       "    <tr>\n",
       "      <th>SS05</th>\n",
       "      <td>Yes</td>\n",
       "      <td>7</td>\n",
       "      <td>SS05</td>\n",
       "    </tr>\n",
       "    <tr>\n",
       "      <th>SS05</th>\n",
       "      <td>No</td>\n",
       "      <td>6</td>\n",
       "      <td>SS05</td>\n",
       "    </tr>\n",
       "    <tr>\n",
       "      <th>SS05</th>\n",
       "      <td>N/A</td>\n",
       "      <td>136</td>\n",
       "      <td>SS05</td>\n",
       "    </tr>\n",
       "    <tr>\n",
       "      <th>SS06</th>\n",
       "      <td>Yes</td>\n",
       "      <td>106</td>\n",
       "      <td>SS06</td>\n",
       "    </tr>\n",
       "    <tr>\n",
       "      <th>SS06</th>\n",
       "      <td>No</td>\n",
       "      <td>32</td>\n",
       "      <td>SS06</td>\n",
       "    </tr>\n",
       "    <tr>\n",
       "      <th>SS06</th>\n",
       "      <td>N/A</td>\n",
       "      <td>11</td>\n",
       "      <td>SS06</td>\n",
       "    </tr>\n",
       "    <tr>\n",
       "      <th>SS07</th>\n",
       "      <td>Yes</td>\n",
       "      <td>142</td>\n",
       "      <td>SS07</td>\n",
       "    </tr>\n",
       "    <tr>\n",
       "      <th>SS07</th>\n",
       "      <td>No</td>\n",
       "      <td>7</td>\n",
       "      <td>SS07</td>\n",
       "    </tr>\n",
       "    <tr>\n",
       "      <th>SS07</th>\n",
       "      <td>N/A</td>\n",
       "      <td>0</td>\n",
       "      <td>SS07</td>\n",
       "    </tr>\n",
       "    <tr>\n",
       "      <th>SS08</th>\n",
       "      <td>Yes</td>\n",
       "      <td>24</td>\n",
       "      <td>SS08</td>\n",
       "    </tr>\n",
       "    <tr>\n",
       "      <th>SS08</th>\n",
       "      <td>No</td>\n",
       "      <td>118</td>\n",
       "      <td>SS08</td>\n",
       "    </tr>\n",
       "    <tr>\n",
       "      <th>SS08</th>\n",
       "      <td>N/A</td>\n",
       "      <td>7</td>\n",
       "      <td>SS08</td>\n",
       "    </tr>\n",
       "    <tr>\n",
       "      <th>SS09</th>\n",
       "      <td>Yes</td>\n",
       "      <td>0</td>\n",
       "      <td>SS09</td>\n",
       "    </tr>\n",
       "    <tr>\n",
       "      <th>SS09</th>\n",
       "      <td>No</td>\n",
       "      <td>149</td>\n",
       "      <td>SS09</td>\n",
       "    </tr>\n",
       "    <tr>\n",
       "      <th>SS09</th>\n",
       "      <td>N/A</td>\n",
       "      <td>0</td>\n",
       "      <td>SS09</td>\n",
       "    </tr>\n",
       "    <tr>\n",
       "      <th>SS10</th>\n",
       "      <td>Yes</td>\n",
       "      <td>90</td>\n",
       "      <td>SS10</td>\n",
       "    </tr>\n",
       "    <tr>\n",
       "      <th>SS10</th>\n",
       "      <td>No</td>\n",
       "      <td>59</td>\n",
       "      <td>SS10</td>\n",
       "    </tr>\n",
       "    <tr>\n",
       "      <th>SS10</th>\n",
       "      <td>N/A</td>\n",
       "      <td>0</td>\n",
       "      <td>SS10</td>\n",
       "    </tr>\n",
       "  </tbody>\n",
       "</table>\n",
       "</div>"
      ],
      "text/plain": [
       "           Response Count Feature ID\n",
       "Feature ID                          \n",
       "SS01            Yes   132       SS01\n",
       "SS01             No    17       SS01\n",
       "SS01            N/A     0       SS01\n",
       "SS02            Yes   117       SS02\n",
       "SS02             No    15       SS02\n",
       "SS02            N/A    17       SS02\n",
       "SS03            Yes    70       SS03\n",
       "SS03             No    79       SS03\n",
       "SS03            N/A     0       SS03\n",
       "SS04            Yes    76       SS04\n",
       "SS04             No     0       SS04\n",
       "SS04            N/A    73       SS04\n",
       "SS05            Yes     7       SS05\n",
       "SS05             No     6       SS05\n",
       "SS05            N/A   136       SS05\n",
       "SS06            Yes   106       SS06\n",
       "SS06             No    32       SS06\n",
       "SS06            N/A    11       SS06\n",
       "SS07            Yes   142       SS07\n",
       "SS07             No     7       SS07\n",
       "SS07            N/A     0       SS07\n",
       "SS08            Yes    24       SS08\n",
       "SS08             No   118       SS08\n",
       "SS08            N/A     7       SS08\n",
       "SS09            Yes     0       SS09\n",
       "SS09             No   149       SS09\n",
       "SS09            N/A     0       SS09\n",
       "SS10            Yes    90       SS10\n",
       "SS10             No    59       SS10\n",
       "SS10            N/A     0       SS10"
      ]
     },
     "execution_count": 27,
     "metadata": {},
     "output_type": "execute_result"
    }
   ],
   "source": [
    "df_ss_counts = pd.DataFrame([], columns=['Feature ID', 'Response', 'Count'])\n",
    "df_ss_counts.set_index(['Feature ID'], inplace=True)\n",
    "\n",
    "df_ss_counts = pd.concat([df_ss_counts,\n",
    "    get_feature_counts(df_quality, 'SS1', 'SS01'),\n",
    "    get_feature_counts(df_quality, 'SS2', 'SS02'),\n",
    "    get_feature_counts(df_quality, 'SS3', 'SS03'),\n",
    "    get_feature_counts(df_quality, 'SS4', 'SS04'),\n",
    "    get_feature_counts(df_quality, 'SS5', 'SS05'),\n",
    "    get_feature_counts(df_quality, 'SS6', 'SS06'),\n",
    "    get_feature_counts(df_quality, 'SS7', 'SS07'),\n",
    "    get_feature_counts(df_quality, 'SS8', 'SS08'),\n",
    "    get_feature_counts(df_quality, 'SS9', 'SS09'),\n",
    "    get_feature_counts(df_quality, 'SS10', 'SS10')])\n",
    "\n",
    "df_ss_counts"
   ]
  },
  {
   "cell_type": "code",
   "execution_count": 28,
   "metadata": {},
   "outputs": [
    {
     "data": {
      "application/vnd.plotly.v1+json": {
       "config": {
        "plotlyServerURL": "https://plot.ly"
       },
       "data": [
        {
         "alignmentgroup": "True",
         "hovertemplate": "Response=Yes<br>Feature ID=%{x}<br>Count=%{text}<extra></extra>",
         "legendgroup": "Yes",
         "marker": {
          "color": "#1F77B4",
          "pattern": {
           "shape": ""
          }
         },
         "name": "Yes",
         "offsetgroup": "Yes",
         "orientation": "v",
         "showlegend": true,
         "text": [
          132,
          117,
          70,
          76,
          7,
          106,
          142,
          24,
          0,
          90
         ],
         "textposition": "auto",
         "type": "bar",
         "x": [
          "SS01",
          "SS02",
          "SS03",
          "SS04",
          "SS05",
          "SS06",
          "SS07",
          "SS08",
          "SS09",
          "SS10"
         ],
         "xaxis": "x",
         "y": [
          132,
          117,
          70,
          76,
          7,
          106,
          142,
          24,
          0,
          90
         ],
         "yaxis": "y"
        },
        {
         "alignmentgroup": "True",
         "hovertemplate": "Response=No<br>Feature ID=%{x}<br>Count=%{text}<extra></extra>",
         "legendgroup": "No",
         "marker": {
          "color": "#FF7F0E",
          "pattern": {
           "shape": ""
          }
         },
         "name": "No",
         "offsetgroup": "No",
         "orientation": "v",
         "showlegend": true,
         "text": [
          17,
          15,
          79,
          0,
          6,
          32,
          7,
          118,
          149,
          59
         ],
         "textposition": "auto",
         "type": "bar",
         "x": [
          "SS01",
          "SS02",
          "SS03",
          "SS04",
          "SS05",
          "SS06",
          "SS07",
          "SS08",
          "SS09",
          "SS10"
         ],
         "xaxis": "x",
         "y": [
          17,
          15,
          79,
          0,
          6,
          32,
          7,
          118,
          149,
          59
         ],
         "yaxis": "y"
        },
        {
         "alignmentgroup": "True",
         "hovertemplate": "Response=N/A<br>Feature ID=%{x}<br>Count=%{text}<extra></extra>",
         "legendgroup": "N/A",
         "marker": {
          "color": "#2CA02C",
          "pattern": {
           "shape": ""
          }
         },
         "name": "N/A",
         "offsetgroup": "N/A",
         "orientation": "v",
         "showlegend": true,
         "text": [
          0,
          17,
          0,
          73,
          136,
          11,
          0,
          7,
          0,
          0
         ],
         "textposition": "auto",
         "type": "bar",
         "x": [
          "SS01",
          "SS02",
          "SS03",
          "SS04",
          "SS05",
          "SS06",
          "SS07",
          "SS08",
          "SS09",
          "SS10"
         ],
         "xaxis": "x",
         "y": [
          0,
          17,
          0,
          73,
          136,
          11,
          0,
          7,
          0,
          0
         ],
         "yaxis": "y"
        }
       ],
       "layout": {
        "barmode": "relative",
        "legend": {
         "title": {
          "text": "Response"
         },
         "tracegroupgap": 0
        },
        "margin": {
         "t": 60
        },
        "template": {
         "data": {
          "pie": [
           {
            "automargin": true,
            "type": "pie"
           }
          ]
         },
         "layout": {
          "xaxis": {
           "showgrid": true,
           "title": {
            "standoff": 15
           }
          },
          "yaxis": {
           "showgrid": true,
           "title": {
            "standoff": 15
           }
          }
         }
        },
        "xaxis": {
         "anchor": "y",
         "domain": [
          0,
          1
         ],
         "title": {
          "text": "Feature ID"
         }
        },
        "yaxis": {
         "anchor": "x",
         "domain": [
          0,
          1
         ],
         "title": {
          "text": "Count"
         }
        }
       }
      }
     },
     "metadata": {},
     "output_type": "display_data"
    }
   ],
   "source": [
    "fig = px.bar(df_ss_counts, x='Feature ID', y='Count', color='Response', text='Count')\n",
    "fig.write_image('analysis/individual_ss_counts.pdf', width=WIDTH, height=HALF_HEIGHT)\n",
    "fig.show()"
   ]
  },
  {
   "cell_type": "code",
   "execution_count": 29,
   "metadata": {},
   "outputs": [
    {
     "data": {
      "text/html": [
       "<div>\n",
       "<style scoped>\n",
       "    .dataframe tbody tr th:only-of-type {\n",
       "        vertical-align: middle;\n",
       "    }\n",
       "\n",
       "    .dataframe tbody tr th {\n",
       "        vertical-align: top;\n",
       "    }\n",
       "\n",
       "    .dataframe thead th {\n",
       "        text-align: right;\n",
       "    }\n",
       "</style>\n",
       "<table border=\"1\" class=\"dataframe\">\n",
       "  <thead>\n",
       "    <tr style=\"text-align: right;\">\n",
       "      <th></th>\n",
       "      <th>Response</th>\n",
       "      <th>Count</th>\n",
       "      <th>Feature ID</th>\n",
       "    </tr>\n",
       "    <tr>\n",
       "      <th>Feature ID</th>\n",
       "      <th></th>\n",
       "      <th></th>\n",
       "      <th></th>\n",
       "    </tr>\n",
       "  </thead>\n",
       "  <tbody>\n",
       "    <tr>\n",
       "      <th>SR01</th>\n",
       "      <td>Yes</td>\n",
       "      <td>93</td>\n",
       "      <td>SR01</td>\n",
       "    </tr>\n",
       "    <tr>\n",
       "      <th>SR01</th>\n",
       "      <td>No</td>\n",
       "      <td>56</td>\n",
       "      <td>SR01</td>\n",
       "    </tr>\n",
       "    <tr>\n",
       "      <th>SR01</th>\n",
       "      <td>N/A</td>\n",
       "      <td>0</td>\n",
       "      <td>SR01</td>\n",
       "    </tr>\n",
       "    <tr>\n",
       "      <th>SR02</th>\n",
       "      <td>Yes</td>\n",
       "      <td>147</td>\n",
       "      <td>SR02</td>\n",
       "    </tr>\n",
       "    <tr>\n",
       "      <th>SR02</th>\n",
       "      <td>No</td>\n",
       "      <td>2</td>\n",
       "      <td>SR02</td>\n",
       "    </tr>\n",
       "    <tr>\n",
       "      <th>SR02</th>\n",
       "      <td>N/A</td>\n",
       "      <td>0</td>\n",
       "      <td>SR02</td>\n",
       "    </tr>\n",
       "    <tr>\n",
       "      <th>SR03</th>\n",
       "      <td>Yes</td>\n",
       "      <td>131</td>\n",
       "      <td>SR03</td>\n",
       "    </tr>\n",
       "    <tr>\n",
       "      <th>SR03</th>\n",
       "      <td>No</td>\n",
       "      <td>18</td>\n",
       "      <td>SR03</td>\n",
       "    </tr>\n",
       "    <tr>\n",
       "      <th>SR03</th>\n",
       "      <td>N/A</td>\n",
       "      <td>0</td>\n",
       "      <td>SR03</td>\n",
       "    </tr>\n",
       "    <tr>\n",
       "      <th>SR04</th>\n",
       "      <td>Yes</td>\n",
       "      <td>28</td>\n",
       "      <td>SR04</td>\n",
       "    </tr>\n",
       "    <tr>\n",
       "      <th>SR04</th>\n",
       "      <td>No</td>\n",
       "      <td>121</td>\n",
       "      <td>SR04</td>\n",
       "    </tr>\n",
       "    <tr>\n",
       "      <th>SR04</th>\n",
       "      <td>N/A</td>\n",
       "      <td>0</td>\n",
       "      <td>SR04</td>\n",
       "    </tr>\n",
       "    <tr>\n",
       "      <th>SR05</th>\n",
       "      <td>Yes</td>\n",
       "      <td>29</td>\n",
       "      <td>SR05</td>\n",
       "    </tr>\n",
       "    <tr>\n",
       "      <th>SR05</th>\n",
       "      <td>No</td>\n",
       "      <td>120</td>\n",
       "      <td>SR05</td>\n",
       "    </tr>\n",
       "    <tr>\n",
       "      <th>SR05</th>\n",
       "      <td>N/A</td>\n",
       "      <td>0</td>\n",
       "      <td>SR05</td>\n",
       "    </tr>\n",
       "    <tr>\n",
       "      <th>SR06</th>\n",
       "      <td>Yes</td>\n",
       "      <td>143</td>\n",
       "      <td>SR06</td>\n",
       "    </tr>\n",
       "    <tr>\n",
       "      <th>SR06</th>\n",
       "      <td>No</td>\n",
       "      <td>6</td>\n",
       "      <td>SR06</td>\n",
       "    </tr>\n",
       "    <tr>\n",
       "      <th>SR06</th>\n",
       "      <td>N/A</td>\n",
       "      <td>0</td>\n",
       "      <td>SR06</td>\n",
       "    </tr>\n",
       "    <tr>\n",
       "      <th>SR07</th>\n",
       "      <td>Yes</td>\n",
       "      <td>141</td>\n",
       "      <td>SR07</td>\n",
       "    </tr>\n",
       "    <tr>\n",
       "      <th>SR07</th>\n",
       "      <td>No</td>\n",
       "      <td>8</td>\n",
       "      <td>SR07</td>\n",
       "    </tr>\n",
       "    <tr>\n",
       "      <th>SR07</th>\n",
       "      <td>N/A</td>\n",
       "      <td>0</td>\n",
       "      <td>SR07</td>\n",
       "    </tr>\n",
       "    <tr>\n",
       "      <th>SR08</th>\n",
       "      <td>Yes</td>\n",
       "      <td>22</td>\n",
       "      <td>SR08</td>\n",
       "    </tr>\n",
       "    <tr>\n",
       "      <th>SR08</th>\n",
       "      <td>No</td>\n",
       "      <td>110</td>\n",
       "      <td>SR08</td>\n",
       "    </tr>\n",
       "    <tr>\n",
       "      <th>SR08</th>\n",
       "      <td>N/A</td>\n",
       "      <td>17</td>\n",
       "      <td>SR08</td>\n",
       "    </tr>\n",
       "    <tr>\n",
       "      <th>SR09</th>\n",
       "      <td>Yes</td>\n",
       "      <td>127</td>\n",
       "      <td>SR09</td>\n",
       "    </tr>\n",
       "    <tr>\n",
       "      <th>SR09</th>\n",
       "      <td>No</td>\n",
       "      <td>21</td>\n",
       "      <td>SR09</td>\n",
       "    </tr>\n",
       "    <tr>\n",
       "      <th>SR09</th>\n",
       "      <td>N/A</td>\n",
       "      <td>1</td>\n",
       "      <td>SR09</td>\n",
       "    </tr>\n",
       "    <tr>\n",
       "      <th>SR10</th>\n",
       "      <td>Yes</td>\n",
       "      <td>141</td>\n",
       "      <td>SR10</td>\n",
       "    </tr>\n",
       "    <tr>\n",
       "      <th>SR10</th>\n",
       "      <td>No</td>\n",
       "      <td>1</td>\n",
       "      <td>SR10</td>\n",
       "    </tr>\n",
       "    <tr>\n",
       "      <th>SR10</th>\n",
       "      <td>N/A</td>\n",
       "      <td>7</td>\n",
       "      <td>SR10</td>\n",
       "    </tr>\n",
       "    <tr>\n",
       "      <th>SR11</th>\n",
       "      <td>Yes</td>\n",
       "      <td>149</td>\n",
       "      <td>SR11</td>\n",
       "    </tr>\n",
       "    <tr>\n",
       "      <th>SR11</th>\n",
       "      <td>No</td>\n",
       "      <td>0</td>\n",
       "      <td>SR11</td>\n",
       "    </tr>\n",
       "    <tr>\n",
       "      <th>SR11</th>\n",
       "      <td>N/A</td>\n",
       "      <td>0</td>\n",
       "      <td>SR11</td>\n",
       "    </tr>\n",
       "    <tr>\n",
       "      <th>SR12</th>\n",
       "      <td>Yes</td>\n",
       "      <td>132</td>\n",
       "      <td>SR12</td>\n",
       "    </tr>\n",
       "    <tr>\n",
       "      <th>SR12</th>\n",
       "      <td>No</td>\n",
       "      <td>17</td>\n",
       "      <td>SR12</td>\n",
       "    </tr>\n",
       "    <tr>\n",
       "      <th>SR12</th>\n",
       "      <td>N/A</td>\n",
       "      <td>0</td>\n",
       "      <td>SR12</td>\n",
       "    </tr>\n",
       "    <tr>\n",
       "      <th>SR13</th>\n",
       "      <td>Yes</td>\n",
       "      <td>138</td>\n",
       "      <td>SR13</td>\n",
       "    </tr>\n",
       "    <tr>\n",
       "      <th>SR13</th>\n",
       "      <td>No</td>\n",
       "      <td>11</td>\n",
       "      <td>SR13</td>\n",
       "    </tr>\n",
       "    <tr>\n",
       "      <th>SR13</th>\n",
       "      <td>N/A</td>\n",
       "      <td>0</td>\n",
       "      <td>SR13</td>\n",
       "    </tr>\n",
       "    <tr>\n",
       "      <th>SR14</th>\n",
       "      <td>Yes</td>\n",
       "      <td>3</td>\n",
       "      <td>SR14</td>\n",
       "    </tr>\n",
       "    <tr>\n",
       "      <th>SR14</th>\n",
       "      <td>No</td>\n",
       "      <td>146</td>\n",
       "      <td>SR14</td>\n",
       "    </tr>\n",
       "    <tr>\n",
       "      <th>SR14</th>\n",
       "      <td>N/A</td>\n",
       "      <td>0</td>\n",
       "      <td>SR14</td>\n",
       "    </tr>\n",
       "    <tr>\n",
       "      <th>SR15</th>\n",
       "      <td>Yes</td>\n",
       "      <td>3</td>\n",
       "      <td>SR15</td>\n",
       "    </tr>\n",
       "    <tr>\n",
       "      <th>SR15</th>\n",
       "      <td>No</td>\n",
       "      <td>0</td>\n",
       "      <td>SR15</td>\n",
       "    </tr>\n",
       "    <tr>\n",
       "      <th>SR15</th>\n",
       "      <td>N/A</td>\n",
       "      <td>146</td>\n",
       "      <td>SR15</td>\n",
       "    </tr>\n",
       "    <tr>\n",
       "      <th>SR16</th>\n",
       "      <td>Yes</td>\n",
       "      <td>49</td>\n",
       "      <td>SR16</td>\n",
       "    </tr>\n",
       "    <tr>\n",
       "      <th>SR16</th>\n",
       "      <td>No</td>\n",
       "      <td>100</td>\n",
       "      <td>SR16</td>\n",
       "    </tr>\n",
       "    <tr>\n",
       "      <th>SR16</th>\n",
       "      <td>N/A</td>\n",
       "      <td>0</td>\n",
       "      <td>SR16</td>\n",
       "    </tr>\n",
       "  </tbody>\n",
       "</table>\n",
       "</div>"
      ],
      "text/plain": [
       "           Response Count Feature ID\n",
       "Feature ID                          \n",
       "SR01            Yes    93       SR01\n",
       "SR01             No    56       SR01\n",
       "SR01            N/A     0       SR01\n",
       "SR02            Yes   147       SR02\n",
       "SR02             No     2       SR02\n",
       "SR02            N/A     0       SR02\n",
       "SR03            Yes   131       SR03\n",
       "SR03             No    18       SR03\n",
       "SR03            N/A     0       SR03\n",
       "SR04            Yes    28       SR04\n",
       "SR04             No   121       SR04\n",
       "SR04            N/A     0       SR04\n",
       "SR05            Yes    29       SR05\n",
       "SR05             No   120       SR05\n",
       "SR05            N/A     0       SR05\n",
       "SR06            Yes   143       SR06\n",
       "SR06             No     6       SR06\n",
       "SR06            N/A     0       SR06\n",
       "SR07            Yes   141       SR07\n",
       "SR07             No     8       SR07\n",
       "SR07            N/A     0       SR07\n",
       "SR08            Yes    22       SR08\n",
       "SR08             No   110       SR08\n",
       "SR08            N/A    17       SR08\n",
       "SR09            Yes   127       SR09\n",
       "SR09             No    21       SR09\n",
       "SR09            N/A     1       SR09\n",
       "SR10            Yes   141       SR10\n",
       "SR10             No     1       SR10\n",
       "SR10            N/A     7       SR10\n",
       "SR11            Yes   149       SR11\n",
       "SR11             No     0       SR11\n",
       "SR11            N/A     0       SR11\n",
       "SR12            Yes   132       SR12\n",
       "SR12             No    17       SR12\n",
       "SR12            N/A     0       SR12\n",
       "SR13            Yes   138       SR13\n",
       "SR13             No    11       SR13\n",
       "SR13            N/A     0       SR13\n",
       "SR14            Yes     3       SR14\n",
       "SR14             No   146       SR14\n",
       "SR14            N/A     0       SR14\n",
       "SR15            Yes     3       SR15\n",
       "SR15             No     0       SR15\n",
       "SR15            N/A   146       SR15\n",
       "SR16            Yes    49       SR16\n",
       "SR16             No   100       SR16\n",
       "SR16            N/A     0       SR16"
      ]
     },
     "execution_count": 29,
     "metadata": {},
     "output_type": "execute_result"
    }
   ],
   "source": [
    "df_sr_counts = pd.DataFrame([], columns=['Feature ID', 'Response', 'Count'])\n",
    "df_sr_counts.set_index(['Feature ID'], inplace=True)\n",
    "\n",
    "df_sr_counts = pd.concat([df_sr_counts,\n",
    "    get_feature_counts(df_quality, 'SR1', 'SR01'),\n",
    "    get_feature_counts(df_quality, 'SR2', 'SR02'),\n",
    "    get_feature_counts(df_quality, 'SR3', 'SR03'),\n",
    "    get_feature_counts(df_quality, 'SR4', 'SR04'),\n",
    "    get_feature_counts(df_quality, 'SR5', 'SR05'),\n",
    "    get_feature_counts(df_quality, 'SR6', 'SR06'),\n",
    "    get_feature_counts(df_quality, 'SR7', 'SR07'),\n",
    "    get_feature_counts(df_quality, 'SR8', 'SR08'),\n",
    "    get_feature_counts(df_quality, 'SR9', 'SR09'),\n",
    "    get_feature_counts(df_quality, 'SR10', 'SR10'),\n",
    "    get_feature_counts(df_quality, 'SR11', 'SR11'),\n",
    "    get_feature_counts(df_quality, 'SR12', 'SR12'),\n",
    "    get_feature_counts(df_quality, 'SR13', 'SR13'),\n",
    "    get_feature_counts(df_quality, 'SR14', 'SR14'),\n",
    "    get_feature_counts(df_quality, 'SR15', 'SR15'),\n",
    "    get_feature_counts(df_quality, 'SR16', 'SR16')])\n",
    "\n",
    "df_sr_counts"
   ]
  },
  {
   "cell_type": "code",
   "execution_count": 30,
   "metadata": {},
   "outputs": [
    {
     "data": {
      "application/vnd.plotly.v1+json": {
       "config": {
        "plotlyServerURL": "https://plot.ly"
       },
       "data": [
        {
         "alignmentgroup": "True",
         "hovertemplate": "Response=Yes<br>Feature ID=%{x}<br>Count=%{text}<extra></extra>",
         "legendgroup": "Yes",
         "marker": {
          "color": "#1F77B4",
          "pattern": {
           "shape": ""
          }
         },
         "name": "Yes",
         "offsetgroup": "Yes",
         "orientation": "v",
         "showlegend": true,
         "text": [
          93,
          147,
          131,
          28,
          29,
          143,
          141,
          22,
          127,
          141,
          149,
          132,
          138,
          3,
          3,
          49
         ],
         "textposition": "auto",
         "type": "bar",
         "x": [
          "SR01",
          "SR02",
          "SR03",
          "SR04",
          "SR05",
          "SR06",
          "SR07",
          "SR08",
          "SR09",
          "SR10",
          "SR11",
          "SR12",
          "SR13",
          "SR14",
          "SR15",
          "SR16"
         ],
         "xaxis": "x",
         "y": [
          93,
          147,
          131,
          28,
          29,
          143,
          141,
          22,
          127,
          141,
          149,
          132,
          138,
          3,
          3,
          49
         ],
         "yaxis": "y"
        },
        {
         "alignmentgroup": "True",
         "hovertemplate": "Response=No<br>Feature ID=%{x}<br>Count=%{text}<extra></extra>",
         "legendgroup": "No",
         "marker": {
          "color": "#FF7F0E",
          "pattern": {
           "shape": ""
          }
         },
         "name": "No",
         "offsetgroup": "No",
         "orientation": "v",
         "showlegend": true,
         "text": [
          56,
          2,
          18,
          121,
          120,
          6,
          8,
          110,
          21,
          1,
          0,
          17,
          11,
          146,
          0,
          100
         ],
         "textposition": "auto",
         "type": "bar",
         "x": [
          "SR01",
          "SR02",
          "SR03",
          "SR04",
          "SR05",
          "SR06",
          "SR07",
          "SR08",
          "SR09",
          "SR10",
          "SR11",
          "SR12",
          "SR13",
          "SR14",
          "SR15",
          "SR16"
         ],
         "xaxis": "x",
         "y": [
          56,
          2,
          18,
          121,
          120,
          6,
          8,
          110,
          21,
          1,
          0,
          17,
          11,
          146,
          0,
          100
         ],
         "yaxis": "y"
        },
        {
         "alignmentgroup": "True",
         "hovertemplate": "Response=N/A<br>Feature ID=%{x}<br>Count=%{text}<extra></extra>",
         "legendgroup": "N/A",
         "marker": {
          "color": "#2CA02C",
          "pattern": {
           "shape": ""
          }
         },
         "name": "N/A",
         "offsetgroup": "N/A",
         "orientation": "v",
         "showlegend": true,
         "text": [
          0,
          0,
          0,
          0,
          0,
          0,
          0,
          17,
          1,
          7,
          0,
          0,
          0,
          0,
          146,
          0
         ],
         "textposition": "auto",
         "type": "bar",
         "x": [
          "SR01",
          "SR02",
          "SR03",
          "SR04",
          "SR05",
          "SR06",
          "SR07",
          "SR08",
          "SR09",
          "SR10",
          "SR11",
          "SR12",
          "SR13",
          "SR14",
          "SR15",
          "SR16"
         ],
         "xaxis": "x",
         "y": [
          0,
          0,
          0,
          0,
          0,
          0,
          0,
          17,
          1,
          7,
          0,
          0,
          0,
          0,
          146,
          0
         ],
         "yaxis": "y"
        }
       ],
       "layout": {
        "barmode": "relative",
        "legend": {
         "title": {
          "text": "Response"
         },
         "tracegroupgap": 0
        },
        "margin": {
         "t": 60
        },
        "template": {
         "data": {
          "pie": [
           {
            "automargin": true,
            "type": "pie"
           }
          ]
         },
         "layout": {
          "xaxis": {
           "showgrid": true,
           "title": {
            "standoff": 15
           }
          },
          "yaxis": {
           "showgrid": true,
           "title": {
            "standoff": 15
           }
          }
         }
        },
        "xaxis": {
         "anchor": "y",
         "domain": [
          0,
          1
         ],
         "title": {
          "text": "Feature ID"
         }
        },
        "yaxis": {
         "anchor": "x",
         "domain": [
          0,
          1
         ],
         "title": {
          "text": "Count"
         }
        }
       }
      }
     },
     "metadata": {},
     "output_type": "display_data"
    }
   ],
   "source": [
    "fig = px.bar(df_sr_counts, x='Feature ID', y='Count', color='Response', text='Count')\n",
    "fig.write_image('analysis/individual_sr_counts.pdf', width=WIDTH, height=HALF_HEIGHT)\n",
    "fig.show()"
   ]
  },
  {
   "cell_type": "code",
   "execution_count": 31,
   "metadata": {},
   "outputs": [
    {
     "data": {
      "text/html": [
       "<div>\n",
       "<style scoped>\n",
       "    .dataframe tbody tr th:only-of-type {\n",
       "        vertical-align: middle;\n",
       "    }\n",
       "\n",
       "    .dataframe tbody tr th {\n",
       "        vertical-align: top;\n",
       "    }\n",
       "\n",
       "    .dataframe thead th {\n",
       "        text-align: right;\n",
       "    }\n",
       "</style>\n",
       "<table border=\"1\" class=\"dataframe\">\n",
       "  <thead>\n",
       "    <tr style=\"text-align: right;\">\n",
       "      <th></th>\n",
       "      <th>Response</th>\n",
       "      <th>Count</th>\n",
       "    </tr>\n",
       "    <tr>\n",
       "      <th>Feature ID</th>\n",
       "      <th></th>\n",
       "      <th></th>\n",
       "    </tr>\n",
       "  </thead>\n",
       "  <tbody>\n",
       "    <tr>\n",
       "      <th>D010</th>\n",
       "      <td>Classical</td>\n",
       "      <td>120</td>\n",
       "    </tr>\n",
       "    <tr>\n",
       "      <th>D010</th>\n",
       "      <td>Quantum</td>\n",
       "      <td>0</td>\n",
       "    </tr>\n",
       "    <tr>\n",
       "      <th>D010</th>\n",
       "      <td>Hybrid</td>\n",
       "      <td>29</td>\n",
       "    </tr>\n",
       "  </tbody>\n",
       "</table>\n",
       "</div>"
      ],
      "text/plain": [
       "             Response  Count\n",
       "Feature ID                  \n",
       "D010        Classical    120\n",
       "D010          Quantum      0\n",
       "D010           Hybrid     29"
      ]
     },
     "execution_count": 31,
     "metadata": {},
     "output_type": "execute_result"
    }
   ],
   "source": [
    "counts = df_quality.value_counts(subset=['Type of Approach'], dropna=False)\n",
    "row_yes = pd.DataFrame({'Response': 'Classical', 'Count': counts.get('Classical', 0)}, pd.Index(['D010'], name='Feature ID'))\n",
    "row_no = pd.DataFrame({'Response': 'Quantum', 'Count': counts.get('Quantum', 0)}, pd.Index(['D010'], name='Feature ID'))\n",
    "row_nan = pd.DataFrame({'Response': 'Hybrid', 'Count': counts.get('Hybrid', 0)}, pd.Index(['D010'], name='Feature ID'))\n",
    "df_d010_counts = pd.concat([row_yes, row_no, row_nan])\n",
    "df_d010_counts"
   ]
  },
  {
   "cell_type": "code",
   "execution_count": 32,
   "metadata": {},
   "outputs": [
    {
     "data": {
      "application/vnd.plotly.v1+json": {
       "config": {
        "plotlyServerURL": "https://plot.ly"
       },
       "data": [
        {
         "alignmentgroup": "True",
         "hovertemplate": "Response=Classical<br>Count=%{text}<br>Feature ID=%{y}<extra></extra>",
         "legendgroup": "Classical",
         "marker": {
          "color": "#1F77B4",
          "pattern": {
           "shape": ""
          }
         },
         "name": "Classical",
         "offsetgroup": "Classical",
         "orientation": "h",
         "showlegend": true,
         "text": [
          120
         ],
         "textposition": "auto",
         "type": "bar",
         "x": [
          120
         ],
         "xaxis": "x",
         "y": [
          "D010"
         ],
         "yaxis": "y"
        },
        {
         "alignmentgroup": "True",
         "hovertemplate": "Response=Quantum<br>Count=%{text}<br>Feature ID=%{y}<extra></extra>",
         "legendgroup": "Quantum",
         "marker": {
          "color": "#FF7F0E",
          "pattern": {
           "shape": ""
          }
         },
         "name": "Quantum",
         "offsetgroup": "Quantum",
         "orientation": "h",
         "showlegend": true,
         "text": [
          0
         ],
         "textposition": "auto",
         "type": "bar",
         "x": [
          0
         ],
         "xaxis": "x",
         "y": [
          "D010"
         ],
         "yaxis": "y"
        },
        {
         "alignmentgroup": "True",
         "hovertemplate": "Response=Hybrid<br>Count=%{text}<br>Feature ID=%{y}<extra></extra>",
         "legendgroup": "Hybrid",
         "marker": {
          "color": "#2CA02C",
          "pattern": {
           "shape": ""
          }
         },
         "name": "Hybrid",
         "offsetgroup": "Hybrid",
         "orientation": "h",
         "showlegend": true,
         "text": [
          29
         ],
         "textposition": "auto",
         "type": "bar",
         "x": [
          29
         ],
         "xaxis": "x",
         "y": [
          "D010"
         ],
         "yaxis": "y"
        }
       ],
       "layout": {
        "barmode": "relative",
        "legend": {
         "title": {
          "text": "Response"
         },
         "tracegroupgap": 0
        },
        "margin": {
         "t": 60
        },
        "template": {
         "data": {
          "pie": [
           {
            "automargin": true,
            "type": "pie"
           }
          ]
         },
         "layout": {
          "xaxis": {
           "showgrid": true,
           "title": {
            "standoff": 15
           }
          },
          "yaxis": {
           "showgrid": true,
           "title": {
            "standoff": 15
           }
          }
         }
        },
        "xaxis": {
         "anchor": "y",
         "domain": [
          0,
          1
         ],
         "title": {
          "text": "Count"
         }
        },
        "yaxis": {
         "anchor": "x",
         "domain": [
          0,
          1
         ],
         "title": {
          "text": "Feature ID"
         }
        }
       }
      }
     },
     "metadata": {},
     "output_type": "display_data"
    }
   ],
   "source": [
    "fig = px.bar(df_d010_counts, x='Count', color='Response', text='Count')\n",
    "fig.write_image('analysis/individual_D010.pdf', width=WIDTH, height=QUARTER_HEIGHT)\n",
    "fig.show()"
   ]
  },
  {
   "cell_type": "code",
   "execution_count": 33,
   "metadata": {},
   "outputs": [
    {
     "data": {
      "text/html": [
       "<div>\n",
       "<style scoped>\n",
       "    .dataframe tbody tr th:only-of-type {\n",
       "        vertical-align: middle;\n",
       "    }\n",
       "\n",
       "    .dataframe tbody tr th {\n",
       "        vertical-align: top;\n",
       "    }\n",
       "\n",
       "    .dataframe thead th {\n",
       "        text-align: right;\n",
       "    }\n",
       "</style>\n",
       "<table border=\"1\" class=\"dataframe\">\n",
       "  <thead>\n",
       "    <tr style=\"text-align: right;\">\n",
       "      <th></th>\n",
       "      <th>Response</th>\n",
       "      <th>Count</th>\n",
       "    </tr>\n",
       "    <tr>\n",
       "      <th>Feature ID</th>\n",
       "      <th></th>\n",
       "      <th></th>\n",
       "    </tr>\n",
       "  </thead>\n",
       "  <tbody>\n",
       "    <tr>\n",
       "      <th>D030</th>\n",
       "      <td>Real Quantum Computer</td>\n",
       "      <td>24</td>\n",
       "    </tr>\n",
       "    <tr>\n",
       "      <th>D030</th>\n",
       "      <td>Simulator</td>\n",
       "      <td>1</td>\n",
       "    </tr>\n",
       "    <tr>\n",
       "      <th>D030</th>\n",
       "      <td>N/A</td>\n",
       "      <td>124</td>\n",
       "    </tr>\n",
       "  </tbody>\n",
       "</table>\n",
       "</div>"
      ],
      "text/plain": [
       "                         Response  Count\n",
       "Feature ID                              \n",
       "D030        Real Quantum Computer     24\n",
       "D030                    Simulator      1\n",
       "D030                          N/A    124"
      ]
     },
     "execution_count": 33,
     "metadata": {},
     "output_type": "execute_result"
    }
   ],
   "source": [
    "counts = df_quality.value_counts(subset=['Does the study use a simulator or a real quantum computer?'], dropna=False)\n",
    "row_yes = pd.DataFrame({'Response': 'Real Quantum Computer', 'Count': counts.get('Real Quantum Computer', 0)}, pd.Index(['D030'], name='Feature ID'))\n",
    "row_no = pd.DataFrame({'Response': 'Simulator', 'Count': counts.get('Simulator', 0)}, pd.Index(['D030'], name='Feature ID'))\n",
    "row_nan = pd.DataFrame({'Response': 'N/A', 'Count': counts.get(np.nan, 0)}, pd.Index(['D030'], name='Feature ID'))\n",
    "df_d030_counts = pd.concat([row_yes, row_no, row_nan])\n",
    "df_d030_counts"
   ]
  },
  {
   "cell_type": "code",
   "execution_count": 34,
   "metadata": {},
   "outputs": [
    {
     "data": {
      "application/vnd.plotly.v1+json": {
       "config": {
        "plotlyServerURL": "https://plot.ly"
       },
       "data": [
        {
         "alignmentgroup": "True",
         "hovertemplate": "Response=Real Quantum Computer<br>Count=%{text}<br>Feature ID=%{y}<extra></extra>",
         "legendgroup": "Real Quantum Computer",
         "marker": {
          "color": "#1F77B4",
          "pattern": {
           "shape": ""
          }
         },
         "name": "Real Quantum Computer",
         "offsetgroup": "Real Quantum Computer",
         "orientation": "h",
         "showlegend": true,
         "text": [
          24
         ],
         "textposition": "auto",
         "type": "bar",
         "x": [
          24
         ],
         "xaxis": "x",
         "y": [
          "D030"
         ],
         "yaxis": "y"
        },
        {
         "alignmentgroup": "True",
         "hovertemplate": "Response=Simulator<br>Count=%{text}<br>Feature ID=%{y}<extra></extra>",
         "legendgroup": "Simulator",
         "marker": {
          "color": "#FF7F0E",
          "pattern": {
           "shape": ""
          }
         },
         "name": "Simulator",
         "offsetgroup": "Simulator",
         "orientation": "h",
         "showlegend": true,
         "text": [
          1
         ],
         "textposition": "auto",
         "type": "bar",
         "x": [
          1
         ],
         "xaxis": "x",
         "y": [
          "D030"
         ],
         "yaxis": "y"
        },
        {
         "alignmentgroup": "True",
         "hovertemplate": "Response=N/A<br>Count=%{text}<br>Feature ID=%{y}<extra></extra>",
         "legendgroup": "N/A",
         "marker": {
          "color": "#2CA02C",
          "pattern": {
           "shape": ""
          }
         },
         "name": "N/A",
         "offsetgroup": "N/A",
         "orientation": "h",
         "showlegend": true,
         "text": [
          124
         ],
         "textposition": "auto",
         "type": "bar",
         "x": [
          124
         ],
         "xaxis": "x",
         "y": [
          "D030"
         ],
         "yaxis": "y"
        }
       ],
       "layout": {
        "barmode": "relative",
        "legend": {
         "title": {
          "text": "Response"
         },
         "tracegroupgap": 0
        },
        "margin": {
         "t": 60
        },
        "template": {
         "data": {
          "pie": [
           {
            "automargin": true,
            "type": "pie"
           }
          ]
         },
         "layout": {
          "xaxis": {
           "showgrid": true,
           "title": {
            "standoff": 15
           }
          },
          "yaxis": {
           "showgrid": true,
           "title": {
            "standoff": 15
           }
          }
         }
        },
        "xaxis": {
         "anchor": "y",
         "domain": [
          0,
          1
         ],
         "title": {
          "text": "Count"
         }
        },
        "yaxis": {
         "anchor": "x",
         "domain": [
          0,
          1
         ],
         "title": {
          "text": "Feature ID"
         }
        }
       }
      }
     },
     "metadata": {},
     "output_type": "display_data"
    }
   ],
   "source": [
    "fig = px.bar(df_d030_counts, x='Count', color='Response', text='Count')\n",
    "fig.write_image('analysis/individual_D030.pdf', width=WIDTH, height=QUARTER_HEIGHT)\n",
    "fig.show()"
   ]
  },
  {
   "cell_type": "code",
   "execution_count": 35,
   "metadata": {},
   "outputs": [
    {
     "data": {
      "text/html": [
       "<div>\n",
       "<style scoped>\n",
       "    .dataframe tbody tr th:only-of-type {\n",
       "        vertical-align: middle;\n",
       "    }\n",
       "\n",
       "    .dataframe tbody tr th {\n",
       "        vertical-align: top;\n",
       "    }\n",
       "\n",
       "    .dataframe thead th {\n",
       "        text-align: right;\n",
       "    }\n",
       "</style>\n",
       "<table border=\"1\" class=\"dataframe\">\n",
       "  <thead>\n",
       "    <tr style=\"text-align: right;\">\n",
       "      <th></th>\n",
       "      <th>Response</th>\n",
       "      <th>Count</th>\n",
       "    </tr>\n",
       "    <tr>\n",
       "      <th>Feature ID</th>\n",
       "      <th></th>\n",
       "      <th></th>\n",
       "    </tr>\n",
       "  </thead>\n",
       "  <tbody>\n",
       "    <tr>\n",
       "      <th>D040</th>\n",
       "      <td>Gate-based</td>\n",
       "      <td>2</td>\n",
       "    </tr>\n",
       "    <tr>\n",
       "      <th>D040</th>\n",
       "      <td>Annealer</td>\n",
       "      <td>23</td>\n",
       "    </tr>\n",
       "    <tr>\n",
       "      <th>D040</th>\n",
       "      <td>N/A</td>\n",
       "      <td>124</td>\n",
       "    </tr>\n",
       "  </tbody>\n",
       "</table>\n",
       "</div>"
      ],
      "text/plain": [
       "              Response  Count\n",
       "Feature ID                   \n",
       "D040        Gate-based      2\n",
       "D040          Annealer     23\n",
       "D040               N/A    124"
      ]
     },
     "execution_count": 35,
     "metadata": {},
     "output_type": "execute_result"
    }
   ],
   "source": [
    "counts = df_quality.value_counts(subset=['Type of Quantum Computer'], dropna=False)\n",
    "row_yes = pd.DataFrame({'Response': 'Gate-based', 'Count': counts.get('Gate-based', 0)}, pd.Index(['D040'], name='Feature ID'))\n",
    "row_no = pd.DataFrame({'Response': 'Annealer', 'Count': counts.get('Annealer', 0)}, pd.Index(['D040'], name='Feature ID'))\n",
    "row_nan = pd.DataFrame({'Response': 'N/A', 'Count': counts.get(np.nan, 0)}, pd.Index(['D040'], name='Feature ID'))\n",
    "df_d040_counts = pd.concat([row_yes, row_no, row_nan])\n",
    "df_d040_counts"
   ]
  },
  {
   "cell_type": "code",
   "execution_count": 36,
   "metadata": {},
   "outputs": [
    {
     "data": {
      "application/vnd.plotly.v1+json": {
       "config": {
        "plotlyServerURL": "https://plot.ly"
       },
       "data": [
        {
         "alignmentgroup": "True",
         "hovertemplate": "Response=Gate-based<br>Count=%{text}<br>Feature ID=%{y}<extra></extra>",
         "legendgroup": "Gate-based",
         "marker": {
          "color": "#1F77B4",
          "pattern": {
           "shape": ""
          }
         },
         "name": "Gate-based",
         "offsetgroup": "Gate-based",
         "orientation": "h",
         "showlegend": true,
         "text": [
          2
         ],
         "textposition": "auto",
         "type": "bar",
         "x": [
          2
         ],
         "xaxis": "x",
         "y": [
          "D040"
         ],
         "yaxis": "y"
        },
        {
         "alignmentgroup": "True",
         "hovertemplate": "Response=Annealer<br>Count=%{text}<br>Feature ID=%{y}<extra></extra>",
         "legendgroup": "Annealer",
         "marker": {
          "color": "#FF7F0E",
          "pattern": {
           "shape": ""
          }
         },
         "name": "Annealer",
         "offsetgroup": "Annealer",
         "orientation": "h",
         "showlegend": true,
         "text": [
          23
         ],
         "textposition": "auto",
         "type": "bar",
         "x": [
          23
         ],
         "xaxis": "x",
         "y": [
          "D040"
         ],
         "yaxis": "y"
        },
        {
         "alignmentgroup": "True",
         "hovertemplate": "Response=N/A<br>Count=%{text}<br>Feature ID=%{y}<extra></extra>",
         "legendgroup": "N/A",
         "marker": {
          "color": "#2CA02C",
          "pattern": {
           "shape": ""
          }
         },
         "name": "N/A",
         "offsetgroup": "N/A",
         "orientation": "h",
         "showlegend": true,
         "text": [
          124
         ],
         "textposition": "auto",
         "type": "bar",
         "x": [
          124
         ],
         "xaxis": "x",
         "y": [
          "D040"
         ],
         "yaxis": "y"
        }
       ],
       "layout": {
        "barmode": "relative",
        "legend": {
         "title": {
          "text": "Response"
         },
         "tracegroupgap": 0
        },
        "margin": {
         "t": 60
        },
        "template": {
         "data": {
          "pie": [
           {
            "automargin": true,
            "type": "pie"
           }
          ]
         },
         "layout": {
          "xaxis": {
           "showgrid": true,
           "title": {
            "standoff": 15
           }
          },
          "yaxis": {
           "showgrid": true,
           "title": {
            "standoff": 15
           }
          }
         }
        },
        "xaxis": {
         "anchor": "y",
         "domain": [
          0,
          1
         ],
         "title": {
          "text": "Count"
         }
        },
        "yaxis": {
         "anchor": "x",
         "domain": [
          0,
          1
         ],
         "title": {
          "text": "Feature ID"
         }
        }
       }
      }
     },
     "metadata": {},
     "output_type": "display_data"
    }
   ],
   "source": [
    "fig = px.bar(df_d040_counts, x='Count', color='Response', text='Count')\n",
    "fig.write_image('analysis/individual_D040.pdf', width=WIDTH, height=QUARTER_HEIGHT)\n",
    "fig.show()"
   ]
  },
  {
   "cell_type": "code",
   "execution_count": 37,
   "metadata": {},
   "outputs": [
    {
     "data": {
      "text/html": [
       "<div>\n",
       "<style scoped>\n",
       "    .dataframe tbody tr th:only-of-type {\n",
       "        vertical-align: middle;\n",
       "    }\n",
       "\n",
       "    .dataframe tbody tr th {\n",
       "        vertical-align: top;\n",
       "    }\n",
       "\n",
       "    .dataframe thead th {\n",
       "        text-align: right;\n",
       "    }\n",
       "</style>\n",
       "<table border=\"1\" class=\"dataframe\">\n",
       "  <thead>\n",
       "    <tr style=\"text-align: right;\">\n",
       "      <th></th>\n",
       "      <th>Response</th>\n",
       "      <th>Count</th>\n",
       "    </tr>\n",
       "    <tr>\n",
       "      <th>Feature ID</th>\n",
       "      <th></th>\n",
       "      <th></th>\n",
       "    </tr>\n",
       "  </thead>\n",
       "  <tbody>\n",
       "    <tr>\n",
       "      <th>D070</th>\n",
       "      <td>Journal</td>\n",
       "      <td>111</td>\n",
       "    </tr>\n",
       "    <tr>\n",
       "      <th>D070</th>\n",
       "      <td>Conference</td>\n",
       "      <td>36</td>\n",
       "    </tr>\n",
       "    <tr>\n",
       "      <th>D070</th>\n",
       "      <td>Workshop</td>\n",
       "      <td>2</td>\n",
       "    </tr>\n",
       "  </tbody>\n",
       "</table>\n",
       "</div>"
      ],
      "text/plain": [
       "              Response  Count\n",
       "Feature ID                   \n",
       "D070           Journal    111\n",
       "D070        Conference     36\n",
       "D070          Workshop      2"
      ]
     },
     "execution_count": 37,
     "metadata": {},
     "output_type": "execute_result"
    }
   ],
   "source": [
    "counts = df_quality.value_counts(subset=['Publication Source'], dropna=False)\n",
    "row_yes = pd.DataFrame({'Response': 'Journal', 'Count': counts.get('Journal', 0)}, pd.Index(['D070'], name='Feature ID'))\n",
    "row_no = pd.DataFrame({'Response': 'Conference', 'Count': counts.get('Conference', 0)}, pd.Index(['D070'], name='Feature ID'))\n",
    "row_nan = pd.DataFrame({'Response': 'Workshop', 'Count': counts.get('Workshop', 0)}, pd.Index(['D070'], name='Feature ID'))\n",
    "df_d070_counts = pd.concat([row_yes, row_no, row_nan])\n",
    "df_d070_counts"
   ]
  },
  {
   "cell_type": "code",
   "execution_count": 38,
   "metadata": {},
   "outputs": [
    {
     "data": {
      "application/vnd.plotly.v1+json": {
       "config": {
        "plotlyServerURL": "https://plot.ly"
       },
       "data": [
        {
         "alignmentgroup": "True",
         "hovertemplate": "Response=Journal<br>Count=%{text}<br>Feature ID=%{y}<extra></extra>",
         "legendgroup": "Journal",
         "marker": {
          "color": "#1F77B4",
          "pattern": {
           "shape": ""
          }
         },
         "name": "Journal",
         "offsetgroup": "Journal",
         "orientation": "h",
         "showlegend": true,
         "text": [
          111
         ],
         "textposition": "auto",
         "type": "bar",
         "x": [
          111
         ],
         "xaxis": "x",
         "y": [
          "D070"
         ],
         "yaxis": "y"
        },
        {
         "alignmentgroup": "True",
         "hovertemplate": "Response=Conference<br>Count=%{text}<br>Feature ID=%{y}<extra></extra>",
         "legendgroup": "Conference",
         "marker": {
          "color": "#FF7F0E",
          "pattern": {
           "shape": ""
          }
         },
         "name": "Conference",
         "offsetgroup": "Conference",
         "orientation": "h",
         "showlegend": true,
         "text": [
          36
         ],
         "textposition": "auto",
         "type": "bar",
         "x": [
          36
         ],
         "xaxis": "x",
         "y": [
          "D070"
         ],
         "yaxis": "y"
        },
        {
         "alignmentgroup": "True",
         "hovertemplate": "Response=Workshop<br>Count=%{text}<br>Feature ID=%{y}<extra></extra>",
         "legendgroup": "Workshop",
         "marker": {
          "color": "#2CA02C",
          "pattern": {
           "shape": ""
          }
         },
         "name": "Workshop",
         "offsetgroup": "Workshop",
         "orientation": "h",
         "showlegend": true,
         "text": [
          2
         ],
         "textposition": "auto",
         "type": "bar",
         "x": [
          2
         ],
         "xaxis": "x",
         "y": [
          "D070"
         ],
         "yaxis": "y"
        }
       ],
       "layout": {
        "barmode": "relative",
        "legend": {
         "title": {
          "text": "Response"
         },
         "tracegroupgap": 0
        },
        "margin": {
         "t": 60
        },
        "template": {
         "data": {
          "pie": [
           {
            "automargin": true,
            "type": "pie"
           }
          ]
         },
         "layout": {
          "xaxis": {
           "showgrid": true,
           "title": {
            "standoff": 15
           }
          },
          "yaxis": {
           "showgrid": true,
           "title": {
            "standoff": 15
           }
          }
         }
        },
        "xaxis": {
         "anchor": "y",
         "domain": [
          0,
          1
         ],
         "title": {
          "text": "Count"
         }
        },
        "yaxis": {
         "anchor": "x",
         "domain": [
          0,
          1
         ],
         "title": {
          "text": "Feature ID"
         }
        }
       }
      }
     },
     "metadata": {},
     "output_type": "display_data"
    }
   ],
   "source": [
    "fig = px.bar(df_d070_counts, x='Count', color='Response', text='Count')\n",
    "fig.write_image('analysis/individual_D070.pdf', width=WIDTH, height=QUARTER_HEIGHT)\n",
    "fig.show()"
   ]
  },
  {
   "cell_type": "code",
   "execution_count": 39,
   "metadata": {},
   "outputs": [
    {
     "data": {
      "text/html": [
       "<div>\n",
       "<style scoped>\n",
       "    .dataframe tbody tr th:only-of-type {\n",
       "        vertical-align: middle;\n",
       "    }\n",
       "\n",
       "    .dataframe tbody tr th {\n",
       "        vertical-align: top;\n",
       "    }\n",
       "\n",
       "    .dataframe thead th {\n",
       "        text-align: right;\n",
       "    }\n",
       "</style>\n",
       "<table border=\"1\" class=\"dataframe\">\n",
       "  <thead>\n",
       "    <tr style=\"text-align: right;\">\n",
       "      <th></th>\n",
       "      <th>Algorithm Name</th>\n",
       "      <th>0</th>\n",
       "    </tr>\n",
       "  </thead>\n",
       "  <tbody>\n",
       "    <tr>\n",
       "      <th>0</th>\n",
       "      <td>Quantum Particle Swarm Optimization</td>\n",
       "      <td>64</td>\n",
       "    </tr>\n",
       "    <tr>\n",
       "      <th>1</th>\n",
       "      <td>Quadratic Unconstrained Binary Optimization</td>\n",
       "      <td>25</td>\n",
       "    </tr>\n",
       "    <tr>\n",
       "      <th>2</th>\n",
       "      <td>Quantum Genetic Algorithm</td>\n",
       "      <td>17</td>\n",
       "    </tr>\n",
       "    <tr>\n",
       "      <th>3</th>\n",
       "      <td>Quantum-inspired Evolutionary Algorithm</td>\n",
       "      <td>10</td>\n",
       "    </tr>\n",
       "    <tr>\n",
       "      <th>4</th>\n",
       "      <td>Quantum Bat Algorithm</td>\n",
       "      <td>5</td>\n",
       "    </tr>\n",
       "    <tr>\n",
       "      <th>5</th>\n",
       "      <td>Quantum Generative Training</td>\n",
       "      <td>3</td>\n",
       "    </tr>\n",
       "    <tr>\n",
       "      <th>6</th>\n",
       "      <td>Quantum-inspired Shuffled Frog Leaping Algorithm</td>\n",
       "      <td>2</td>\n",
       "    </tr>\n",
       "    <tr>\n",
       "      <th>7</th>\n",
       "      <td>Quantum Ant Colony Algorithm</td>\n",
       "      <td>2</td>\n",
       "    </tr>\n",
       "    <tr>\n",
       "      <th>8</th>\n",
       "      <td>Quantum-behaved Pigeon-inspired Optimization</td>\n",
       "      <td>2</td>\n",
       "    </tr>\n",
       "    <tr>\n",
       "      <th>9</th>\n",
       "      <td>Quantum Circuit</td>\n",
       "      <td>2</td>\n",
       "    </tr>\n",
       "    <tr>\n",
       "      <th>10</th>\n",
       "      <td>Quantum-Behaved Lightning Search Algorithm</td>\n",
       "      <td>2</td>\n",
       "    </tr>\n",
       "    <tr>\n",
       "      <th>11</th>\n",
       "      <td>Quantum Multi-Agent Based Neural Network</td>\n",
       "      <td>1</td>\n",
       "    </tr>\n",
       "    <tr>\n",
       "      <th>12</th>\n",
       "      <td>Quantum-inspired Tidal Firefly Algorithm</td>\n",
       "      <td>1</td>\n",
       "    </tr>\n",
       "    <tr>\n",
       "      <th>13</th>\n",
       "      <td>Quantum-inspired Binary TVIW-GSA-PSO</td>\n",
       "      <td>1</td>\n",
       "    </tr>\n",
       "    <tr>\n",
       "      <th>14</th>\n",
       "      <td>Quantum-based Grey Wolf Optimizer</td>\n",
       "      <td>1</td>\n",
       "    </tr>\n",
       "    <tr>\n",
       "      <th>15</th>\n",
       "      <td>Bi-direction Quantum Crossover Based Clonal Al...</td>\n",
       "      <td>1</td>\n",
       "    </tr>\n",
       "    <tr>\n",
       "      <th>16</th>\n",
       "      <td>Quantum Inspired Grammar-based Linear Genetic ...</td>\n",
       "      <td>1</td>\n",
       "    </tr>\n",
       "    <tr>\n",
       "      <th>17</th>\n",
       "      <td>Chaotic Quantum Bee Colony Algorithm</td>\n",
       "      <td>1</td>\n",
       "    </tr>\n",
       "    <tr>\n",
       "      <th>18</th>\n",
       "      <td>Quantum Dragonfly Algorithm</td>\n",
       "      <td>1</td>\n",
       "    </tr>\n",
       "    <tr>\n",
       "      <th>19</th>\n",
       "      <td>Quantum Discrete Self-Organizing Migrating Alg...</td>\n",
       "      <td>1</td>\n",
       "    </tr>\n",
       "    <tr>\n",
       "      <th>20</th>\n",
       "      <td>Quantum Chaotic Animal Migration Optimization ...</td>\n",
       "      <td>1</td>\n",
       "    </tr>\n",
       "    <tr>\n",
       "      <th>21</th>\n",
       "      <td>Quantum Alternating Operator Ansatz</td>\n",
       "      <td>1</td>\n",
       "    </tr>\n",
       "    <tr>\n",
       "      <th>22</th>\n",
       "      <td>Logistic Chaotic Quantum Dot Cellular Automata</td>\n",
       "      <td>1</td>\n",
       "    </tr>\n",
       "    <tr>\n",
       "      <th>23</th>\n",
       "      <td>Hierarchical Quantum Entropy</td>\n",
       "      <td>1</td>\n",
       "    </tr>\n",
       "    <tr>\n",
       "      <th>24</th>\n",
       "      <td>Decomposition into QUBOs</td>\n",
       "      <td>1</td>\n",
       "    </tr>\n",
       "    <tr>\n",
       "      <th>25</th>\n",
       "      <td>Real-parameter Quantum-inspired Evolutionary C...</td>\n",
       "      <td>1</td>\n",
       "    </tr>\n",
       "  </tbody>\n",
       "</table>\n",
       "</div>"
      ],
      "text/plain": [
       "                                       Algorithm Name   0\n",
       "0                 Quantum Particle Swarm Optimization  64\n",
       "1         Quadratic Unconstrained Binary Optimization  25\n",
       "2                           Quantum Genetic Algorithm  17\n",
       "3             Quantum-inspired Evolutionary Algorithm  10\n",
       "4                               Quantum Bat Algorithm   5\n",
       "5                         Quantum Generative Training   3\n",
       "6    Quantum-inspired Shuffled Frog Leaping Algorithm   2\n",
       "7                        Quantum Ant Colony Algorithm   2\n",
       "8        Quantum-behaved Pigeon-inspired Optimization   2\n",
       "9                                     Quantum Circuit   2\n",
       "10         Quantum-Behaved Lightning Search Algorithm   2\n",
       "11           Quantum Multi-Agent Based Neural Network   1\n",
       "12           Quantum-inspired Tidal Firefly Algorithm   1\n",
       "13               Quantum-inspired Binary TVIW-GSA-PSO   1\n",
       "14                  Quantum-based Grey Wolf Optimizer   1\n",
       "15  Bi-direction Quantum Crossover Based Clonal Al...   1\n",
       "16  Quantum Inspired Grammar-based Linear Genetic ...   1\n",
       "17               Chaotic Quantum Bee Colony Algorithm   1\n",
       "18                        Quantum Dragonfly Algorithm   1\n",
       "19  Quantum Discrete Self-Organizing Migrating Alg...   1\n",
       "20  Quantum Chaotic Animal Migration Optimization ...   1\n",
       "21                Quantum Alternating Operator Ansatz   1\n",
       "22     Logistic Chaotic Quantum Dot Cellular Automata   1\n",
       "23                       Hierarchical Quantum Entropy   1\n",
       "24                           Decomposition into QUBOs   1\n",
       "25  Real-parameter Quantum-inspired Evolutionary C...   1"
      ]
     },
     "execution_count": 39,
     "metadata": {},
     "output_type": "execute_result"
    }
   ],
   "source": [
    "df_d020_counts = df_quality.value_counts(subset=['Algorithm Name'], dropna=False).to_frame()\n",
    "df_d020_counts.reset_index(inplace=True)\n",
    "df_d020_counts"
   ]
  },
  {
   "cell_type": "code",
   "execution_count": 40,
   "metadata": {},
   "outputs": [
    {
     "data": {
      "application/vnd.plotly.v1+json": {
       "config": {
        "plotlyServerURL": "https://plot.ly"
       },
       "data": [
        {
         "alignmentgroup": "True",
         "hovertemplate": "0=%{text}<br>Algorithm Name=%{y}<extra></extra>",
         "legendgroup": "",
         "marker": {
          "color": "#1F77B4",
          "pattern": {
           "shape": ""
          }
         },
         "name": "",
         "offsetgroup": "",
         "orientation": "h",
         "showlegend": false,
         "text": [
          64,
          25,
          17,
          10,
          5,
          3,
          2,
          2,
          2,
          2,
          2,
          1,
          1,
          1,
          1,
          1,
          1,
          1,
          1,
          1,
          1,
          1,
          1,
          1,
          1,
          1
         ],
         "textposition": "auto",
         "type": "bar",
         "x": [
          64,
          25,
          17,
          10,
          5,
          3,
          2,
          2,
          2,
          2,
          2,
          1,
          1,
          1,
          1,
          1,
          1,
          1,
          1,
          1,
          1,
          1,
          1,
          1,
          1,
          1
         ],
         "xaxis": "x",
         "y": [
          "Quantum Particle Swarm Optimization",
          "Quadratic Unconstrained Binary Optimization",
          "Quantum Genetic Algorithm",
          "Quantum-inspired Evolutionary Algorithm",
          "Quantum Bat Algorithm",
          "Quantum Generative Training",
          "Quantum-inspired Shuffled Frog Leaping Algorithm",
          "Quantum Ant Colony Algorithm",
          "Quantum-behaved Pigeon-inspired Optimization",
          "Quantum Circuit",
          "Quantum-Behaved Lightning Search Algorithm",
          "Quantum Multi-Agent Based Neural Network",
          "Quantum-inspired Tidal Firefly Algorithm",
          "Quantum-inspired Binary TVIW-GSA-PSO",
          "Quantum-based Grey Wolf Optimizer",
          "Bi-direction Quantum Crossover Based Clonal Algorithm",
          "Quantum Inspired Grammar-based Linear Genetic Programming",
          "Chaotic Quantum Bee Colony Algorithm",
          "Quantum Dragonfly Algorithm",
          "Quantum Discrete Self-Organizing Migrating Algorithm",
          "Quantum Chaotic Animal Migration Optimization Algorithm",
          "Quantum Alternating Operator Ansatz",
          "Logistic Chaotic Quantum Dot Cellular Automata",
          "Hierarchical Quantum Entropy",
          "Decomposition into QUBOs",
          "Real-parameter Quantum-inspired Evolutionary Clustering Algorithm"
         ],
         "yaxis": "y"
        }
       ],
       "layout": {
        "barmode": "relative",
        "legend": {
         "tracegroupgap": 0
        },
        "margin": {
         "l": 440,
         "t": 60
        },
        "template": {
         "data": {
          "pie": [
           {
            "automargin": true,
            "type": "pie"
           }
          ]
         },
         "layout": {
          "xaxis": {
           "showgrid": true,
           "title": {
            "standoff": 15
           }
          },
          "yaxis": {
           "showgrid": true,
           "title": {
            "standoff": 15
           }
          }
         }
        },
        "xaxis": {
         "anchor": "y",
         "domain": [
          0,
          1
         ],
         "title": {
          "text": "#"
         }
        },
        "yaxis": {
         "anchor": "x",
         "domain": [
          0,
          1
         ],
         "title": {
          "text": "Algorithm Name"
         }
        }
       }
      }
     },
     "metadata": {},
     "output_type": "display_data"
    }
   ],
   "source": [
    "fig = px.bar(df_d020_counts, y='Algorithm Name', x=0, text=0)\n",
    "fig.update_layout(margin={\"l\": 440})\n",
    "fig.update_xaxes(title='#')\n",
    "fig.write_image('analysis/individual_D020.pdf', width=WIDTH, height=HEIGHT)\n",
    "fig.show()"
   ]
  },
  {
   "cell_type": "code",
   "execution_count": 41,
   "metadata": {},
   "outputs": [
    {
     "data": {
      "text/html": [
       "<div>\n",
       "<style scoped>\n",
       "    .dataframe tbody tr th:only-of-type {\n",
       "        vertical-align: middle;\n",
       "    }\n",
       "\n",
       "    .dataframe tbody tr th {\n",
       "        vertical-align: top;\n",
       "    }\n",
       "\n",
       "    .dataframe thead th {\n",
       "        text-align: right;\n",
       "    }\n",
       "</style>\n",
       "<table border=\"1\" class=\"dataframe\">\n",
       "  <thead>\n",
       "    <tr style=\"text-align: right;\">\n",
       "      <th></th>\n",
       "      <th>Publication Year</th>\n",
       "      <th>0</th>\n",
       "    </tr>\n",
       "  </thead>\n",
       "  <tbody>\n",
       "    <tr>\n",
       "      <th>10</th>\n",
       "      <td>2011</td>\n",
       "      <td>3</td>\n",
       "    </tr>\n",
       "    <tr>\n",
       "      <th>7</th>\n",
       "      <td>2012</td>\n",
       "      <td>6</td>\n",
       "    </tr>\n",
       "    <tr>\n",
       "      <th>11</th>\n",
       "      <td>2013</td>\n",
       "      <td>3</td>\n",
       "    </tr>\n",
       "    <tr>\n",
       "      <th>6</th>\n",
       "      <td>2014</td>\n",
       "      <td>8</td>\n",
       "    </tr>\n",
       "    <tr>\n",
       "      <th>8</th>\n",
       "      <td>2015</td>\n",
       "      <td>6</td>\n",
       "    </tr>\n",
       "    <tr>\n",
       "      <th>3</th>\n",
       "      <td>2016</td>\n",
       "      <td>11</td>\n",
       "    </tr>\n",
       "    <tr>\n",
       "      <th>4</th>\n",
       "      <td>2017</td>\n",
       "      <td>11</td>\n",
       "    </tr>\n",
       "    <tr>\n",
       "      <th>5</th>\n",
       "      <td>2018</td>\n",
       "      <td>9</td>\n",
       "    </tr>\n",
       "    <tr>\n",
       "      <th>2</th>\n",
       "      <td>2019</td>\n",
       "      <td>20</td>\n",
       "    </tr>\n",
       "    <tr>\n",
       "      <th>0</th>\n",
       "      <td>2020</td>\n",
       "      <td>38</td>\n",
       "    </tr>\n",
       "    <tr>\n",
       "      <th>1</th>\n",
       "      <td>2021</td>\n",
       "      <td>29</td>\n",
       "    </tr>\n",
       "    <tr>\n",
       "      <th>9</th>\n",
       "      <td>2022</td>\n",
       "      <td>5</td>\n",
       "    </tr>\n",
       "  </tbody>\n",
       "</table>\n",
       "</div>"
      ],
      "text/plain": [
       "   Publication Year   0\n",
       "10             2011   3\n",
       "7              2012   6\n",
       "11             2013   3\n",
       "6              2014   8\n",
       "8              2015   6\n",
       "3              2016  11\n",
       "4              2017  11\n",
       "5              2018   9\n",
       "2              2019  20\n",
       "0              2020  38\n",
       "1              2021  29\n",
       "9              2022   5"
      ]
     },
     "execution_count": 41,
     "metadata": {},
     "output_type": "execute_result"
    }
   ],
   "source": [
    "df_d060_counts = df_quality.value_counts(subset=['Publication Year'], dropna=False).to_frame()\n",
    "df_d060_counts.reset_index(inplace=True)\n",
    "df_d060_counts['Publication Year'] = df_d060_counts['Publication Year'].astype(str)\n",
    "df_d060_counts.sort_values(by=['Publication Year'], inplace=True)\n",
    "df_d060_counts"
   ]
  },
  {
   "cell_type": "code",
   "execution_count": 42,
   "metadata": {},
   "outputs": [
    {
     "data": {
      "application/vnd.plotly.v1+json": {
       "config": {
        "plotlyServerURL": "https://plot.ly"
       },
       "data": [
        {
         "alignmentgroup": "True",
         "hovertemplate": "Publication Year=%{x}<br>0=%{text}<extra></extra>",
         "legendgroup": "",
         "marker": {
          "color": "#1F77B4",
          "pattern": {
           "shape": ""
          }
         },
         "name": "",
         "offsetgroup": "",
         "orientation": "v",
         "showlegend": false,
         "text": [
          3,
          6,
          3,
          8,
          6,
          11,
          11,
          9,
          20,
          38,
          29,
          5
         ],
         "textposition": "auto",
         "type": "bar",
         "x": [
          "2011",
          "2012",
          "2013",
          "2014",
          "2015",
          "2016",
          "2017",
          "2018",
          "2019",
          "2020",
          "2021",
          "2022"
         ],
         "xaxis": "x",
         "y": [
          3,
          6,
          3,
          8,
          6,
          11,
          11,
          9,
          20,
          38,
          29,
          5
         ],
         "yaxis": "y"
        }
       ],
       "layout": {
        "barmode": "relative",
        "legend": {
         "tracegroupgap": 0
        },
        "margin": {
         "t": 60
        },
        "template": {
         "data": {
          "pie": [
           {
            "automargin": true,
            "type": "pie"
           }
          ]
         },
         "layout": {
          "xaxis": {
           "showgrid": true,
           "title": {
            "standoff": 15
           }
          },
          "yaxis": {
           "showgrid": true,
           "title": {
            "standoff": 15
           }
          }
         }
        },
        "xaxis": {
         "anchor": "y",
         "domain": [
          0,
          1
         ],
         "dtick": 1,
         "title": {
          "text": "Publication Year"
         }
        },
        "yaxis": {
         "anchor": "x",
         "domain": [
          0,
          1
         ],
         "title": {
          "text": "#"
         }
        }
       }
      }
     },
     "metadata": {},
     "output_type": "display_data"
    }
   ],
   "source": [
    "fig = px.bar(df_d060_counts, x='Publication Year', y=0, text=0)\n",
    "fig.update_xaxes(dtick=1)\n",
    "fig.update_yaxes(title='#')\n",
    "fig.write_image('analysis/individual_D060.pdf', width=WIDTH, height=HALF_HEIGHT)\n",
    "fig.show()"
   ]
  },
  {
   "cell_type": "markdown",
   "metadata": {},
   "source": [
    "### ISIC Section"
   ]
  },
  {
   "cell_type": "code",
   "execution_count": 43,
   "metadata": {},
   "outputs": [],
   "source": [
    "df_isic_dict = pd.read_csv('ISIC_Rev_4_english_structure.csv', sep=',', converters={\n",
    "                           'Code': str, 'Description': str})\n",
    "df_isic_dict.set_index('Code', inplace=True)\n",
    "\n",
    "def isic_code_to_description(code, df_isic_dict):\n",
    "    return df_isic_dict['Description'][code]\n",
    "\n",
    "df_quality['ISIC Section Name'] = df_quality.apply(lambda row: isic_code_to_description(\n",
    "    code=row['ISIC Section'], df_isic_dict=df_isic_dict), axis=1)\n",
    "df_quality['ISIC Division Name'] = df_quality.apply(lambda row: isic_code_to_description(\n",
    "    code=row['ISIC Division'], df_isic_dict=df_isic_dict), axis=1)\n",
    "df_quality['ISIC Group Name'] = df_quality.apply(lambda row: isic_code_to_description(\n",
    "    code=row['ISIC Group'], df_isic_dict=df_isic_dict), axis=1)\n",
    "df_quality['ISIC Class Name'] = df_quality.apply(lambda row: isic_code_to_description(\n",
    "    code=row['ISIC Class'], df_isic_dict=df_isic_dict), axis=1)\n"
   ]
  },
  {
   "cell_type": "code",
   "execution_count": 60,
   "metadata": {},
   "outputs": [
    {
     "data": {
      "application/vnd.plotly.v1+json": {
       "config": {
        "plotlyServerURL": "https://plot.ly"
       },
       "data": [
        {
         "branchvalues": "total",
         "domain": {
          "x": [
           0,
           1
          ],
          "y": [
           0,
           1
          ]
         },
         "hovertemplate": "labels=%{label}<br>count=%{value}<br>parent=%{parent}<br>id=%{id}<extra></extra>",
         "ids": [
          "All/Professional, scientific and technical activities/Activities of head offices; management consultancy activities/Activities of head offices/Activities of head offices",
          "All/Arts, entertainment and recreation/Sports activities and amusement and recreation activities/Sports activities/Activities of sports clubs",
          "All/Professional, scientific and technical activities/Architectural and engineering activities; technical testing and analysis/Architectural and engineering activities and related technical consultancy/Architectural and engineering activities and related technical consultancy",
          "All/Manufacturing/Manufacture of basic metals/Casting of metals/Casting of iron and steel",
          "All/Water supply; sewerage, waste management and remediation activities/Waste collection, treatment and disposal activities; materials recovery/Waste collection/Collection of non-hazardous waste",
          "All/Information and communication/Computer programming, consultancy and related activities/Computer programming, consultancy and related activities/Computer consultancy and computer facilities management activities",
          "All/Information and communication/Computer programming, consultancy and related activities/Computer programming, consultancy and related activities/Computer programming activities",
          "All/Construction/Construction of buildings/Construction of buildings/Construction of buildings",
          "All/Information and communication/Information service activities/Data processing, hosting and related activities; web portals/Data processing, hosting and related activities",
          "All/Public administration and defence; compulsory social security/Public administration and defence; compulsory social security/Provision of services to the community as a whole/Defence activities",
          "All/Electricity, gas, steam and air conditioning supply/Electricity, gas, steam and air conditioning supply/Electric power generation, transmission and distribution/Electric power generation, transmission and distribution",
          "All/Mining and quarrying/Extraction of crude petroleum and natural gas/Extraction of crude petroleum/Extraction of crude petroleum",
          "All/Transportation and storage/Air transport/Freight air transport/Freight air transport",
          "All/Transportation and storage/Land transport and transport via pipelines/Transport via railways/Freight rail transport",
          "All/Human health and social work activities/Human health activities/Hospital activities/Hospital activities",
          "All/Wholesale and retail trade; repair of motor vehicles and motorcycles/Wholesale and retail trade and repair of motor vehicles and motorcycles/Maintenance and repair of motor vehicles/Maintenance and repair of motor vehicles",
          "All/Manufacturing/Manufacture of electrical equipment/Manufacture of batteries and accumulators/Manufacture of batteries and accumulators",
          "All/Manufacturing/Manufacture of other non-metallic mineral products/Manufacture of non-metallic mineral products n.e.c./Manufacture of cement, lime and plaster",
          "All/Manufacturing/Manufacture of electrical equipment/Manufacture of electric motors, generators, transformers and electricity distribution and control apparatus/Manufacture of electric motors, generators, transformers and electricity distribution and control apparatus",
          "All/Manufacturing/Manufacture of computer, electronic and optical products/Manufacture of electronic components and boards/Manufacture of electronic components and boards",
          "All/Electricity, gas, steam and air conditioning supply/Electricity, gas, steam and air conditioning supply/Manufacture of gas; distribution of gaseous fuels through mains/Manufacture of gas; distribution of gaseous fuels through mains",
          "All/Manufacturing/Manufacture of leather and related products/Tanning and dressing of leather; manufacture of luggage, handbags, saddlery and harness; dressing and dyeing of fur/Manufacture of luggage, handbags and the like, saddlery and harness",
          "All/Manufacturing/Manufacture of machinery and equipment n.e.c./Manufacture of general-purpose machinery/Manufacture of other general-purpose machinery",
          "All/Manufacturing/Manufacture of other non-metallic mineral products/Manufacture of non-metallic mineral products n.e.c./Manufacture of other non-metallic mineral products n.e.c.",
          "All/Administrative and support service activities/Travel agency, tour operator, reservation service and related activities/Other reservation service and related activities/Other reservation service and related activities",
          "All/Transportation and storage/Warehousing and support activities for transportation/Support activities for transportation/Other transportation support activities",
          "All/Transportation and storage/Air transport/Passenger air transport/Passenger air transport",
          "All/Agriculture, forestry and fishing/Crop and animal production, hunting and related service activities/Plant propagation/Plant propagation",
          "All/Construction/Specialized construction activities/Electrical, plumbing and other construction installation activities/Plumbing, heat and air-conditioning installation",
          "All/Information and communication/Programming and broadcasting activities/Radio broadcasting/Radio broadcasting",
          "All/Public administration and defence; compulsory social security/Public administration and defence; compulsory social security/Administration of the State and the economic and social policy of the community/Regulation of and contribution to more efficient operation of businesses",
          "All/Manufacturing/Repair and installation of machinery and equipment/Repair of fabricated metal products, machinery and equipment/Repair of electrical equipment",
          "All/Manufacturing/Repair and installation of machinery and equipment/Repair of fabricated metal products, machinery and equipment/Repair of machinery",
          "All/Manufacturing/Repair and installation of machinery and equipment/Repair of fabricated metal products, machinery and equipment/Repair of other equipment",
          "All/Professional, scientific and technical activities/Scientific research and development/Research and experimental development on natural sciences and engineering/Research and experimental development on natural sciences and engineering",
          "All/Transportation and storage/Water transport/Sea and coastal water transport/Sea and coastal freight water transport",
          "All/Transportation and storage/Warehousing and support activities for transportation/Support activities for transportation/Service activities incidental to air transportation",
          "All/Transportation and storage/Warehousing and support activities for transportation/Support activities for transportation/Service activities incidental to land transportation",
          "All/Agriculture, forestry and fishing/Crop and animal production, hunting and related service activities/Support activities to agriculture and post-harvest crop activities/Support activities for crop production",
          "All/Manufacturing/Manufacture of fabricated metal products, except machinery and equipment/Manufacture of other fabricated metal products; metalworking service activities/Treatment and coating of metals; machining",
          "All/Water supply; sewerage, waste management and remediation activities/Water collection, treatment and supply/Water collection, treatment and supply/Water collection, treatment and supply",
          "All/Information and communication/Telecommunications/Wireless telecommunications activities/Wireless telecommunications activities",
          "All/Professional, scientific and technical activities/Activities of head offices; management consultancy activities/Activities of head offices",
          "All/Public administration and defence; compulsory social security/Public administration and defence; compulsory social security/Administration of the State and the economic and social policy of the community",
          "All/Professional, scientific and technical activities/Architectural and engineering activities; technical testing and analysis/Architectural and engineering activities and related technical consultancy",
          "All/Manufacturing/Manufacture of basic metals/Casting of metals",
          "All/Information and communication/Computer programming, consultancy and related activities/Computer programming, consultancy and related activities",
          "All/Construction/Construction of buildings/Construction of buildings",
          "All/Information and communication/Information service activities/Data processing, hosting and related activities; web portals",
          "All/Electricity, gas, steam and air conditioning supply/Electricity, gas, steam and air conditioning supply/Electric power generation, transmission and distribution",
          "All/Construction/Specialized construction activities/Electrical, plumbing and other construction installation activities",
          "All/Mining and quarrying/Extraction of crude petroleum and natural gas/Extraction of crude petroleum",
          "All/Transportation and storage/Air transport/Freight air transport",
          "All/Human health and social work activities/Human health activities/Hospital activities",
          "All/Wholesale and retail trade; repair of motor vehicles and motorcycles/Wholesale and retail trade and repair of motor vehicles and motorcycles/Maintenance and repair of motor vehicles",
          "All/Manufacturing/Manufacture of electrical equipment/Manufacture of batteries and accumulators",
          "All/Manufacturing/Manufacture of electrical equipment/Manufacture of electric motors, generators, transformers and electricity distribution and control apparatus",
          "All/Manufacturing/Manufacture of computer, electronic and optical products/Manufacture of electronic components and boards",
          "All/Electricity, gas, steam and air conditioning supply/Electricity, gas, steam and air conditioning supply/Manufacture of gas; distribution of gaseous fuels through mains",
          "All/Manufacturing/Manufacture of machinery and equipment n.e.c./Manufacture of general-purpose machinery",
          "All/Manufacturing/Manufacture of other non-metallic mineral products/Manufacture of non-metallic mineral products n.e.c.",
          "All/Manufacturing/Manufacture of fabricated metal products, except machinery and equipment/Manufacture of other fabricated metal products; metalworking service activities",
          "All/Administrative and support service activities/Travel agency, tour operator, reservation service and related activities/Other reservation service and related activities",
          "All/Transportation and storage/Air transport/Passenger air transport",
          "All/Agriculture, forestry and fishing/Crop and animal production, hunting and related service activities/Plant propagation",
          "All/Public administration and defence; compulsory social security/Public administration and defence; compulsory social security/Provision of services to the community as a whole",
          "All/Information and communication/Programming and broadcasting activities/Radio broadcasting",
          "All/Manufacturing/Repair and installation of machinery and equipment/Repair of fabricated metal products, machinery and equipment",
          "All/Professional, scientific and technical activities/Scientific research and development/Research and experimental development on natural sciences and engineering",
          "All/Transportation and storage/Water transport/Sea and coastal water transport",
          "All/Arts, entertainment and recreation/Sports activities and amusement and recreation activities/Sports activities",
          "All/Transportation and storage/Warehousing and support activities for transportation/Support activities for transportation",
          "All/Agriculture, forestry and fishing/Crop and animal production, hunting and related service activities/Support activities to agriculture and post-harvest crop activities",
          "All/Manufacturing/Manufacture of leather and related products/Tanning and dressing of leather; manufacture of luggage, handbags, saddlery and harness; dressing and dyeing of fur",
          "All/Transportation and storage/Land transport and transport via pipelines/Transport via railways",
          "All/Water supply; sewerage, waste management and remediation activities/Waste collection, treatment and disposal activities; materials recovery/Waste collection",
          "All/Water supply; sewerage, waste management and remediation activities/Water collection, treatment and supply/Water collection, treatment and supply",
          "All/Information and communication/Telecommunications/Wireless telecommunications activities",
          "All/Professional, scientific and technical activities/Activities of head offices; management consultancy activities",
          "All/Transportation and storage/Air transport",
          "All/Professional, scientific and technical activities/Architectural and engineering activities; technical testing and analysis",
          "All/Information and communication/Computer programming, consultancy and related activities",
          "All/Construction/Construction of buildings",
          "All/Agriculture, forestry and fishing/Crop and animal production, hunting and related service activities",
          "All/Electricity, gas, steam and air conditioning supply/Electricity, gas, steam and air conditioning supply",
          "All/Mining and quarrying/Extraction of crude petroleum and natural gas",
          "All/Human health and social work activities/Human health activities",
          "All/Information and communication/Information service activities",
          "All/Transportation and storage/Land transport and transport via pipelines",
          "All/Manufacturing/Manufacture of basic metals",
          "All/Manufacturing/Manufacture of computer, electronic and optical products",
          "All/Manufacturing/Manufacture of electrical equipment",
          "All/Manufacturing/Manufacture of fabricated metal products, except machinery and equipment",
          "All/Manufacturing/Manufacture of leather and related products",
          "All/Manufacturing/Manufacture of machinery and equipment n.e.c.",
          "All/Manufacturing/Manufacture of other non-metallic mineral products",
          "All/Information and communication/Programming and broadcasting activities",
          "All/Public administration and defence; compulsory social security/Public administration and defence; compulsory social security",
          "All/Manufacturing/Repair and installation of machinery and equipment",
          "All/Professional, scientific and technical activities/Scientific research and development",
          "All/Construction/Specialized construction activities",
          "All/Arts, entertainment and recreation/Sports activities and amusement and recreation activities",
          "All/Information and communication/Telecommunications",
          "All/Administrative and support service activities/Travel agency, tour operator, reservation service and related activities",
          "All/Transportation and storage/Warehousing and support activities for transportation",
          "All/Water supply; sewerage, waste management and remediation activities/Waste collection, treatment and disposal activities; materials recovery",
          "All/Water supply; sewerage, waste management and remediation activities/Water collection, treatment and supply",
          "All/Transportation and storage/Water transport",
          "All/Wholesale and retail trade; repair of motor vehicles and motorcycles/Wholesale and retail trade and repair of motor vehicles and motorcycles",
          "All/Administrative and support service activities",
          "All/Agriculture, forestry and fishing",
          "All/Arts, entertainment and recreation",
          "All/Construction",
          "All/Electricity, gas, steam and air conditioning supply",
          "All/Human health and social work activities",
          "All/Information and communication",
          "All/Manufacturing",
          "All/Mining and quarrying",
          "All/Professional, scientific and technical activities",
          "All/Public administration and defence; compulsory social security",
          "All/Transportation and storage",
          "All/Water supply; sewerage, waste management and remediation activities",
          "All/Wholesale and retail trade; repair of motor vehicles and motorcycles",
          "All"
         ],
         "labels": [
          "Activities of head offices",
          "Activities of sports clubs",
          "Architectural and engineering activities and related technical consultancy",
          "Casting of iron and steel",
          "Collection of non-hazardous waste",
          "Computer consultancy and computer facilities management activities",
          "Computer programming activities",
          "Construction of buildings",
          "Data processing, hosting and related activities",
          "Defence activities",
          "Electric power generation, transmission and distribution",
          "Extraction of crude petroleum",
          "Freight air transport",
          "Freight rail transport",
          "Hospital activities",
          "Maintenance and repair of motor vehicles",
          "Manufacture of batteries and accumulators",
          "Manufacture of cement, lime and plaster",
          "Manufacture of electric motors, generators, transformers and electricity distribution and control apparatus",
          "Manufacture of electronic components and boards",
          "Manufacture of gas; distribution of gaseous fuels through mains",
          "Manufacture of luggage, handbags and the like, saddlery and harness",
          "Manufacture of other general-purpose machinery",
          "Manufacture of other non-metallic mineral products n.e.c.",
          "Other reservation service and related activities",
          "Other transportation support activities",
          "Passenger air transport",
          "Plant propagation",
          "Plumbing, heat and air-conditioning installation",
          "Radio broadcasting",
          "Regulation of and contribution to more efficient operation of businesses",
          "Repair of electrical equipment",
          "Repair of machinery",
          "Repair of other equipment",
          "Research and experimental development on natural sciences and engineering",
          "Sea and coastal freight water transport",
          "Service activities incidental to air transportation",
          "Service activities incidental to land transportation",
          "Support activities for crop production",
          "Treatment and coating of metals; machining",
          "Water collection, treatment and supply",
          "Wireless telecommunications activities",
          "Activities of head offices",
          "Administration of the State and the economic and social policy of the community",
          "Architectural and engineering activities and related technical consultancy",
          "Casting of metals",
          "Computer programming, consultancy and related activities",
          "Construction of buildings",
          "Data processing, hosting and related activities; web portals",
          "Electric power generation, transmission and distribution",
          "Electrical, plumbing and other construction installation activities",
          "Extraction of crude petroleum",
          "Freight air transport",
          "Hospital activities",
          "Maintenance and repair of motor vehicles",
          "Manufacture of batteries and accumulators",
          "Manufacture of electric motors, generators, transformers and electricity distribution and control apparatus",
          "Manufacture of electronic components and boards",
          "Manufacture of gas; distribution of gaseous fuels through mains",
          "Manufacture of general-purpose machinery",
          "Manufacture of non-metallic mineral products n.e.c.",
          "Manufacture of other fabricated metal products; metalworking service activities",
          "Other reservation service and related activities",
          "Passenger air transport",
          "Plant propagation",
          "Provision of services to the community as a whole",
          "Radio broadcasting",
          "Repair of fabricated metal products, machinery and equipment",
          "Research and experimental development on natural sciences and engineering",
          "Sea and coastal water transport",
          "Sports activities",
          "Support activities for transportation",
          "Support activities to agriculture and post-harvest crop activities",
          "Tanning and dressing of leather; manufacture of luggage, handbags, saddlery and harness; dressing and dyeing of fur",
          "Transport via railways",
          "Waste collection",
          "Water collection, treatment and supply",
          "Wireless telecommunications activities",
          "Activities of head offices; management consultancy activities",
          "Air transport",
          "Architectural and engineering activities; technical testing and analysis",
          "Computer programming, consultancy and related activities",
          "Construction of buildings",
          "Crop and animal production, hunting and related service activities",
          "Electricity, gas, steam and air conditioning supply",
          "Extraction of crude petroleum and natural gas",
          "Human health activities",
          "Information service activities",
          "Land transport and transport via pipelines",
          "Manufacture of basic metals",
          "Manufacture of computer, electronic and optical products",
          "Manufacture of electrical equipment",
          "Manufacture of fabricated metal products, except machinery and equipment",
          "Manufacture of leather and related products",
          "Manufacture of machinery and equipment n.e.c.",
          "Manufacture of other non-metallic mineral products",
          "Programming and broadcasting activities",
          "Public administration and defence; compulsory social security",
          "Repair and installation of machinery and equipment",
          "Scientific research and development",
          "Specialized construction activities",
          "Sports activities and amusement and recreation activities",
          "Telecommunications",
          "Travel agency, tour operator, reservation service and related activities",
          "Warehousing and support activities for transportation",
          "Waste collection, treatment and disposal activities; materials recovery",
          "Water collection, treatment and supply",
          "Water transport",
          "Wholesale and retail trade and repair of motor vehicles and motorcycles",
          "Administrative and support service activities",
          "Agriculture, forestry and fishing",
          "Arts, entertainment and recreation",
          "Construction",
          "Electricity, gas, steam and air conditioning supply",
          "Human health and social work activities",
          "Information and communication",
          "Manufacturing",
          "Mining and quarrying",
          "Professional, scientific and technical activities",
          "Public administration and defence; compulsory social security",
          "Transportation and storage",
          "Water supply; sewerage, waste management and remediation activities",
          "Wholesale and retail trade; repair of motor vehicles and motorcycles",
          "All"
         ],
         "name": "",
         "parents": [
          "All/Professional, scientific and technical activities/Activities of head offices; management consultancy activities/Activities of head offices",
          "All/Arts, entertainment and recreation/Sports activities and amusement and recreation activities/Sports activities",
          "All/Professional, scientific and technical activities/Architectural and engineering activities; technical testing and analysis/Architectural and engineering activities and related technical consultancy",
          "All/Manufacturing/Manufacture of basic metals/Casting of metals",
          "All/Water supply; sewerage, waste management and remediation activities/Waste collection, treatment and disposal activities; materials recovery/Waste collection",
          "All/Information and communication/Computer programming, consultancy and related activities/Computer programming, consultancy and related activities",
          "All/Information and communication/Computer programming, consultancy and related activities/Computer programming, consultancy and related activities",
          "All/Construction/Construction of buildings/Construction of buildings",
          "All/Information and communication/Information service activities/Data processing, hosting and related activities; web portals",
          "All/Public administration and defence; compulsory social security/Public administration and defence; compulsory social security/Provision of services to the community as a whole",
          "All/Electricity, gas, steam and air conditioning supply/Electricity, gas, steam and air conditioning supply/Electric power generation, transmission and distribution",
          "All/Mining and quarrying/Extraction of crude petroleum and natural gas/Extraction of crude petroleum",
          "All/Transportation and storage/Air transport/Freight air transport",
          "All/Transportation and storage/Land transport and transport via pipelines/Transport via railways",
          "All/Human health and social work activities/Human health activities/Hospital activities",
          "All/Wholesale and retail trade; repair of motor vehicles and motorcycles/Wholesale and retail trade and repair of motor vehicles and motorcycles/Maintenance and repair of motor vehicles",
          "All/Manufacturing/Manufacture of electrical equipment/Manufacture of batteries and accumulators",
          "All/Manufacturing/Manufacture of other non-metallic mineral products/Manufacture of non-metallic mineral products n.e.c.",
          "All/Manufacturing/Manufacture of electrical equipment/Manufacture of electric motors, generators, transformers and electricity distribution and control apparatus",
          "All/Manufacturing/Manufacture of computer, electronic and optical products/Manufacture of electronic components and boards",
          "All/Electricity, gas, steam and air conditioning supply/Electricity, gas, steam and air conditioning supply/Manufacture of gas; distribution of gaseous fuels through mains",
          "All/Manufacturing/Manufacture of leather and related products/Tanning and dressing of leather; manufacture of luggage, handbags, saddlery and harness; dressing and dyeing of fur",
          "All/Manufacturing/Manufacture of machinery and equipment n.e.c./Manufacture of general-purpose machinery",
          "All/Manufacturing/Manufacture of other non-metallic mineral products/Manufacture of non-metallic mineral products n.e.c.",
          "All/Administrative and support service activities/Travel agency, tour operator, reservation service and related activities/Other reservation service and related activities",
          "All/Transportation and storage/Warehousing and support activities for transportation/Support activities for transportation",
          "All/Transportation and storage/Air transport/Passenger air transport",
          "All/Agriculture, forestry and fishing/Crop and animal production, hunting and related service activities/Plant propagation",
          "All/Construction/Specialized construction activities/Electrical, plumbing and other construction installation activities",
          "All/Information and communication/Programming and broadcasting activities/Radio broadcasting",
          "All/Public administration and defence; compulsory social security/Public administration and defence; compulsory social security/Administration of the State and the economic and social policy of the community",
          "All/Manufacturing/Repair and installation of machinery and equipment/Repair of fabricated metal products, machinery and equipment",
          "All/Manufacturing/Repair and installation of machinery and equipment/Repair of fabricated metal products, machinery and equipment",
          "All/Manufacturing/Repair and installation of machinery and equipment/Repair of fabricated metal products, machinery and equipment",
          "All/Professional, scientific and technical activities/Scientific research and development/Research and experimental development on natural sciences and engineering",
          "All/Transportation and storage/Water transport/Sea and coastal water transport",
          "All/Transportation and storage/Warehousing and support activities for transportation/Support activities for transportation",
          "All/Transportation and storage/Warehousing and support activities for transportation/Support activities for transportation",
          "All/Agriculture, forestry and fishing/Crop and animal production, hunting and related service activities/Support activities to agriculture and post-harvest crop activities",
          "All/Manufacturing/Manufacture of fabricated metal products, except machinery and equipment/Manufacture of other fabricated metal products; metalworking service activities",
          "All/Water supply; sewerage, waste management and remediation activities/Water collection, treatment and supply/Water collection, treatment and supply",
          "All/Information and communication/Telecommunications/Wireless telecommunications activities",
          "All/Professional, scientific and technical activities/Activities of head offices; management consultancy activities",
          "All/Public administration and defence; compulsory social security/Public administration and defence; compulsory social security",
          "All/Professional, scientific and technical activities/Architectural and engineering activities; technical testing and analysis",
          "All/Manufacturing/Manufacture of basic metals",
          "All/Information and communication/Computer programming, consultancy and related activities",
          "All/Construction/Construction of buildings",
          "All/Information and communication/Information service activities",
          "All/Electricity, gas, steam and air conditioning supply/Electricity, gas, steam and air conditioning supply",
          "All/Construction/Specialized construction activities",
          "All/Mining and quarrying/Extraction of crude petroleum and natural gas",
          "All/Transportation and storage/Air transport",
          "All/Human health and social work activities/Human health activities",
          "All/Wholesale and retail trade; repair of motor vehicles and motorcycles/Wholesale and retail trade and repair of motor vehicles and motorcycles",
          "All/Manufacturing/Manufacture of electrical equipment",
          "All/Manufacturing/Manufacture of electrical equipment",
          "All/Manufacturing/Manufacture of computer, electronic and optical products",
          "All/Electricity, gas, steam and air conditioning supply/Electricity, gas, steam and air conditioning supply",
          "All/Manufacturing/Manufacture of machinery and equipment n.e.c.",
          "All/Manufacturing/Manufacture of other non-metallic mineral products",
          "All/Manufacturing/Manufacture of fabricated metal products, except machinery and equipment",
          "All/Administrative and support service activities/Travel agency, tour operator, reservation service and related activities",
          "All/Transportation and storage/Air transport",
          "All/Agriculture, forestry and fishing/Crop and animal production, hunting and related service activities",
          "All/Public administration and defence; compulsory social security/Public administration and defence; compulsory social security",
          "All/Information and communication/Programming and broadcasting activities",
          "All/Manufacturing/Repair and installation of machinery and equipment",
          "All/Professional, scientific and technical activities/Scientific research and development",
          "All/Transportation and storage/Water transport",
          "All/Arts, entertainment and recreation/Sports activities and amusement and recreation activities",
          "All/Transportation and storage/Warehousing and support activities for transportation",
          "All/Agriculture, forestry and fishing/Crop and animal production, hunting and related service activities",
          "All/Manufacturing/Manufacture of leather and related products",
          "All/Transportation and storage/Land transport and transport via pipelines",
          "All/Water supply; sewerage, waste management and remediation activities/Waste collection, treatment and disposal activities; materials recovery",
          "All/Water supply; sewerage, waste management and remediation activities/Water collection, treatment and supply",
          "All/Information and communication/Telecommunications",
          "All/Professional, scientific and technical activities",
          "All/Transportation and storage",
          "All/Professional, scientific and technical activities",
          "All/Information and communication",
          "All/Construction",
          "All/Agriculture, forestry and fishing",
          "All/Electricity, gas, steam and air conditioning supply",
          "All/Mining and quarrying",
          "All/Human health and social work activities",
          "All/Information and communication",
          "All/Transportation and storage",
          "All/Manufacturing",
          "All/Manufacturing",
          "All/Manufacturing",
          "All/Manufacturing",
          "All/Manufacturing",
          "All/Manufacturing",
          "All/Manufacturing",
          "All/Information and communication",
          "All/Public administration and defence; compulsory social security",
          "All/Manufacturing",
          "All/Professional, scientific and technical activities",
          "All/Construction",
          "All/Arts, entertainment and recreation",
          "All/Information and communication",
          "All/Administrative and support service activities",
          "All/Transportation and storage",
          "All/Water supply; sewerage, waste management and remediation activities",
          "All/Water supply; sewerage, waste management and remediation activities",
          "All/Transportation and storage",
          "All/Wholesale and retail trade; repair of motor vehicles and motorcycles",
          "All",
          "All",
          "All",
          "All",
          "All",
          "All",
          "All",
          "All",
          "All",
          "All",
          "All",
          "All",
          "All",
          "All",
          ""
         ],
         "type": "treemap",
         "values": [
          7,
          1,
          12,
          1,
          1,
          1,
          1,
          1,
          8,
          3,
          36,
          1,
          2,
          1,
          1,
          2,
          1,
          1,
          3,
          2,
          1,
          1,
          2,
          1,
          1,
          22,
          1,
          1,
          1,
          1,
          2,
          1,
          7,
          1,
          2,
          1,
          6,
          2,
          1,
          1,
          5,
          2,
          7,
          2,
          12,
          1,
          2,
          1,
          8,
          36,
          1,
          1,
          2,
          1,
          2,
          1,
          3,
          2,
          1,
          2,
          2,
          1,
          1,
          1,
          1,
          3,
          1,
          9,
          2,
          1,
          1,
          30,
          1,
          1,
          1,
          1,
          5,
          2,
          7,
          3,
          12,
          2,
          1,
          2,
          37,
          1,
          1,
          8,
          1,
          1,
          2,
          4,
          1,
          1,
          2,
          2,
          1,
          5,
          9,
          2,
          1,
          1,
          2,
          1,
          30,
          1,
          5,
          1,
          2,
          1,
          2,
          1,
          2,
          37,
          1,
          13,
          22,
          1,
          21,
          5,
          35,
          6,
          2,
          149
         ]
        }
       ],
       "layout": {
        "legend": {
         "tracegroupgap": 0
        },
        "margin": {
         "t": 60
        },
        "template": {
         "data": {
          "pie": [
           {
            "automargin": true,
            "type": "pie"
           }
          ]
         },
         "layout": {
          "xaxis": {
           "showgrid": true,
           "title": {
            "standoff": 15
           }
          },
          "yaxis": {
           "showgrid": true,
           "title": {
            "standoff": 15
           }
          }
         }
        }
       }
      }
     },
     "metadata": {},
     "output_type": "display_data"
    }
   ],
   "source": [
    "fig = px.treemap(df_quality, path=[px.Constant(\"All\"), 'ISIC Section Name', 'ISIC Division Name', 'ISIC Group Name', 'ISIC Class Name'])\n",
    "fig.write_image('analysis/individual_D050_to_D053.pdf', width=WIDTH, height=HEIGHT)\n",
    "fig.show()"
   ]
  },
  {
   "cell_type": "code",
   "execution_count": 61,
   "metadata": {},
   "outputs": [
    {
     "data": {
      "application/vnd.plotly.v1+json": {
       "config": {
        "plotlyServerURL": "https://plot.ly"
       },
       "data": [
        {
         "branchvalues": "total",
         "domain": {
          "x": [
           0,
           1
          ],
          "y": [
           0,
           1
          ]
         },
         "hovertemplate": "labels=%{label}<br>count=%{value}<br>parent=%{parent}<br>id=%{id}<extra></extra>",
         "ids": [
          "All/Administrative and support service activities",
          "All/Agriculture, forestry and fishing",
          "All/Arts, entertainment and recreation",
          "All/Construction",
          "All/Electricity, gas, steam and air conditioning supply",
          "All/Human health and social work activities",
          "All/Information and communication",
          "All/Manufacturing",
          "All/Mining and quarrying",
          "All/Professional, scientific and technical activities",
          "All/Public administration and defence; compulsory social security",
          "All/Transportation and storage",
          "All/Water supply; sewerage, waste management and remediation activities",
          "All/Wholesale and retail trade; repair of motor vehicles and motorcycles",
          "All"
         ],
         "labels": [
          "Administrative and support service activities",
          "Agriculture, forestry and fishing",
          "Arts, entertainment and recreation",
          "Construction",
          "Electricity, gas, steam and air conditioning supply",
          "Human health and social work activities",
          "Information and communication",
          "Manufacturing",
          "Mining and quarrying",
          "Professional, scientific and technical activities",
          "Public administration and defence; compulsory social security",
          "Transportation and storage",
          "Water supply; sewerage, waste management and remediation activities",
          "Wholesale and retail trade; repair of motor vehicles and motorcycles",
          "All"
         ],
         "name": "",
         "parents": [
          "All",
          "All",
          "All",
          "All",
          "All",
          "All",
          "All",
          "All",
          "All",
          "All",
          "All",
          "All",
          "All",
          "All",
          ""
         ],
         "type": "treemap",
         "values": [
          1,
          2,
          1,
          2,
          37,
          1,
          13,
          22,
          1,
          21,
          5,
          35,
          6,
          2,
          149
         ]
        }
       ],
       "layout": {
        "legend": {
         "tracegroupgap": 0
        },
        "margin": {
         "t": 60
        },
        "template": {
         "data": {
          "pie": [
           {
            "automargin": true,
            "type": "pie"
           }
          ]
         },
         "layout": {
          "xaxis": {
           "showgrid": true,
           "title": {
            "standoff": 15
           }
          },
          "yaxis": {
           "showgrid": true,
           "title": {
            "standoff": 15
           }
          }
         }
        }
       }
      }
     },
     "metadata": {},
     "output_type": "display_data"
    }
   ],
   "source": [
    "fig = px.treemap(df_quality, path=[px.Constant(\"All\"), 'ISIC Section Name'])\n",
    "fig.write_image('analysis/individual_D050.pdf', width=WIDTH, height=HEIGHT)\n",
    "fig.show()"
   ]
  }
 ],
 "metadata": {
  "kernelspec": {
   "display_name": "Python 3.9.13 ('sms')",
   "language": "python",
   "name": "python3"
  },
  "language_info": {
   "codemirror_mode": {
    "name": "ipython",
    "version": 3
   },
   "file_extension": ".py",
   "mimetype": "text/x-python",
   "name": "python",
   "nbconvert_exporter": "python",
   "pygments_lexer": "ipython3",
   "version": "3.9.13"
  },
  "orig_nbformat": 4,
  "vscode": {
   "interpreter": {
    "hash": "a81850c486be7432e6ac53fe2bb18027ea4a8f4121dc8bd68c81c24bd7414df4"
   }
  }
 },
 "nbformat": 4,
 "nbformat_minor": 2
}
