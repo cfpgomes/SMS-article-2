{
 "cells": [
  {
   "cell_type": "markdown",
   "metadata": {},
   "source": [
    "## Required imports"
   ]
  },
  {
   "cell_type": "code",
   "execution_count": 1,
   "metadata": {},
   "outputs": [],
   "source": [
    "# For plots.\n",
    "from tkinter.messagebox import NO\n",
    "from pip import main\n",
    "\n",
    "import string\n",
    "\n",
    "import plotly.express as px\n",
    "from plotly.subplots import make_subplots\n",
    "import plotly.graph_objects as go\n",
    "\n",
    "import plotly.io as pio\n",
    "# pio.kaleido.scope.mathjax = None\n",
    "pio.templates.default = \"gridon\"\n",
    "\n",
    "WIDTH = 1000\n",
    "HALF_WIDTH = WIDTH/2\n",
    "QUARTER_WIDTH = WIDTH/4\n",
    "HEIGHT = 1000\n",
    "HALF_HEIGHT = HEIGHT/2\n",
    "QUARTER_HEIGHT = HEIGHT/4\n",
    "\n",
    "# For csv reading.\n",
    "import pandas as pd\n",
    "\n",
    "# For maths.\n",
    "import numpy as np\n",
    "\n",
    "# For fuzzy markers\n",
    "import random\n",
    "\n",
    "# For statistical tests\n",
    "from scipy.stats import mannwhitneyu\n",
    "\n",
    "# Other constants\n",
    "NOTASSIGNED = 'Not assigned'"
   ]
  },
  {
   "cell_type": "markdown",
   "metadata": {},
   "source": [
    "## Functions to retrieve journal and conference rankings"
   ]
  },
  {
   "cell_type": "code",
   "execution_count": 2,
   "metadata": {},
   "outputs": [],
   "source": [
    "def retrieve_sjr(row, dic_sjr_dfs):\n",
    "    if row['Publication Source'] != 'Journal':\n",
    "        return None\n",
    "    title = row['Publication Title']\n",
    "    sourceID = row['SourceID']\n",
    "    year = row['Publication Year']\n",
    "    if (year == 2022):\n",
    "        return NOTASSIGNED\n",
    "\n",
    "    print(f'Title: {title}\\nSourceID: {sourceID}')\n",
    "    df_sjr = dic_sjr_dfs[f'{year}']\n",
    "\n",
    "    df_title_contains = df_sjr[df_sjr['Sourceid'] == sourceID]\n",
    "\n",
    "    if df_title_contains.empty:\n",
    "        print('Empty!')\n",
    "        return NOTASSIGNED\n",
    "\n",
    "    print(f'Article from year {year}')\n",
    "\n",
    "    if pd.isna(df_title_contains.iloc[0]['SJR']) or df_title_contains.iloc[0]['SJR'] == '-':\n",
    "        return NOTASSIGNED\n",
    "    print(df_title_contains.iloc[0]['SJR'])\n",
    "\n",
    "\n",
    "    return df_title_contains.iloc[0]['SJR']\n",
    "\n",
    "def retrieve_quartile(row, dic_quartiles_dfs):\n",
    "    if row['Publication Source'] != 'Journal':\n",
    "        return None\n",
    "    title = row['Publication Title']\n",
    "    sourceID = row['SourceID']\n",
    "    year = row['Publication Year']\n",
    "    if (year == 2022):\n",
    "        return NOTASSIGNED\n",
    "\n",
    "    print(f'Title: {title}\\nSourceID: {sourceID}')\n",
    "    df_quartiles = dic_quartiles_dfs[f'{year}']\n",
    "\n",
    "    df_title_contains = df_quartiles[df_quartiles['Sourceid'] == sourceID]\n",
    "\n",
    "    if df_title_contains.empty:\n",
    "        print('Empty!')\n",
    "        return NOTASSIGNED\n",
    "\n",
    "    print(f'Article from year {year}')\n",
    "    if pd.isna(df_title_contains.iloc[0]['SJR Best Quartile']) or df_title_contains.iloc[0]['SJR Best Quartile'] == '-':\n",
    "        return NOTASSIGNED\n",
    "    print(df_title_contains.iloc[0]['SJR Best Quartile'])\n",
    "\n",
    "\n",
    "    return df_title_contains.iloc[0]['SJR Best Quartile']\n",
    "\n",
    "def retrieve_conference(row, dic_conferences_dfs):\n",
    "    if row['Publication Source'] != 'Conference':\n",
    "        return None\n",
    "\n",
    "    title = row['Publication Title']\n",
    "    conferenceID = row['ConferenceID']\n",
    "    year = row['Publication Year']\n",
    "    if (year == 2022):\n",
    "        return NOTASSIGNED\n",
    "\n",
    "    print(f'Title: {title}\\ConferenceID: {conferenceID}')\n",
    "    df_conferences = dic_conferences_dfs[f'{year}']\n",
    "\n",
    "    df_title_contains = df_conferences[df_conferences[0] == conferenceID]\n",
    "\n",
    "    if df_title_contains.empty:\n",
    "        print('Empty!')\n",
    "        return NOTASSIGNED\n",
    "\n",
    "    print(f'Article from year {year}')\n",
    "    if pd.isna(df_title_contains.iloc[0][4]) or df_title_contains.iloc[0][4] == '-':\n",
    "        return NOTASSIGNED\n",
    "    print(df_title_contains.iloc[0][4])\n",
    "\n",
    "    return df_title_contains.iloc[0][4]"
   ]
  },
  {
   "cell_type": "markdown",
   "metadata": {},
   "source": [
    "# Retrieve jornal rankings from scimagojr databases"
   ]
  },
  {
   "cell_type": "code",
   "execution_count": 3,
   "metadata": {},
   "outputs": [
    {
     "name": "stdout",
     "output_type": "stream",
     "text": [
      "Title: IEEE Transactions on Quantum Engineering\n",
      "SourceID: nan\n",
      "Empty!\n",
      "Title: Neural Computing and Applications\n",
      "SourceID: 24800.0\n",
      "Article from year 2019\n",
      "Q1\n",
      "Title: Energies\n",
      "SourceID: 62932.0\n",
      "Article from year 2016\n",
      "Q1\n",
      "Title: International Journal of Intelligent Systems and Applications\n",
      "SourceID: 21101021990.0\n",
      "Empty!\n",
      "Title: International Journal of Systems Assurance Engineering and Management\n",
      "SourceID: 19700177002.0\n",
      "Article from year 2020\n",
      "Q3\n",
      "Title: Applied Thermal Engineering\n",
      "SourceID: 13688.0\n",
      "Article from year 2020\n",
      "Q1\n",
      "Title: International Transactions on Electrical Energy Systems\n",
      "SourceID: 21100241220.0\n",
      "Article from year 2021\n",
      "Q2\n",
      "Title: Journal of Cloud Computing\n",
      "SourceID: 21100383744.0\n",
      "Article from year 2020\n",
      "Q2\n",
      "Title: Energy Conversion and Management\n",
      "SourceID: 29372.0\n",
      "Article from year 2020\n",
      "Q1\n",
      "Title: IEEE Transactions on Systems, Man, and Cybernetics: Systems\n",
      "SourceID: 21100262320.0\n",
      "Article from year 2013\n",
      "Q1\n",
      "Title: Frontiers in ICT\n",
      "SourceID: 21100893766.0\n",
      "Article from year 2017\n",
      "Title: Frontiers in Computer Science\n",
      "SourceID: nan\n",
      "Empty!\n",
      "Title: Applied Mechanics and Materials\n",
      "SourceID: 4700151914.0\n",
      "Article from year 2012\n",
      "Q4\n",
      "Title: IEEE Transactions on Intelligent Transportation Systems\n",
      "SourceID: 18378.0\n",
      "Article from year 2020\n",
      "Q1\n",
      "Title: International Journal of Electrical Power & Energy Systems\n",
      "SourceID: 17985.0\n",
      "Article from year 2011\n",
      "Q1\n",
      "Title: Engineering Applications of Artificial Intelligence\n",
      "SourceID: 24182.0\n",
      "Article from year 2011\n",
      "Q1\n",
      "Title: Energy\n",
      "SourceID: 29348.0\n",
      "Article from year 2017\n",
      "Q1\n",
      "Title: Mathematical Problems in Engineering\n",
      "SourceID: 13082.0\n",
      "Article from year 2014\n",
      "Q2\n",
      "Title: IEEE Transactions on Industrial Informatics\n",
      "SourceID: 144912.0\n",
      "Article from year 2012\n",
      "Q1\n",
      "Title: Annals of Nuclear Energy\n",
      "SourceID: 29363.0\n",
      "Article from year 2013\n",
      "Q1\n",
      "Title: Applied Soft Computing\n",
      "SourceID: 18136.0\n",
      "Article from year 2014\n",
      "Q1\n",
      "Title: Advances in Structural Engineering\n",
      "SourceID: 14469.0\n",
      "Article from year 2014\n",
      "Q2\n",
      "Title: Applied Mathematics and Information Sciences\n",
      "SourceID: 21100197928.0\n",
      "Article from year 2014\n",
      "Q3\n",
      "Title: Applied Soft Computing\n",
      "SourceID: 18136.0\n",
      "Article from year 2011\n",
      "Q1\n",
      "Title: Applied Soft Computing\n",
      "SourceID: 18136.0\n",
      "Article from year 2019\n",
      "Q1\n",
      "Title: Expert Systems with Applications\n",
      "SourceID: 24201.0\n",
      "Article from year 2020\n",
      "Q1\n",
      "Title: Advances in Space Research\n",
      "SourceID: 12375.0\n",
      "Article from year 2018\n",
      "Q2\n",
      "Title: International Transactions on Electrical Energy Systems\n",
      "SourceID: 21100241220.0\n",
      "Article from year 2018\n",
      "Q2\n",
      "Title: International Journal of Electrical Power & Energy Systems\n",
      "SourceID: 17985.0\n",
      "Article from year 2014\n",
      "Q1\n",
      "Title: Applied Thermal Engineering\n",
      "SourceID: 13688.0\n",
      "Article from year 2012\n",
      "Q1\n",
      "Title: IEEE Access\n",
      "SourceID: 21100374601.0\n",
      "Article from year 2020\n",
      "Q1\n",
      "Title: Journal of Hydrology\n",
      "SourceID: 50089.0\n",
      "Article from year 2021\n",
      "Q1\n",
      "Title: Energy Sources, Part B: Economics, Planning, and Policy\n",
      "SourceID: 4700152713.0\n",
      "Article from year 2021\n",
      "Q1\n",
      "Title: Scientific Reports\n",
      "SourceID: 21100200805.0\n",
      "Article from year 2019\n",
      "Q1\n",
      "Title: Computers & Industrial Engineering\n",
      "SourceID: 18164.0\n",
      "Article from year 2021\n",
      "Q1\n",
      "Title: Sustainable Energy, Grids and Networks\n",
      "SourceID: 21100371258.0\n",
      "Article from year 2021\n",
      "Q1\n",
      "Title: Journal of Hydrology\n",
      "SourceID: 50089.0\n",
      "Article from year 2020\n",
      "Q1\n",
      "Title: Energy Science and Engineering\n",
      "SourceID: 21100817528.0\n",
      "Article from year 2020\n",
      "Q2\n",
      "Title: Journal of Hydrology\n",
      "SourceID: 50089.0\n",
      "Article from year 2020\n",
      "Q1\n",
      "Title: IEEE Access\n",
      "SourceID: 21100374601.0\n",
      "Article from year 2020\n",
      "Q1\n",
      "Title: Structural Control and Health Monitoring\n",
      "SourceID: 12246.0\n",
      "Article from year 2021\n",
      "Q1\n",
      "Title: Advances in Water Resources\n",
      "SourceID: 19627.0\n",
      "Article from year 2020\n",
      "Q1\n",
      "Title: Expert Systems with Applications\n",
      "SourceID: 24201.0\n",
      "Article from year 2014\n",
      "Q1\n",
      "Title: Energy Reports\n",
      "SourceID: 21100389511.0\n",
      "Article from year 2021\n",
      "Q1\n",
      "Title: IET Generation, Transmission and Distribution\n",
      "SourceID: 5400152713.0\n",
      "Article from year 2020\n",
      "Q1\n",
      "Title: International Journal of Applied Metaheuristic Computing\n",
      "SourceID: 21100858129.0\n",
      "Article from year 2020\n",
      "Q4\n",
      "Title: Sustainable Cities and Society\n",
      "SourceID: 19700194105.0\n",
      "Article from year 2019\n",
      "Q1\n",
      "Title: IET Generation, Transmission and Distribution\n",
      "SourceID: 5400152713.0\n",
      "Article from year 2018\n",
      "Q1\n",
      "Title: Aerospace Science and Technology\n",
      "SourceID: 12507.0\n",
      "Article from year 2018\n",
      "Q1\n",
      "Title: Shock and Vibration\n",
      "SourceID: 13511.0\n",
      "Article from year 2017\n",
      "Q2\n",
      "Title: Swarm and Evolutionary Computation\n",
      "SourceID: 19900192513.0\n",
      "Article from year 2016\n",
      "Q1\n",
      "Title: Mathematical Problems in Engineering\n",
      "SourceID: 13082.0\n",
      "Article from year 2016\n",
      "Q2\n",
      "Title: Shock and Vibration\n",
      "SourceID: nan\n",
      "Empty!\n",
      "Title: Mathematical Problems in Engineering\n",
      "SourceID: 13082.0\n",
      "Article from year 2015\n",
      "Q2\n",
      "Title: Mathematical Problems in Engineering\n",
      "SourceID: 13082.0\n",
      "Article from year 2013\n",
      "Q2\n",
      "Title: International Journal of Electrical Power and Energy Systems\n",
      "SourceID: nan\n",
      "Empty!\n",
      "Title: International Journal of Communication Networks and Distributed Systems\n",
      "SourceID: nan\n",
      "Empty!\n",
      "Title: Proceedings of the Institution of Mechanical Engineers, Part B: Journal of Engineering Manufacture\n",
      "SourceID: nan\n",
      "Empty!\n",
      "Title: Mathematical Problems in Engineering\n",
      "SourceID: 13082.0\n",
      "Article from year 2020\n",
      "Q3\n",
      "Title: PLoS ONE\n",
      "SourceID: 10600153309.0\n",
      "Article from year 2017\n",
      "Q1\n",
      "Title: Soft Computing\n",
      "SourceID: 28554.0\n",
      "Article from year 2017\n",
      "Q2\n",
      "Title: Computers and Industrial Engineering\n",
      "SourceID: 18164.0\n",
      "Article from year 2016\n",
      "Q1\n",
      "Title: Applied Mathematical Modelling\n",
      "SourceID: 28065.0\n",
      "Article from year 2016\n",
      "Q1\n",
      "Title: Expert Systems with Applications\n",
      "SourceID: 24201.0\n",
      "Article from year 2021\n",
      "Q1\n",
      "Title: Neural Computing and Applications\n",
      "SourceID: 24800.0\n",
      "Article from year 2020\n",
      "Q1\n",
      "Title: International Journal of Computational Intelligence and Applications\n",
      "SourceID: 14500154706.0\n",
      "Article from year 2020\n",
      "Q3\n",
      "Title: IEEE Transactions on Industrial Informatics\n",
      "SourceID: 144912.0\n",
      "Article from year 2015\n",
      "Q1\n",
      "Title: International Transactions on Electrical Energy Systems\n",
      "SourceID: 21100241220.0\n",
      "Article from year 2021\n",
      "Q2\n",
      "Title: ISA Transactions\n",
      "SourceID: 29805.0\n",
      "Article from year 2021\n",
      "Q1\n",
      "Title: CMES - Computer Modeling in Engineering and Sciences\n",
      "SourceID: 28642.0\n",
      "Article from year 2020\n",
      "Q3\n",
      "Title: IEEE Access\n",
      "SourceID: 21100374601.0\n",
      "Article from year 2020\n",
      "Q1\n",
      "Title: IEEE Access\n",
      "SourceID: 21100374601.0\n",
      "Article from year 2019\n",
      "Q1\n",
      "Title: Algorithms\n",
      "SourceID: 21100199795.0\n",
      "Article from year 2019\n",
      "Q3\n",
      "Title: IET Radar, Sonar and Navigation\n",
      "SourceID: 5700165202.0\n",
      "Article from year 2017\n",
      "Q2\n",
      "Title: Neurocomputing\n",
      "SourceID: 24807.0\n",
      "Article from year 2016\n",
      "Q1\n",
      "Title: Energies\n",
      "SourceID: 62932.0\n",
      "Article from year 2015\n",
      "Q1\n",
      "Title: Advances in Mechanical Engineering\n",
      "SourceID: 19700182334.0\n",
      "Article from year 2014\n",
      "Q3\n",
      "Title: Environmental Modeling and Assessment\n",
      "SourceID: 23276.0\n",
      "Article from year 2019\n",
      "Q2\n",
      "Title: Energy\n",
      "SourceID: 29348.0\n",
      "Article from year 2020\n",
      "Q1\n",
      "Title: Journal of Hydrology\n",
      "SourceID: 50089.0\n",
      "Article from year 2017\n",
      "Q1\n",
      "Title: Energies\n",
      "SourceID: 62932.0\n",
      "Article from year 2016\n",
      "Q1\n",
      "Title: International Journal of Multimedia and Ubiquitous Engineering\n",
      "SourceID: nan\n",
      "Empty!\n",
      "Title: Journal of Systems Science and Systems Engineering\n",
      "SourceID: 4700152484.0\n",
      "Article from year 2016\n",
      "Q2\n",
      "Title: Mathematical Biosciences and Engineering\n",
      "SourceID: 5200152802.0\n",
      "Article from year 2020\n",
      "Q2\n",
      "Title: Scientific Reports\n",
      "SourceID: 21100200805.0\n",
      "Article from year 2020\n",
      "Q1\n",
      "Title: IET Renewable Power Generation\n",
      "SourceID: 5600152809.0\n",
      "Article from year 2020\n",
      "Q2\n",
      "Title: Proceedings of the Institution of Mechanical Engineers, Part G: Journal of Aerospace Engineering\n",
      "SourceID: 29080.0\n",
      "Article from year 2020\n",
      "Q2\n",
      "Title: Tsinghua Science and Technology\n",
      "SourceID: 25522.0\n",
      "Article from year 2020\n",
      "Q1\n",
      "Title: Advances in Space Research\n",
      "SourceID: 12375.0\n",
      "Article from year 2021\n",
      "Q2\n",
      "Title: Journal of Physics: Conference Series\n",
      "SourceID: 130053.0\n",
      "Article from year 2021\n",
      "Title: IEEE Access\n",
      "SourceID: 21100374601.0\n",
      "Article from year 2021\n",
      "Q1\n",
      "Title: SN Computer Science\n",
      "SourceID: nan\n",
      "Empty!\n",
      "Title: Proceedings of the Institution of Mechanical Engineers, Part G: Journal of Aerospace Engineering\n",
      "SourceID: 29080.0\n",
      "Article from year 2020\n",
      "Q2\n",
      "Title: Computer Science and Information Systems\n",
      "SourceID: 19300157037.0\n",
      "Article from year 2020\n",
      "Q3\n",
      "Title: Applied Energy\n",
      "SourceID: 28801.0\n",
      "Article from year 2021\n",
      "Q1\n",
      "Title: Quantum Information Processing\n",
      "SourceID: 24831.0\n",
      "Article from year 2020\n",
      "Q2\n",
      "Title: Energies\n",
      "SourceID: 62932.0\n",
      "Article from year 2019\n",
      "Q2\n",
      "Title: Frontiers in ICT\n",
      "SourceID: 21100893766.0\n",
      "Article from year 2019\n",
      "Q2\n",
      "Title: Frontiers in Computer Science\n",
      "SourceID: nan\n",
      "Empty!\n",
      "Title: IEEE Access\n",
      "SourceID: 21100374601.0\n",
      "Article from year 2019\n",
      "Q1\n",
      "Title: Nonlinear Dynamics\n",
      "SourceID: 21576.0\n",
      "Article from year 2019\n",
      "Q1\n",
      "Title: Computers and Chemical Engineering\n",
      "SourceID: 24600.0\n",
      "Article from year 2020\n",
      "Q1\n",
      "Title: Computers and Chemical Engineering\n",
      "SourceID: 24600.0\n",
      "Article from year 2020\n",
      "Q1\n",
      "Title: Energy Conversion and Management\n",
      "SourceID: 29372.0\n",
      "Article from year 2016\n",
      "Q1\n",
      "Title: Pattern Recognition\n",
      "SourceID: 24823.0\n",
      "Article from year 2017\n",
      "Q1\n",
      "Title: Energies\n",
      "SourceID: 62932.0\n",
      "Article from year 2017\n",
      "Q1\n",
      "Title: IEEE Transactions on Quantum Engineering\n",
      "SourceID: nan\n",
      "Empty!\n",
      "Title: Neural Computing and Applications\n",
      "SourceID: 24800.0\n",
      "Article from year 2019\n",
      "0.796\n",
      "Title: Energies\n",
      "SourceID: 62932.0\n",
      "Article from year 2016\n",
      "0.662\n",
      "Title: International Journal of Intelligent Systems and Applications\n",
      "SourceID: 21101021990.0\n",
      "Empty!\n",
      "Title: International Journal of Systems Assurance Engineering and Management\n",
      "SourceID: 19700177002.0\n",
      "Article from year 2020\n",
      "0.3\n",
      "Title: Applied Thermal Engineering\n",
      "SourceID: 13688.0\n",
      "Article from year 2020\n",
      "1.714\n",
      "Title: International Transactions on Electrical Energy Systems\n",
      "SourceID: 21100241220.0\n",
      "Article from year 2021\n",
      "0.6\n",
      "Title: Journal of Cloud Computing\n",
      "SourceID: 21100383744.0\n",
      "Article from year 2020\n",
      "0.593\n",
      "Title: Energy Conversion and Management\n",
      "SourceID: 29372.0\n",
      "Article from year 2020\n",
      "2.743\n",
      "Title: IEEE Transactions on Systems, Man, and Cybernetics: Systems\n",
      "SourceID: 21100262320.0\n",
      "Article from year 2013\n",
      "1.403\n",
      "Title: Frontiers in ICT\n",
      "SourceID: 21100893766.0\n",
      "Article from year 2017\n",
      "Title: Frontiers in Computer Science\n",
      "SourceID: nan\n",
      "Empty!\n",
      "Title: Applied Mechanics and Materials\n",
      "SourceID: 4700151914.0\n",
      "Article from year 2012\n",
      "0.123\n",
      "Title: IEEE Transactions on Intelligent Transportation Systems\n",
      "SourceID: 18378.0\n",
      "Article from year 2020\n",
      "1.591\n",
      "Title: International Journal of Electrical Power & Energy Systems\n",
      "SourceID: 17985.0\n",
      "Article from year 2011\n",
      "0.985\n",
      "Title: Engineering Applications of Artificial Intelligence\n",
      "SourceID: 24182.0\n",
      "Article from year 2011\n",
      "0.857\n",
      "Title: Energy\n",
      "SourceID: 29348.0\n",
      "Article from year 2017\n",
      "1.99\n",
      "Title: Mathematical Problems in Engineering\n",
      "SourceID: 13082.0\n",
      "Article from year 2014\n",
      "0.287\n",
      "Title: IEEE Transactions on Industrial Informatics\n",
      "SourceID: 144912.0\n",
      "Article from year 2012\n",
      "0.934\n",
      "Title: Annals of Nuclear Energy\n",
      "SourceID: 29363.0\n",
      "Article from year 2013\n",
      "1.052\n",
      "Title: Applied Soft Computing\n",
      "SourceID: 18136.0\n",
      "Article from year 2014\n",
      "1.592\n",
      "Title: Advances in Structural Engineering\n",
      "SourceID: 14469.0\n",
      "Article from year 2014\n",
      "0.544\n",
      "Title: Applied Mathematics and Information Sciences\n",
      "SourceID: 21100197928.0\n",
      "Article from year 2014\n",
      "0.318\n",
      "Title: Applied Soft Computing\n",
      "SourceID: 18136.0\n",
      "Article from year 2011\n",
      "1.251\n",
      "Title: Applied Soft Computing\n",
      "SourceID: 18136.0\n",
      "Article from year 2019\n",
      "1.405\n",
      "Title: Expert Systems with Applications\n",
      "SourceID: 24201.0\n",
      "Article from year 2020\n",
      "1.368\n",
      "Title: Advances in Space Research\n",
      "SourceID: 12375.0\n",
      "Article from year 2018\n",
      "0.589\n",
      "Title: International Transactions on Electrical Energy Systems\n",
      "SourceID: 21100241220.0\n",
      "Article from year 2018\n",
      "0.453\n",
      "Title: International Journal of Electrical Power & Energy Systems\n",
      "SourceID: 17985.0\n",
      "Article from year 2014\n",
      "1.328\n",
      "Title: Applied Thermal Engineering\n",
      "SourceID: 13688.0\n",
      "Article from year 2012\n",
      "1.492\n",
      "Title: IEEE Access\n",
      "SourceID: 21100374601.0\n",
      "Article from year 2020\n",
      "0.587\n",
      "Title: Journal of Hydrology\n",
      "SourceID: 50089.0\n",
      "Article from year 2021\n",
      "1.611\n",
      "Title: Energy Sources, Part B: Economics, Planning, and Policy\n",
      "SourceID: 4700152713.0\n",
      "Article from year 2021\n",
      "0.802\n",
      "Title: Scientific Reports\n",
      "SourceID: 21100200805.0\n",
      "Article from year 2019\n",
      "1.341\n",
      "Title: Computers & Industrial Engineering\n",
      "SourceID: 18164.0\n",
      "Article from year 2021\n",
      "1.775\n",
      "Title: Sustainable Energy, Grids and Networks\n",
      "SourceID: 21100371258.0\n",
      "Article from year 2021\n",
      "1.2\n",
      "Title: Journal of Hydrology\n",
      "SourceID: 50089.0\n",
      "Article from year 2020\n",
      "1.684\n",
      "Title: Energy Science and Engineering\n",
      "SourceID: 21100817528.0\n",
      "Article from year 2020\n",
      "0.638\n",
      "Title: Journal of Hydrology\n",
      "SourceID: 50089.0\n",
      "Article from year 2020\n",
      "1.684\n",
      "Title: IEEE Access\n",
      "SourceID: 21100374601.0\n",
      "Article from year 2020\n",
      "0.587\n",
      "Title: Structural Control and Health Monitoring\n",
      "SourceID: 12246.0\n",
      "Article from year 2021\n",
      "1.854\n",
      "Title: Advances in Water Resources\n",
      "SourceID: 19627.0\n",
      "Article from year 2020\n",
      "1.314\n",
      "Title: Expert Systems with Applications\n",
      "SourceID: 24201.0\n",
      "Article from year 2014\n",
      "1.476\n",
      "Title: Energy Reports\n",
      "SourceID: 21100389511.0\n",
      "Article from year 2021\n",
      "0.894\n",
      "Title: IET Generation, Transmission and Distribution\n",
      "SourceID: 5400152713.0\n",
      "Article from year 2020\n",
      "0.92\n",
      "Title: International Journal of Applied Metaheuristic Computing\n",
      "SourceID: 21100858129.0\n",
      "Article from year 2020\n",
      "0.158\n",
      "Title: Sustainable Cities and Society\n",
      "SourceID: 19700194105.0\n",
      "Article from year 2019\n",
      "1.356\n",
      "Title: IET Generation, Transmission and Distribution\n",
      "SourceID: 5400152713.0\n",
      "Article from year 2018\n",
      "1.099\n",
      "Title: Aerospace Science and Technology\n",
      "SourceID: 12507.0\n",
      "Article from year 2018\n",
      "0.952\n",
      "Title: Shock and Vibration\n",
      "SourceID: 13511.0\n",
      "Article from year 2017\n",
      "0.468\n",
      "Title: Swarm and Evolutionary Computation\n",
      "SourceID: 19900192513.0\n",
      "Article from year 2016\n",
      "1.365\n",
      "Title: Mathematical Problems in Engineering\n",
      "SourceID: 13082.0\n",
      "Article from year 2016\n",
      "0.279\n",
      "Title: Shock and Vibration\n",
      "SourceID: nan\n",
      "Empty!\n",
      "Title: Mathematical Problems in Engineering\n",
      "SourceID: 13082.0\n",
      "Article from year 2015\n",
      "0.285\n",
      "Title: Mathematical Problems in Engineering\n",
      "SourceID: 13082.0\n",
      "Article from year 2013\n",
      "0.289\n",
      "Title: International Journal of Electrical Power and Energy Systems\n",
      "SourceID: nan\n",
      "Empty!\n",
      "Title: International Journal of Communication Networks and Distributed Systems\n",
      "SourceID: nan\n",
      "Empty!\n",
      "Title: Proceedings of the Institution of Mechanical Engineers, Part B: Journal of Engineering Manufacture\n",
      "SourceID: nan\n",
      "Empty!\n",
      "Title: Mathematical Problems in Engineering\n",
      "SourceID: 13082.0\n",
      "Article from year 2020\n",
      "0.262\n",
      "Title: PLoS ONE\n",
      "SourceID: 10600153309.0\n",
      "Article from year 2017\n",
      "1.164\n",
      "Title: Soft Computing\n",
      "SourceID: 28554.0\n",
      "Article from year 2017\n",
      "0.593\n",
      "Title: Computers and Industrial Engineering\n",
      "SourceID: 18164.0\n",
      "Article from year 2016\n",
      "1.484\n",
      "Title: Applied Mathematical Modelling\n",
      "SourceID: 28065.0\n",
      "Article from year 2016\n",
      "1.139\n",
      "Title: Expert Systems with Applications\n",
      "SourceID: 24201.0\n",
      "Article from year 2021\n",
      "2.07\n",
      "Title: Neural Computing and Applications\n",
      "SourceID: 24800.0\n",
      "Article from year 2020\n",
      "0.713\n",
      "Title: International Journal of Computational Intelligence and Applications\n",
      "SourceID: 14500154706.0\n",
      "Article from year 2020\n",
      "0.283\n",
      "Title: IEEE Transactions on Industrial Informatics\n",
      "SourceID: 144912.0\n",
      "Article from year 2015\n",
      "2.381\n",
      "Title: International Transactions on Electrical Energy Systems\n",
      "SourceID: 21100241220.0\n",
      "Article from year 2021\n",
      "0.6\n",
      "Title: ISA Transactions\n",
      "SourceID: 29805.0\n",
      "Article from year 2021\n",
      "1.474\n",
      "Title: CMES - Computer Modeling in Engineering and Sciences\n",
      "SourceID: 28642.0\n",
      "Article from year 2020\n",
      "0.341\n",
      "Title: IEEE Access\n",
      "SourceID: 21100374601.0\n",
      "Article from year 2020\n",
      "0.587\n",
      "Title: IEEE Access\n",
      "SourceID: 21100374601.0\n",
      "Article from year 2019\n",
      "0.775\n",
      "Title: Algorithms\n",
      "SourceID: 21100199795.0\n",
      "Article from year 2019\n",
      "0.358\n",
      "Title: IET Radar, Sonar and Navigation\n",
      "SourceID: 5700165202.0\n",
      "Article from year 2017\n",
      "0.548\n",
      "Title: Neurocomputing\n",
      "SourceID: 24807.0\n",
      "Article from year 2016\n",
      "0.879\n",
      "Title: Energies\n",
      "SourceID: 62932.0\n",
      "Article from year 2015\n",
      "0.785\n",
      "Title: Advances in Mechanical Engineering\n",
      "SourceID: 19700182334.0\n",
      "Article from year 2014\n",
      "0.249\n",
      "Title: Environmental Modeling and Assessment\n",
      "SourceID: 23276.0\n",
      "Article from year 2019\n",
      "0.414\n",
      "Title: Energy\n",
      "SourceID: 29348.0\n",
      "Article from year 2020\n",
      "1.961\n",
      "Title: Journal of Hydrology\n",
      "SourceID: 50089.0\n",
      "Article from year 2017\n",
      "1.832\n",
      "Title: Energies\n",
      "SourceID: 62932.0\n",
      "Article from year 2016\n",
      "0.662\n",
      "Title: International Journal of Multimedia and Ubiquitous Engineering\n",
      "SourceID: nan\n",
      "Empty!\n",
      "Title: Journal of Systems Science and Systems Engineering\n",
      "SourceID: 4700152484.0\n",
      "Article from year 2016\n",
      "0.418\n",
      "Title: Mathematical Biosciences and Engineering\n",
      "SourceID: 5200152802.0\n",
      "Article from year 2020\n",
      "0.451\n",
      "Title: Scientific Reports\n",
      "SourceID: 21100200805.0\n",
      "Article from year 2020\n",
      "1.24\n",
      "Title: IET Renewable Power Generation\n",
      "SourceID: 5600152809.0\n",
      "Article from year 2020\n",
      "1.005\n",
      "Title: Proceedings of the Institution of Mechanical Engineers, Part G: Journal of Aerospace Engineering\n",
      "SourceID: 29080.0\n",
      "Article from year 2020\n",
      "0.39\n",
      "Title: Tsinghua Science and Technology\n",
      "SourceID: 25522.0\n",
      "Article from year 2020\n",
      "0.428\n",
      "Title: Advances in Space Research\n",
      "SourceID: 12375.0\n",
      "Article from year 2021\n",
      "0.613\n",
      "Title: Journal of Physics: Conference Series\n",
      "SourceID: 130053.0\n",
      "Article from year 2021\n",
      "0.21\n",
      "Title: IEEE Access\n",
      "SourceID: 21100374601.0\n",
      "Article from year 2021\n",
      "0.927\n",
      "Title: SN Computer Science\n",
      "SourceID: nan\n",
      "Empty!\n",
      "Title: Proceedings of the Institution of Mechanical Engineers, Part G: Journal of Aerospace Engineering\n",
      "SourceID: 29080.0\n",
      "Article from year 2020\n",
      "0.39\n",
      "Title: Computer Science and Information Systems\n",
      "SourceID: 19300157037.0\n",
      "Article from year 2020\n",
      "0.244\n",
      "Title: Applied Energy\n",
      "SourceID: 28801.0\n",
      "Article from year 2021\n",
      "3.062\n",
      "Title: Quantum Information Processing\n",
      "SourceID: 24831.0\n",
      "Article from year 2020\n",
      "0.583\n",
      "Title: Energies\n",
      "SourceID: 62932.0\n",
      "Article from year 2019\n",
      "0.635\n",
      "Title: Frontiers in ICT\n",
      "SourceID: 21100893766.0\n",
      "Article from year 2019\n",
      "0.37\n",
      "Title: Frontiers in Computer Science\n",
      "SourceID: nan\n",
      "Empty!\n",
      "Title: IEEE Access\n",
      "SourceID: 21100374601.0\n",
      "Article from year 2019\n",
      "0.775\n",
      "Title: Nonlinear Dynamics\n",
      "SourceID: 21576.0\n",
      "Article from year 2019\n",
      "1.394\n",
      "Title: Computers and Chemical Engineering\n",
      "SourceID: 24600.0\n",
      "Article from year 2020\n",
      "1.017\n",
      "Title: Computers and Chemical Engineering\n",
      "SourceID: 24600.0\n",
      "Article from year 2020\n",
      "1.017\n",
      "Title: Energy Conversion and Management\n",
      "SourceID: 29372.0\n",
      "Article from year 2016\n",
      "2.232\n",
      "Title: Pattern Recognition\n",
      "SourceID: 24823.0\n",
      "Article from year 2017\n",
      "1.065\n",
      "Title: Energies\n",
      "SourceID: 62932.0\n",
      "Article from year 2017\n",
      "0.67\n"
     ]
    }
   ],
   "source": [
    "df_quality = pd.read_csv('QualityChecklists.csv', sep=',', decimal='.', converters = {'ISIC Section': str, 'ISIC Division': str, 'ISIC Group': str, 'ISIC Class': str})\n",
    "\n",
    "dic_scimagojr_dfs = {}\n",
    "dic_scimagojr_dfs['2021'] = pd.read_csv(\n",
    "    'scimagojr 2021.csv', sep=';', decimal=',', quotechar=\"\\\"\")\n",
    "dic_scimagojr_dfs['2020'] = pd.read_csv(\n",
    "    'scimagojr 2020.csv', sep=';', decimal=',', quotechar=\"\\\"\")\n",
    "dic_scimagojr_dfs['2019'] = pd.read_csv(\n",
    "    'scimagojr 2019.csv', sep=';', decimal=',', quotechar=\"\\\"\")\n",
    "dic_scimagojr_dfs['2018'] = pd.read_csv(\n",
    "    'scimagojr 2018.csv', sep=';', decimal=',', quotechar=\"\\\"\")\n",
    "dic_scimagojr_dfs['2017'] = pd.read_csv(\n",
    "    'scimagojr 2017.csv', sep=';', decimal=',', quotechar=\"\\\"\")\n",
    "dic_scimagojr_dfs['2016'] = pd.read_csv(\n",
    "    'scimagojr 2016.csv', sep=';', decimal=',', quotechar=\"\\\"\")\n",
    "dic_scimagojr_dfs['2015'] = pd.read_csv(\n",
    "    'scimagojr 2015.csv', sep=';', decimal=',', quotechar=\"\\\"\")\n",
    "dic_scimagojr_dfs['2014'] = pd.read_csv(\n",
    "    'scimagojr 2014.csv', sep=';', decimal=',', quotechar=\"\\\"\")\n",
    "dic_scimagojr_dfs['2013'] = pd.read_csv(\n",
    "    'scimagojr 2013.csv', sep=';', decimal=',', quotechar=\"\\\"\")\n",
    "dic_scimagojr_dfs['2012'] = pd.read_csv(\n",
    "    'scimagojr 2012.csv', sep=';', decimal=',', quotechar=\"\\\"\")\n",
    "dic_scimagojr_dfs['2011'] = pd.read_csv(\n",
    "    'scimagojr 2011.csv', sep=';', decimal=',', quotechar=\"\\\"\")\n",
    "\n",
    "df_quality['SJCR Quartile'] = df_quality.apply(\n",
    "    lambda row: retrieve_quartile(row, dic_scimagojr_dfs), axis=1)\n",
    "\n",
    "df_quality['SJR Indicator'] = df_quality.apply(\n",
    "    lambda row: retrieve_sjr(row, dic_scimagojr_dfs), axis=1)"
   ]
  },
  {
   "cell_type": "markdown",
   "metadata": {},
   "source": [
    "## Retrieve CORE rankings from CORE databases"
   ]
  },
  {
   "cell_type": "code",
   "execution_count": 4,
   "metadata": {},
   "outputs": [
    {
     "name": "stdout",
     "output_type": "stream",
     "text": [
      "Title: Proceedings of the Genetic and Evolutionary Computation Conference Companion\\ConferenceID: 556.0\n",
      "Article from year 2018\n",
      "A\n",
      "Title: 15th ACM Conference on Recommender Systems, RecSys 2021, September 27, 2021  -  October 1, 2021\\ConferenceID: 28.0\n",
      "Article from year 2021\n",
      "A\n",
      "Title: 2020 International Conference for Emerging Technology, INCET 2020, June 5, 2020  -  June 7, 2020\\ConferenceID: nan\n",
      "Empty!\n",
      "Title: nan\\ConferenceID: nan\n",
      "Empty!\n",
      "Title: nan\\ConferenceID: nan\n",
      "Empty!\n",
      "Title: nan\\ConferenceID: nan\n",
      "Empty!\n",
      "Title: International Conference on Renewable Power Generation (RPG 2015)\\ConferenceID: nan\n",
      "Empty!\n",
      "Title: 2019 IEEE Congress on Evolutionary Computation (CEC)\\ConferenceID: 2061.0\n",
      "Article from year 2019\n",
      "B\n",
      "Title: IEEE-International Conference On Advances In Engineering, Science And Management (ICAESM -2012)\\ConferenceID: nan\n",
      "Empty!\n",
      "Title: 2020 Chinese Automation Congress (CAC)\\ConferenceID: nan\n",
      "Empty!\n",
      "Title: 2019 2nd World Conference on Mechanical Engineering and Intelligent Manufacturing (WCMEIM)\\ConferenceID: nan\n",
      "Empty!\n",
      "Title: 2019 Chinese Control And Decision Conference (CCDC)\\ConferenceID: nan\n",
      "Empty!\n",
      "Title: 2012 International Conference on Computer Distributed Control and Intelligent Environmental Monitoring\\ConferenceID: nan\n",
      "Empty!\n",
      "Title: 2021 IEEE/ACIS 22nd International Conference on Software Engineering, Artificial Intelligence, Networking and Parallel/Distributed Computing (SNPD)\\ConferenceID: 1214.0\n",
      "Article from year 2021\n",
      "C\n",
      "Title: 2021 International Conference on System, Computation, Automation and Networking (ICSCAN)\\ConferenceID: nan\n",
      "Empty!\n",
      "Title: 2019 IEEE/AIAA 38th Digital Avionics Systems Conference (DASC)\\ConferenceID: nan\n",
      "Empty!\n",
      "Title: 2020 Integrated Communications Navigation and Surveillance Conference (ICNS)\\ConferenceID: nan\n",
      "Empty!\n",
      "Title: 2021 IEEE High Performance Extreme Computing Conference (HPEC)\\ConferenceID: nan\n",
      "Empty!\n",
      "Title: Proceedings of the 13th International Conference on Agents and Artificial Intelligence\\ConferenceID: 902.0\n",
      "Article from year 2021\n",
      "B\n",
      "Title: nan\\ConferenceID: nan\n",
      "Empty!\n",
      "Title: nan\\ConferenceID: nan\n",
      "Empty!\n",
      "Title: nan\\ConferenceID: nan\n",
      "Empty!\n",
      "Title: Computational Intelligence and Its Applications\\ConferenceID: nan\n",
      "Empty!\n",
      "Title: nan\\ConferenceID: nan\n",
      "Empty!\n",
      "Title: nan\\ConferenceID: nan\n",
      "Empty!\n",
      "Title: Computational Science – ICCS 2021\\ConferenceID: 952.0\n",
      "Article from year 2021\n",
      "A\n",
      "Title: Artificial Intelligence and Soft Computing\\ConferenceID: 912.0\n",
      "Article from year 2021\n",
      "National: Poland\n",
      "Title: nan\\ConferenceID: 706.0\n",
      "Article from year 2021\n",
      "B\n",
      "Title: nan\\ConferenceID: nan\n",
      "Empty!\n",
      "Title: nan\\ConferenceID: nan\n",
      "Empty!\n",
      "Title: nan\\ConferenceID: 695.0\n",
      "Article from year 2021\n",
      "A\n",
      "Title: 2021 China Automation Congress (CAC)\\ConferenceID: nan\n",
      "Empty!\n",
      "Title: Computational Science – ICCS 2020\\ConferenceID: 952.0\n",
      "Article from year 2020\n",
      "A\n",
      "Title: nan\\ConferenceID: 873.0\n",
      "Article from year 2019\n",
      "B\n",
      "Title: nan\\ConferenceID: 611.0\n",
      "Article from year 2020\n",
      "B\n",
      "Title: Ornamental Horticulture\\ConferenceID: nan\n",
      "Empty!\n"
     ]
    }
   ],
   "source": [
    "dic_CORE_dfs = {}\n",
    "dic_CORE_dfs['2021'] = pd.read_csv(\n",
    "    'CORE 2021.csv', sep=',', quotechar=\"\\\"\", header=None)\n",
    "dic_CORE_dfs['2020'] = pd.read_csv(\n",
    "    'CORE 2020.csv', sep=',', quotechar=\"\\\"\", header=None)\n",
    "dic_CORE_dfs['2019'] = pd.read_csv(\n",
    "    'CORE 2020.csv', sep=',', quotechar=\"\\\"\", header=None)\n",
    "dic_CORE_dfs['2018'] = pd.read_csv(\n",
    "    'CORE 2018.csv', sep=',', quotechar=\"\\\"\", header=None)\n",
    "dic_CORE_dfs['2017'] = pd.read_csv(\n",
    "    'CORE 2017.csv', sep=',', quotechar=\"\\\"\", header=None)\n",
    "dic_CORE_dfs['2016'] = pd.read_csv(\n",
    "    'CORE 2017.csv', sep=',', quotechar=\"\\\"\", header=None)\n",
    "dic_CORE_dfs['2015'] = pd.read_csv(\n",
    "    'CORE 2017.csv', sep=',', quotechar=\"\\\"\", header=None)\n",
    "dic_CORE_dfs['2014'] = pd.read_csv(\n",
    "    'CORE 2014.csv', sep=',', quotechar=\"\\\"\", header=None)\n",
    "dic_CORE_dfs['2013'] = pd.read_csv(\n",
    "    'CORE 2013.csv', sep=',', quotechar=\"\\\"\", header=None)\n",
    "dic_CORE_dfs['2012'] = pd.read_csv(\n",
    "    'CORE 2013.csv', sep=',', quotechar=\"\\\"\", header=None)\n",
    "dic_CORE_dfs['2011'] = pd.read_csv(\n",
    "    'CORE 2013.csv', sep=',', quotechar=\"\\\"\", header=None)\n",
    "\n",
    "df_quality['CORE Ranking'] = df_quality.apply(\n",
    "    lambda row: retrieve_conference(row, dic_CORE_dfs), axis=1)"
   ]
  },
  {
   "cell_type": "code",
   "execution_count": 5,
   "metadata": {},
   "outputs": [
    {
     "data": {
      "application/vnd.plotly.v1+json": {
       "config": {
        "plotlyServerURL": "https://plot.ly"
       },
       "data": [
        {
         "alignmentgroup": "True",
         "hovertemplate": "# of studies=%{x}<br>Publication Source=%{y}<extra></extra>",
         "legendgroup": "",
         "marker": {
          "color": "#1F77B4",
          "pattern": {
           "shape": ""
          }
         },
         "name": "",
         "offsetgroup": "",
         "orientation": "h",
         "showlegend": false,
         "textposition": "auto",
         "texttemplate": "%{x}",
         "type": "bar",
         "x": [
          36,
          111,
          2
         ],
         "xaxis": "x",
         "y": [
          "Conference",
          "Journal",
          "Workshop"
         ],
         "yaxis": "y"
        }
       ],
       "layout": {
        "barmode": "relative",
        "legend": {
         "tracegroupgap": 0
        },
        "margin": {
         "l": 120,
         "t": 60
        },
        "template": {
         "data": {
          "pie": [
           {
            "automargin": true,
            "type": "pie"
           }
          ]
         },
         "layout": {
          "xaxis": {
           "showgrid": true,
           "title": {
            "standoff": 15
           }
          },
          "yaxis": {
           "showgrid": true,
           "title": {
            "standoff": 15
           }
          }
         }
        },
        "xaxis": {
         "anchor": "y",
         "domain": [
          0,
          1
         ],
         "title": {
          "text": "# of studies"
         }
        },
        "yaxis": {
         "anchor": "x",
         "domain": [
          0,
          1
         ],
         "title": {
          "text": "Publication Source"
         }
        }
       }
      }
     },
     "metadata": {},
     "output_type": "display_data"
    }
   ],
   "source": [
    "df = df_quality.groupby(by=['Publication Source']).size().reset_index(name='# of studies')\n",
    "\n",
    "fig = px.bar(data_frame = df, y='Publication Source', x='# of studies', text_auto=True)\n",
    "fig.update_layout(margin={\"l\": 120})\n",
    "fig.write_image('searchandstudyselectionvalidation/validation_journals_and_conferences.pdf', width=WIDTH, height=QUARTER_HEIGHT)\n",
    "fig.show()"
   ]
  },
  {
   "cell_type": "markdown",
   "metadata": {},
   "source": [
    "## Validate study selection with distributions of studies according to their rankings"
   ]
  },
  {
   "cell_type": "code",
   "execution_count": 6,
   "metadata": {},
   "outputs": [
    {
     "name": "stdout",
     "output_type": "stream",
     "text": [
      "(111, 96)\n"
     ]
    },
    {
     "data": {
      "application/vnd.plotly.v1+json": {
       "config": {
        "plotlyServerURL": "https://plot.ly"
       },
       "data": [
        {
         "alignmentgroup": "True",
         "bingroup": "x",
         "hovertemplate": "SJR Indicator=%{x}<br>count=%{y}<extra></extra>",
         "legendgroup": "",
         "marker": {
          "color": "#1F77B4",
          "pattern": {
           "shape": ""
          }
         },
         "name": "",
         "nbinsx": 16,
         "offsetgroup": "",
         "orientation": "v",
         "showlegend": false,
         "texttemplate": "%{value}",
         "type": "histogram",
         "x": [
          "Not assigned",
          0.796,
          0.662,
          "Not assigned",
          0.3,
          1.714,
          "Not assigned",
          0.6,
          0.593,
          2.743,
          1.403,
          "Not assigned",
          "Not assigned",
          0.123,
          1.591,
          0.985,
          0.857,
          1.99,
          0.287,
          0.934,
          1.052,
          1.592,
          0.544,
          0.318,
          1.251,
          1.405,
          1.368,
          0.589,
          0.453,
          1.328,
          1.492,
          0.587,
          1.611,
          0.802,
          "Not assigned",
          1.341,
          1.775,
          1.2,
          1.684,
          0.638,
          1.684,
          0.587,
          1.854,
          1.314,
          1.476,
          0.894,
          0.92,
          0.158,
          1.356,
          1.099,
          0.952,
          0.468,
          1.365,
          0.279,
          "Not assigned",
          0.285,
          0.289,
          "Not assigned",
          "Not assigned",
          "Not assigned",
          0.262,
          1.164,
          0.593,
          1.484,
          1.139,
          2.07,
          0.713,
          0.283,
          2.381,
          0.6,
          1.474,
          0.341,
          0.587,
          0.775,
          0.358,
          0.548,
          0.879,
          0.785,
          0.249,
          0.414,
          1.961,
          1.832,
          0.662,
          "Not assigned",
          0.418,
          0.451,
          1.24,
          1.005,
          0.39,
          0.428,
          "Not assigned",
          "Not assigned",
          "Not assigned",
          0.613,
          0.21,
          0.927,
          "Not assigned",
          0.39,
          0.244,
          3.062,
          0.583,
          0.635,
          0.37,
          "Not assigned",
          0.775,
          1.394,
          1.017,
          1.017,
          2.232,
          1.065,
          0.67
         ],
         "xaxis": "x",
         "yaxis": "y"
        }
       ],
       "layout": {
        "bargap": 0.2,
        "barmode": "relative",
        "legend": {
         "tracegroupgap": 0
        },
        "margin": {
         "t": 60
        },
        "shapes": [
         {
          "line": {
           "color": "red",
           "dash": "dash"
          },
          "type": "line",
          "x0": 1,
          "x1": 1,
          "xref": "x",
          "y0": 0,
          "y1": 1,
          "yref": "y domain"
         }
        ],
        "template": {
         "data": {
          "pie": [
           {
            "automargin": true,
            "type": "pie"
           }
          ]
         },
         "layout": {
          "xaxis": {
           "showgrid": true,
           "title": {
            "standoff": 15
           }
          },
          "yaxis": {
           "showgrid": true,
           "title": {
            "standoff": 15
           }
          }
         }
        },
        "xaxis": {
         "anchor": "y",
         "domain": [
          0,
          1
         ],
         "range": [
          0,
          3.2
         ],
         "title": {
          "text": "SJR Indicator"
         }
        },
        "yaxis": {
         "anchor": "x",
         "domain": [
          0,
          1
         ],
         "title": {
          "text": "count"
         }
        }
       }
      }
     },
     "metadata": {},
     "output_type": "display_data"
    }
   ],
   "source": [
    "df_journals = df_quality[df_quality['Publication Source'] == 'Journal'] \n",
    "print(df_journals.shape)\n",
    "\n",
    "RANGE_X = [0,3.2]\n",
    "\n",
    "fig = px.histogram(data_frame = df_journals, x='SJR Indicator', text_auto=True, nbins=16, range_x=RANGE_X)\n",
    "fig.add_vline(x=1, line_dash=\"dash\", line_color=\"red\")\n",
    "fig.update_layout(bargap=0.2)\n",
    "fig.write_image('searchandstudyselectionvalidation/journals_histogram_sjr.pdf', width=WIDTH, height=QUARTER_HEIGHT)\n",
    "fig.show()"
   ]
  },
  {
   "cell_type": "code",
   "execution_count": 7,
   "metadata": {},
   "outputs": [
    {
     "name": "stdout",
     "output_type": "stream",
     "text": [
      "(111, 96)\n"
     ]
    },
    {
     "data": {
      "application/vnd.plotly.v1+json": {
       "config": {
        "plotlyServerURL": "https://plot.ly"
       },
       "data": [
        {
         "alignmentgroup": "True",
         "boxpoints": "all",
         "hovertemplate": "SJR Indicator=%{x}<extra></extra>",
         "legendgroup": "",
         "marker": {
          "color": "#1F77B4"
         },
         "name": "",
         "notched": false,
         "offsetgroup": "",
         "orientation": "h",
         "showlegend": false,
         "type": "box",
         "x": [
          "Not assigned",
          0.796,
          0.662,
          "Not assigned",
          0.3,
          1.714,
          "Not assigned",
          0.6,
          0.593,
          2.743,
          1.403,
          "Not assigned",
          "Not assigned",
          0.123,
          1.591,
          0.985,
          0.857,
          1.99,
          0.287,
          0.934,
          1.052,
          1.592,
          0.544,
          0.318,
          1.251,
          1.405,
          1.368,
          0.589,
          0.453,
          1.328,
          1.492,
          0.587,
          1.611,
          0.802,
          "Not assigned",
          1.341,
          1.775,
          1.2,
          1.684,
          0.638,
          1.684,
          0.587,
          1.854,
          1.314,
          1.476,
          0.894,
          0.92,
          0.158,
          1.356,
          1.099,
          0.952,
          0.468,
          1.365,
          0.279,
          "Not assigned",
          0.285,
          0.289,
          "Not assigned",
          "Not assigned",
          "Not assigned",
          0.262,
          1.164,
          0.593,
          1.484,
          1.139,
          2.07,
          0.713,
          0.283,
          2.381,
          0.6,
          1.474,
          0.341,
          0.587,
          0.775,
          0.358,
          0.548,
          0.879,
          0.785,
          0.249,
          0.414,
          1.961,
          1.832,
          0.662,
          "Not assigned",
          0.418,
          0.451,
          1.24,
          1.005,
          0.39,
          0.428,
          "Not assigned",
          "Not assigned",
          "Not assigned",
          0.613,
          0.21,
          0.927,
          "Not assigned",
          0.39,
          0.244,
          3.062,
          0.583,
          0.635,
          0.37,
          "Not assigned",
          0.775,
          1.394,
          1.017,
          1.017,
          2.232,
          1.065,
          0.67
         ],
         "x0": " ",
         "xaxis": "x",
         "y0": " ",
         "yaxis": "y"
        }
       ],
       "layout": {
        "boxmode": "group",
        "legend": {
         "tracegroupgap": 0
        },
        "margin": {
         "t": 60
        },
        "shapes": [
         {
          "line": {
           "color": "red",
           "dash": "dash"
          },
          "type": "line",
          "x0": 1,
          "x1": 1,
          "xref": "x",
          "y0": 0,
          "y1": 1,
          "yref": "y domain"
         }
        ],
        "template": {
         "data": {
          "pie": [
           {
            "automargin": true,
            "type": "pie"
           }
          ]
         },
         "layout": {
          "xaxis": {
           "showgrid": true,
           "title": {
            "standoff": 15
           }
          },
          "yaxis": {
           "showgrid": true,
           "title": {
            "standoff": 15
           }
          }
         }
        },
        "xaxis": {
         "anchor": "y",
         "domain": [
          0,
          1
         ],
         "range": [
          0,
          3.2
         ],
         "title": {
          "text": "SJR Indicator"
         }
        },
        "yaxis": {
         "anchor": "x",
         "domain": [
          0,
          1
         ]
        }
       }
      }
     },
     "metadata": {},
     "output_type": "display_data"
    }
   ],
   "source": [
    "df_journals = df_quality[df_quality['Publication Source'] == 'Journal'] \n",
    "print(df_journals.shape)\n",
    "\n",
    "fig = px.box(data_frame = df_journals, x='SJR Indicator', points='all',range_x=RANGE_X)\n",
    "fig.add_vline(x=1, line_dash=\"dash\", line_color=\"red\")\n",
    "fig.write_image('searchandstudyselectionvalidation/journals_boxplot_sjr.pdf', width=WIDTH, height=QUARTER_HEIGHT)\n",
    "fig.show()"
   ]
  },
  {
   "cell_type": "code",
   "execution_count": 8,
   "metadata": {},
   "outputs": [
    {
     "data": {
      "application/vnd.plotly.v1+json": {
       "config": {
        "plotlyServerURL": "https://plot.ly"
       },
       "data": [
        {
         "box": {
          "visible": true
         },
         "marker": {
          "outliercolor": "black"
         },
         "meanline": {
          "color": "black",
          "visible": true
         },
         "name": "",
         "points": "all",
         "type": "violin",
         "x": [
          "Not assigned",
          0.796,
          0.662,
          "Not assigned",
          0.3,
          1.714,
          "Not assigned",
          0.6,
          0.593,
          2.743,
          1.403,
          "Not assigned",
          "Not assigned",
          0.123,
          1.591,
          0.985,
          0.857,
          1.99,
          0.287,
          0.934,
          1.052,
          1.592,
          0.544,
          0.318,
          1.251,
          1.405,
          1.368,
          0.589,
          0.453,
          1.328,
          1.492,
          0.587,
          1.611,
          0.802,
          "Not assigned",
          1.341,
          1.775,
          1.2,
          1.684,
          0.638,
          1.684,
          0.587,
          1.854,
          1.314,
          1.476,
          0.894,
          0.92,
          0.158,
          1.356,
          1.099,
          0.952,
          0.468,
          1.365,
          0.279,
          "Not assigned",
          0.285,
          0.289,
          "Not assigned",
          "Not assigned",
          "Not assigned",
          0.262,
          1.164,
          0.593,
          1.484,
          1.139,
          2.07,
          0.713,
          0.283,
          2.381,
          0.6,
          1.474,
          0.341,
          0.587,
          0.775,
          0.358,
          0.548,
          0.879,
          0.785,
          0.249,
          0.414,
          1.961,
          1.832,
          0.662,
          "Not assigned",
          0.418,
          0.451,
          1.24,
          1.005,
          0.39,
          0.428,
          "Not assigned",
          "Not assigned",
          "Not assigned",
          0.613,
          0.21,
          0.927,
          "Not assigned",
          0.39,
          0.244,
          3.062,
          0.583,
          0.635,
          0.37,
          "Not assigned",
          0.775,
          1.394,
          1.017,
          1.017,
          2.232,
          1.065,
          0.67
         ]
        }
       ],
       "layout": {
        "shapes": [
         {
          "line": {
           "color": "red",
           "dash": "dash"
          },
          "type": "line",
          "x0": 1,
          "x1": 1,
          "xref": "x",
          "y0": 0,
          "y1": 1,
          "yref": "y domain"
         }
        ],
        "template": {
         "data": {
          "pie": [
           {
            "automargin": true,
            "type": "pie"
           }
          ]
         },
         "layout": {
          "xaxis": {
           "showgrid": true,
           "title": {
            "standoff": 15
           }
          },
          "yaxis": {
           "showgrid": true,
           "title": {
            "standoff": 15
           }
          }
         }
        },
        "xaxis": {
         "range": [
          0,
          3.2
         ],
         "title": {
          "text": "SJR Indicator"
         }
        }
       }
      }
     },
     "metadata": {},
     "output_type": "display_data"
    }
   ],
   "source": [
    "fig = go.Figure()\n",
    "fig.add_trace(go.Violin(x=df_journals['SJR Indicator'], box_visible=True, meanline_visible=True, marker_outliercolor='black', meanline_color='black', points='all', name=''))\n",
    "fig.add_vline(x=1, line_dash=\"dash\", line_color=\"red\")\n",
    "fig.update_xaxes(range=RANGE_X, title=\"SJR Indicator\")\n",
    "fig.write_image('searchandstudyselectionvalidation/journals_violinplot_sjr.pdf', width=WIDTH, height=HALF_HEIGHT)\n",
    "fig.show()"
   ]
  },
  {
   "cell_type": "code",
   "execution_count": 9,
   "metadata": {},
   "outputs": [
    {
     "name": "stdout",
     "output_type": "stream",
     "text": [
      "(111, 96)\n",
      "  SJCR Quartile  # of studies\n",
      "0  Not assigned            17\n",
      "1            Q1            60\n",
      "2            Q2            24\n",
      "3            Q3             8\n",
      "4            Q4             2\n"
     ]
    },
    {
     "data": {
      "application/vnd.plotly.v1+json": {
       "config": {
        "plotlyServerURL": "https://plot.ly"
       },
       "data": [
        {
         "alignmentgroup": "True",
         "hovertemplate": "SJCR Quartile=%{x}<br># of studies=%{y}<extra></extra>",
         "legendgroup": "",
         "marker": {
          "color": "#1F77B4",
          "pattern": {
           "shape": ""
          }
         },
         "name": "",
         "offsetgroup": "",
         "orientation": "v",
         "showlegend": false,
         "textposition": "auto",
         "texttemplate": "%{y}",
         "type": "bar",
         "x": [
          "Not assigned",
          "Q1",
          "Q2",
          "Q3",
          "Q4"
         ],
         "xaxis": "x",
         "y": [
          17,
          60,
          24,
          8,
          2
         ],
         "yaxis": "y"
        }
       ],
       "layout": {
        "barmode": "relative",
        "height": 250,
        "legend": {
         "tracegroupgap": 0
        },
        "margin": {
         "t": 60
        },
        "template": {
         "data": {
          "pie": [
           {
            "automargin": true,
            "type": "pie"
           }
          ]
         },
         "layout": {
          "xaxis": {
           "showgrid": true,
           "title": {
            "standoff": 15
           }
          },
          "yaxis": {
           "showgrid": true,
           "title": {
            "standoff": 15
           }
          }
         }
        },
        "width": 1000,
        "xaxis": {
         "anchor": "y",
         "domain": [
          0,
          1
         ],
         "title": {
          "text": "SJCR Quartile"
         }
        },
        "yaxis": {
         "anchor": "x",
         "domain": [
          0,
          1
         ],
         "title": {
          "text": "# of studies"
         }
        }
       }
      }
     },
     "metadata": {},
     "output_type": "display_data"
    }
   ],
   "source": [
    "df_journals = df_quality[df_quality['Publication Source'] == 'Journal'] \n",
    "\n",
    "df = df_journals.groupby(by=['SJCR Quartile'], dropna=False).size().reset_index(name='# of studies')\n",
    "\n",
    "print(df_journals.shape)\n",
    "print(df)\n",
    "\n",
    "fig = px.bar(data_frame = df, x='SJCR Quartile', y='# of studies', text_auto=True, width=WIDTH, height=QUARTER_HEIGHT)\n",
    "fig.write_image('searchandstudyselectionvalidation/journals_bar_sjcr_quartile.pdf')\n",
    "fig.show()"
   ]
  },
  {
   "cell_type": "code",
   "execution_count": 10,
   "metadata": {},
   "outputs": [
    {
     "name": "stdout",
     "output_type": "stream",
     "text": [
      "(36, 96)\n"
     ]
    },
    {
     "data": {
      "application/vnd.plotly.v1+json": {
       "config": {
        "plotlyServerURL": "https://plot.ly"
       },
       "data": [
        {
         "alignmentgroup": "True",
         "hovertemplate": "CORE Ranking=%{x}<br># of studies=%{y}<extra></extra>",
         "legendgroup": "",
         "marker": {
          "color": "#1F77B4",
          "pattern": {
           "shape": ""
          }
         },
         "name": "",
         "offsetgroup": "",
         "orientation": "v",
         "showlegend": false,
         "textposition": "auto",
         "texttemplate": "%{y}",
         "type": "bar",
         "x": [
          "A",
          "B",
          "C",
          "National: Poland",
          "Not assigned"
         ],
         "xaxis": "x",
         "y": [
          5,
          5,
          1,
          1,
          24
         ],
         "yaxis": "y"
        }
       ],
       "layout": {
        "barmode": "relative",
        "legend": {
         "tracegroupgap": 0
        },
        "margin": {
         "t": 60
        },
        "template": {
         "data": {
          "pie": [
           {
            "automargin": true,
            "type": "pie"
           }
          ]
         },
         "layout": {
          "xaxis": {
           "showgrid": true,
           "title": {
            "standoff": 15
           }
          },
          "yaxis": {
           "showgrid": true,
           "title": {
            "standoff": 15
           }
          }
         }
        },
        "xaxis": {
         "anchor": "y",
         "domain": [
          0,
          1
         ],
         "title": {
          "text": "CORE Ranking"
         }
        },
        "yaxis": {
         "anchor": "x",
         "domain": [
          0,
          1
         ],
         "title": {
          "text": "# of studies"
         }
        }
       }
      }
     },
     "metadata": {},
     "output_type": "display_data"
    }
   ],
   "source": [
    "df_conferences = df_quality[df_quality['Publication Source'] == 'Conference'] \n",
    "print(df_conferences.shape)\n",
    "\n",
    "df = df_conferences.groupby(by=['CORE Ranking']).size().reset_index(name='# of studies')\n",
    "\n",
    "fig = px.bar(data_frame = df, x='CORE Ranking', y='# of studies', text_auto=True)\n",
    "fig.write_image('searchandstudyselectionvalidation/conference_bar_core.pdf', width=WIDTH, height=QUARTER_HEIGHT)\n",
    "fig.show()"
   ]
  },
  {
   "cell_type": "markdown",
   "metadata": {},
   "source": [
    "## Quality Assessment"
   ]
  },
  {
   "cell_type": "code",
   "execution_count": 11,
   "metadata": {},
   "outputs": [
    {
     "data": {
      "application/vnd.plotly.v1+json": {
       "config": {
        "plotlyServerURL": "https://plot.ly"
       },
       "data": [
        {
         "alignmentgroup": "True",
         "boxpoints": "all",
         "hovertemplate": "SSTOTAL=%{x}<extra></extra>",
         "legendgroup": "",
         "marker": {
          "color": "#1F77B4"
         },
         "name": "",
         "notched": false,
         "offsetgroup": "",
         "orientation": "h",
         "showlegend": false,
         "type": "box",
         "x": [
          0.571428571,
          0.571428571,
          0.166666667,
          0.714285714,
          0.125,
          0.75,
          0.75,
          0.555555556,
          0.25,
          0.571428571,
          0.75,
          0.375,
          0.75,
          0.5,
          0.625,
          0.75,
          0.333333333,
          0.75,
          0.625,
          0.625,
          0.75,
          0.555555556,
          0.625,
          0.375,
          0.571428571,
          0.75,
          0.5,
          0.333333333,
          0.333333333,
          0.444444444,
          0.444444444,
          0.7,
          0.555555556,
          0.666666667,
          0.555555556,
          0.75,
          0.555555556,
          0.625,
          0.444444444,
          0.875,
          0.75,
          0.666666667,
          0.444444444,
          0.666666667,
          0.555555556,
          0.75,
          0.75,
          0.444444444,
          0.666666667,
          0.75,
          0.666666667,
          0.5,
          0.5,
          0.75,
          0.555555556,
          0.571428571,
          0.666666667,
          0.75,
          0.444444444,
          0.75,
          0.777777778,
          0.555555556,
          0.75,
          0.625,
          0.875,
          0.666666667,
          0.625,
          0.444444444,
          0.666666667,
          0.625,
          0.75,
          0.444444444,
          0.625,
          0.5,
          0.875,
          0.625,
          0.625,
          0.625,
          0.666666667,
          0.666666667,
          0.444444444,
          0.777777778,
          0.666666667,
          0.666666667,
          0.777777778,
          0.75,
          0.625,
          0.777777778,
          0.666666667,
          0.555555556,
          0.875,
          0.666666667,
          0.75,
          0.625,
          0.75,
          0.444444444,
          0.777777778,
          0.75,
          0.555555556,
          0.555555556,
          0.444444444,
          0.444444444,
          0.375,
          0.555555556,
          0.666666667,
          0.75,
          0.625,
          0.875,
          0.75,
          0.875,
          0.444444444,
          0.75,
          0.75,
          0.75,
          0.444444444,
          0.555555556,
          0.75,
          0.555555556,
          0.75,
          0.555555556,
          0.444444444,
          0.555555556,
          0.25,
          0.777777778,
          0.666666667,
          0.444444444,
          0.375,
          0.555555556,
          0.625,
          0.555555556,
          0.555555556,
          0.75,
          0.555555556,
          0.333333333,
          0.666666667,
          0.555555556,
          0.75,
          0.666666667,
          0.666666667,
          0.875,
          0.555555556,
          0.875,
          0.444444444,
          0.625,
          0.625,
          0.5,
          0.428571429,
          0.75,
          0.666666667
         ],
         "x0": " ",
         "xaxis": "x",
         "y0": " ",
         "yaxis": "y"
        }
       ],
       "layout": {
        "boxmode": "group",
        "legend": {
         "tracegroupgap": 0
        },
        "margin": {
         "t": 60
        },
        "template": {
         "data": {
          "pie": [
           {
            "automargin": true,
            "type": "pie"
           }
          ]
         },
         "layout": {
          "xaxis": {
           "showgrid": true,
           "title": {
            "standoff": 15
           }
          },
          "yaxis": {
           "showgrid": true,
           "title": {
            "standoff": 15
           }
          }
         }
        },
        "xaxis": {
         "anchor": "y",
         "domain": [
          0,
          1
         ],
         "range": [
          0,
          1
         ],
         "title": {
          "text": "SSTOTAL"
         }
        },
        "yaxis": {
         "anchor": "x",
         "domain": [
          0,
          1
         ]
        }
       }
      }
     },
     "metadata": {},
     "output_type": "display_data"
    },
    {
     "name": "stdout",
     "output_type": "stream",
     "text": [
      "mean: 0.6131058911744969\n",
      "std: 0.14895313162783524\n",
      "variance: 0.022187035421739214\n",
      "min: 0.125\n",
      "max: 0.875\n",
      "median: 0.625\n"
     ]
    }
   ],
   "source": [
    "fig = px.box(data_frame = df_quality, x='SSTOTAL', points='all',range_x=[0,1])\n",
    "fig.write_image('qualityassessment/sstotal_boxplot.pdf', width=WIDTH, height=QUARTER_HEIGHT)\n",
    "fig.show()\n",
    "\n",
    "mean = np.mean(df_quality['SSTOTAL'])\n",
    "print(f'mean: {mean}')\n",
    "\n",
    "std = np.std(df_quality['SSTOTAL'])\n",
    "print(f'std: {std}')\n",
    "\n",
    "variance = np.var(df_quality['SSTOTAL'])\n",
    "print(f'variance: {variance}')\n",
    "\n",
    "min = np.min(df_quality['SSTOTAL'])\n",
    "print(f'min: {min}')\n",
    "\n",
    "max = np.max(df_quality['SSTOTAL'])\n",
    "print(f'max: {max}')\n",
    "\n",
    "median = np.median(df_quality['SSTOTAL'])\n",
    "print(f'median: {median}')\n"
   ]
  },
  {
   "cell_type": "code",
   "execution_count": 12,
   "metadata": {},
   "outputs": [
    {
     "data": {
      "application/vnd.plotly.v1+json": {
       "config": {
        "plotlyServerURL": "https://plot.ly"
       },
       "data": [
        {
         "alignmentgroup": "True",
         "boxpoints": "all",
         "hovertemplate": "SRTOTAL=%{x}<extra></extra>",
         "legendgroup": "",
         "marker": {
          "color": "#1F77B4"
         },
         "name": "",
         "notched": false,
         "offsetgroup": "",
         "orientation": "h",
         "showlegend": false,
         "type": "box",
         "x": [
          0.714285714,
          0.714285714,
          0.833333333,
          0.866666667,
          0.357142857,
          0.666666667,
          0.866666667,
          0.733333333,
          0.857142857,
          0.785714286,
          0.75,
          0.571428571,
          0.466666667,
          0.666666667,
          0.666666667,
          0.6,
          0.538461538,
          0.8,
          0.733333333,
          0.733333333,
          0.666666667,
          0.666666667,
          0.6,
          0.714285714,
          0.642857143,
          0.8,
          0.466666667,
          0.428571429,
          0.466666667,
          0.533333333,
          0.6,
          0.666666667,
          0.733333333,
          0.666666667,
          0.6,
          0.666666667,
          0.8,
          0.8,
          0.733333333,
          0.8,
          0.8,
          0.6,
          0.733333333,
          0.666666667,
          0.666666667,
          0.666666667,
          0.8,
          0.4,
          0.666666667,
          0.666666667,
          0.666666667,
          0.384615385,
          0.230769231,
          0.6,
          0.733333333,
          0.571428571,
          0.666666667,
          0.733333333,
          0.6,
          0.733333333,
          0.666666667,
          0.533333333,
          0.666666667,
          0.666666667,
          0.733333333,
          0.666666667,
          0.666666667,
          0.733333333,
          0.733333333,
          0.733333333,
          0.733333333,
          0.666666667,
          0.666666667,
          0.666666667,
          0.666666667,
          0.666666667,
          0.666666667,
          0.6,
          0.666666667,
          0.733333333,
          0.6,
          0.733333333,
          0.733333333,
          0.666666667,
          0.733333333,
          0.533333333,
          0.666666667,
          0.666666667,
          0.6,
          0.6,
          0.6,
          0.733333333,
          0.533333333,
          0.6,
          0.8,
          0.666666667,
          0.666666667,
          0.666666667,
          0.733333333,
          0.666666667,
          0.666666667,
          0.666666667,
          0.5,
          0.666666667,
          0.666666667,
          0.666666667,
          0.533333333,
          0.8,
          0.8,
          0.733333333,
          0.533333333,
          0.666666667,
          0.733333333,
          0.733333333,
          0.533333333,
          0.733333333,
          0.6,
          0.533333333,
          0.733333333,
          0.533333333,
          0.6,
          0.666666667,
          0.714285714,
          0.733333333,
          0.666666667,
          0.666666667,
          0.642857143,
          0.666666667,
          0.533333333,
          0.8,
          0.6,
          0.8,
          0.666666667,
          0.733333333,
          0.666666667,
          0.75,
          0.6,
          0.733333333,
          0.666666667,
          0.666666667,
          0.666666667,
          0.8,
          0.666666667,
          0.6,
          0.8,
          0.857142857,
          0.571428571,
          0.733333333,
          0.666666667
         ],
         "x0": " ",
         "xaxis": "x",
         "y0": " ",
         "yaxis": "y"
        }
       ],
       "layout": {
        "boxmode": "group",
        "legend": {
         "tracegroupgap": 0
        },
        "margin": {
         "t": 60
        },
        "template": {
         "data": {
          "pie": [
           {
            "automargin": true,
            "type": "pie"
           }
          ]
         },
         "layout": {
          "xaxis": {
           "showgrid": true,
           "title": {
            "standoff": 15
           }
          },
          "yaxis": {
           "showgrid": true,
           "title": {
            "standoff": 15
           }
          }
         }
        },
        "xaxis": {
         "anchor": "y",
         "domain": [
          0,
          1
         ],
         "range": [
          0,
          1
         ],
         "title": {
          "text": "SRTOTAL"
         }
        },
        "yaxis": {
         "anchor": "x",
         "domain": [
          0,
          1
         ]
        }
       }
      }
     },
     "metadata": {},
     "output_type": "display_data"
    },
    {
     "name": "stdout",
     "output_type": "stream",
     "text": [
      "mean: 0.6661971138724835\n",
      "std: 0.10162169300183199\n",
      "variance: 0.010326968488558588\n",
      "min: 0.230769231\n",
      "max: 0.866666667\n",
      "median: 0.666666667\n"
     ]
    }
   ],
   "source": [
    "fig = px.box(data_frame = df_quality, x='SRTOTAL', points='all',range_x=[0,1])\n",
    "fig.write_image('qualityassessment/srtotal_boxplot.pdf', width=WIDTH, height=QUARTER_HEIGHT)\n",
    "fig.show()\n",
    "\n",
    "mean = np.mean(df_quality['SRTOTAL'])\n",
    "print(f'mean: {mean}')\n",
    "\n",
    "std = np.std(df_quality['SRTOTAL'])\n",
    "print(f'std: {std}')\n",
    "\n",
    "variance = np.var(df_quality['SRTOTAL'])\n",
    "print(f'variance: {variance}')\n",
    "\n",
    "min = np.min(df_quality['SRTOTAL'])\n",
    "print(f'min: {min}')\n",
    "\n",
    "max = np.max(df_quality['SRTOTAL'])\n",
    "print(f'max: {max}')\n",
    "\n",
    "median = np.median(df_quality['SRTOTAL'])\n",
    "print(f'median: {median}')"
   ]
  },
  {
   "cell_type": "code",
   "execution_count": 13,
   "metadata": {},
   "outputs": [
    {
     "data": {
      "application/vnd.plotly.v1+json": {
       "config": {
        "plotlyServerURL": "https://plot.ly"
       },
       "data": [
        {
         "box": {
          "visible": true
         },
         "marker": {
          "outliercolor": "black"
         },
         "meanline": {
          "color": "black",
          "visible": true
         },
         "name": "$S_R$",
         "type": "violin",
         "x": [
          0.714285714,
          0.714285714,
          0.833333333,
          0.866666667,
          0.357142857,
          0.666666667,
          0.866666667,
          0.733333333,
          0.857142857,
          0.785714286,
          0.75,
          0.571428571,
          0.466666667,
          0.666666667,
          0.666666667,
          0.6,
          0.538461538,
          0.8,
          0.733333333,
          0.733333333,
          0.666666667,
          0.666666667,
          0.6,
          0.714285714,
          0.642857143,
          0.8,
          0.466666667,
          0.428571429,
          0.466666667,
          0.533333333,
          0.6,
          0.666666667,
          0.733333333,
          0.666666667,
          0.6,
          0.666666667,
          0.8,
          0.8,
          0.733333333,
          0.8,
          0.8,
          0.6,
          0.733333333,
          0.666666667,
          0.666666667,
          0.666666667,
          0.8,
          0.4,
          0.666666667,
          0.666666667,
          0.666666667,
          0.384615385,
          0.230769231,
          0.6,
          0.733333333,
          0.571428571,
          0.666666667,
          0.733333333,
          0.6,
          0.733333333,
          0.666666667,
          0.533333333,
          0.666666667,
          0.666666667,
          0.733333333,
          0.666666667,
          0.666666667,
          0.733333333,
          0.733333333,
          0.733333333,
          0.733333333,
          0.666666667,
          0.666666667,
          0.666666667,
          0.666666667,
          0.666666667,
          0.666666667,
          0.6,
          0.666666667,
          0.733333333,
          0.6,
          0.733333333,
          0.733333333,
          0.666666667,
          0.733333333,
          0.533333333,
          0.666666667,
          0.666666667,
          0.6,
          0.6,
          0.6,
          0.733333333,
          0.533333333,
          0.6,
          0.8,
          0.666666667,
          0.666666667,
          0.666666667,
          0.733333333,
          0.666666667,
          0.666666667,
          0.666666667,
          0.5,
          0.666666667,
          0.666666667,
          0.666666667,
          0.533333333,
          0.8,
          0.8,
          0.733333333,
          0.533333333,
          0.666666667,
          0.733333333,
          0.733333333,
          0.533333333,
          0.733333333,
          0.6,
          0.533333333,
          0.733333333,
          0.533333333,
          0.6,
          0.666666667,
          0.714285714,
          0.733333333,
          0.666666667,
          0.666666667,
          0.642857143,
          0.666666667,
          0.533333333,
          0.8,
          0.6,
          0.8,
          0.666666667,
          0.733333333,
          0.666666667,
          0.75,
          0.6,
          0.733333333,
          0.666666667,
          0.666666667,
          0.666666667,
          0.8,
          0.666666667,
          0.6,
          0.8,
          0.857142857,
          0.571428571,
          0.733333333,
          0.666666667
         ]
        },
        {
         "box": {
          "visible": true
         },
         "marker": {
          "outliercolor": "black"
         },
         "meanline": {
          "color": "black",
          "visible": true
         },
         "name": "$S_S$",
         "type": "violin",
         "x": [
          0.571428571,
          0.571428571,
          0.166666667,
          0.714285714,
          0.125,
          0.75,
          0.75,
          0.555555556,
          0.25,
          0.571428571,
          0.75,
          0.375,
          0.75,
          0.5,
          0.625,
          0.75,
          0.333333333,
          0.75,
          0.625,
          0.625,
          0.75,
          0.555555556,
          0.625,
          0.375,
          0.571428571,
          0.75,
          0.5,
          0.333333333,
          0.333333333,
          0.444444444,
          0.444444444,
          0.7,
          0.555555556,
          0.666666667,
          0.555555556,
          0.75,
          0.555555556,
          0.625,
          0.444444444,
          0.875,
          0.75,
          0.666666667,
          0.444444444,
          0.666666667,
          0.555555556,
          0.75,
          0.75,
          0.444444444,
          0.666666667,
          0.75,
          0.666666667,
          0.5,
          0.5,
          0.75,
          0.555555556,
          0.571428571,
          0.666666667,
          0.75,
          0.444444444,
          0.75,
          0.777777778,
          0.555555556,
          0.75,
          0.625,
          0.875,
          0.666666667,
          0.625,
          0.444444444,
          0.666666667,
          0.625,
          0.75,
          0.444444444,
          0.625,
          0.5,
          0.875,
          0.625,
          0.625,
          0.625,
          0.666666667,
          0.666666667,
          0.444444444,
          0.777777778,
          0.666666667,
          0.666666667,
          0.777777778,
          0.75,
          0.625,
          0.777777778,
          0.666666667,
          0.555555556,
          0.875,
          0.666666667,
          0.75,
          0.625,
          0.75,
          0.444444444,
          0.777777778,
          0.75,
          0.555555556,
          0.555555556,
          0.444444444,
          0.444444444,
          0.375,
          0.555555556,
          0.666666667,
          0.75,
          0.625,
          0.875,
          0.75,
          0.875,
          0.444444444,
          0.75,
          0.75,
          0.75,
          0.444444444,
          0.555555556,
          0.75,
          0.555555556,
          0.75,
          0.555555556,
          0.444444444,
          0.555555556,
          0.25,
          0.777777778,
          0.666666667,
          0.444444444,
          0.375,
          0.555555556,
          0.625,
          0.555555556,
          0.555555556,
          0.75,
          0.555555556,
          0.333333333,
          0.666666667,
          0.555555556,
          0.75,
          0.666666667,
          0.666666667,
          0.875,
          0.555555556,
          0.875,
          0.444444444,
          0.625,
          0.625,
          0.5,
          0.428571429,
          0.75,
          0.666666667
         ]
        }
       ],
       "layout": {
        "showlegend": false,
        "template": {
         "data": {
          "pie": [
           {
            "automargin": true,
            "type": "pie"
           }
          ]
         },
         "layout": {
          "xaxis": {
           "showgrid": true,
           "title": {
            "standoff": 15
           }
          },
          "yaxis": {
           "showgrid": true,
           "title": {
            "standoff": 15
           }
          }
         }
        },
        "xaxis": {
         "range": [
          0,
          1
         ],
         "title": {
          "text": "Score"
         }
        },
        "yaxis": {
         "title": {
          "text": "Feature ID"
         }
        }
       }
      }
     },
     "metadata": {},
     "output_type": "display_data"
    }
   ],
   "source": [
    "fig = go.Figure()\n",
    "\n",
    "fig.add_trace(go.Violin(x=df_quality['SRTOTAL'], name='$S_R$', box_visible=True,\n",
    "              meanline_visible=True, marker_outliercolor='black', meanline_color='black'))\n",
    "fig.add_trace(go.Violin(x=df_quality['SSTOTAL'], name='$S_S$', box_visible=True,\n",
    "              meanline_visible=True, marker_outliercolor='black', meanline_color='black'))\n",
    "fig.update_xaxes(range=[0, 1], title='Score')\n",
    "fig.update_yaxes(title=\"Feature ID\")\n",
    "fig.update_layout(showlegend=False)\n",
    "fig.write_image('qualityassessment/quality_ss00_sr00.pdf',\n",
    "                width=WIDTH, height=HALF_HEIGHT)\n",
    "fig.show()"
   ]
  },
  {
   "cell_type": "code",
   "execution_count": 14,
   "metadata": {},
   "outputs": [
    {
     "data": {
      "application/vnd.plotly.v1+json": {
       "config": {
        "plotlyServerURL": "https://plot.ly"
       },
       "data": [
        {
         "hovertemplate": "SSTOTAL=%{x}<br>SRTOTAL=%{y}<extra></extra>",
         "legendgroup": "",
         "marker": {
          "color": "#1F77B4",
          "symbol": "circle"
         },
         "mode": "markers",
         "name": "",
         "orientation": "v",
         "showlegend": false,
         "type": "scatter",
         "x": [
          0.5871118396390818,
          0.5847971879943578,
          0.15827612779120723,
          0.7289155354393388,
          0.13051692761304778,
          0.7553653445903052,
          0.7658381437012296,
          0.5543413516375905,
          0.25375330113270544,
          0.5902277358847754,
          0.7373805555944525,
          0.37500375302865346,
          0.7548508167276724,
          0.48175937849534944,
          0.6192440464457092,
          0.7337834760237587,
          0.3388116940330275,
          0.7301334886471567,
          0.6258648725884961,
          0.6353130284976969,
          0.7364029436689647,
          0.548267982154882,
          0.6308889060768104,
          0.3816737898861872,
          0.564437876500237,
          0.7464539692403341,
          0.5111741433710347,
          0.32496476938272306,
          0.3459280134084018,
          0.45474866850479895,
          0.45127304514092925,
          0.7088245050180484,
          0.5753467656051428,
          0.6605919378377769,
          0.539468091779099,
          0.7448543704016835,
          0.544644560480673,
          0.6415555019499857,
          0.46296406004648316,
          0.8717882450124274,
          0.7638233554123768,
          0.6515815860488755,
          0.4507613120401759,
          0.6640331972995435,
          0.5408278086125267,
          0.7658050100810991,
          0.7668769507411491,
          0.46405622305166533,
          0.674408257201333,
          0.7374430533753067,
          0.6859093667635052,
          0.5100044650546031,
          0.48045164042418126,
          0.7492098517613195,
          0.5667387864662319,
          0.5684201366785064,
          0.6609413760149877,
          0.7640485570937446,
          0.4512201832898041,
          0.7398555679448184,
          0.7789724646207484,
          0.5431145250774643,
          0.755954712075666,
          0.6205756828194803,
          0.8809641142218295,
          0.6546497071300952,
          0.6392475897736604,
          0.43158244677604646,
          0.6823957397832311,
          0.6369503278062055,
          0.7415526211387382,
          0.45791752539633135,
          0.6064782675079621,
          0.49873639228769073,
          0.8775695699894298,
          0.6144352371524425,
          0.6195337753986552,
          0.630335113759507,
          0.6605937594317741,
          0.6651994177429111,
          0.46027294856501727,
          0.7624027961465535,
          0.6566035488548793,
          0.6693857941538013,
          0.7870398107793145,
          0.7345604811013299,
          0.6402837889635378,
          0.7811044226452984,
          0.6831383325421662,
          0.5470456594582807,
          0.8564051954196057,
          0.6511389184139944,
          0.7621016636728126,
          0.633942288459388,
          0.7515264464656737,
          0.4641865861315153,
          0.7957075996069385,
          0.7312718531963399,
          0.5738976995536725,
          0.5483855218634202,
          0.4353467809017052,
          0.4626382203380741,
          0.3682729130076021,
          0.5505377903242843,
          0.667568960694598,
          0.7602072203330869,
          0.6388662375523493,
          0.8637734956951093,
          0.7428869195224039,
          0.8627711970252085,
          0.4264809397548095,
          0.7579168213115832,
          0.7647912812173725,
          0.7638604923281809,
          0.44162810448141326,
          0.5755499581316339,
          0.7642152583074909,
          0.5495708434348965,
          0.7591029006594726,
          0.5659480950354346,
          0.4422417267678713,
          0.574747138493165,
          0.26816957171457845,
          0.7761720599456265,
          0.6721563847581639,
          0.42463384595185416,
          0.37514939491352933,
          0.5524275573658209,
          0.6363644895422598,
          0.5434930497376522,
          0.5674138434096174,
          0.7575597506807709,
          0.5396715876558078,
          0.34088216215834755,
          0.6804925230159303,
          0.571786890542234,
          0.7358164066917484,
          0.6701611417077197,
          0.6538645376749601,
          0.8849433787974537,
          0.5697342676224161,
          0.8557127550349383,
          0.43017711878817794,
          0.6265950335810929,
          0.6257912072546252,
          0.4892171365827269,
          0.4121025931008399,
          0.741310138793308,
          0.6539972752514994
         ],
         "xaxis": "x",
         "y": [
          0.7099163968318178,
          0.7154820362647354,
          0.8288852385550903,
          0.8706231877835434,
          0.36391357834538673,
          0.6562194531483946,
          0.8679135674041156,
          0.717656341760848,
          0.8613493195862504,
          0.7713783299538781,
          0.7373132355239091,
          0.5536789396366336,
          0.4781049364130133,
          0.6514578539355413,
          0.6742194858760718,
          0.5998753625182506,
          0.5500361429918332,
          0.8142112317665963,
          0.7340571779766328,
          0.744222607410933,
          0.6553829163064085,
          0.6807013842132635,
          0.5870903419904702,
          0.7009465183898598,
          0.6409754150156121,
          0.7831856361679896,
          0.4673610948110549,
          0.40874574231760535,
          0.47249616010174345,
          0.5162106085898038,
          0.588662319194883,
          0.6658222891495835,
          0.721203444551815,
          0.6698514107236616,
          0.6012692319444464,
          0.6562700266724368,
          0.7931217889050384,
          0.7962923361162753,
          0.7256205541960218,
          0.8072723776436626,
          0.8097759535157051,
          0.5910877647706895,
          0.7422167261871192,
          0.6836049749834371,
          0.6623441606601571,
          0.6472472870746063,
          0.7807071333752461,
          0.3922183071244228,
          0.6518015446878959,
          0.6494309748405521,
          0.6844782532834781,
          0.3818438798191007,
          0.21120232303664443,
          0.6052993481396699,
          0.737360146948414,
          0.5905849017075497,
          0.6804317139918094,
          0.752451266816415,
          0.5988319860101221,
          0.7402820982189686,
          0.6724415596544648,
          0.5383578758003871,
          0.6758491240348672,
          0.6707642678573785,
          0.7147031201222371,
          0.671633367753657,
          0.648638078584758,
          0.7505257766085247,
          0.7216005080974461,
          0.741390057691961,
          0.7233565621471559,
          0.6467161625695161,
          0.6666568243969402,
          0.6724935156411062,
          0.6535885232180502,
          0.6595316354878842,
          0.6742427566384736,
          0.6059155966869113,
          0.6809732962602528,
          0.7423494792571421,
          0.5819554589290127,
          0.7189879438739295,
          0.751067592375954,
          0.6621271878963915,
          0.7339205984285528,
          0.5526570728907133,
          0.6489107434126952,
          0.666904816026245,
          0.5926163339466599,
          0.588526014577412,
          0.6103944292837192,
          0.7305691113979071,
          0.5496599424335896,
          0.6114015342748584,
          0.8039701612272324,
          0.6858641023607771,
          0.6747199211568171,
          0.6833502554941651,
          0.7485055482594728,
          0.6832432382261178,
          0.6468846998973619,
          0.6849560105016657,
          0.5113088123209091,
          0.6476731374322422,
          0.6616751057077527,
          0.662124437157312,
          0.5453866268225785,
          0.7866318255358205,
          0.7993745745166065,
          0.7531080146971872,
          0.5431611610978746,
          0.6521105380258712,
          0.7359181871966216,
          0.7212331871000142,
          0.5433068412403941,
          0.7201629640928807,
          0.6060703678911815,
          0.5413336733221528,
          0.721559293465471,
          0.5381764317550535,
          0.5989669624446701,
          0.6644909666337521,
          0.7238114614150682,
          0.7301630342905455,
          0.6624696101626497,
          0.6686971417011078,
          0.6624211342325713,
          0.6827014091872579,
          0.5284806495368221,
          0.7962415995543407,
          0.5938992641462308,
          0.81374197370738,
          0.6556101125147886,
          0.7471556357395116,
          0.660664828501014,
          0.7657979631868423,
          0.5924456741738612,
          0.7505377039142598,
          0.6597213107217552,
          0.6654217768430482,
          0.6706003491524646,
          0.8067790837192779,
          0.6518374437935317,
          0.5888699455791843,
          0.8018636575664028,
          0.8660239952981069,
          0.5552371367083774,
          0.748102014503344,
          0.6676128611731426
         ],
         "yaxis": "y"
        }
       ],
       "layout": {
        "legend": {
         "tracegroupgap": 0
        },
        "margin": {
         "t": 60
        },
        "shapes": [
         {
          "line": {
           "color": "red"
          },
          "type": "line",
          "x0": 0,
          "x1": 1,
          "xref": "x",
          "y0": 0,
          "y1": 1,
          "yref": "y"
         }
        ],
        "template": {
         "data": {
          "pie": [
           {
            "automargin": true,
            "type": "pie"
           }
          ]
         },
         "layout": {
          "xaxis": {
           "showgrid": true,
           "title": {
            "standoff": 15
           }
          },
          "yaxis": {
           "showgrid": true,
           "title": {
            "standoff": 15
           }
          }
         }
        },
        "xaxis": {
         "anchor": "y",
         "domain": [
          0,
          1
         ],
         "range": [
          0,
          1
         ],
         "title": {
          "text": "Quality of Study"
         }
        },
        "yaxis": {
         "anchor": "x",
         "domain": [
          0,
          1
         ],
         "range": [
          0,
          1
         ],
         "title": {
          "text": "Quality of Reporting"
         }
        }
       }
      }
     },
     "metadata": {},
     "output_type": "display_data"
    },
    {
     "data": {
      "application/vnd.plotly.v1+json": {
       "config": {
        "plotlyServerURL": "https://plot.ly"
       },
       "data": [
        {
         "hovertemplate": "x=%{x}<br>y=%{y}<extra></extra>",
         "legendgroup": "",
         "marker": {
          "color": "#1F77B4",
          "symbol": "circle"
         },
         "mode": "markers",
         "name": "",
         "orientation": "h",
         "showlegend": false,
         "type": "scatter",
         "x": [
          0.571428571,
          0.571428571,
          0.166666667,
          0.714285714,
          0.125,
          0.75,
          0.75,
          0.555555556,
          0.25,
          0.571428571,
          0.75,
          0.375,
          0.75,
          0.5,
          0.625,
          0.75,
          0.333333333,
          0.75,
          0.625,
          0.625,
          0.75,
          0.555555556,
          0.625,
          0.375,
          0.571428571,
          0.75,
          0.5,
          0.333333333,
          0.333333333,
          0.444444444,
          0.444444444,
          0.7,
          0.555555556,
          0.666666667,
          0.555555556,
          0.75,
          0.555555556,
          0.625,
          0.444444444,
          0.875,
          0.75,
          0.666666667,
          0.444444444,
          0.666666667,
          0.555555556,
          0.75,
          0.75,
          0.444444444,
          0.666666667,
          0.75,
          0.666666667,
          0.5,
          0.5,
          0.75,
          0.555555556,
          0.571428571,
          0.666666667,
          0.75,
          0.444444444,
          0.75,
          0.777777778,
          0.555555556,
          0.75,
          0.625,
          0.875,
          0.666666667,
          0.625,
          0.444444444,
          0.666666667,
          0.625,
          0.75,
          0.444444444,
          0.625,
          0.5,
          0.875,
          0.625,
          0.625,
          0.625,
          0.666666667,
          0.666666667,
          0.444444444,
          0.777777778,
          0.666666667,
          0.666666667,
          0.777777778,
          0.75,
          0.625,
          0.777777778,
          0.666666667,
          0.555555556,
          0.875,
          0.666666667,
          0.75,
          0.625,
          0.75,
          0.444444444,
          0.777777778,
          0.75,
          0.555555556,
          0.555555556,
          0.444444444,
          0.444444444,
          0.375,
          0.555555556,
          0.666666667,
          0.75,
          0.625,
          0.875,
          0.75,
          0.875,
          0.444444444,
          0.75,
          0.75,
          0.75,
          0.444444444,
          0.555555556,
          0.75,
          0.555555556,
          0.75,
          0.555555556,
          0.444444444,
          0.555555556,
          0.25,
          0.777777778,
          0.666666667,
          0.444444444,
          0.375,
          0.555555556,
          0.625,
          0.555555556,
          0.555555556,
          0.75,
          0.555555556,
          0.333333333,
          0.666666667,
          0.555555556,
          0.75,
          0.666666667,
          0.666666667,
          0.875,
          0.555555556,
          0.875,
          0.444444444,
          0.625,
          0.625,
          0.5,
          0.428571429,
          0.75,
          0.666666667
         ],
         "xaxis": "x",
         "y": [
          null,
          null,
          "Not assigned",
          null,
          null,
          0.796,
          0.662,
          "Not assigned",
          0.3,
          1.714,
          "Not assigned",
          null,
          0.6,
          0.593,
          null,
          null,
          null,
          2.743,
          1.403,
          "Not assigned",
          "Not assigned",
          null,
          0.123,
          null,
          null,
          1.591,
          null,
          null,
          null,
          null,
          0.985,
          0.857,
          1.99,
          0.287,
          0.934,
          1.052,
          1.592,
          0.544,
          0.318,
          1.251,
          1.405,
          1.368,
          0.589,
          0.453,
          1.328,
          1.492,
          null,
          null,
          0.587,
          1.611,
          0.802,
          null,
          null,
          "Not assigned",
          1.341,
          1.775,
          1.2,
          1.684,
          0.638,
          1.684,
          0.587,
          null,
          null,
          1.854,
          1.314,
          1.476,
          0.894,
          0.92,
          0.158,
          1.356,
          1.099,
          0.952,
          null,
          0.468,
          1.365,
          null,
          0.279,
          "Not assigned",
          0.285,
          0.289,
          "Not assigned",
          "Not assigned",
          "Not assigned",
          null,
          null,
          0.262,
          1.164,
          0.593,
          1.484,
          1.139,
          2.07,
          0.713,
          0.283,
          2.381,
          0.6,
          1.474,
          0.341,
          0.587,
          0.775,
          0.358,
          0.548,
          0.879,
          null,
          0.785,
          0.249,
          0.414,
          null,
          1.961,
          1.832,
          0.662,
          "Not assigned",
          0.418,
          0.451,
          1.24,
          1.005,
          0.39,
          0.428,
          "Not assigned",
          "Not assigned",
          "Not assigned",
          null,
          0.613,
          0.21,
          0.927,
          "Not assigned",
          null,
          0.39,
          0.244,
          null,
          3.062,
          null,
          null,
          null,
          null,
          null,
          0.583,
          0.635,
          null,
          0.37,
          "Not assigned",
          0.775,
          1.394,
          1.017,
          null,
          1.017,
          2.232,
          null,
          1.065,
          0.67
         ],
         "yaxis": "y"
        }
       ],
       "layout": {
        "legend": {
         "tracegroupgap": 0
        },
        "margin": {
         "t": 60
        },
        "template": {
         "data": {
          "pie": [
           {
            "automargin": true,
            "type": "pie"
           }
          ]
         },
         "layout": {
          "xaxis": {
           "showgrid": true,
           "title": {
            "standoff": 15
           }
          },
          "yaxis": {
           "showgrid": true,
           "title": {
            "standoff": 15
           }
          }
         }
        },
        "xaxis": {
         "anchor": "y",
         "domain": [
          0,
          1
         ],
         "range": [
          0,
          1
         ],
         "title": {
          "text": "Quality of Study"
         }
        },
        "yaxis": {
         "anchor": "x",
         "domain": [
          0,
          1
         ],
         "title": {
          "text": "SJR Indicator"
         }
        }
       }
      }
     },
     "metadata": {},
     "output_type": "display_data"
    },
    {
     "data": {
      "application/vnd.plotly.v1+json": {
       "config": {
        "plotlyServerURL": "https://plot.ly"
       },
       "data": [
        {
         "hovertemplate": "x=%{x}<br>y=%{y}<extra></extra>",
         "legendgroup": "",
         "marker": {
          "color": "#1F77B4",
          "symbol": "circle"
         },
         "mode": "markers",
         "name": "",
         "orientation": "h",
         "showlegend": false,
         "type": "scatter",
         "x": [
          0.714285714,
          0.714285714,
          0.833333333,
          0.866666667,
          0.357142857,
          0.666666667,
          0.866666667,
          0.733333333,
          0.857142857,
          0.785714286,
          0.75,
          0.571428571,
          0.466666667,
          0.666666667,
          0.666666667,
          0.6,
          0.538461538,
          0.8,
          0.733333333,
          0.733333333,
          0.666666667,
          0.666666667,
          0.6,
          0.714285714,
          0.642857143,
          0.8,
          0.466666667,
          0.428571429,
          0.466666667,
          0.533333333,
          0.6,
          0.666666667,
          0.733333333,
          0.666666667,
          0.6,
          0.666666667,
          0.8,
          0.8,
          0.733333333,
          0.8,
          0.8,
          0.6,
          0.733333333,
          0.666666667,
          0.666666667,
          0.666666667,
          0.8,
          0.4,
          0.666666667,
          0.666666667,
          0.666666667,
          0.384615385,
          0.230769231,
          0.6,
          0.733333333,
          0.571428571,
          0.666666667,
          0.733333333,
          0.6,
          0.733333333,
          0.666666667,
          0.533333333,
          0.666666667,
          0.666666667,
          0.733333333,
          0.666666667,
          0.666666667,
          0.733333333,
          0.733333333,
          0.733333333,
          0.733333333,
          0.666666667,
          0.666666667,
          0.666666667,
          0.666666667,
          0.666666667,
          0.666666667,
          0.6,
          0.666666667,
          0.733333333,
          0.6,
          0.733333333,
          0.733333333,
          0.666666667,
          0.733333333,
          0.533333333,
          0.666666667,
          0.666666667,
          0.6,
          0.6,
          0.6,
          0.733333333,
          0.533333333,
          0.6,
          0.8,
          0.666666667,
          0.666666667,
          0.666666667,
          0.733333333,
          0.666666667,
          0.666666667,
          0.666666667,
          0.5,
          0.666666667,
          0.666666667,
          0.666666667,
          0.533333333,
          0.8,
          0.8,
          0.733333333,
          0.533333333,
          0.666666667,
          0.733333333,
          0.733333333,
          0.533333333,
          0.733333333,
          0.6,
          0.533333333,
          0.733333333,
          0.533333333,
          0.6,
          0.666666667,
          0.714285714,
          0.733333333,
          0.666666667,
          0.666666667,
          0.642857143,
          0.666666667,
          0.533333333,
          0.8,
          0.6,
          0.8,
          0.666666667,
          0.733333333,
          0.666666667,
          0.75,
          0.6,
          0.733333333,
          0.666666667,
          0.666666667,
          0.666666667,
          0.8,
          0.666666667,
          0.6,
          0.8,
          0.857142857,
          0.571428571,
          0.733333333,
          0.666666667
         ],
         "xaxis": "x",
         "y": [
          null,
          null,
          "Not assigned",
          null,
          null,
          0.796,
          0.662,
          "Not assigned",
          0.3,
          1.714,
          "Not assigned",
          null,
          0.6,
          0.593,
          null,
          null,
          null,
          2.743,
          1.403,
          "Not assigned",
          "Not assigned",
          null,
          0.123,
          null,
          null,
          1.591,
          null,
          null,
          null,
          null,
          0.985,
          0.857,
          1.99,
          0.287,
          0.934,
          1.052,
          1.592,
          0.544,
          0.318,
          1.251,
          1.405,
          1.368,
          0.589,
          0.453,
          1.328,
          1.492,
          null,
          null,
          0.587,
          1.611,
          0.802,
          null,
          null,
          "Not assigned",
          1.341,
          1.775,
          1.2,
          1.684,
          0.638,
          1.684,
          0.587,
          null,
          null,
          1.854,
          1.314,
          1.476,
          0.894,
          0.92,
          0.158,
          1.356,
          1.099,
          0.952,
          null,
          0.468,
          1.365,
          null,
          0.279,
          "Not assigned",
          0.285,
          0.289,
          "Not assigned",
          "Not assigned",
          "Not assigned",
          null,
          null,
          0.262,
          1.164,
          0.593,
          1.484,
          1.139,
          2.07,
          0.713,
          0.283,
          2.381,
          0.6,
          1.474,
          0.341,
          0.587,
          0.775,
          0.358,
          0.548,
          0.879,
          null,
          0.785,
          0.249,
          0.414,
          null,
          1.961,
          1.832,
          0.662,
          "Not assigned",
          0.418,
          0.451,
          1.24,
          1.005,
          0.39,
          0.428,
          "Not assigned",
          "Not assigned",
          "Not assigned",
          null,
          0.613,
          0.21,
          0.927,
          "Not assigned",
          null,
          0.39,
          0.244,
          null,
          3.062,
          null,
          null,
          null,
          null,
          null,
          0.583,
          0.635,
          null,
          0.37,
          "Not assigned",
          0.775,
          1.394,
          1.017,
          null,
          1.017,
          2.232,
          null,
          1.065,
          0.67
         ],
         "yaxis": "y"
        }
       ],
       "layout": {
        "legend": {
         "tracegroupgap": 0
        },
        "margin": {
         "t": 60
        },
        "template": {
         "data": {
          "pie": [
           {
            "automargin": true,
            "type": "pie"
           }
          ]
         },
         "layout": {
          "xaxis": {
           "showgrid": true,
           "title": {
            "standoff": 15
           }
          },
          "yaxis": {
           "showgrid": true,
           "title": {
            "standoff": 15
           }
          }
         }
        },
        "xaxis": {
         "anchor": "y",
         "domain": [
          0,
          1
         ],
         "range": [
          0,
          1
         ],
         "title": {
          "text": "Quality of Reporting"
         }
        },
        "yaxis": {
         "anchor": "x",
         "domain": [
          0,
          1
         ],
         "title": {
          "text": "SJR Indicator"
         }
        }
       }
      }
     },
     "metadata": {},
     "output_type": "display_data"
    }
   ],
   "source": [
    "df_fuzzed = df_quality.copy()\n",
    "\n",
    "df_fuzzed['SSTOTAL'] = df_fuzzed.apply(\n",
    "    lambda row: row['SSTOTAL'] + random.uniform(-0.02, 0.02), axis=1)\n",
    "\n",
    "df_fuzzed['SRTOTAL'] = df_fuzzed.apply(\n",
    "    lambda row: row['SRTOTAL'] + random.uniform(-0.02, 0.02), axis=1)\n",
    "\n",
    "fig = px.scatter(df_fuzzed, x='SSTOTAL', y='SRTOTAL')\n",
    "\n",
    "fig.update_xaxes(range=[0, 1], title=\"Quality of Study\")\n",
    "fig.update_yaxes(range=[0, 1], title=\"Quality of Reporting\")\n",
    "\n",
    "fig.add_shape(type='line',\n",
    "              x0=0,\n",
    "              y0=0,\n",
    "              x1=1,\n",
    "              y1=1,\n",
    "              line=dict(color='red',),\n",
    "              xref='x',\n",
    "              yref='y'\n",
    "              )\n",
    "\n",
    "fig.write_image('qualityassessment/sstotal_vs_srtotal.pdf', width=WIDTH, height=HEIGHT)\n",
    "fig.show()\n",
    "\n",
    "\n",
    "fig = px.scatter(x=df_quality['SSTOTAL'], y=df_quality['SJR Indicator'])\n",
    "fig.update_xaxes(range=[0, 1], title=\"Quality of Study\")\n",
    "fig.update_yaxes(title=\"SJR Indicator\")\n",
    "fig.write_image('qualityassessment/sstotal_vs_sjr.pdf', width=WIDTH, height=HALF_HEIGHT)\n",
    "fig.show()\n",
    "\n",
    "fig = px.scatter(x=df_quality['SRTOTAL'], y=df_quality['SJR Indicator'])\n",
    "fig.update_xaxes(range=[0, 1], title=\"Quality of Reporting\")\n",
    "fig.update_yaxes(title=\"SJR Indicator\")\n",
    "fig.write_image('qualityassessment/srtotal_vs_sjr.pdf', width=WIDTH, height=HALF_HEIGHT)\n",
    "fig.show()"
   ]
  },
  {
   "cell_type": "code",
   "execution_count": 15,
   "metadata": {},
   "outputs": [
    {
     "name": "stdout",
     "output_type": "stream",
     "text": [
      "correlate: [61.57578494]\n"
     ]
    }
   ],
   "source": [
    "correlate = np.correlate(df_quality['SSTOTAL'], df_quality['SRTOTAL'])\n",
    "print(f'correlate: {correlate}')"
   ]
  },
  {
   "cell_type": "code",
   "execution_count": 16,
   "metadata": {},
   "outputs": [
    {
     "name": "stdout",
     "output_type": "stream",
     "text": [
      "cor: 0.30858642294945576\n",
      "pval: 6.435087360870657e-05\n"
     ]
    }
   ],
   "source": [
    "from scipy.stats import spearmanr, pearsonr\n",
    "\n",
    "cor, pval = spearmanr(a=df_quality['SSTOTAL'], b=df_quality['SRTOTAL'], alternative='greater')\n",
    "\n",
    "print(f'cor: {cor}\\npval: {pval}')"
   ]
  },
  {
   "cell_type": "code",
   "execution_count": 17,
   "metadata": {},
   "outputs": [
    {
     "name": "stderr",
     "output_type": "stream",
     "text": [
      "C:\\Users\\Work\\AppData\\Local\\Temp\\ipykernel_444\\3384157465.py:6: SettingWithCopyWarning:\n",
      "\n",
      "\n",
      "A value is trying to be set on a copy of a slice from a DataFrame.\n",
      "Try using .loc[row_indexer,col_indexer] = value instead\n",
      "\n",
      "See the caveats in the documentation: https://pandas.pydata.org/pandas-docs/stable/user_guide/indexing.html#returning-a-view-versus-a-copy\n",
      "\n"
     ]
    }
   ],
   "source": [
    "def not_assigned_to_int(row):\n",
    "    if type(row['SJR Indicator']) == str:\n",
    "        return -1\n",
    "    return row['SJR Indicator']\n",
    "\n",
    "df_journals['SJR Indicator'] = df_journals.apply (lambda row: not_assigned_to_int(row), axis=1)"
   ]
  },
  {
   "cell_type": "code",
   "execution_count": 18,
   "metadata": {},
   "outputs": [
    {
     "name": "stderr",
     "output_type": "stream",
     "text": [
      "C:\\Users\\Work\\AppData\\Local\\Temp\\ipykernel_444\\61218674.py:10: SettingWithCopyWarning:\n",
      "\n",
      "\n",
      "A value is trying to be set on a copy of a slice from a DataFrame.\n",
      "Try using .loc[row_indexer,col_indexer] = value instead\n",
      "\n",
      "See the caveats in the documentation: https://pandas.pydata.org/pandas-docs/stable/user_guide/indexing.html#returning-a-view-versus-a-copy\n",
      "\n"
     ]
    }
   ],
   "source": [
    "def core_ranking_to_int(row):\n",
    "    if row['CORE Ranking'] == 'A':\n",
    "        return 1\n",
    "    if row['CORE Ranking'] == 'B':\n",
    "        return 2\n",
    "    if row['CORE Ranking'] == 'C':\n",
    "        return 3\n",
    "    return 4\n",
    "\n",
    "df_conferences['int_core_ranking'] = df_conferences.apply (lambda row: core_ranking_to_int(row), axis=1)"
   ]
  },
  {
   "cell_type": "code",
   "execution_count": 19,
   "metadata": {},
   "outputs": [
    {
     "data": {
      "text/plain": [
       "-1.0"
      ]
     },
     "execution_count": 19,
     "metadata": {},
     "output_type": "execute_result"
    }
   ],
   "source": [
    "type(df_journals['SJR Indicator'].iloc[0])\n",
    "df_journals['SJR Indicator'].iloc[0]"
   ]
  },
  {
   "cell_type": "code",
   "execution_count": 20,
   "metadata": {},
   "outputs": [
    {
     "name": "stdout",
     "output_type": "stream",
     "text": [
      "cor: 0.10696873677270215\n",
      "pval: 0.13190362317191998\n"
     ]
    }
   ],
   "source": [
    "from scipy.stats import spearmanr\n",
    "\n",
    "cor, pval = spearmanr(a=df_journals['SSTOTAL'], b=df_journals['SJR Indicator'], alternative='greater')\n",
    "\n",
    "print(f'cor: {cor}\\npval: {pval}')"
   ]
  },
  {
   "cell_type": "code",
   "execution_count": 21,
   "metadata": {},
   "outputs": [
    {
     "name": "stdout",
     "output_type": "stream",
     "text": [
      "cor: 0.21574777139574017\n",
      "pval: 0.011478013561074661\n"
     ]
    }
   ],
   "source": [
    "from scipy.stats import spearmanr\n",
    "\n",
    "cor, pval = spearmanr(a=df_journals['SRTOTAL'], b=df_journals['SJR Indicator'], alternative='greater')\n",
    "\n",
    "print(f'cor: {cor}\\npval: {pval}')"
   ]
  },
  {
   "cell_type": "code",
   "execution_count": 22,
   "metadata": {},
   "outputs": [
    {
     "name": "stdout",
     "output_type": "stream",
     "text": [
      "cor: -0.3770284813643129\n",
      "pval: 0.011703861911782952\n"
     ]
    }
   ],
   "source": [
    "from scipy.stats import spearmanr\n",
    "\n",
    "cor, pval = spearmanr(a=df_conferences['SSTOTAL'], b=df_conferences['int_core_ranking'], alternative='less')\n",
    "\n",
    "print(f'cor: {cor}\\npval: {pval}')"
   ]
  },
  {
   "cell_type": "code",
   "execution_count": 23,
   "metadata": {},
   "outputs": [
    {
     "name": "stdout",
     "output_type": "stream",
     "text": [
      "cor: -0.4044414647345252\n",
      "pval: 0.007211456781739799\n"
     ]
    }
   ],
   "source": [
    "from scipy.stats import spearmanr\n",
    "\n",
    "cor, pval = spearmanr(a=df_conferences['SRTOTAL'], b=df_conferences['int_core_ranking'], alternative='less')\n",
    "\n",
    "print(f'cor: {cor}\\npval: {pval}')"
   ]
  },
  {
   "cell_type": "code",
   "execution_count": 24,
   "metadata": {},
   "outputs": [
    {
     "data": {
      "application/vnd.plotly.v1+json": {
       "config": {
        "plotlyServerURL": "https://plot.ly"
       },
       "data": [
        {
         "alignmentgroup": "True",
         "boxpoints": "all",
         "hovertemplate": "x=%{x}<br>y=%{y}<extra></extra>",
         "legendgroup": "",
         "marker": {
          "color": "#1F77B4"
         },
         "name": "",
         "notched": false,
         "offsetgroup": "",
         "orientation": "h",
         "showlegend": false,
         "type": "box",
         "x": [
          0.571428571,
          0.714285714,
          0.125,
          0.375,
          0.625,
          0.75,
          0.333333333,
          0.555555556,
          0.375,
          0.5,
          0.333333333,
          0.333333333,
          0.444444444,
          0.75,
          0.444444444,
          0.5,
          0.5,
          0.555555556,
          0.75,
          0.625,
          0.625,
          0.666666667,
          0.777777778,
          0.375,
          0.625,
          0.444444444,
          0.444444444,
          0.625,
          0.555555556,
          0.75,
          0.555555556,
          0.333333333,
          0.666666667,
          0.666666667,
          0.625,
          0.428571429
         ],
         "x0": " ",
         "xaxis": "x",
         "y": [
          "A",
          "A",
          "Not assigned",
          "Not assigned",
          "Not assigned",
          "Not assigned",
          "Not assigned",
          "B",
          "Not assigned",
          "Not assigned",
          "Not assigned",
          "Not assigned",
          "Not assigned",
          "C",
          "Not assigned",
          "Not assigned",
          "Not assigned",
          "Not assigned",
          "B",
          "Not assigned",
          "Not assigned",
          "Not assigned",
          "Not assigned",
          "Not assigned",
          "Not assigned",
          "A",
          "National: Poland",
          "B",
          "Not assigned",
          "Not assigned",
          "A",
          "Not assigned",
          "A",
          "B",
          "B",
          "Not assigned"
         ],
         "y0": " ",
         "yaxis": "y"
        }
       ],
       "layout": {
        "boxmode": "group",
        "legend": {
         "tracegroupgap": 0
        },
        "margin": {
         "l": 120,
         "t": 60
        },
        "template": {
         "data": {
          "pie": [
           {
            "automargin": true,
            "type": "pie"
           }
          ]
         },
         "layout": {
          "xaxis": {
           "showgrid": true,
           "title": {
            "standoff": 15
           }
          },
          "yaxis": {
           "showgrid": true,
           "title": {
            "standoff": 15
           }
          }
         }
        },
        "xaxis": {
         "anchor": "y",
         "domain": [
          0,
          1
         ],
         "range": [
          0,
          1
         ],
         "title": {
          "text": "Quality of Study"
         }
        },
        "yaxis": {
         "anchor": "x",
         "categoryorder": "category descending",
         "domain": [
          0,
          1
         ],
         "title": {
          "text": "CORE Ranking"
         }
        }
       }
      }
     },
     "metadata": {},
     "output_type": "display_data"
    },
    {
     "data": {
      "application/vnd.plotly.v1+json": {
       "config": {
        "plotlyServerURL": "https://plot.ly"
       },
       "data": [
        {
         "alignmentgroup": "True",
         "boxpoints": "all",
         "hovertemplate": "x=%{x}<br>y=%{y}<extra></extra>",
         "legendgroup": "",
         "marker": {
          "color": "#1F77B4"
         },
         "name": "",
         "notched": false,
         "offsetgroup": "",
         "orientation": "h",
         "showlegend": false,
         "type": "box",
         "x": [
          0.714285714,
          0.866666667,
          0.357142857,
          0.571428571,
          0.666666667,
          0.6,
          0.538461538,
          0.666666667,
          0.714285714,
          0.466666667,
          0.428571429,
          0.466666667,
          0.533333333,
          0.8,
          0.4,
          0.384615385,
          0.230769231,
          0.533333333,
          0.666666667,
          0.666666667,
          0.666666667,
          0.666666667,
          0.733333333,
          0.5,
          0.533333333,
          0.6,
          0.666666667,
          0.533333333,
          0.6,
          0.8,
          0.666666667,
          0.733333333,
          0.666666667,
          0.733333333,
          0.6,
          0.571428571
         ],
         "x0": " ",
         "xaxis": "x",
         "y": [
          "A",
          "A",
          "Not assigned",
          "Not assigned",
          "Not assigned",
          "Not assigned",
          "Not assigned",
          "B",
          "Not assigned",
          "Not assigned",
          "Not assigned",
          "Not assigned",
          "Not assigned",
          "C",
          "Not assigned",
          "Not assigned",
          "Not assigned",
          "Not assigned",
          "B",
          "Not assigned",
          "Not assigned",
          "Not assigned",
          "Not assigned",
          "Not assigned",
          "Not assigned",
          "A",
          "National: Poland",
          "B",
          "Not assigned",
          "Not assigned",
          "A",
          "Not assigned",
          "A",
          "B",
          "B",
          "Not assigned"
         ],
         "y0": " ",
         "yaxis": "y"
        }
       ],
       "layout": {
        "boxmode": "group",
        "legend": {
         "tracegroupgap": 0
        },
        "margin": {
         "l": 120,
         "t": 60
        },
        "template": {
         "data": {
          "pie": [
           {
            "automargin": true,
            "type": "pie"
           }
          ]
         },
         "layout": {
          "xaxis": {
           "showgrid": true,
           "title": {
            "standoff": 15
           }
          },
          "yaxis": {
           "showgrid": true,
           "title": {
            "standoff": 15
           }
          }
         }
        },
        "xaxis": {
         "anchor": "y",
         "domain": [
          0,
          1
         ],
         "range": [
          0,
          1
         ],
         "title": {
          "text": "Quality of Reporting"
         }
        },
        "yaxis": {
         "anchor": "x",
         "categoryorder": "category descending",
         "domain": [
          0,
          1
         ],
         "title": {
          "text": "CORE Ranking"
         }
        }
       }
      }
     },
     "metadata": {},
     "output_type": "display_data"
    }
   ],
   "source": [
    "fig = px.box(x=df_conferences['SSTOTAL'], y=df_conferences['CORE Ranking'], points='all', category_orders={'Core Ranking': ['A', 'B', 'C', 'National: Poland', 'Not assigned']})\n",
    "fig.update_xaxes(range=[0, 1], title=\"Quality of Study\")\n",
    "fig.update_yaxes(title=\"CORE Ranking\", categoryorder='category descending')\n",
    "fig.update_layout(margin={\"l\": 120})\n",
    "fig.write_image('qualityassessment/sstotal_vs_core.pdf', width=WIDTH, height=HALF_HEIGHT)\n",
    "fig.show()\n",
    "\n",
    "fig = px.box(x=df_conferences['SRTOTAL'], y=df_conferences['CORE Ranking'], points='all', category_orders={'Core Ranking': ['A', 'B', 'C', 'National: Poland', 'Not assigned']})\n",
    "fig.update_xaxes(range=[0, 1], title=\"Quality of Reporting\")\n",
    "fig.update_yaxes(title=\"CORE Ranking\", categoryorder='category descending')\n",
    "fig.update_layout(margin={\"l\": 120})\n",
    "fig.write_image('qualityassessment/srtotal_vs_core.pdf', width=WIDTH, height=HALF_HEIGHT)\n",
    "fig.show()"
   ]
  },
  {
   "cell_type": "code",
   "execution_count": 25,
   "metadata": {},
   "outputs": [
    {
     "data": {
      "application/vnd.plotly.v1+json": {
       "config": {
        "plotlyServerURL": "https://plot.ly"
       },
       "data": [
        {
         "alignmentgroup": "True",
         "boxpoints": "all",
         "hovertemplate": "x=%{x}<br>y=%{y}<extra></extra>",
         "legendgroup": "",
         "marker": {
          "color": "#1F77B4"
         },
         "name": "",
         "notched": false,
         "offsetgroup": "",
         "orientation": "h",
         "showlegend": false,
         "type": "box",
         "x": [
          0.166666667,
          0.75,
          0.75,
          0.555555556,
          0.25,
          0.571428571,
          0.75,
          0.75,
          0.5,
          0.75,
          0.625,
          0.625,
          0.75,
          0.625,
          0.75,
          0.444444444,
          0.7,
          0.555555556,
          0.666666667,
          0.555555556,
          0.75,
          0.555555556,
          0.625,
          0.444444444,
          0.875,
          0.75,
          0.666666667,
          0.444444444,
          0.666666667,
          0.555555556,
          0.75,
          0.666666667,
          0.75,
          0.666666667,
          0.75,
          0.555555556,
          0.571428571,
          0.666666667,
          0.75,
          0.444444444,
          0.75,
          0.777777778,
          0.625,
          0.875,
          0.666666667,
          0.625,
          0.444444444,
          0.666666667,
          0.625,
          0.75,
          0.444444444,
          0.5,
          0.875,
          0.625,
          0.625,
          0.666666667,
          0.666666667,
          0.444444444,
          0.777777778,
          0.666666667,
          0.75,
          0.625,
          0.777777778,
          0.666666667,
          0.555555556,
          0.875,
          0.666666667,
          0.75,
          0.625,
          0.75,
          0.444444444,
          0.777777778,
          0.75,
          0.555555556,
          0.555555556,
          0.444444444,
          0.444444444,
          0.555555556,
          0.666666667,
          0.75,
          0.875,
          0.75,
          0.875,
          0.444444444,
          0.75,
          0.75,
          0.75,
          0.444444444,
          0.555555556,
          0.75,
          0.555555556,
          0.75,
          0.555555556,
          0.555555556,
          0.25,
          0.777777778,
          0.666666667,
          0.375,
          0.555555556,
          0.555555556,
          0.555555556,
          0.75,
          0.666666667,
          0.875,
          0.555555556,
          0.875,
          0.444444444,
          0.625,
          0.5,
          0.75,
          0.666666667
         ],
         "x0": " ",
         "xaxis": "x",
         "y": [
          "Not assigned",
          "Q1",
          "Q1",
          "Not assigned",
          "Q3",
          "Q1",
          "Not assigned",
          "Q2",
          "Q2",
          "Q1",
          "Q1",
          "Not assigned",
          "Not assigned",
          "Q4",
          "Q1",
          "Q1",
          "Q1",
          "Q1",
          "Q2",
          "Q1",
          "Q1",
          "Q1",
          "Q2",
          "Q3",
          "Q1",
          "Q1",
          "Q1",
          "Q2",
          "Q2",
          "Q1",
          "Q1",
          "Q1",
          "Q1",
          "Q1",
          "Not assigned",
          "Q1",
          "Q1",
          "Q1",
          "Q1",
          "Q2",
          "Q1",
          "Q1",
          "Q1",
          "Q1",
          "Q1",
          "Q1",
          "Q1",
          "Q4",
          "Q1",
          "Q1",
          "Q1",
          "Q2",
          "Q1",
          "Q2",
          "Not assigned",
          "Q2",
          "Q2",
          "Not assigned",
          "Not assigned",
          "Not assigned",
          "Q3",
          "Q1",
          "Q2",
          "Q1",
          "Q1",
          "Q1",
          "Q1",
          "Q3",
          "Q1",
          "Q2",
          "Q1",
          "Q3",
          "Q1",
          "Q1",
          "Q3",
          "Q2",
          "Q1",
          "Q1",
          "Q3",
          "Q2",
          "Q1",
          "Q1",
          "Q1",
          "Not assigned",
          "Q2",
          "Q2",
          "Q1",
          "Q2",
          "Q2",
          "Q1",
          "Not assigned",
          "Not assigned",
          "Not assigned",
          "Q2",
          "Not assigned",
          "Q1",
          "Not assigned",
          "Q2",
          "Q3",
          "Q1",
          "Q2",
          "Q2",
          "Q2",
          "Not assigned",
          "Q1",
          "Q1",
          "Q1",
          "Q1",
          "Q1",
          "Q1",
          "Q1"
         ],
         "y0": " ",
         "yaxis": "y"
        }
       ],
       "layout": {
        "boxmode": "group",
        "legend": {
         "tracegroupgap": 0
        },
        "margin": {
         "l": 120,
         "t": 60
        },
        "template": {
         "data": {
          "pie": [
           {
            "automargin": true,
            "type": "pie"
           }
          ]
         },
         "layout": {
          "xaxis": {
           "showgrid": true,
           "title": {
            "standoff": 15
           }
          },
          "yaxis": {
           "showgrid": true,
           "title": {
            "standoff": 15
           }
          }
         }
        },
        "xaxis": {
         "anchor": "y",
         "domain": [
          0,
          1
         ],
         "range": [
          0,
          1
         ],
         "title": {
          "text": "Quality of Study"
         }
        },
        "yaxis": {
         "anchor": "x",
         "categoryorder": "category descending",
         "domain": [
          0,
          1
         ],
         "title": {
          "text": "SJR Best Quartile"
         }
        }
       }
      }
     },
     "metadata": {},
     "output_type": "display_data"
    },
    {
     "data": {
      "application/vnd.plotly.v1+json": {
       "config": {
        "plotlyServerURL": "https://plot.ly"
       },
       "data": [
        {
         "alignmentgroup": "True",
         "boxpoints": "all",
         "hovertemplate": "x=%{x}<br>y=%{y}<extra></extra>",
         "legendgroup": "",
         "marker": {
          "color": "#1F77B4"
         },
         "name": "",
         "notched": false,
         "offsetgroup": "",
         "orientation": "h",
         "showlegend": false,
         "type": "box",
         "x": [
          0.833333333,
          0.666666667,
          0.866666667,
          0.733333333,
          0.857142857,
          0.785714286,
          0.75,
          0.466666667,
          0.666666667,
          0.8,
          0.733333333,
          0.733333333,
          0.666666667,
          0.6,
          0.8,
          0.6,
          0.666666667,
          0.733333333,
          0.666666667,
          0.6,
          0.666666667,
          0.8,
          0.8,
          0.733333333,
          0.8,
          0.8,
          0.6,
          0.733333333,
          0.666666667,
          0.666666667,
          0.666666667,
          0.666666667,
          0.666666667,
          0.666666667,
          0.6,
          0.733333333,
          0.571428571,
          0.666666667,
          0.733333333,
          0.6,
          0.733333333,
          0.666666667,
          0.666666667,
          0.733333333,
          0.666666667,
          0.666666667,
          0.733333333,
          0.733333333,
          0.733333333,
          0.733333333,
          0.666666667,
          0.666666667,
          0.666666667,
          0.666666667,
          0.6,
          0.666666667,
          0.733333333,
          0.6,
          0.733333333,
          0.733333333,
          0.533333333,
          0.666666667,
          0.666666667,
          0.6,
          0.6,
          0.6,
          0.733333333,
          0.533333333,
          0.6,
          0.8,
          0.666666667,
          0.666666667,
          0.666666667,
          0.733333333,
          0.666666667,
          0.666666667,
          0.666666667,
          0.666666667,
          0.666666667,
          0.666666667,
          0.8,
          0.8,
          0.733333333,
          0.533333333,
          0.666666667,
          0.733333333,
          0.733333333,
          0.533333333,
          0.733333333,
          0.6,
          0.533333333,
          0.733333333,
          0.533333333,
          0.666666667,
          0.714285714,
          0.733333333,
          0.666666667,
          0.642857143,
          0.666666667,
          0.8,
          0.75,
          0.6,
          0.666666667,
          0.666666667,
          0.666666667,
          0.8,
          0.666666667,
          0.8,
          0.857142857,
          0.733333333,
          0.666666667
         ],
         "x0": " ",
         "xaxis": "x",
         "y": [
          "Not assigned",
          "Q1",
          "Q1",
          "Not assigned",
          "Q3",
          "Q1",
          "Not assigned",
          "Q2",
          "Q2",
          "Q1",
          "Q1",
          "Not assigned",
          "Not assigned",
          "Q4",
          "Q1",
          "Q1",
          "Q1",
          "Q1",
          "Q2",
          "Q1",
          "Q1",
          "Q1",
          "Q2",
          "Q3",
          "Q1",
          "Q1",
          "Q1",
          "Q2",
          "Q2",
          "Q1",
          "Q1",
          "Q1",
          "Q1",
          "Q1",
          "Not assigned",
          "Q1",
          "Q1",
          "Q1",
          "Q1",
          "Q2",
          "Q1",
          "Q1",
          "Q1",
          "Q1",
          "Q1",
          "Q1",
          "Q1",
          "Q4",
          "Q1",
          "Q1",
          "Q1",
          "Q2",
          "Q1",
          "Q2",
          "Not assigned",
          "Q2",
          "Q2",
          "Not assigned",
          "Not assigned",
          "Not assigned",
          "Q3",
          "Q1",
          "Q2",
          "Q1",
          "Q1",
          "Q1",
          "Q1",
          "Q3",
          "Q1",
          "Q2",
          "Q1",
          "Q3",
          "Q1",
          "Q1",
          "Q3",
          "Q2",
          "Q1",
          "Q1",
          "Q3",
          "Q2",
          "Q1",
          "Q1",
          "Q1",
          "Not assigned",
          "Q2",
          "Q2",
          "Q1",
          "Q2",
          "Q2",
          "Q1",
          "Not assigned",
          "Not assigned",
          "Not assigned",
          "Q2",
          "Not assigned",
          "Q1",
          "Not assigned",
          "Q2",
          "Q3",
          "Q1",
          "Q2",
          "Q2",
          "Q2",
          "Not assigned",
          "Q1",
          "Q1",
          "Q1",
          "Q1",
          "Q1",
          "Q1",
          "Q1"
         ],
         "y0": " ",
         "yaxis": "y"
        }
       ],
       "layout": {
        "boxmode": "group",
        "legend": {
         "tracegroupgap": 0
        },
        "margin": {
         "l": 120,
         "t": 60
        },
        "template": {
         "data": {
          "pie": [
           {
            "automargin": true,
            "type": "pie"
           }
          ]
         },
         "layout": {
          "xaxis": {
           "showgrid": true,
           "title": {
            "standoff": 15
           }
          },
          "yaxis": {
           "showgrid": true,
           "title": {
            "standoff": 15
           }
          }
         }
        },
        "xaxis": {
         "anchor": "y",
         "domain": [
          0,
          1
         ],
         "range": [
          0,
          1
         ],
         "title": {
          "text": "Quality of Reporting"
         }
        },
        "yaxis": {
         "anchor": "x",
         "categoryorder": "category descending",
         "domain": [
          0,
          1
         ],
         "title": {
          "text": "SJR Best Quartile"
         }
        }
       }
      }
     },
     "metadata": {},
     "output_type": "display_data"
    }
   ],
   "source": [
    "fig = px.box(x=df_journals['SSTOTAL'], y=df_journals['SJCR Quartile'], points='all', category_orders={'SJCR Quartile': ['Q1', 'Q2', 'Q3', 'Q4', 'Not assigned']})\n",
    "fig.update_xaxes(range=[0, 1], title=\"Quality of Study\")\n",
    "fig.update_yaxes(title=\"SJR Best Quartile\", categoryorder='category descending')\n",
    "fig.update_layout(margin={\"l\": 120})\n",
    "fig.write_image('qualityassessment/sstotal_vs_sjrquartile.pdf', width=WIDTH, height=HALF_HEIGHT)\n",
    "fig.show()\n",
    "\n",
    "fig = px.box(x=df_journals['SRTOTAL'], y=df_journals['SJCR Quartile'], points='all', category_orders={'SJCR Quartile': ['Q1', 'Q2', 'Q3', 'Q4', 'Not assigned']})\n",
    "fig.update_xaxes(range=[0, 1], title=\"Quality of Reporting\")\n",
    "fig.update_yaxes(title=\"SJR Best Quartile\", categoryorder='category descending')\n",
    "fig.update_layout(margin={\"l\": 120})\n",
    "fig.write_image('qualityassessment/srtotal_vs_sjrquartile.pdf', width=WIDTH, height=HALF_HEIGHT)\n",
    "fig.show()"
   ]
  },
  {
   "cell_type": "code",
   "execution_count": 26,
   "metadata": {},
   "outputs": [
    {
     "name": "stdout",
     "output_type": "stream",
     "text": [
      "0        Workshop\n",
      "1      Conference\n",
      "2         Journal\n",
      "3      Conference\n",
      "4      Conference\n",
      "          ...    \n",
      "144       Journal\n",
      "145       Journal\n",
      "146    Conference\n",
      "147       Journal\n",
      "148       Journal\n",
      "Name: Publication Source, Length: 149, dtype: object\n"
     ]
    }
   ],
   "source": [
    "print(df_quality['Publication Source'])"
   ]
  },
  {
   "attachments": {},
   "cell_type": "markdown",
   "metadata": {},
   "source": [
    "## Individual Feature Analysis\n",
    "\n",
    "### Boxplots of SS00 and SR00"
   ]
  },
  {
   "cell_type": "code",
   "execution_count": 27,
   "metadata": {},
   "outputs": [
    {
     "data": {
      "application/vnd.plotly.v1+json": {
       "config": {
        "plotlyServerURL": "https://plot.ly"
       },
       "data": [
        {
         "box": {
          "visible": true
         },
         "marker": {
          "outliercolor": "black"
         },
         "meanline": {
          "color": "black",
          "visible": true
         },
         "name": "SR00",
         "type": "violin",
         "x": [
          0.714285714,
          0.714285714,
          0.833333333,
          0.866666667,
          0.357142857,
          0.666666667,
          0.866666667,
          0.733333333,
          0.857142857,
          0.785714286,
          0.75,
          0.571428571,
          0.466666667,
          0.666666667,
          0.666666667,
          0.6,
          0.538461538,
          0.8,
          0.733333333,
          0.733333333,
          0.666666667,
          0.666666667,
          0.6,
          0.714285714,
          0.642857143,
          0.8,
          0.466666667,
          0.428571429,
          0.466666667,
          0.533333333,
          0.6,
          0.666666667,
          0.733333333,
          0.666666667,
          0.6,
          0.666666667,
          0.8,
          0.8,
          0.733333333,
          0.8,
          0.8,
          0.6,
          0.733333333,
          0.666666667,
          0.666666667,
          0.666666667,
          0.8,
          0.4,
          0.666666667,
          0.666666667,
          0.666666667,
          0.384615385,
          0.230769231,
          0.6,
          0.733333333,
          0.571428571,
          0.666666667,
          0.733333333,
          0.6,
          0.733333333,
          0.666666667,
          0.533333333,
          0.666666667,
          0.666666667,
          0.733333333,
          0.666666667,
          0.666666667,
          0.733333333,
          0.733333333,
          0.733333333,
          0.733333333,
          0.666666667,
          0.666666667,
          0.666666667,
          0.666666667,
          0.666666667,
          0.666666667,
          0.6,
          0.666666667,
          0.733333333,
          0.6,
          0.733333333,
          0.733333333,
          0.666666667,
          0.733333333,
          0.533333333,
          0.666666667,
          0.666666667,
          0.6,
          0.6,
          0.6,
          0.733333333,
          0.533333333,
          0.6,
          0.8,
          0.666666667,
          0.666666667,
          0.666666667,
          0.733333333,
          0.666666667,
          0.666666667,
          0.666666667,
          0.5,
          0.666666667,
          0.666666667,
          0.666666667,
          0.533333333,
          0.8,
          0.8,
          0.733333333,
          0.533333333,
          0.666666667,
          0.733333333,
          0.733333333,
          0.533333333,
          0.733333333,
          0.6,
          0.533333333,
          0.733333333,
          0.533333333,
          0.6,
          0.666666667,
          0.714285714,
          0.733333333,
          0.666666667,
          0.666666667,
          0.642857143,
          0.666666667,
          0.533333333,
          0.8,
          0.6,
          0.8,
          0.666666667,
          0.733333333,
          0.666666667,
          0.75,
          0.6,
          0.733333333,
          0.666666667,
          0.666666667,
          0.666666667,
          0.8,
          0.666666667,
          0.6,
          0.8,
          0.857142857,
          0.571428571,
          0.733333333,
          0.666666667
         ]
        },
        {
         "box": {
          "visible": true
         },
         "marker": {
          "outliercolor": "black"
         },
         "meanline": {
          "color": "black",
          "visible": true
         },
         "name": "SS00",
         "type": "violin",
         "x": [
          0.571428571,
          0.571428571,
          0.166666667,
          0.714285714,
          0.125,
          0.75,
          0.75,
          0.555555556,
          0.25,
          0.571428571,
          0.75,
          0.375,
          0.75,
          0.5,
          0.625,
          0.75,
          0.333333333,
          0.75,
          0.625,
          0.625,
          0.75,
          0.555555556,
          0.625,
          0.375,
          0.571428571,
          0.75,
          0.5,
          0.333333333,
          0.333333333,
          0.444444444,
          0.444444444,
          0.7,
          0.555555556,
          0.666666667,
          0.555555556,
          0.75,
          0.555555556,
          0.625,
          0.444444444,
          0.875,
          0.75,
          0.666666667,
          0.444444444,
          0.666666667,
          0.555555556,
          0.75,
          0.75,
          0.444444444,
          0.666666667,
          0.75,
          0.666666667,
          0.5,
          0.5,
          0.75,
          0.555555556,
          0.571428571,
          0.666666667,
          0.75,
          0.444444444,
          0.75,
          0.777777778,
          0.555555556,
          0.75,
          0.625,
          0.875,
          0.666666667,
          0.625,
          0.444444444,
          0.666666667,
          0.625,
          0.75,
          0.444444444,
          0.625,
          0.5,
          0.875,
          0.625,
          0.625,
          0.625,
          0.666666667,
          0.666666667,
          0.444444444,
          0.777777778,
          0.666666667,
          0.666666667,
          0.777777778,
          0.75,
          0.625,
          0.777777778,
          0.666666667,
          0.555555556,
          0.875,
          0.666666667,
          0.75,
          0.625,
          0.75,
          0.444444444,
          0.777777778,
          0.75,
          0.555555556,
          0.555555556,
          0.444444444,
          0.444444444,
          0.375,
          0.555555556,
          0.666666667,
          0.75,
          0.625,
          0.875,
          0.75,
          0.875,
          0.444444444,
          0.75,
          0.75,
          0.75,
          0.444444444,
          0.555555556,
          0.75,
          0.555555556,
          0.75,
          0.555555556,
          0.444444444,
          0.555555556,
          0.25,
          0.777777778,
          0.666666667,
          0.444444444,
          0.375,
          0.555555556,
          0.625,
          0.555555556,
          0.555555556,
          0.75,
          0.555555556,
          0.333333333,
          0.666666667,
          0.555555556,
          0.75,
          0.666666667,
          0.666666667,
          0.875,
          0.555555556,
          0.875,
          0.444444444,
          0.625,
          0.625,
          0.5,
          0.428571429,
          0.75,
          0.666666667
         ]
        }
       ],
       "layout": {
        "showlegend": false,
        "template": {
         "data": {
          "pie": [
           {
            "automargin": true,
            "type": "pie"
           }
          ]
         },
         "layout": {
          "xaxis": {
           "showgrid": true,
           "title": {
            "standoff": 15
           }
          },
          "yaxis": {
           "showgrid": true,
           "title": {
            "standoff": 15
           }
          }
         }
        },
        "xaxis": {
         "range": [
          0,
          1
         ],
         "title": {
          "text": "Score"
         }
        },
        "yaxis": {
         "title": {
          "text": "Feature ID"
         }
        }
       }
      }
     },
     "metadata": {},
     "output_type": "display_data"
    }
   ],
   "source": [
    "fig = go.Figure()\n",
    "\n",
    "fig.add_trace(go.Violin(x=df_quality['SRTOTAL'], name='SR00', box_visible=True,\n",
    "              meanline_visible=True, marker_outliercolor='black', meanline_color='black'))\n",
    "fig.add_trace(go.Violin(x=df_quality['SSTOTAL'], name='SS00', box_visible=True,\n",
    "              meanline_visible=True, marker_outliercolor='black', meanline_color='black'))\n",
    "fig.update_xaxes(range=[0, 1], title='Score')\n",
    "fig.update_yaxes(title=\"Feature ID\")\n",
    "fig.update_layout(showlegend=False)\n",
    "fig.write_image('analysis/individual_ss00_sr00.pdf',\n",
    "                width=WIDTH, height=HALF_HEIGHT)\n",
    "fig.show()\n"
   ]
  },
  {
   "attachments": {},
   "cell_type": "markdown",
   "metadata": {},
   "source": [
    "### Stacked charts SS01 to SS10"
   ]
  },
  {
   "cell_type": "code",
   "execution_count": 28,
   "metadata": {},
   "outputs": [],
   "source": [
    "def get_feature_counts(dataframe: pd.DataFrame, feature_name: str, feature_id: str) -> pd.DataFrame:\n",
    "    counts = dataframe.value_counts(subset=[feature_name], dropna=False)\n",
    "    row_yes = pd.DataFrame({'Feature ID': feature_id, 'Response': 'Yes', 'Count': counts.get('YES', 0)}, pd.Index([feature_id], name='Feature ID'))\n",
    "    row_no = pd.DataFrame({'Feature ID': feature_id, 'Response': 'No', 'Count': counts.get('NO', 0)}, pd.Index([feature_id], name='Feature ID'))\n",
    "    row_nan = pd.DataFrame({'Feature ID': feature_id, 'Response': 'N/A', 'Count': counts.get(np.nan, 0)}, pd.Index([feature_id], name='Feature ID'))\n",
    "    return pd.concat([row_yes, row_no, row_nan])\n"
   ]
  },
  {
   "cell_type": "code",
   "execution_count": 29,
   "metadata": {},
   "outputs": [
    {
     "data": {
      "text/html": [
       "<div>\n",
       "<style scoped>\n",
       "    .dataframe tbody tr th:only-of-type {\n",
       "        vertical-align: middle;\n",
       "    }\n",
       "\n",
       "    .dataframe tbody tr th {\n",
       "        vertical-align: top;\n",
       "    }\n",
       "\n",
       "    .dataframe thead th {\n",
       "        text-align: right;\n",
       "    }\n",
       "</style>\n",
       "<table border=\"1\" class=\"dataframe\">\n",
       "  <thead>\n",
       "    <tr style=\"text-align: right;\">\n",
       "      <th></th>\n",
       "      <th>Response</th>\n",
       "      <th>Count</th>\n",
       "      <th>Feature ID</th>\n",
       "    </tr>\n",
       "    <tr>\n",
       "      <th>Feature ID</th>\n",
       "      <th></th>\n",
       "      <th></th>\n",
       "      <th></th>\n",
       "    </tr>\n",
       "  </thead>\n",
       "  <tbody>\n",
       "    <tr>\n",
       "      <th>SS01</th>\n",
       "      <td>Yes</td>\n",
       "      <td>132</td>\n",
       "      <td>SS01</td>\n",
       "    </tr>\n",
       "    <tr>\n",
       "      <th>SS01</th>\n",
       "      <td>No</td>\n",
       "      <td>17</td>\n",
       "      <td>SS01</td>\n",
       "    </tr>\n",
       "    <tr>\n",
       "      <th>SS01</th>\n",
       "      <td>N/A</td>\n",
       "      <td>0</td>\n",
       "      <td>SS01</td>\n",
       "    </tr>\n",
       "    <tr>\n",
       "      <th>SS02</th>\n",
       "      <td>Yes</td>\n",
       "      <td>117</td>\n",
       "      <td>SS02</td>\n",
       "    </tr>\n",
       "    <tr>\n",
       "      <th>SS02</th>\n",
       "      <td>No</td>\n",
       "      <td>15</td>\n",
       "      <td>SS02</td>\n",
       "    </tr>\n",
       "    <tr>\n",
       "      <th>SS02</th>\n",
       "      <td>N/A</td>\n",
       "      <td>17</td>\n",
       "      <td>SS02</td>\n",
       "    </tr>\n",
       "    <tr>\n",
       "      <th>SS03</th>\n",
       "      <td>Yes</td>\n",
       "      <td>70</td>\n",
       "      <td>SS03</td>\n",
       "    </tr>\n",
       "    <tr>\n",
       "      <th>SS03</th>\n",
       "      <td>No</td>\n",
       "      <td>79</td>\n",
       "      <td>SS03</td>\n",
       "    </tr>\n",
       "    <tr>\n",
       "      <th>SS03</th>\n",
       "      <td>N/A</td>\n",
       "      <td>0</td>\n",
       "      <td>SS03</td>\n",
       "    </tr>\n",
       "    <tr>\n",
       "      <th>SS04</th>\n",
       "      <td>Yes</td>\n",
       "      <td>77</td>\n",
       "      <td>SS04</td>\n",
       "    </tr>\n",
       "    <tr>\n",
       "      <th>SS04</th>\n",
       "      <td>No</td>\n",
       "      <td>2</td>\n",
       "      <td>SS04</td>\n",
       "    </tr>\n",
       "    <tr>\n",
       "      <th>SS04</th>\n",
       "      <td>N/A</td>\n",
       "      <td>70</td>\n",
       "      <td>SS04</td>\n",
       "    </tr>\n",
       "    <tr>\n",
       "      <th>SS05</th>\n",
       "      <td>Yes</td>\n",
       "      <td>7</td>\n",
       "      <td>SS05</td>\n",
       "    </tr>\n",
       "    <tr>\n",
       "      <th>SS05</th>\n",
       "      <td>No</td>\n",
       "      <td>6</td>\n",
       "      <td>SS05</td>\n",
       "    </tr>\n",
       "    <tr>\n",
       "      <th>SS05</th>\n",
       "      <td>N/A</td>\n",
       "      <td>136</td>\n",
       "      <td>SS05</td>\n",
       "    </tr>\n",
       "    <tr>\n",
       "      <th>SS06</th>\n",
       "      <td>Yes</td>\n",
       "      <td>106</td>\n",
       "      <td>SS06</td>\n",
       "    </tr>\n",
       "    <tr>\n",
       "      <th>SS06</th>\n",
       "      <td>No</td>\n",
       "      <td>32</td>\n",
       "      <td>SS06</td>\n",
       "    </tr>\n",
       "    <tr>\n",
       "      <th>SS06</th>\n",
       "      <td>N/A</td>\n",
       "      <td>11</td>\n",
       "      <td>SS06</td>\n",
       "    </tr>\n",
       "    <tr>\n",
       "      <th>SS07</th>\n",
       "      <td>Yes</td>\n",
       "      <td>142</td>\n",
       "      <td>SS07</td>\n",
       "    </tr>\n",
       "    <tr>\n",
       "      <th>SS07</th>\n",
       "      <td>No</td>\n",
       "      <td>7</td>\n",
       "      <td>SS07</td>\n",
       "    </tr>\n",
       "    <tr>\n",
       "      <th>SS07</th>\n",
       "      <td>N/A</td>\n",
       "      <td>0</td>\n",
       "      <td>SS07</td>\n",
       "    </tr>\n",
       "    <tr>\n",
       "      <th>SS08</th>\n",
       "      <td>Yes</td>\n",
       "      <td>24</td>\n",
       "      <td>SS08</td>\n",
       "    </tr>\n",
       "    <tr>\n",
       "      <th>SS08</th>\n",
       "      <td>No</td>\n",
       "      <td>118</td>\n",
       "      <td>SS08</td>\n",
       "    </tr>\n",
       "    <tr>\n",
       "      <th>SS08</th>\n",
       "      <td>N/A</td>\n",
       "      <td>7</td>\n",
       "      <td>SS08</td>\n",
       "    </tr>\n",
       "    <tr>\n",
       "      <th>SS09</th>\n",
       "      <td>Yes</td>\n",
       "      <td>0</td>\n",
       "      <td>SS09</td>\n",
       "    </tr>\n",
       "    <tr>\n",
       "      <th>SS09</th>\n",
       "      <td>No</td>\n",
       "      <td>149</td>\n",
       "      <td>SS09</td>\n",
       "    </tr>\n",
       "    <tr>\n",
       "      <th>SS09</th>\n",
       "      <td>N/A</td>\n",
       "      <td>0</td>\n",
       "      <td>SS09</td>\n",
       "    </tr>\n",
       "    <tr>\n",
       "      <th>SS10</th>\n",
       "      <td>Yes</td>\n",
       "      <td>90</td>\n",
       "      <td>SS10</td>\n",
       "    </tr>\n",
       "    <tr>\n",
       "      <th>SS10</th>\n",
       "      <td>No</td>\n",
       "      <td>59</td>\n",
       "      <td>SS10</td>\n",
       "    </tr>\n",
       "    <tr>\n",
       "      <th>SS10</th>\n",
       "      <td>N/A</td>\n",
       "      <td>0</td>\n",
       "      <td>SS10</td>\n",
       "    </tr>\n",
       "  </tbody>\n",
       "</table>\n",
       "</div>"
      ],
      "text/plain": [
       "           Response Count Feature ID\n",
       "Feature ID                          \n",
       "SS01            Yes   132       SS01\n",
       "SS01             No    17       SS01\n",
       "SS01            N/A     0       SS01\n",
       "SS02            Yes   117       SS02\n",
       "SS02             No    15       SS02\n",
       "SS02            N/A    17       SS02\n",
       "SS03            Yes    70       SS03\n",
       "SS03             No    79       SS03\n",
       "SS03            N/A     0       SS03\n",
       "SS04            Yes    77       SS04\n",
       "SS04             No     2       SS04\n",
       "SS04            N/A    70       SS04\n",
       "SS05            Yes     7       SS05\n",
       "SS05             No     6       SS05\n",
       "SS05            N/A   136       SS05\n",
       "SS06            Yes   106       SS06\n",
       "SS06             No    32       SS06\n",
       "SS06            N/A    11       SS06\n",
       "SS07            Yes   142       SS07\n",
       "SS07             No     7       SS07\n",
       "SS07            N/A     0       SS07\n",
       "SS08            Yes    24       SS08\n",
       "SS08             No   118       SS08\n",
       "SS08            N/A     7       SS08\n",
       "SS09            Yes     0       SS09\n",
       "SS09             No   149       SS09\n",
       "SS09            N/A     0       SS09\n",
       "SS10            Yes    90       SS10\n",
       "SS10             No    59       SS10\n",
       "SS10            N/A     0       SS10"
      ]
     },
     "execution_count": 29,
     "metadata": {},
     "output_type": "execute_result"
    }
   ],
   "source": [
    "df_ss_counts = pd.DataFrame([], columns=['Feature ID', 'Response', 'Count'])\n",
    "df_ss_counts.set_index(['Feature ID'], inplace=True)\n",
    "\n",
    "df_ss_counts = pd.concat([df_ss_counts,\n",
    "    get_feature_counts(df_quality, 'SS1', 'SS01'),\n",
    "    get_feature_counts(df_quality, 'SS2', 'SS02'),\n",
    "    get_feature_counts(df_quality, 'SS3', 'SS03'),\n",
    "    get_feature_counts(df_quality, 'SS4', 'SS04'),\n",
    "    get_feature_counts(df_quality, 'SS5', 'SS05'),\n",
    "    get_feature_counts(df_quality, 'SS6', 'SS06'),\n",
    "    get_feature_counts(df_quality, 'SS7', 'SS07'),\n",
    "    get_feature_counts(df_quality, 'SS8', 'SS08'),\n",
    "    get_feature_counts(df_quality, 'SS9', 'SS09'),\n",
    "    get_feature_counts(df_quality, 'SS10', 'SS10')])\n",
    "\n",
    "df_ss_counts"
   ]
  },
  {
   "cell_type": "code",
   "execution_count": 30,
   "metadata": {},
   "outputs": [
    {
     "data": {
      "application/vnd.plotly.v1+json": {
       "config": {
        "plotlyServerURL": "https://plot.ly"
       },
       "data": [
        {
         "alignmentgroup": "True",
         "hovertemplate": "Response=Yes<br>Feature ID=%{x}<br>Count=%{text}<extra></extra>",
         "legendgroup": "Yes",
         "marker": {
          "color": "#1F77B4",
          "pattern": {
           "shape": ""
          }
         },
         "name": "Yes",
         "offsetgroup": "Yes",
         "orientation": "v",
         "showlegend": true,
         "text": [
          132,
          117,
          70,
          77,
          7,
          106,
          142,
          24,
          0,
          90
         ],
         "textposition": "auto",
         "type": "bar",
         "x": [
          "SS01",
          "SS02",
          "SS03",
          "SS04",
          "SS05",
          "SS06",
          "SS07",
          "SS08",
          "SS09",
          "SS10"
         ],
         "xaxis": "x",
         "y": [
          132,
          117,
          70,
          77,
          7,
          106,
          142,
          24,
          0,
          90
         ],
         "yaxis": "y"
        },
        {
         "alignmentgroup": "True",
         "hovertemplate": "Response=No<br>Feature ID=%{x}<br>Count=%{text}<extra></extra>",
         "legendgroup": "No",
         "marker": {
          "color": "#FF7F0E",
          "pattern": {
           "shape": ""
          }
         },
         "name": "No",
         "offsetgroup": "No",
         "orientation": "v",
         "showlegend": true,
         "text": [
          17,
          15,
          79,
          2,
          6,
          32,
          7,
          118,
          149,
          59
         ],
         "textposition": "auto",
         "type": "bar",
         "x": [
          "SS01",
          "SS02",
          "SS03",
          "SS04",
          "SS05",
          "SS06",
          "SS07",
          "SS08",
          "SS09",
          "SS10"
         ],
         "xaxis": "x",
         "y": [
          17,
          15,
          79,
          2,
          6,
          32,
          7,
          118,
          149,
          59
         ],
         "yaxis": "y"
        },
        {
         "alignmentgroup": "True",
         "hovertemplate": "Response=N/A<br>Feature ID=%{x}<br>Count=%{text}<extra></extra>",
         "legendgroup": "N/A",
         "marker": {
          "color": "#2CA02C",
          "pattern": {
           "shape": ""
          }
         },
         "name": "N/A",
         "offsetgroup": "N/A",
         "orientation": "v",
         "showlegend": true,
         "text": [
          0,
          17,
          0,
          70,
          136,
          11,
          0,
          7,
          0,
          0
         ],
         "textposition": "auto",
         "type": "bar",
         "x": [
          "SS01",
          "SS02",
          "SS03",
          "SS04",
          "SS05",
          "SS06",
          "SS07",
          "SS08",
          "SS09",
          "SS10"
         ],
         "xaxis": "x",
         "y": [
          0,
          17,
          0,
          70,
          136,
          11,
          0,
          7,
          0,
          0
         ],
         "yaxis": "y"
        }
       ],
       "layout": {
        "barmode": "relative",
        "legend": {
         "title": {
          "text": "Response"
         },
         "tracegroupgap": 0
        },
        "margin": {
         "t": 60
        },
        "template": {
         "data": {
          "pie": [
           {
            "automargin": true,
            "type": "pie"
           }
          ]
         },
         "layout": {
          "xaxis": {
           "showgrid": true,
           "title": {
            "standoff": 15
           }
          },
          "yaxis": {
           "showgrid": true,
           "title": {
            "standoff": 15
           }
          }
         }
        },
        "xaxis": {
         "anchor": "y",
         "domain": [
          0,
          1
         ],
         "title": {
          "text": "Feature ID"
         }
        },
        "yaxis": {
         "anchor": "x",
         "domain": [
          0,
          1
         ],
         "title": {
          "text": "Count"
         }
        }
       }
      }
     },
     "metadata": {},
     "output_type": "display_data"
    }
   ],
   "source": [
    "fig = px.bar(df_ss_counts, x='Feature ID', y='Count', color='Response', text='Count')\n",
    "fig.write_image('analysis/individual_ss_counts.pdf', width=WIDTH, height=HALF_HEIGHT)\n",
    "fig.show()"
   ]
  },
  {
   "cell_type": "code",
   "execution_count": 31,
   "metadata": {},
   "outputs": [
    {
     "data": {
      "text/html": [
       "<div>\n",
       "<style scoped>\n",
       "    .dataframe tbody tr th:only-of-type {\n",
       "        vertical-align: middle;\n",
       "    }\n",
       "\n",
       "    .dataframe tbody tr th {\n",
       "        vertical-align: top;\n",
       "    }\n",
       "\n",
       "    .dataframe thead th {\n",
       "        text-align: right;\n",
       "    }\n",
       "</style>\n",
       "<table border=\"1\" class=\"dataframe\">\n",
       "  <thead>\n",
       "    <tr style=\"text-align: right;\">\n",
       "      <th></th>\n",
       "      <th>Response</th>\n",
       "      <th>Count</th>\n",
       "      <th>Feature ID</th>\n",
       "    </tr>\n",
       "    <tr>\n",
       "      <th>Feature ID</th>\n",
       "      <th></th>\n",
       "      <th></th>\n",
       "      <th></th>\n",
       "    </tr>\n",
       "  </thead>\n",
       "  <tbody>\n",
       "    <tr>\n",
       "      <th>SR01</th>\n",
       "      <td>Yes</td>\n",
       "      <td>93</td>\n",
       "      <td>SR01</td>\n",
       "    </tr>\n",
       "    <tr>\n",
       "      <th>SR01</th>\n",
       "      <td>No</td>\n",
       "      <td>56</td>\n",
       "      <td>SR01</td>\n",
       "    </tr>\n",
       "    <tr>\n",
       "      <th>SR01</th>\n",
       "      <td>N/A</td>\n",
       "      <td>0</td>\n",
       "      <td>SR01</td>\n",
       "    </tr>\n",
       "    <tr>\n",
       "      <th>SR02</th>\n",
       "      <td>Yes</td>\n",
       "      <td>147</td>\n",
       "      <td>SR02</td>\n",
       "    </tr>\n",
       "    <tr>\n",
       "      <th>SR02</th>\n",
       "      <td>No</td>\n",
       "      <td>2</td>\n",
       "      <td>SR02</td>\n",
       "    </tr>\n",
       "    <tr>\n",
       "      <th>SR02</th>\n",
       "      <td>N/A</td>\n",
       "      <td>0</td>\n",
       "      <td>SR02</td>\n",
       "    </tr>\n",
       "    <tr>\n",
       "      <th>SR03</th>\n",
       "      <td>Yes</td>\n",
       "      <td>131</td>\n",
       "      <td>SR03</td>\n",
       "    </tr>\n",
       "    <tr>\n",
       "      <th>SR03</th>\n",
       "      <td>No</td>\n",
       "      <td>18</td>\n",
       "      <td>SR03</td>\n",
       "    </tr>\n",
       "    <tr>\n",
       "      <th>SR03</th>\n",
       "      <td>N/A</td>\n",
       "      <td>0</td>\n",
       "      <td>SR03</td>\n",
       "    </tr>\n",
       "    <tr>\n",
       "      <th>SR04</th>\n",
       "      <td>Yes</td>\n",
       "      <td>28</td>\n",
       "      <td>SR04</td>\n",
       "    </tr>\n",
       "    <tr>\n",
       "      <th>SR04</th>\n",
       "      <td>No</td>\n",
       "      <td>121</td>\n",
       "      <td>SR04</td>\n",
       "    </tr>\n",
       "    <tr>\n",
       "      <th>SR04</th>\n",
       "      <td>N/A</td>\n",
       "      <td>0</td>\n",
       "      <td>SR04</td>\n",
       "    </tr>\n",
       "    <tr>\n",
       "      <th>SR05</th>\n",
       "      <td>Yes</td>\n",
       "      <td>29</td>\n",
       "      <td>SR05</td>\n",
       "    </tr>\n",
       "    <tr>\n",
       "      <th>SR05</th>\n",
       "      <td>No</td>\n",
       "      <td>120</td>\n",
       "      <td>SR05</td>\n",
       "    </tr>\n",
       "    <tr>\n",
       "      <th>SR05</th>\n",
       "      <td>N/A</td>\n",
       "      <td>0</td>\n",
       "      <td>SR05</td>\n",
       "    </tr>\n",
       "    <tr>\n",
       "      <th>SR06</th>\n",
       "      <td>Yes</td>\n",
       "      <td>143</td>\n",
       "      <td>SR06</td>\n",
       "    </tr>\n",
       "    <tr>\n",
       "      <th>SR06</th>\n",
       "      <td>No</td>\n",
       "      <td>6</td>\n",
       "      <td>SR06</td>\n",
       "    </tr>\n",
       "    <tr>\n",
       "      <th>SR06</th>\n",
       "      <td>N/A</td>\n",
       "      <td>0</td>\n",
       "      <td>SR06</td>\n",
       "    </tr>\n",
       "    <tr>\n",
       "      <th>SR07</th>\n",
       "      <td>Yes</td>\n",
       "      <td>141</td>\n",
       "      <td>SR07</td>\n",
       "    </tr>\n",
       "    <tr>\n",
       "      <th>SR07</th>\n",
       "      <td>No</td>\n",
       "      <td>8</td>\n",
       "      <td>SR07</td>\n",
       "    </tr>\n",
       "    <tr>\n",
       "      <th>SR07</th>\n",
       "      <td>N/A</td>\n",
       "      <td>0</td>\n",
       "      <td>SR07</td>\n",
       "    </tr>\n",
       "    <tr>\n",
       "      <th>SR08</th>\n",
       "      <td>Yes</td>\n",
       "      <td>22</td>\n",
       "      <td>SR08</td>\n",
       "    </tr>\n",
       "    <tr>\n",
       "      <th>SR08</th>\n",
       "      <td>No</td>\n",
       "      <td>110</td>\n",
       "      <td>SR08</td>\n",
       "    </tr>\n",
       "    <tr>\n",
       "      <th>SR08</th>\n",
       "      <td>N/A</td>\n",
       "      <td>17</td>\n",
       "      <td>SR08</td>\n",
       "    </tr>\n",
       "    <tr>\n",
       "      <th>SR09</th>\n",
       "      <td>Yes</td>\n",
       "      <td>127</td>\n",
       "      <td>SR09</td>\n",
       "    </tr>\n",
       "    <tr>\n",
       "      <th>SR09</th>\n",
       "      <td>No</td>\n",
       "      <td>21</td>\n",
       "      <td>SR09</td>\n",
       "    </tr>\n",
       "    <tr>\n",
       "      <th>SR09</th>\n",
       "      <td>N/A</td>\n",
       "      <td>1</td>\n",
       "      <td>SR09</td>\n",
       "    </tr>\n",
       "    <tr>\n",
       "      <th>SR10</th>\n",
       "      <td>Yes</td>\n",
       "      <td>141</td>\n",
       "      <td>SR10</td>\n",
       "    </tr>\n",
       "    <tr>\n",
       "      <th>SR10</th>\n",
       "      <td>No</td>\n",
       "      <td>1</td>\n",
       "      <td>SR10</td>\n",
       "    </tr>\n",
       "    <tr>\n",
       "      <th>SR10</th>\n",
       "      <td>N/A</td>\n",
       "      <td>7</td>\n",
       "      <td>SR10</td>\n",
       "    </tr>\n",
       "    <tr>\n",
       "      <th>SR11</th>\n",
       "      <td>Yes</td>\n",
       "      <td>149</td>\n",
       "      <td>SR11</td>\n",
       "    </tr>\n",
       "    <tr>\n",
       "      <th>SR11</th>\n",
       "      <td>No</td>\n",
       "      <td>0</td>\n",
       "      <td>SR11</td>\n",
       "    </tr>\n",
       "    <tr>\n",
       "      <th>SR11</th>\n",
       "      <td>N/A</td>\n",
       "      <td>0</td>\n",
       "      <td>SR11</td>\n",
       "    </tr>\n",
       "    <tr>\n",
       "      <th>SR12</th>\n",
       "      <td>Yes</td>\n",
       "      <td>132</td>\n",
       "      <td>SR12</td>\n",
       "    </tr>\n",
       "    <tr>\n",
       "      <th>SR12</th>\n",
       "      <td>No</td>\n",
       "      <td>17</td>\n",
       "      <td>SR12</td>\n",
       "    </tr>\n",
       "    <tr>\n",
       "      <th>SR12</th>\n",
       "      <td>N/A</td>\n",
       "      <td>0</td>\n",
       "      <td>SR12</td>\n",
       "    </tr>\n",
       "    <tr>\n",
       "      <th>SR13</th>\n",
       "      <td>Yes</td>\n",
       "      <td>138</td>\n",
       "      <td>SR13</td>\n",
       "    </tr>\n",
       "    <tr>\n",
       "      <th>SR13</th>\n",
       "      <td>No</td>\n",
       "      <td>11</td>\n",
       "      <td>SR13</td>\n",
       "    </tr>\n",
       "    <tr>\n",
       "      <th>SR13</th>\n",
       "      <td>N/A</td>\n",
       "      <td>0</td>\n",
       "      <td>SR13</td>\n",
       "    </tr>\n",
       "    <tr>\n",
       "      <th>SR14</th>\n",
       "      <td>Yes</td>\n",
       "      <td>3</td>\n",
       "      <td>SR14</td>\n",
       "    </tr>\n",
       "    <tr>\n",
       "      <th>SR14</th>\n",
       "      <td>No</td>\n",
       "      <td>146</td>\n",
       "      <td>SR14</td>\n",
       "    </tr>\n",
       "    <tr>\n",
       "      <th>SR14</th>\n",
       "      <td>N/A</td>\n",
       "      <td>0</td>\n",
       "      <td>SR14</td>\n",
       "    </tr>\n",
       "    <tr>\n",
       "      <th>SR15</th>\n",
       "      <td>Yes</td>\n",
       "      <td>3</td>\n",
       "      <td>SR15</td>\n",
       "    </tr>\n",
       "    <tr>\n",
       "      <th>SR15</th>\n",
       "      <td>No</td>\n",
       "      <td>0</td>\n",
       "      <td>SR15</td>\n",
       "    </tr>\n",
       "    <tr>\n",
       "      <th>SR15</th>\n",
       "      <td>N/A</td>\n",
       "      <td>146</td>\n",
       "      <td>SR15</td>\n",
       "    </tr>\n",
       "    <tr>\n",
       "      <th>SR16</th>\n",
       "      <td>Yes</td>\n",
       "      <td>49</td>\n",
       "      <td>SR16</td>\n",
       "    </tr>\n",
       "    <tr>\n",
       "      <th>SR16</th>\n",
       "      <td>No</td>\n",
       "      <td>100</td>\n",
       "      <td>SR16</td>\n",
       "    </tr>\n",
       "    <tr>\n",
       "      <th>SR16</th>\n",
       "      <td>N/A</td>\n",
       "      <td>0</td>\n",
       "      <td>SR16</td>\n",
       "    </tr>\n",
       "  </tbody>\n",
       "</table>\n",
       "</div>"
      ],
      "text/plain": [
       "           Response Count Feature ID\n",
       "Feature ID                          \n",
       "SR01            Yes    93       SR01\n",
       "SR01             No    56       SR01\n",
       "SR01            N/A     0       SR01\n",
       "SR02            Yes   147       SR02\n",
       "SR02             No     2       SR02\n",
       "SR02            N/A     0       SR02\n",
       "SR03            Yes   131       SR03\n",
       "SR03             No    18       SR03\n",
       "SR03            N/A     0       SR03\n",
       "SR04            Yes    28       SR04\n",
       "SR04             No   121       SR04\n",
       "SR04            N/A     0       SR04\n",
       "SR05            Yes    29       SR05\n",
       "SR05             No   120       SR05\n",
       "SR05            N/A     0       SR05\n",
       "SR06            Yes   143       SR06\n",
       "SR06             No     6       SR06\n",
       "SR06            N/A     0       SR06\n",
       "SR07            Yes   141       SR07\n",
       "SR07             No     8       SR07\n",
       "SR07            N/A     0       SR07\n",
       "SR08            Yes    22       SR08\n",
       "SR08             No   110       SR08\n",
       "SR08            N/A    17       SR08\n",
       "SR09            Yes   127       SR09\n",
       "SR09             No    21       SR09\n",
       "SR09            N/A     1       SR09\n",
       "SR10            Yes   141       SR10\n",
       "SR10             No     1       SR10\n",
       "SR10            N/A     7       SR10\n",
       "SR11            Yes   149       SR11\n",
       "SR11             No     0       SR11\n",
       "SR11            N/A     0       SR11\n",
       "SR12            Yes   132       SR12\n",
       "SR12             No    17       SR12\n",
       "SR12            N/A     0       SR12\n",
       "SR13            Yes   138       SR13\n",
       "SR13             No    11       SR13\n",
       "SR13            N/A     0       SR13\n",
       "SR14            Yes     3       SR14\n",
       "SR14             No   146       SR14\n",
       "SR14            N/A     0       SR14\n",
       "SR15            Yes     3       SR15\n",
       "SR15             No     0       SR15\n",
       "SR15            N/A   146       SR15\n",
       "SR16            Yes    49       SR16\n",
       "SR16             No   100       SR16\n",
       "SR16            N/A     0       SR16"
      ]
     },
     "execution_count": 31,
     "metadata": {},
     "output_type": "execute_result"
    }
   ],
   "source": [
    "df_sr_counts = pd.DataFrame([], columns=['Feature ID', 'Response', 'Count'])\n",
    "df_sr_counts.set_index(['Feature ID'], inplace=True)\n",
    "\n",
    "df_sr_counts = pd.concat([df_sr_counts,\n",
    "    get_feature_counts(df_quality, 'SR1', 'SR01'),\n",
    "    get_feature_counts(df_quality, 'SR2', 'SR02'),\n",
    "    get_feature_counts(df_quality, 'SR3', 'SR03'),\n",
    "    get_feature_counts(df_quality, 'SR4', 'SR04'),\n",
    "    get_feature_counts(df_quality, 'SR5', 'SR05'),\n",
    "    get_feature_counts(df_quality, 'SR6', 'SR06'),\n",
    "    get_feature_counts(df_quality, 'SR7', 'SR07'),\n",
    "    get_feature_counts(df_quality, 'SR8', 'SR08'),\n",
    "    get_feature_counts(df_quality, 'SR9', 'SR09'),\n",
    "    get_feature_counts(df_quality, 'SR10', 'SR10'),\n",
    "    get_feature_counts(df_quality, 'SR11', 'SR11'),\n",
    "    get_feature_counts(df_quality, 'SR12', 'SR12'),\n",
    "    get_feature_counts(df_quality, 'SR13', 'SR13'),\n",
    "    get_feature_counts(df_quality, 'SR14', 'SR14'),\n",
    "    get_feature_counts(df_quality, 'SR15', 'SR15'),\n",
    "    get_feature_counts(df_quality, 'SR16', 'SR16')])\n",
    "\n",
    "df_sr_counts"
   ]
  },
  {
   "cell_type": "code",
   "execution_count": 32,
   "metadata": {},
   "outputs": [
    {
     "data": {
      "application/vnd.plotly.v1+json": {
       "config": {
        "plotlyServerURL": "https://plot.ly"
       },
       "data": [
        {
         "alignmentgroup": "True",
         "hovertemplate": "Response=Yes<br>Feature ID=%{x}<br>Count=%{text}<extra></extra>",
         "legendgroup": "Yes",
         "marker": {
          "color": "#1F77B4",
          "pattern": {
           "shape": ""
          }
         },
         "name": "Yes",
         "offsetgroup": "Yes",
         "orientation": "v",
         "showlegend": true,
         "text": [
          93,
          147,
          131,
          28,
          29,
          143,
          141,
          22,
          127,
          141,
          149,
          132,
          138,
          3,
          3,
          49
         ],
         "textposition": "auto",
         "type": "bar",
         "x": [
          "SR01",
          "SR02",
          "SR03",
          "SR04",
          "SR05",
          "SR06",
          "SR07",
          "SR08",
          "SR09",
          "SR10",
          "SR11",
          "SR12",
          "SR13",
          "SR14",
          "SR15",
          "SR16"
         ],
         "xaxis": "x",
         "y": [
          93,
          147,
          131,
          28,
          29,
          143,
          141,
          22,
          127,
          141,
          149,
          132,
          138,
          3,
          3,
          49
         ],
         "yaxis": "y"
        },
        {
         "alignmentgroup": "True",
         "hovertemplate": "Response=No<br>Feature ID=%{x}<br>Count=%{text}<extra></extra>",
         "legendgroup": "No",
         "marker": {
          "color": "#FF7F0E",
          "pattern": {
           "shape": ""
          }
         },
         "name": "No",
         "offsetgroup": "No",
         "orientation": "v",
         "showlegend": true,
         "text": [
          56,
          2,
          18,
          121,
          120,
          6,
          8,
          110,
          21,
          1,
          0,
          17,
          11,
          146,
          0,
          100
         ],
         "textposition": "auto",
         "type": "bar",
         "x": [
          "SR01",
          "SR02",
          "SR03",
          "SR04",
          "SR05",
          "SR06",
          "SR07",
          "SR08",
          "SR09",
          "SR10",
          "SR11",
          "SR12",
          "SR13",
          "SR14",
          "SR15",
          "SR16"
         ],
         "xaxis": "x",
         "y": [
          56,
          2,
          18,
          121,
          120,
          6,
          8,
          110,
          21,
          1,
          0,
          17,
          11,
          146,
          0,
          100
         ],
         "yaxis": "y"
        },
        {
         "alignmentgroup": "True",
         "hovertemplate": "Response=N/A<br>Feature ID=%{x}<br>Count=%{text}<extra></extra>",
         "legendgroup": "N/A",
         "marker": {
          "color": "#2CA02C",
          "pattern": {
           "shape": ""
          }
         },
         "name": "N/A",
         "offsetgroup": "N/A",
         "orientation": "v",
         "showlegend": true,
         "text": [
          0,
          0,
          0,
          0,
          0,
          0,
          0,
          17,
          1,
          7,
          0,
          0,
          0,
          0,
          146,
          0
         ],
         "textposition": "auto",
         "type": "bar",
         "x": [
          "SR01",
          "SR02",
          "SR03",
          "SR04",
          "SR05",
          "SR06",
          "SR07",
          "SR08",
          "SR09",
          "SR10",
          "SR11",
          "SR12",
          "SR13",
          "SR14",
          "SR15",
          "SR16"
         ],
         "xaxis": "x",
         "y": [
          0,
          0,
          0,
          0,
          0,
          0,
          0,
          17,
          1,
          7,
          0,
          0,
          0,
          0,
          146,
          0
         ],
         "yaxis": "y"
        }
       ],
       "layout": {
        "barmode": "relative",
        "legend": {
         "title": {
          "text": "Response"
         },
         "tracegroupgap": 0
        },
        "margin": {
         "t": 60
        },
        "template": {
         "data": {
          "pie": [
           {
            "automargin": true,
            "type": "pie"
           }
          ]
         },
         "layout": {
          "xaxis": {
           "showgrid": true,
           "title": {
            "standoff": 15
           }
          },
          "yaxis": {
           "showgrid": true,
           "title": {
            "standoff": 15
           }
          }
         }
        },
        "xaxis": {
         "anchor": "y",
         "domain": [
          0,
          1
         ],
         "title": {
          "text": "Feature ID"
         }
        },
        "yaxis": {
         "anchor": "x",
         "domain": [
          0,
          1
         ],
         "title": {
          "text": "Count"
         }
        }
       }
      }
     },
     "metadata": {},
     "output_type": "display_data"
    }
   ],
   "source": [
    "fig = px.bar(df_sr_counts, x='Feature ID', y='Count', color='Response', text='Count')\n",
    "fig.write_image('analysis/individual_sr_counts.pdf', width=WIDTH, height=HALF_HEIGHT)\n",
    "fig.show()"
   ]
  },
  {
   "cell_type": "code",
   "execution_count": 33,
   "metadata": {},
   "outputs": [
    {
     "data": {
      "text/html": [
       "<div>\n",
       "<style scoped>\n",
       "    .dataframe tbody tr th:only-of-type {\n",
       "        vertical-align: middle;\n",
       "    }\n",
       "\n",
       "    .dataframe tbody tr th {\n",
       "        vertical-align: top;\n",
       "    }\n",
       "\n",
       "    .dataframe thead th {\n",
       "        text-align: right;\n",
       "    }\n",
       "</style>\n",
       "<table border=\"1\" class=\"dataframe\">\n",
       "  <thead>\n",
       "    <tr style=\"text-align: right;\">\n",
       "      <th></th>\n",
       "      <th>Response</th>\n",
       "      <th>Count</th>\n",
       "    </tr>\n",
       "    <tr>\n",
       "      <th>Feature ID</th>\n",
       "      <th></th>\n",
       "      <th></th>\n",
       "    </tr>\n",
       "  </thead>\n",
       "  <tbody>\n",
       "    <tr>\n",
       "      <th>D010</th>\n",
       "      <td>Classical</td>\n",
       "      <td>120</td>\n",
       "    </tr>\n",
       "    <tr>\n",
       "      <th>D010</th>\n",
       "      <td>Quantum</td>\n",
       "      <td>0</td>\n",
       "    </tr>\n",
       "    <tr>\n",
       "      <th>D010</th>\n",
       "      <td>Hybrid</td>\n",
       "      <td>29</td>\n",
       "    </tr>\n",
       "  </tbody>\n",
       "</table>\n",
       "</div>"
      ],
      "text/plain": [
       "             Response  Count\n",
       "Feature ID                  \n",
       "D010        Classical    120\n",
       "D010          Quantum      0\n",
       "D010           Hybrid     29"
      ]
     },
     "execution_count": 33,
     "metadata": {},
     "output_type": "execute_result"
    }
   ],
   "source": [
    "counts = df_quality.value_counts(subset=['Type of Approach'], dropna=False)\n",
    "row_yes = pd.DataFrame({'Response': 'Classical', 'Count': counts.get('Classical', 0)}, pd.Index(['D010'], name='Feature ID'))\n",
    "row_no = pd.DataFrame({'Response': 'Quantum', 'Count': counts.get('Quantum', 0)}, pd.Index(['D010'], name='Feature ID'))\n",
    "row_nan = pd.DataFrame({'Response': 'Hybrid', 'Count': counts.get('Hybrid', 0)}, pd.Index(['D010'], name='Feature ID'))\n",
    "df_d010_counts = pd.concat([row_yes, row_no, row_nan])\n",
    "df_d010_counts"
   ]
  },
  {
   "cell_type": "code",
   "execution_count": 34,
   "metadata": {},
   "outputs": [
    {
     "data": {
      "application/vnd.plotly.v1+json": {
       "config": {
        "plotlyServerURL": "https://plot.ly"
       },
       "data": [
        {
         "alignmentgroup": "True",
         "hovertemplate": "Response=Classical<br>Count=%{text}<br>Feature ID=%{y}<extra></extra>",
         "legendgroup": "Classical",
         "marker": {
          "color": "#1F77B4",
          "pattern": {
           "shape": ""
          }
         },
         "name": "Classical",
         "offsetgroup": "Classical",
         "orientation": "h",
         "showlegend": true,
         "text": [
          120
         ],
         "textposition": "auto",
         "type": "bar",
         "x": [
          120
         ],
         "xaxis": "x",
         "y": [
          "D010"
         ],
         "yaxis": "y"
        },
        {
         "alignmentgroup": "True",
         "hovertemplate": "Response=Quantum<br>Count=%{text}<br>Feature ID=%{y}<extra></extra>",
         "legendgroup": "Quantum",
         "marker": {
          "color": "#FF7F0E",
          "pattern": {
           "shape": ""
          }
         },
         "name": "Quantum",
         "offsetgroup": "Quantum",
         "orientation": "h",
         "showlegend": true,
         "text": [
          0
         ],
         "textposition": "auto",
         "type": "bar",
         "x": [
          0
         ],
         "xaxis": "x",
         "y": [
          "D010"
         ],
         "yaxis": "y"
        },
        {
         "alignmentgroup": "True",
         "hovertemplate": "Response=Hybrid<br>Count=%{text}<br>Feature ID=%{y}<extra></extra>",
         "legendgroup": "Hybrid",
         "marker": {
          "color": "#2CA02C",
          "pattern": {
           "shape": ""
          }
         },
         "name": "Hybrid",
         "offsetgroup": "Hybrid",
         "orientation": "h",
         "showlegend": true,
         "text": [
          29
         ],
         "textposition": "auto",
         "type": "bar",
         "x": [
          29
         ],
         "xaxis": "x",
         "y": [
          "D010"
         ],
         "yaxis": "y"
        }
       ],
       "layout": {
        "barmode": "relative",
        "legend": {
         "title": {
          "text": "Response"
         },
         "tracegroupgap": 0
        },
        "margin": {
         "t": 60
        },
        "template": {
         "data": {
          "pie": [
           {
            "automargin": true,
            "type": "pie"
           }
          ]
         },
         "layout": {
          "xaxis": {
           "showgrid": true,
           "title": {
            "standoff": 15
           }
          },
          "yaxis": {
           "showgrid": true,
           "title": {
            "standoff": 15
           }
          }
         }
        },
        "xaxis": {
         "anchor": "y",
         "domain": [
          0,
          1
         ],
         "title": {
          "text": "Count"
         }
        },
        "yaxis": {
         "anchor": "x",
         "domain": [
          0,
          1
         ],
         "title": {
          "text": "Feature ID"
         }
        }
       }
      }
     },
     "metadata": {},
     "output_type": "display_data"
    }
   ],
   "source": [
    "fig = px.bar(df_d010_counts, x='Count', color='Response', text='Count')\n",
    "fig.write_image('analysis/individual_D010.pdf', width=WIDTH, height=QUARTER_HEIGHT)\n",
    "fig.show()"
   ]
  },
  {
   "cell_type": "code",
   "execution_count": 35,
   "metadata": {},
   "outputs": [
    {
     "data": {
      "text/html": [
       "<div>\n",
       "<style scoped>\n",
       "    .dataframe tbody tr th:only-of-type {\n",
       "        vertical-align: middle;\n",
       "    }\n",
       "\n",
       "    .dataframe tbody tr th {\n",
       "        vertical-align: top;\n",
       "    }\n",
       "\n",
       "    .dataframe thead th {\n",
       "        text-align: right;\n",
       "    }\n",
       "</style>\n",
       "<table border=\"1\" class=\"dataframe\">\n",
       "  <thead>\n",
       "    <tr style=\"text-align: right;\">\n",
       "      <th></th>\n",
       "      <th>Response</th>\n",
       "      <th>Count</th>\n",
       "    </tr>\n",
       "    <tr>\n",
       "      <th>Feature ID</th>\n",
       "      <th></th>\n",
       "      <th></th>\n",
       "    </tr>\n",
       "  </thead>\n",
       "  <tbody>\n",
       "    <tr>\n",
       "      <th>D030</th>\n",
       "      <td>Real Quantum Computer</td>\n",
       "      <td>24</td>\n",
       "    </tr>\n",
       "    <tr>\n",
       "      <th>D030</th>\n",
       "      <td>Simulator</td>\n",
       "      <td>1</td>\n",
       "    </tr>\n",
       "    <tr>\n",
       "      <th>D030</th>\n",
       "      <td>N/A</td>\n",
       "      <td>124</td>\n",
       "    </tr>\n",
       "  </tbody>\n",
       "</table>\n",
       "</div>"
      ],
      "text/plain": [
       "                         Response  Count\n",
       "Feature ID                              \n",
       "D030        Real Quantum Computer     24\n",
       "D030                    Simulator      1\n",
       "D030                          N/A    124"
      ]
     },
     "execution_count": 35,
     "metadata": {},
     "output_type": "execute_result"
    }
   ],
   "source": [
    "counts = df_quality.value_counts(subset=['Does the study use a simulator or a real quantum computer?'], dropna=False)\n",
    "row_yes = pd.DataFrame({'Response': 'Real Quantum Computer', 'Count': counts.get('Real Quantum Computer', 0)}, pd.Index(['D030'], name='Feature ID'))\n",
    "row_no = pd.DataFrame({'Response': 'Simulator', 'Count': counts.get('Simulator', 0)}, pd.Index(['D030'], name='Feature ID'))\n",
    "row_nan = pd.DataFrame({'Response': 'N/A', 'Count': counts.get(np.nan, 0)}, pd.Index(['D030'], name='Feature ID'))\n",
    "df_d030_counts = pd.concat([row_yes, row_no, row_nan])\n",
    "df_d030_counts"
   ]
  },
  {
   "cell_type": "code",
   "execution_count": 36,
   "metadata": {},
   "outputs": [
    {
     "data": {
      "application/vnd.plotly.v1+json": {
       "config": {
        "plotlyServerURL": "https://plot.ly"
       },
       "data": [
        {
         "alignmentgroup": "True",
         "hovertemplate": "Response=Real Quantum Computer<br>Count=%{text}<br>Feature ID=%{y}<extra></extra>",
         "legendgroup": "Real Quantum Computer",
         "marker": {
          "color": "#1F77B4",
          "pattern": {
           "shape": ""
          }
         },
         "name": "Real Quantum Computer",
         "offsetgroup": "Real Quantum Computer",
         "orientation": "h",
         "showlegend": true,
         "text": [
          24
         ],
         "textposition": "auto",
         "type": "bar",
         "x": [
          24
         ],
         "xaxis": "x",
         "y": [
          "D030"
         ],
         "yaxis": "y"
        },
        {
         "alignmentgroup": "True",
         "hovertemplate": "Response=Simulator<br>Count=%{text}<br>Feature ID=%{y}<extra></extra>",
         "legendgroup": "Simulator",
         "marker": {
          "color": "#FF7F0E",
          "pattern": {
           "shape": ""
          }
         },
         "name": "Simulator",
         "offsetgroup": "Simulator",
         "orientation": "h",
         "showlegend": true,
         "text": [
          1
         ],
         "textposition": "auto",
         "type": "bar",
         "x": [
          1
         ],
         "xaxis": "x",
         "y": [
          "D030"
         ],
         "yaxis": "y"
        },
        {
         "alignmentgroup": "True",
         "hovertemplate": "Response=N/A<br>Count=%{text}<br>Feature ID=%{y}<extra></extra>",
         "legendgroup": "N/A",
         "marker": {
          "color": "#2CA02C",
          "pattern": {
           "shape": ""
          }
         },
         "name": "N/A",
         "offsetgroup": "N/A",
         "orientation": "h",
         "showlegend": true,
         "text": [
          124
         ],
         "textposition": "auto",
         "type": "bar",
         "x": [
          124
         ],
         "xaxis": "x",
         "y": [
          "D030"
         ],
         "yaxis": "y"
        }
       ],
       "layout": {
        "barmode": "relative",
        "legend": {
         "title": {
          "text": "Response"
         },
         "tracegroupgap": 0
        },
        "margin": {
         "t": 60
        },
        "template": {
         "data": {
          "pie": [
           {
            "automargin": true,
            "type": "pie"
           }
          ]
         },
         "layout": {
          "xaxis": {
           "showgrid": true,
           "title": {
            "standoff": 15
           }
          },
          "yaxis": {
           "showgrid": true,
           "title": {
            "standoff": 15
           }
          }
         }
        },
        "xaxis": {
         "anchor": "y",
         "domain": [
          0,
          1
         ],
         "title": {
          "text": "Count"
         }
        },
        "yaxis": {
         "anchor": "x",
         "domain": [
          0,
          1
         ],
         "title": {
          "text": "Feature ID"
         }
        }
       }
      }
     },
     "metadata": {},
     "output_type": "display_data"
    }
   ],
   "source": [
    "fig = px.bar(df_d030_counts, x='Count', color='Response', text='Count')\n",
    "fig.write_image('analysis/individual_D030.pdf', width=WIDTH, height=QUARTER_HEIGHT)\n",
    "fig.show()"
   ]
  },
  {
   "cell_type": "code",
   "execution_count": 37,
   "metadata": {},
   "outputs": [
    {
     "data": {
      "text/html": [
       "<div>\n",
       "<style scoped>\n",
       "    .dataframe tbody tr th:only-of-type {\n",
       "        vertical-align: middle;\n",
       "    }\n",
       "\n",
       "    .dataframe tbody tr th {\n",
       "        vertical-align: top;\n",
       "    }\n",
       "\n",
       "    .dataframe thead th {\n",
       "        text-align: right;\n",
       "    }\n",
       "</style>\n",
       "<table border=\"1\" class=\"dataframe\">\n",
       "  <thead>\n",
       "    <tr style=\"text-align: right;\">\n",
       "      <th></th>\n",
       "      <th>Response</th>\n",
       "      <th>Count</th>\n",
       "    </tr>\n",
       "    <tr>\n",
       "      <th>Feature ID</th>\n",
       "      <th></th>\n",
       "      <th></th>\n",
       "    </tr>\n",
       "  </thead>\n",
       "  <tbody>\n",
       "    <tr>\n",
       "      <th>D040</th>\n",
       "      <td>Gate-based</td>\n",
       "      <td>2</td>\n",
       "    </tr>\n",
       "    <tr>\n",
       "      <th>D040</th>\n",
       "      <td>Annealer</td>\n",
       "      <td>24</td>\n",
       "    </tr>\n",
       "    <tr>\n",
       "      <th>D040</th>\n",
       "      <td>N/A</td>\n",
       "      <td>123</td>\n",
       "    </tr>\n",
       "  </tbody>\n",
       "</table>\n",
       "</div>"
      ],
      "text/plain": [
       "              Response  Count\n",
       "Feature ID                   \n",
       "D040        Gate-based      2\n",
       "D040          Annealer     24\n",
       "D040               N/A    123"
      ]
     },
     "execution_count": 37,
     "metadata": {},
     "output_type": "execute_result"
    }
   ],
   "source": [
    "counts = df_quality.value_counts(subset=['Type of Quantum Computer'], dropna=False)\n",
    "row_yes = pd.DataFrame({'Response': 'Gate-based', 'Count': counts.get('Gate-based', 0)}, pd.Index(['D040'], name='Feature ID'))\n",
    "row_no = pd.DataFrame({'Response': 'Annealer', 'Count': counts.get('Annealer', 0)}, pd.Index(['D040'], name='Feature ID'))\n",
    "row_nan = pd.DataFrame({'Response': 'N/A', 'Count': counts.get(np.nan, 0)}, pd.Index(['D040'], name='Feature ID'))\n",
    "df_d040_counts = pd.concat([row_yes, row_no, row_nan])\n",
    "df_d040_counts"
   ]
  },
  {
   "cell_type": "code",
   "execution_count": 38,
   "metadata": {},
   "outputs": [
    {
     "data": {
      "application/vnd.plotly.v1+json": {
       "config": {
        "plotlyServerURL": "https://plot.ly"
       },
       "data": [
        {
         "alignmentgroup": "True",
         "hovertemplate": "Response=Gate-based<br>Count=%{text}<br>Feature ID=%{y}<extra></extra>",
         "legendgroup": "Gate-based",
         "marker": {
          "color": "#1F77B4",
          "pattern": {
           "shape": ""
          }
         },
         "name": "Gate-based",
         "offsetgroup": "Gate-based",
         "orientation": "h",
         "showlegend": true,
         "text": [
          2
         ],
         "textposition": "auto",
         "type": "bar",
         "x": [
          2
         ],
         "xaxis": "x",
         "y": [
          "D040"
         ],
         "yaxis": "y"
        },
        {
         "alignmentgroup": "True",
         "hovertemplate": "Response=Annealer<br>Count=%{text}<br>Feature ID=%{y}<extra></extra>",
         "legendgroup": "Annealer",
         "marker": {
          "color": "#FF7F0E",
          "pattern": {
           "shape": ""
          }
         },
         "name": "Annealer",
         "offsetgroup": "Annealer",
         "orientation": "h",
         "showlegend": true,
         "text": [
          24
         ],
         "textposition": "auto",
         "type": "bar",
         "x": [
          24
         ],
         "xaxis": "x",
         "y": [
          "D040"
         ],
         "yaxis": "y"
        },
        {
         "alignmentgroup": "True",
         "hovertemplate": "Response=N/A<br>Count=%{text}<br>Feature ID=%{y}<extra></extra>",
         "legendgroup": "N/A",
         "marker": {
          "color": "#2CA02C",
          "pattern": {
           "shape": ""
          }
         },
         "name": "N/A",
         "offsetgroup": "N/A",
         "orientation": "h",
         "showlegend": true,
         "text": [
          123
         ],
         "textposition": "auto",
         "type": "bar",
         "x": [
          123
         ],
         "xaxis": "x",
         "y": [
          "D040"
         ],
         "yaxis": "y"
        }
       ],
       "layout": {
        "barmode": "relative",
        "legend": {
         "title": {
          "text": "Response"
         },
         "tracegroupgap": 0
        },
        "margin": {
         "t": 60
        },
        "template": {
         "data": {
          "pie": [
           {
            "automargin": true,
            "type": "pie"
           }
          ]
         },
         "layout": {
          "xaxis": {
           "showgrid": true,
           "title": {
            "standoff": 15
           }
          },
          "yaxis": {
           "showgrid": true,
           "title": {
            "standoff": 15
           }
          }
         }
        },
        "xaxis": {
         "anchor": "y",
         "domain": [
          0,
          1
         ],
         "title": {
          "text": "Count"
         }
        },
        "yaxis": {
         "anchor": "x",
         "domain": [
          0,
          1
         ],
         "title": {
          "text": "Feature ID"
         }
        }
       }
      }
     },
     "metadata": {},
     "output_type": "display_data"
    }
   ],
   "source": [
    "fig = px.bar(df_d040_counts, x='Count', color='Response', text='Count')\n",
    "fig.write_image('analysis/individual_D040.pdf', width=WIDTH, height=QUARTER_HEIGHT)\n",
    "fig.show()"
   ]
  },
  {
   "cell_type": "code",
   "execution_count": 39,
   "metadata": {},
   "outputs": [
    {
     "data": {
      "text/html": [
       "<div>\n",
       "<style scoped>\n",
       "    .dataframe tbody tr th:only-of-type {\n",
       "        vertical-align: middle;\n",
       "    }\n",
       "\n",
       "    .dataframe tbody tr th {\n",
       "        vertical-align: top;\n",
       "    }\n",
       "\n",
       "    .dataframe thead th {\n",
       "        text-align: right;\n",
       "    }\n",
       "</style>\n",
       "<table border=\"1\" class=\"dataframe\">\n",
       "  <thead>\n",
       "    <tr style=\"text-align: right;\">\n",
       "      <th></th>\n",
       "      <th>Response</th>\n",
       "      <th>Count</th>\n",
       "    </tr>\n",
       "    <tr>\n",
       "      <th>Feature ID</th>\n",
       "      <th></th>\n",
       "      <th></th>\n",
       "    </tr>\n",
       "  </thead>\n",
       "  <tbody>\n",
       "    <tr>\n",
       "      <th>D070</th>\n",
       "      <td>Journal</td>\n",
       "      <td>111</td>\n",
       "    </tr>\n",
       "    <tr>\n",
       "      <th>D070</th>\n",
       "      <td>Conference</td>\n",
       "      <td>36</td>\n",
       "    </tr>\n",
       "    <tr>\n",
       "      <th>D070</th>\n",
       "      <td>Workshop</td>\n",
       "      <td>2</td>\n",
       "    </tr>\n",
       "  </tbody>\n",
       "</table>\n",
       "</div>"
      ],
      "text/plain": [
       "              Response  Count\n",
       "Feature ID                   \n",
       "D070           Journal    111\n",
       "D070        Conference     36\n",
       "D070          Workshop      2"
      ]
     },
     "execution_count": 39,
     "metadata": {},
     "output_type": "execute_result"
    }
   ],
   "source": [
    "counts = df_quality.value_counts(subset=['Publication Source'], dropna=False)\n",
    "row_yes = pd.DataFrame({'Response': 'Journal', 'Count': counts.get('Journal', 0)}, pd.Index(['D070'], name='Feature ID'))\n",
    "row_no = pd.DataFrame({'Response': 'Conference', 'Count': counts.get('Conference', 0)}, pd.Index(['D070'], name='Feature ID'))\n",
    "row_nan = pd.DataFrame({'Response': 'Workshop', 'Count': counts.get('Workshop', 0)}, pd.Index(['D070'], name='Feature ID'))\n",
    "df_d070_counts = pd.concat([row_yes, row_no, row_nan])\n",
    "df_d070_counts"
   ]
  },
  {
   "cell_type": "code",
   "execution_count": 40,
   "metadata": {},
   "outputs": [
    {
     "data": {
      "application/vnd.plotly.v1+json": {
       "config": {
        "plotlyServerURL": "https://plot.ly"
       },
       "data": [
        {
         "alignmentgroup": "True",
         "hovertemplate": "Response=Journal<br>Count=%{text}<br>Feature ID=%{y}<extra></extra>",
         "legendgroup": "Journal",
         "marker": {
          "color": "#1F77B4",
          "pattern": {
           "shape": ""
          }
         },
         "name": "Journal",
         "offsetgroup": "Journal",
         "orientation": "h",
         "showlegend": true,
         "text": [
          111
         ],
         "textposition": "auto",
         "type": "bar",
         "x": [
          111
         ],
         "xaxis": "x",
         "y": [
          "D070"
         ],
         "yaxis": "y"
        },
        {
         "alignmentgroup": "True",
         "hovertemplate": "Response=Conference<br>Count=%{text}<br>Feature ID=%{y}<extra></extra>",
         "legendgroup": "Conference",
         "marker": {
          "color": "#FF7F0E",
          "pattern": {
           "shape": ""
          }
         },
         "name": "Conference",
         "offsetgroup": "Conference",
         "orientation": "h",
         "showlegend": true,
         "text": [
          36
         ],
         "textposition": "auto",
         "type": "bar",
         "x": [
          36
         ],
         "xaxis": "x",
         "y": [
          "D070"
         ],
         "yaxis": "y"
        },
        {
         "alignmentgroup": "True",
         "hovertemplate": "Response=Workshop<br>Count=%{text}<br>Feature ID=%{y}<extra></extra>",
         "legendgroup": "Workshop",
         "marker": {
          "color": "#2CA02C",
          "pattern": {
           "shape": ""
          }
         },
         "name": "Workshop",
         "offsetgroup": "Workshop",
         "orientation": "h",
         "showlegend": true,
         "text": [
          2
         ],
         "textposition": "auto",
         "type": "bar",
         "x": [
          2
         ],
         "xaxis": "x",
         "y": [
          "D070"
         ],
         "yaxis": "y"
        }
       ],
       "layout": {
        "barmode": "relative",
        "legend": {
         "title": {
          "text": "Response"
         },
         "tracegroupgap": 0
        },
        "margin": {
         "t": 60
        },
        "template": {
         "data": {
          "pie": [
           {
            "automargin": true,
            "type": "pie"
           }
          ]
         },
         "layout": {
          "xaxis": {
           "showgrid": true,
           "title": {
            "standoff": 15
           }
          },
          "yaxis": {
           "showgrid": true,
           "title": {
            "standoff": 15
           }
          }
         }
        },
        "xaxis": {
         "anchor": "y",
         "domain": [
          0,
          1
         ],
         "title": {
          "text": "Count"
         }
        },
        "yaxis": {
         "anchor": "x",
         "domain": [
          0,
          1
         ],
         "title": {
          "text": "Feature ID"
         }
        }
       }
      }
     },
     "metadata": {},
     "output_type": "display_data"
    }
   ],
   "source": [
    "fig = px.bar(df_d070_counts, x='Count', color='Response', text='Count')\n",
    "fig.write_image('analysis/individual_D070.pdf', width=WIDTH, height=QUARTER_HEIGHT)\n",
    "fig.show()"
   ]
  },
  {
   "cell_type": "code",
   "execution_count": 41,
   "metadata": {},
   "outputs": [
    {
     "data": {
      "text/html": [
       "<div>\n",
       "<style scoped>\n",
       "    .dataframe tbody tr th:only-of-type {\n",
       "        vertical-align: middle;\n",
       "    }\n",
       "\n",
       "    .dataframe tbody tr th {\n",
       "        vertical-align: top;\n",
       "    }\n",
       "\n",
       "    .dataframe thead th {\n",
       "        text-align: right;\n",
       "    }\n",
       "</style>\n",
       "<table border=\"1\" class=\"dataframe\">\n",
       "  <thead>\n",
       "    <tr style=\"text-align: right;\">\n",
       "      <th></th>\n",
       "      <th>Algorithm Name</th>\n",
       "      <th>0</th>\n",
       "    </tr>\n",
       "  </thead>\n",
       "  <tbody>\n",
       "    <tr>\n",
       "      <th>0</th>\n",
       "      <td>Quantum Particle Swarm Optimization</td>\n",
       "      <td>64</td>\n",
       "    </tr>\n",
       "    <tr>\n",
       "      <th>1</th>\n",
       "      <td>Quadratic Unconstrained Binary Optimization</td>\n",
       "      <td>25</td>\n",
       "    </tr>\n",
       "    <tr>\n",
       "      <th>2</th>\n",
       "      <td>Quantum Genetic Algorithm</td>\n",
       "      <td>17</td>\n",
       "    </tr>\n",
       "    <tr>\n",
       "      <th>3</th>\n",
       "      <td>Quantum-inspired Evolutionary Algorithm</td>\n",
       "      <td>10</td>\n",
       "    </tr>\n",
       "    <tr>\n",
       "      <th>4</th>\n",
       "      <td>Quantum Bat Algorithm</td>\n",
       "      <td>5</td>\n",
       "    </tr>\n",
       "    <tr>\n",
       "      <th>5</th>\n",
       "      <td>Quantum Generative Training</td>\n",
       "      <td>3</td>\n",
       "    </tr>\n",
       "    <tr>\n",
       "      <th>6</th>\n",
       "      <td>Quantum-inspired Shuffled Frog Leaping Algorithm</td>\n",
       "      <td>2</td>\n",
       "    </tr>\n",
       "    <tr>\n",
       "      <th>7</th>\n",
       "      <td>Quantum Ant Colony Algorithm</td>\n",
       "      <td>2</td>\n",
       "    </tr>\n",
       "    <tr>\n",
       "      <th>8</th>\n",
       "      <td>Quantum-behaved Pigeon-inspired Optimization</td>\n",
       "      <td>2</td>\n",
       "    </tr>\n",
       "    <tr>\n",
       "      <th>9</th>\n",
       "      <td>Quantum Circuit</td>\n",
       "      <td>2</td>\n",
       "    </tr>\n",
       "    <tr>\n",
       "      <th>10</th>\n",
       "      <td>Quantum-Behaved Lightning Search Algorithm</td>\n",
       "      <td>2</td>\n",
       "    </tr>\n",
       "    <tr>\n",
       "      <th>11</th>\n",
       "      <td>Quantum Multi-Agent Based Neural Network</td>\n",
       "      <td>1</td>\n",
       "    </tr>\n",
       "    <tr>\n",
       "      <th>12</th>\n",
       "      <td>Quantum-inspired Tidal Firefly Algorithm</td>\n",
       "      <td>1</td>\n",
       "    </tr>\n",
       "    <tr>\n",
       "      <th>13</th>\n",
       "      <td>Quantum-inspired Binary TVIW-GSA-PSO</td>\n",
       "      <td>1</td>\n",
       "    </tr>\n",
       "    <tr>\n",
       "      <th>14</th>\n",
       "      <td>Quantum-based Grey Wolf Optimizer</td>\n",
       "      <td>1</td>\n",
       "    </tr>\n",
       "    <tr>\n",
       "      <th>15</th>\n",
       "      <td>Bi-direction Quantum Crossover Based Clonal Al...</td>\n",
       "      <td>1</td>\n",
       "    </tr>\n",
       "    <tr>\n",
       "      <th>16</th>\n",
       "      <td>Quantum Inspired Grammar-based Linear Genetic ...</td>\n",
       "      <td>1</td>\n",
       "    </tr>\n",
       "    <tr>\n",
       "      <th>17</th>\n",
       "      <td>Chaotic Quantum Bee Colony Algorithm</td>\n",
       "      <td>1</td>\n",
       "    </tr>\n",
       "    <tr>\n",
       "      <th>18</th>\n",
       "      <td>Quantum Dragonfly Algorithm</td>\n",
       "      <td>1</td>\n",
       "    </tr>\n",
       "    <tr>\n",
       "      <th>19</th>\n",
       "      <td>Quantum Discrete Self-Organizing Migrating Alg...</td>\n",
       "      <td>1</td>\n",
       "    </tr>\n",
       "    <tr>\n",
       "      <th>20</th>\n",
       "      <td>Quantum Chaotic Animal Migration Optimization ...</td>\n",
       "      <td>1</td>\n",
       "    </tr>\n",
       "    <tr>\n",
       "      <th>21</th>\n",
       "      <td>Quantum Alternating Operator Ansatz</td>\n",
       "      <td>1</td>\n",
       "    </tr>\n",
       "    <tr>\n",
       "      <th>22</th>\n",
       "      <td>Logistic Chaotic Quantum Dot Cellular Automata</td>\n",
       "      <td>1</td>\n",
       "    </tr>\n",
       "    <tr>\n",
       "      <th>23</th>\n",
       "      <td>Hierarchical Quantum Entropy</td>\n",
       "      <td>1</td>\n",
       "    </tr>\n",
       "    <tr>\n",
       "      <th>24</th>\n",
       "      <td>Decomposition into QUBOs</td>\n",
       "      <td>1</td>\n",
       "    </tr>\n",
       "    <tr>\n",
       "      <th>25</th>\n",
       "      <td>Real-parameter Quantum-inspired Evolutionary C...</td>\n",
       "      <td>1</td>\n",
       "    </tr>\n",
       "  </tbody>\n",
       "</table>\n",
       "</div>"
      ],
      "text/plain": [
       "                                       Algorithm Name   0\n",
       "0                 Quantum Particle Swarm Optimization  64\n",
       "1         Quadratic Unconstrained Binary Optimization  25\n",
       "2                           Quantum Genetic Algorithm  17\n",
       "3             Quantum-inspired Evolutionary Algorithm  10\n",
       "4                               Quantum Bat Algorithm   5\n",
       "5                         Quantum Generative Training   3\n",
       "6    Quantum-inspired Shuffled Frog Leaping Algorithm   2\n",
       "7                        Quantum Ant Colony Algorithm   2\n",
       "8        Quantum-behaved Pigeon-inspired Optimization   2\n",
       "9                                     Quantum Circuit   2\n",
       "10         Quantum-Behaved Lightning Search Algorithm   2\n",
       "11           Quantum Multi-Agent Based Neural Network   1\n",
       "12           Quantum-inspired Tidal Firefly Algorithm   1\n",
       "13               Quantum-inspired Binary TVIW-GSA-PSO   1\n",
       "14                  Quantum-based Grey Wolf Optimizer   1\n",
       "15  Bi-direction Quantum Crossover Based Clonal Al...   1\n",
       "16  Quantum Inspired Grammar-based Linear Genetic ...   1\n",
       "17               Chaotic Quantum Bee Colony Algorithm   1\n",
       "18                        Quantum Dragonfly Algorithm   1\n",
       "19  Quantum Discrete Self-Organizing Migrating Alg...   1\n",
       "20  Quantum Chaotic Animal Migration Optimization ...   1\n",
       "21                Quantum Alternating Operator Ansatz   1\n",
       "22     Logistic Chaotic Quantum Dot Cellular Automata   1\n",
       "23                       Hierarchical Quantum Entropy   1\n",
       "24                           Decomposition into QUBOs   1\n",
       "25  Real-parameter Quantum-inspired Evolutionary C...   1"
      ]
     },
     "execution_count": 41,
     "metadata": {},
     "output_type": "execute_result"
    }
   ],
   "source": [
    "df_d020_counts = df_quality.value_counts(subset=['Algorithm Name'], dropna=False).to_frame()\n",
    "df_d020_counts.reset_index(inplace=True)\n",
    "df_d020_counts"
   ]
  },
  {
   "cell_type": "code",
   "execution_count": 42,
   "metadata": {},
   "outputs": [
    {
     "data": {
      "application/vnd.plotly.v1+json": {
       "config": {
        "plotlyServerURL": "https://plot.ly"
       },
       "data": [
        {
         "alignmentgroup": "True",
         "hovertemplate": "0=%{text}<br>Algorithm Name=%{y}<extra></extra>",
         "legendgroup": "",
         "marker": {
          "color": "#1F77B4",
          "pattern": {
           "shape": ""
          }
         },
         "name": "",
         "offsetgroup": "",
         "orientation": "h",
         "showlegend": false,
         "text": [
          64,
          25,
          17,
          10,
          5,
          3,
          2,
          2,
          2,
          2,
          2,
          1,
          1,
          1,
          1,
          1,
          1,
          1,
          1,
          1,
          1,
          1,
          1,
          1,
          1,
          1
         ],
         "textposition": "auto",
         "type": "bar",
         "x": [
          64,
          25,
          17,
          10,
          5,
          3,
          2,
          2,
          2,
          2,
          2,
          1,
          1,
          1,
          1,
          1,
          1,
          1,
          1,
          1,
          1,
          1,
          1,
          1,
          1,
          1
         ],
         "xaxis": "x",
         "y": [
          "Quantum Particle Swarm Optimization",
          "Quadratic Unconstrained Binary Optimization",
          "Quantum Genetic Algorithm",
          "Quantum-inspired Evolutionary Algorithm",
          "Quantum Bat Algorithm",
          "Quantum Generative Training",
          "Quantum-inspired Shuffled Frog Leaping Algorithm",
          "Quantum Ant Colony Algorithm",
          "Quantum-behaved Pigeon-inspired Optimization",
          "Quantum Circuit",
          "Quantum-Behaved Lightning Search Algorithm",
          "Quantum Multi-Agent Based Neural Network",
          "Quantum-inspired Tidal Firefly Algorithm",
          "Quantum-inspired Binary TVIW-GSA-PSO",
          "Quantum-based Grey Wolf Optimizer",
          "Bi-direction Quantum Crossover Based Clonal Algorithm",
          "Quantum Inspired Grammar-based Linear Genetic Programming",
          "Chaotic Quantum Bee Colony Algorithm",
          "Quantum Dragonfly Algorithm",
          "Quantum Discrete Self-Organizing Migrating Algorithm",
          "Quantum Chaotic Animal Migration Optimization Algorithm",
          "Quantum Alternating Operator Ansatz",
          "Logistic Chaotic Quantum Dot Cellular Automata",
          "Hierarchical Quantum Entropy",
          "Decomposition into QUBOs",
          "Real-parameter Quantum-inspired Evolutionary Clustering Algorithm"
         ],
         "yaxis": "y"
        }
       ],
       "layout": {
        "barmode": "relative",
        "legend": {
         "tracegroupgap": 0
        },
        "margin": {
         "l": 440,
         "t": 60
        },
        "template": {
         "data": {
          "pie": [
           {
            "automargin": true,
            "type": "pie"
           }
          ]
         },
         "layout": {
          "xaxis": {
           "showgrid": true,
           "title": {
            "standoff": 15
           }
          },
          "yaxis": {
           "showgrid": true,
           "title": {
            "standoff": 15
           }
          }
         }
        },
        "xaxis": {
         "anchor": "y",
         "domain": [
          0,
          1
         ],
         "title": {
          "text": "#"
         }
        },
        "yaxis": {
         "anchor": "x",
         "domain": [
          0,
          1
         ],
         "title": {
          "text": "Algorithm Name"
         }
        }
       }
      }
     },
     "metadata": {},
     "output_type": "display_data"
    }
   ],
   "source": [
    "fig = px.bar(df_d020_counts, y='Algorithm Name', x=0, text=0)\n",
    "fig.update_layout(margin={\"l\": 440})\n",
    "fig.update_xaxes(title='#')\n",
    "fig.write_image('analysis/individual_D020.pdf', width=WIDTH, height=HEIGHT)\n",
    "fig.show()"
   ]
  },
  {
   "cell_type": "code",
   "execution_count": 43,
   "metadata": {},
   "outputs": [
    {
     "data": {
      "text/html": [
       "<div>\n",
       "<style scoped>\n",
       "    .dataframe tbody tr th:only-of-type {\n",
       "        vertical-align: middle;\n",
       "    }\n",
       "\n",
       "    .dataframe tbody tr th {\n",
       "        vertical-align: top;\n",
       "    }\n",
       "\n",
       "    .dataframe thead th {\n",
       "        text-align: right;\n",
       "    }\n",
       "</style>\n",
       "<table border=\"1\" class=\"dataframe\">\n",
       "  <thead>\n",
       "    <tr style=\"text-align: right;\">\n",
       "      <th></th>\n",
       "      <th>Publication Year</th>\n",
       "      <th>0</th>\n",
       "    </tr>\n",
       "  </thead>\n",
       "  <tbody>\n",
       "    <tr>\n",
       "      <th>10</th>\n",
       "      <td>2011</td>\n",
       "      <td>3</td>\n",
       "    </tr>\n",
       "    <tr>\n",
       "      <th>7</th>\n",
       "      <td>2012</td>\n",
       "      <td>6</td>\n",
       "    </tr>\n",
       "    <tr>\n",
       "      <th>11</th>\n",
       "      <td>2013</td>\n",
       "      <td>3</td>\n",
       "    </tr>\n",
       "    <tr>\n",
       "      <th>6</th>\n",
       "      <td>2014</td>\n",
       "      <td>8</td>\n",
       "    </tr>\n",
       "    <tr>\n",
       "      <th>8</th>\n",
       "      <td>2015</td>\n",
       "      <td>6</td>\n",
       "    </tr>\n",
       "    <tr>\n",
       "      <th>3</th>\n",
       "      <td>2016</td>\n",
       "      <td>11</td>\n",
       "    </tr>\n",
       "    <tr>\n",
       "      <th>4</th>\n",
       "      <td>2017</td>\n",
       "      <td>11</td>\n",
       "    </tr>\n",
       "    <tr>\n",
       "      <th>5</th>\n",
       "      <td>2018</td>\n",
       "      <td>9</td>\n",
       "    </tr>\n",
       "    <tr>\n",
       "      <th>2</th>\n",
       "      <td>2019</td>\n",
       "      <td>20</td>\n",
       "    </tr>\n",
       "    <tr>\n",
       "      <th>0</th>\n",
       "      <td>2020</td>\n",
       "      <td>38</td>\n",
       "    </tr>\n",
       "    <tr>\n",
       "      <th>1</th>\n",
       "      <td>2021</td>\n",
       "      <td>29</td>\n",
       "    </tr>\n",
       "    <tr>\n",
       "      <th>9</th>\n",
       "      <td>2022</td>\n",
       "      <td>5</td>\n",
       "    </tr>\n",
       "  </tbody>\n",
       "</table>\n",
       "</div>"
      ],
      "text/plain": [
       "   Publication Year   0\n",
       "10             2011   3\n",
       "7              2012   6\n",
       "11             2013   3\n",
       "6              2014   8\n",
       "8              2015   6\n",
       "3              2016  11\n",
       "4              2017  11\n",
       "5              2018   9\n",
       "2              2019  20\n",
       "0              2020  38\n",
       "1              2021  29\n",
       "9              2022   5"
      ]
     },
     "execution_count": 43,
     "metadata": {},
     "output_type": "execute_result"
    }
   ],
   "source": [
    "df_d060_counts = df_quality.value_counts(subset=['Publication Year'], dropna=False).to_frame()\n",
    "df_d060_counts.reset_index(inplace=True)\n",
    "df_d060_counts['Publication Year'] = df_d060_counts['Publication Year'].astype(str)\n",
    "df_d060_counts.sort_values(by=['Publication Year'], inplace=True)\n",
    "df_d060_counts"
   ]
  },
  {
   "cell_type": "code",
   "execution_count": 44,
   "metadata": {},
   "outputs": [
    {
     "data": {
      "application/vnd.plotly.v1+json": {
       "config": {
        "plotlyServerURL": "https://plot.ly"
       },
       "data": [
        {
         "alignmentgroup": "True",
         "hovertemplate": "Publication Year=%{x}<br>0=%{text}<extra></extra>",
         "legendgroup": "",
         "marker": {
          "color": [
           "#1F77B4",
           "#1F77B4",
           "#1F77B4",
           "#1F77B4",
           "#1F77B4",
           "#1F77B4",
           "#1F77B4",
           "#1F77B4",
           "#1F77B4",
           "#1F77B4",
           "#1F77B4",
           "red"
          ],
          "pattern": {
           "shape": ""
          }
         },
         "name": "",
         "offsetgroup": "",
         "orientation": "v",
         "showlegend": false,
         "text": [
          3,
          6,
          3,
          8,
          6,
          11,
          11,
          9,
          20,
          38,
          29,
          5
         ],
         "textposition": "auto",
         "type": "bar",
         "x": [
          "2011",
          "2012",
          "2013",
          "2014",
          "2015",
          "2016",
          "2017",
          "2018",
          "2019",
          "2020",
          "2021",
          "2022"
         ],
         "xaxis": "x",
         "y": [
          3,
          6,
          3,
          8,
          6,
          11,
          11,
          9,
          20,
          38,
          29,
          5
         ],
         "yaxis": "y"
        }
       ],
       "layout": {
        "barmode": "relative",
        "legend": {
         "tracegroupgap": 0
        },
        "margin": {
         "t": 60
        },
        "template": {
         "data": {
          "pie": [
           {
            "automargin": true,
            "type": "pie"
           }
          ]
         },
         "layout": {
          "xaxis": {
           "showgrid": true,
           "title": {
            "standoff": 15
           }
          },
          "yaxis": {
           "showgrid": true,
           "title": {
            "standoff": 15
           }
          }
         }
        },
        "xaxis": {
         "anchor": "y",
         "domain": [
          0,
          1
         ],
         "dtick": 1,
         "title": {
          "text": "Publication Year"
         }
        },
        "yaxis": {
         "anchor": "x",
         "domain": [
          0,
          1
         ],
         "title": {
          "text": "#"
         }
        }
       }
      }
     },
     "metadata": {},
     "output_type": "display_data"
    }
   ],
   "source": [
    "fig = px.bar(df_d060_counts, x='Publication Year', y=0, text=0)\n",
    "\n",
    "bar_trace = fig.data[0]\n",
    "bar_trace['marker']['color'] = [bar_trace['marker']['color']] * 11 + ['red']\n",
    "\n",
    "fig.update_xaxes(dtick=1)\n",
    "fig.update_yaxes(title='#')\n",
    "fig.write_image('analysis/individual_D060.pdf', width=WIDTH, height=HALF_HEIGHT)\n",
    "fig.show()"
   ]
  },
  {
   "cell_type": "markdown",
   "metadata": {},
   "source": [
    "### ISIC Section"
   ]
  },
  {
   "cell_type": "code",
   "execution_count": 45,
   "metadata": {},
   "outputs": [],
   "source": [
    "df_isic_dict = pd.read_csv('ISIC_Rev_4_english_structure.csv', sep=',', converters={\n",
    "                           'Code': str, 'Description': str})\n",
    "df_isic_dict.set_index('Code', inplace=True)\n",
    "\n",
    "def isic_code_to_description(code, df_isic_dict):\n",
    "    return df_isic_dict['Description'][code]\n",
    "\n",
    "df_quality['ISIC Section Name'] = df_quality.apply(lambda row: isic_code_to_description(\n",
    "    code=row['ISIC Section'], df_isic_dict=df_isic_dict), axis=1)\n",
    "df_quality['ISIC Division Name'] = df_quality.apply(lambda row: isic_code_to_description(\n",
    "    code=row['ISIC Division'], df_isic_dict=df_isic_dict), axis=1)\n",
    "df_quality['ISIC Group Name'] = df_quality.apply(lambda row: isic_code_to_description(\n",
    "    code=row['ISIC Group'], df_isic_dict=df_isic_dict), axis=1)\n",
    "df_quality['ISIC Class Name'] = df_quality.apply(lambda row: isic_code_to_description(\n",
    "    code=row['ISIC Class'], df_isic_dict=df_isic_dict), axis=1)\n"
   ]
  },
  {
   "cell_type": "code",
   "execution_count": 46,
   "metadata": {},
   "outputs": [
    {
     "data": {
      "application/vnd.plotly.v1+json": {
       "config": {
        "plotlyServerURL": "https://plot.ly"
       },
       "data": [
        {
         "alignmentgroup": "True",
         "hovertemplate": "0=%{text}<br>ISIC Section Name=%{y}<extra></extra>",
         "legendgroup": "",
         "marker": {
          "color": "#1F77B4",
          "pattern": {
           "shape": ""
          }
         },
         "name": "",
         "offsetgroup": "",
         "orientation": "h",
         "showlegend": false,
         "text": [
          0,
          0,
          0,
          0,
          0,
          0,
          0,
          1,
          1,
          1,
          1,
          2,
          2,
          2,
          5,
          6,
          13,
          21,
          22,
          35,
          37
         ],
         "textposition": "auto",
         "type": "bar",
         "x": [
          0,
          0,
          0,
          0,
          0,
          0,
          0,
          1,
          1,
          1,
          1,
          2,
          2,
          2,
          5,
          6,
          13,
          21,
          22,
          35,
          37
         ],
         "xaxis": "x",
         "y": [
          "Activities of extraterritorial organizations and bodies",
          "Other service activities",
          "Education",
          "Real estate activities",
          "Financial and insurance activities",
          "Accommodation and food service activities",
          "Activities of households as employers; undifferentiated goods- and services-producing activities of households for own use",
          "Mining and quarrying",
          "Human health and social work activities",
          "Arts, entertainment and recreation",
          "Administrative and support service activities",
          "Construction",
          "Agriculture, forestry and fishing",
          "Wholesale and retail trade; repair of motor vehicles and motorcycles",
          "Public administration and defence; compulsory social security",
          "Water supply; sewerage, waste management and remediation activities",
          "Information and communication",
          "Professional, scientific and technical activities",
          "Manufacturing",
          "Transportation and storage",
          "Electricity, gas, steam and air conditioning supply"
         ],
         "yaxis": "y"
        }
       ],
       "layout": {
        "barmode": "relative",
        "legend": {
         "tracegroupgap": 0
        },
        "margin": {
         "l": 770,
         "t": 60
        },
        "template": {
         "data": {
          "pie": [
           {
            "automargin": true,
            "type": "pie"
           }
          ]
         },
         "layout": {
          "xaxis": {
           "showgrid": true,
           "title": {
            "standoff": 15
           }
          },
          "yaxis": {
           "showgrid": true,
           "title": {
            "standoff": 15
           }
          }
         }
        },
        "xaxis": {
         "anchor": "y",
         "domain": [
          0,
          1
         ],
         "title": {
          "text": "#"
         }
        },
        "yaxis": {
         "anchor": "x",
         "domain": [
          0,
          1
         ],
         "dtick": 1,
         "title": {
          "text": "ISIC Section Name"
         }
        }
       }
      }
     },
     "metadata": {},
     "output_type": "display_data"
    }
   ],
   "source": [
    "df_d050_counts = df_quality.value_counts(subset=['ISIC Section Name'], dropna=False).to_frame()\n",
    "df_d050_counts.reset_index(inplace=True)\n",
    "df_d050_counts['ISIC Section Name'] = df_d050_counts['ISIC Section Name'].astype(str)\n",
    "\n",
    "for letter in string.ascii_uppercase[:21]:\n",
    "    isic_desc = isic_code_to_description(code=letter, df_isic_dict=df_isic_dict)\n",
    "    if isic_desc not in df_d050_counts['ISIC Section Name'].values:\n",
    "        new_row = {'ISIC Section Name': isic_desc, 0: 0}\n",
    "        new_row_df = pd.DataFrame([new_row])\n",
    "        df_d050_counts = pd.concat([df_d050_counts, new_row_df], ignore_index=True)\n",
    "\n",
    "df_d050_counts.sort_values(by=[0], inplace=True)\n",
    "\n",
    "fig = px.bar(df_d050_counts, y='ISIC Section Name', x=0, text=0)\n",
    "fig.update_layout(margin={\"l\": 770})\n",
    "fig.update_yaxes(dtick=1)\n",
    "fig.update_xaxes(title='#')\n",
    "fig.write_image('analysis/individual_D050.pdf', width=WIDTH, height=HALF_HEIGHT)\n",
    "fig.show()"
   ]
  },
  {
   "cell_type": "code",
   "execution_count": 47,
   "metadata": {},
   "outputs": [
    {
     "data": {
      "application/vnd.plotly.v1+json": {
       "config": {
        "plotlyServerURL": "https://plot.ly"
       },
       "data": [
        {
         "alignmentgroup": "True",
         "hovertemplate": "ISIC Section=C<br>0=%{text}<br>ISIC Division Name=%{y}<extra></extra>",
         "legendgroup": "C",
         "marker": {
          "color": "#1F77B4",
          "pattern": {
           "shape": ""
          }
         },
         "name": "C",
         "offsetgroup": "C",
         "orientation": "h",
         "showlegend": true,
         "text": [
          1,
          1,
          1,
          2,
          2,
          2,
          4,
          9
         ],
         "textposition": "auto",
         "type": "bar",
         "x": [
          1,
          1,
          1,
          2,
          2,
          2,
          4,
          9
         ],
         "xaxis": "x",
         "y": [
          "Manufacture of basic metals",
          "Manufacture of leather and related products",
          "Manufacture of fabricated metal products, except machinery and equipment",
          "Manufacture of machinery and equipment n.e.c.",
          "Manufacture of other non-metallic mineral products",
          "Manufacture of computer, electronic and optical products",
          "Manufacture of electrical equipment",
          "Repair and installation of machinery and equipment"
         ],
         "yaxis": "y"
        },
        {
         "alignmentgroup": "True",
         "hovertemplate": "ISIC Section=J<br>0=%{text}<br>ISIC Division Name=%{y}<extra></extra>",
         "legendgroup": "J",
         "marker": {
          "color": "#FF7F0E",
          "pattern": {
           "shape": ""
          }
         },
         "name": "J",
         "offsetgroup": "J",
         "orientation": "h",
         "showlegend": true,
         "text": [
          1,
          2,
          2,
          8
         ],
         "textposition": "auto",
         "type": "bar",
         "x": [
          1,
          2,
          2,
          8
         ],
         "xaxis": "x",
         "y": [
          "Programming and broadcasting activities",
          "Telecommunications",
          "Computer programming, consultancy and related activities",
          "Information service activities"
         ],
         "yaxis": "y"
        },
        {
         "alignmentgroup": "True",
         "hovertemplate": "ISIC Section=H<br>0=%{text}<br>ISIC Division Name=%{y}<extra></extra>",
         "legendgroup": "H",
         "marker": {
          "color": "#2CA02C",
          "pattern": {
           "shape": ""
          }
         },
         "name": "H",
         "offsetgroup": "H",
         "orientation": "h",
         "showlegend": true,
         "text": [
          1,
          1,
          3,
          30
         ],
         "textposition": "auto",
         "type": "bar",
         "x": [
          1,
          1,
          3,
          30
         ],
         "xaxis": "x",
         "y": [
          "Water transport",
          "Land transport and transport via pipelines",
          "Air transport",
          "Warehousing and support activities for transportation"
         ],
         "yaxis": "y"
        },
        {
         "alignmentgroup": "True",
         "hovertemplate": "ISIC Section=E<br>0=%{text}<br>ISIC Division Name=%{y}<extra></extra>",
         "legendgroup": "E",
         "marker": {
          "color": "#D62728",
          "pattern": {
           "shape": ""
          }
         },
         "name": "E",
         "offsetgroup": "E",
         "orientation": "h",
         "showlegend": true,
         "text": [
          1,
          5
         ],
         "textposition": "auto",
         "type": "bar",
         "x": [
          1,
          5
         ],
         "xaxis": "x",
         "y": [
          "Waste collection, treatment and disposal activities; materials recovery",
          "Water collection, treatment and supply"
         ],
         "yaxis": "y"
        },
        {
         "alignmentgroup": "True",
         "hovertemplate": "ISIC Section=M<br>0=%{text}<br>ISIC Division Name=%{y}<extra></extra>",
         "legendgroup": "M",
         "marker": {
          "color": "#9467BD",
          "pattern": {
           "shape": ""
          }
         },
         "name": "M",
         "offsetgroup": "M",
         "orientation": "h",
         "showlegend": true,
         "text": [
          2,
          7,
          12
         ],
         "textposition": "auto",
         "type": "bar",
         "x": [
          2,
          7,
          12
         ],
         "xaxis": "x",
         "y": [
          "Scientific research and development",
          "Activities of head offices; management consultancy activities",
          "Architectural and engineering activities; technical testing and analysis"
         ],
         "yaxis": "y"
        },
        {
         "alignmentgroup": "True",
         "hovertemplate": "ISIC Section=O<br>0=%{text}<br>ISIC Division Name=%{y}<extra></extra>",
         "legendgroup": "O",
         "marker": {
          "color": "#8C564B",
          "pattern": {
           "shape": ""
          }
         },
         "name": "O",
         "offsetgroup": "O",
         "orientation": "h",
         "showlegend": true,
         "text": [
          5
         ],
         "textposition": "auto",
         "type": "bar",
         "x": [
          5
         ],
         "xaxis": "x",
         "y": [
          "Public administration and defence; compulsory social security"
         ],
         "yaxis": "y"
        },
        {
         "alignmentgroup": "True",
         "hovertemplate": "ISIC Section=D<br>0=%{text}<br>ISIC Division Name=%{y}<extra></extra>",
         "legendgroup": "D",
         "marker": {
          "color": "#E377C2",
          "pattern": {
           "shape": ""
          }
         },
         "name": "D",
         "offsetgroup": "D",
         "orientation": "h",
         "showlegend": true,
         "text": [
          37
         ],
         "textposition": "auto",
         "type": "bar",
         "x": [
          37
         ],
         "xaxis": "x",
         "y": [
          "Electricity, gas, steam and air conditioning supply"
         ],
         "yaxis": "y"
        }
       ],
       "layout": {
        "barmode": "relative",
        "legend": {
         "title": {
          "text": "ISIC Section"
         },
         "tracegroupgap": 0
        },
        "margin": {
         "l": 490,
         "t": 60
        },
        "template": {
         "data": {
          "pie": [
           {
            "automargin": true,
            "type": "pie"
           }
          ]
         },
         "layout": {
          "xaxis": {
           "showgrid": true,
           "title": {
            "standoff": 15
           }
          },
          "yaxis": {
           "showgrid": true,
           "title": {
            "standoff": 15
           }
          }
         }
        },
        "xaxis": {
         "anchor": "y",
         "domain": [
          0,
          1
         ],
         "title": {
          "text": "#"
         }
        },
        "yaxis": {
         "anchor": "x",
         "domain": [
          0,
          1
         ],
         "dtick": 1,
         "title": {
          "text": "ISIC Division Name"
         }
        }
       }
      }
     },
     "metadata": {},
     "output_type": "display_data"
    }
   ],
   "source": [
    "df_d051_significant = df_quality.loc[(df_quality['ISIC Section'] == 'C')\n",
    "                                        | (df_quality['ISIC Section'] == 'D')\n",
    "                                        | (df_quality['ISIC Section'] == 'E')\n",
    "                                        | (df_quality['ISIC Section'] == 'H')\n",
    "                                        | (df_quality['ISIC Section'] == 'J')\n",
    "                                        | (df_quality['ISIC Section'] == 'M')\n",
    "                                        | (df_quality['ISIC Section'] == 'O')]\n",
    "\n",
    "df_d051_significant_counts = df_d051_significant.value_counts(subset=['ISIC Section', 'ISIC Division Name'], dropna=False).to_frame()\n",
    "df_d051_significant_counts.reset_index(inplace=True)\n",
    "df_d051_significant_counts['ISIC Section'] = df_d051_significant_counts['ISIC Section'].astype(str)\n",
    "df_d051_significant_counts['ISIC Division Name'] = df_d051_significant_counts['ISIC Division Name'].astype(str)\n",
    "\n",
    "\n",
    "df_d051_significant_counts.sort_values(by=[0], inplace=True)\n",
    "\n",
    "fig = px.bar(df_d051_significant_counts, y='ISIC Division Name', x=0, text=0, color='ISIC Section')\n",
    "fig.update_layout(margin={\"l\": 490})\n",
    "fig.update_yaxes(dtick=1)\n",
    "fig.update_xaxes(title='#')\n",
    "fig.write_image('analysis/individual_D051_significant.pdf', width=WIDTH, height=HALF_HEIGHT)\n",
    "fig.show()"
   ]
  },
  {
   "cell_type": "code",
   "execution_count": 48,
   "metadata": {},
   "outputs": [
    {
     "data": {
      "application/vnd.plotly.v1+json": {
       "config": {
        "plotlyServerURL": "https://plot.ly"
       },
       "data": [
        {
         "alignmentgroup": "True",
         "hovertemplate": "ISIC Division Name=Air transport<br>0=%{text}<br>ISIC Group Name=%{y}<extra></extra>",
         "legendgroup": "Air transport",
         "marker": {
          "color": "#1F77B4",
          "pattern": {
           "shape": ""
          }
         },
         "name": "Air transport",
         "offsetgroup": "Air transport",
         "orientation": "h",
         "showlegend": true,
         "text": [
          1,
          2
         ],
         "textposition": "auto",
         "type": "bar",
         "x": [
          1,
          2
         ],
         "xaxis": "x",
         "y": [
          "Passenger air transport",
          "Freight air transport"
         ],
         "yaxis": "y"
        },
        {
         "alignmentgroup": "True",
         "hovertemplate": "ISIC Division Name=Land transport and transport via pipelines<br>0=%{text}<br>ISIC Group Name=%{y}<extra></extra>",
         "legendgroup": "Land transport and transport via pipelines",
         "marker": {
          "color": "#FF7F0E",
          "pattern": {
           "shape": ""
          }
         },
         "name": "Land transport and transport via pipelines",
         "offsetgroup": "Land transport and transport via pipelines",
         "orientation": "h",
         "showlegend": true,
         "text": [
          1
         ],
         "textposition": "auto",
         "type": "bar",
         "x": [
          1
         ],
         "xaxis": "x",
         "y": [
          "Transport via railways"
         ],
         "yaxis": "y"
        },
        {
         "alignmentgroup": "True",
         "hovertemplate": "ISIC Division Name=Water transport<br>0=%{text}<br>ISIC Group Name=%{y}<extra></extra>",
         "legendgroup": "Water transport",
         "marker": {
          "color": "#2CA02C",
          "pattern": {
           "shape": ""
          }
         },
         "name": "Water transport",
         "offsetgroup": "Water transport",
         "orientation": "h",
         "showlegend": true,
         "text": [
          1
         ],
         "textposition": "auto",
         "type": "bar",
         "x": [
          1
         ],
         "xaxis": "x",
         "y": [
          "Sea and coastal water transport"
         ],
         "yaxis": "y"
        },
        {
         "alignmentgroup": "True",
         "hovertemplate": "ISIC Division Name=Warehousing and support activities for transportation<br>0=%{text}<br>ISIC Group Name=%{y}<extra></extra>",
         "legendgroup": "Warehousing and support activities for transportation",
         "marker": {
          "color": "#D62728",
          "pattern": {
           "shape": ""
          }
         },
         "name": "Warehousing and support activities for transportation",
         "offsetgroup": "Warehousing and support activities for transportation",
         "orientation": "h",
         "showlegend": true,
         "text": [
          30
         ],
         "textposition": "auto",
         "type": "bar",
         "x": [
          30
         ],
         "xaxis": "x",
         "y": [
          "Support activities for transportation"
         ],
         "yaxis": "y"
        }
       ],
       "layout": {
        "barmode": "relative",
        "legend": {
         "title": {
          "text": "ISIC Division Name"
         },
         "tracegroupgap": 0
        },
        "margin": {
         "l": 280,
         "t": 60
        },
        "template": {
         "data": {
          "pie": [
           {
            "automargin": true,
            "type": "pie"
           }
          ]
         },
         "layout": {
          "xaxis": {
           "showgrid": true,
           "title": {
            "standoff": 15
           }
          },
          "yaxis": {
           "showgrid": true,
           "title": {
            "standoff": 15
           }
          }
         }
        },
        "xaxis": {
         "anchor": "y",
         "domain": [
          0,
          1
         ],
         "title": {
          "text": "#"
         }
        },
        "yaxis": {
         "anchor": "x",
         "domain": [
          0,
          1
         ],
         "dtick": 1,
         "title": {
          "text": "ISIC Group Name"
         }
        }
       }
      }
     },
     "metadata": {},
     "output_type": "display_data"
    }
   ],
   "source": [
    "df_d052_significant = df_quality.loc[(df_quality['ISIC Section'] == 'H')]\n",
    "\n",
    "\n",
    "df_d052_significant_counts = df_d052_significant.value_counts(subset=['ISIC Division Name', 'ISIC Group Name'], dropna=False).to_frame()\n",
    "df_d052_significant_counts.reset_index(inplace=True)\n",
    "df_d052_significant_counts['ISIC Division Name'] = df_d052_significant_counts['ISIC Division Name'].astype(str)\n",
    "df_d052_significant_counts['ISIC Group Name'] = df_d052_significant_counts['ISIC Group Name'].astype(str)\n",
    "\n",
    "\n",
    "df_d052_significant_counts.sort_values(by=[0], inplace=True)\n",
    "\n",
    "fig = px.bar(df_d052_significant_counts, y='ISIC Group Name', x=0, text=0, color='ISIC Division Name')\n",
    "fig.update_layout(margin={\"l\": 280})\n",
    "fig.update_yaxes(dtick=1)\n",
    "fig.update_xaxes(title='#')\n",
    "fig.write_image('analysis/individual_D052_significant.pdf', width=WIDTH, height=HALF_HEIGHT)\n",
    "fig.show()"
   ]
  },
  {
   "cell_type": "code",
   "execution_count": 49,
   "metadata": {},
   "outputs": [
    {
     "data": {
      "application/vnd.plotly.v1+json": {
       "config": {
        "plotlyServerURL": "https://plot.ly"
       },
       "data": [
        {
         "alignmentgroup": "True",
         "hovertemplate": "ISIC Group Name=Passenger air transport<br>0=%{text}<br>ISIC Class Name=%{y}<extra></extra>",
         "legendgroup": "Passenger air transport",
         "marker": {
          "color": "#1F77B4",
          "pattern": {
           "shape": ""
          }
         },
         "name": "Passenger air transport",
         "offsetgroup": "Passenger air transport",
         "orientation": "h",
         "showlegend": true,
         "text": [
          1
         ],
         "textposition": "auto",
         "type": "bar",
         "x": [
          1
         ],
         "xaxis": "x",
         "y": [
          "Passenger air transport"
         ],
         "yaxis": "y"
        },
        {
         "alignmentgroup": "True",
         "hovertemplate": "ISIC Group Name=Sea and coastal water transport<br>0=%{text}<br>ISIC Class Name=%{y}<extra></extra>",
         "legendgroup": "Sea and coastal water transport",
         "marker": {
          "color": "#FF7F0E",
          "pattern": {
           "shape": ""
          }
         },
         "name": "Sea and coastal water transport",
         "offsetgroup": "Sea and coastal water transport",
         "orientation": "h",
         "showlegend": true,
         "text": [
          1
         ],
         "textposition": "auto",
         "type": "bar",
         "x": [
          1
         ],
         "xaxis": "x",
         "y": [
          "Sea and coastal freight water transport"
         ],
         "yaxis": "y"
        },
        {
         "alignmentgroup": "True",
         "hovertemplate": "ISIC Group Name=Transport via railways<br>0=%{text}<br>ISIC Class Name=%{y}<extra></extra>",
         "legendgroup": "Transport via railways",
         "marker": {
          "color": "#2CA02C",
          "pattern": {
           "shape": ""
          }
         },
         "name": "Transport via railways",
         "offsetgroup": "Transport via railways",
         "orientation": "h",
         "showlegend": true,
         "text": [
          1
         ],
         "textposition": "auto",
         "type": "bar",
         "x": [
          1
         ],
         "xaxis": "x",
         "y": [
          "Freight rail transport"
         ],
         "yaxis": "y"
        },
        {
         "alignmentgroup": "True",
         "hovertemplate": "ISIC Group Name=Freight air transport<br>0=%{text}<br>ISIC Class Name=%{y}<extra></extra>",
         "legendgroup": "Freight air transport",
         "marker": {
          "color": "#D62728",
          "pattern": {
           "shape": ""
          }
         },
         "name": "Freight air transport",
         "offsetgroup": "Freight air transport",
         "orientation": "h",
         "showlegend": true,
         "text": [
          2
         ],
         "textposition": "auto",
         "type": "bar",
         "x": [
          2
         ],
         "xaxis": "x",
         "y": [
          "Freight air transport"
         ],
         "yaxis": "y"
        },
        {
         "alignmentgroup": "True",
         "hovertemplate": "ISIC Group Name=Support activities for transportation<br>0=%{text}<br>ISIC Class Name=%{y}<extra></extra>",
         "legendgroup": "Support activities for transportation",
         "marker": {
          "color": "#9467BD",
          "pattern": {
           "shape": ""
          }
         },
         "name": "Support activities for transportation",
         "offsetgroup": "Support activities for transportation",
         "orientation": "h",
         "showlegend": true,
         "text": [
          2,
          6,
          22
         ],
         "textposition": "auto",
         "type": "bar",
         "x": [
          2,
          6,
          22
         ],
         "xaxis": "x",
         "y": [
          "Service activities incidental to land transportation",
          "Service activities incidental to air transportation",
          "Other transportation support activities"
         ],
         "yaxis": "y"
        }
       ],
       "layout": {
        "barmode": "relative",
        "legend": {
         "title": {
          "text": "ISIC Group Name"
         },
         "tracegroupgap": 0
        },
        "margin": {
         "l": 330,
         "t": 60
        },
        "template": {
         "data": {
          "pie": [
           {
            "automargin": true,
            "type": "pie"
           }
          ]
         },
         "layout": {
          "xaxis": {
           "showgrid": true,
           "title": {
            "standoff": 15
           }
          },
          "yaxis": {
           "showgrid": true,
           "title": {
            "standoff": 15
           }
          }
         }
        },
        "xaxis": {
         "anchor": "y",
         "domain": [
          0,
          1
         ],
         "title": {
          "text": "#"
         }
        },
        "yaxis": {
         "anchor": "x",
         "domain": [
          0,
          1
         ],
         "dtick": 1,
         "title": {
          "text": "ISIC Class Name"
         }
        }
       }
      }
     },
     "metadata": {},
     "output_type": "display_data"
    }
   ],
   "source": [
    "df_d053_significant = df_quality.loc[(df_quality['ISIC Section'] == 'H')]\n",
    "\n",
    "\n",
    "df_d053_significant_counts = df_d053_significant.value_counts(subset=['ISIC Group Name', 'ISIC Class Name'], dropna=False).to_frame()\n",
    "df_d053_significant_counts.reset_index(inplace=True)\n",
    "df_d053_significant_counts['ISIC Group Name'] = df_d053_significant_counts['ISIC Group Name'].astype(str)\n",
    "df_d053_significant_counts['ISIC Class Name'] = df_d053_significant_counts['ISIC Class Name'].astype(str)\n",
    "\n",
    "\n",
    "df_d053_significant_counts.sort_values(by=[0], inplace=True)\n",
    "\n",
    "fig = px.bar(df_d053_significant_counts, y='ISIC Class Name', x=0, text=0, color='ISIC Group Name')\n",
    "fig.update_layout(margin={\"l\": 330})\n",
    "fig.update_yaxes(dtick=1)\n",
    "fig.update_xaxes(title='#')\n",
    "fig.write_image('analysis/individual_D053_significant.pdf', width=WIDTH, height=HALF_HEIGHT)\n",
    "fig.show()"
   ]
  },
  {
   "cell_type": "code",
   "execution_count": 50,
   "metadata": {},
   "outputs": [
    {
     "data": {
      "application/vnd.plotly.v1+json": {
       "config": {
        "plotlyServerURL": "https://plot.ly"
       },
       "data": [
        {
         "branchvalues": "total",
         "domain": {
          "x": [
           0,
           1
          ],
          "y": [
           0,
           1
          ]
         },
         "hovertemplate": "labels=%{label}<br>count=%{value}<br>parent=%{parent}<br>id=%{id}<extra></extra>",
         "ids": [
          "All/Professional, scientific and technical activities/Activities of head offices; management consultancy activities/Activities of head offices/Activities of head offices",
          "All/Arts, entertainment and recreation/Sports activities and amusement and recreation activities/Sports activities/Activities of sports clubs",
          "All/Professional, scientific and technical activities/Architectural and engineering activities; technical testing and analysis/Architectural and engineering activities and related technical consultancy/Architectural and engineering activities and related technical consultancy",
          "All/Manufacturing/Manufacture of basic metals/Casting of metals/Casting of iron and steel",
          "All/Water supply; sewerage, waste management and remediation activities/Waste collection, treatment and disposal activities; materials recovery/Waste collection/Collection of non-hazardous waste",
          "All/Information and communication/Computer programming, consultancy and related activities/Computer programming, consultancy and related activities/Computer consultancy and computer facilities management activities",
          "All/Information and communication/Computer programming, consultancy and related activities/Computer programming, consultancy and related activities/Computer programming activities",
          "All/Construction/Construction of buildings/Construction of buildings/Construction of buildings",
          "All/Information and communication/Information service activities/Data processing, hosting and related activities; web portals/Data processing, hosting and related activities",
          "All/Public administration and defence; compulsory social security/Public administration and defence; compulsory social security/Provision of services to the community as a whole/Defence activities",
          "All/Electricity, gas, steam and air conditioning supply/Electricity, gas, steam and air conditioning supply/Electric power generation, transmission and distribution/Electric power generation, transmission and distribution",
          "All/Mining and quarrying/Extraction of crude petroleum and natural gas/Extraction of crude petroleum/Extraction of crude petroleum",
          "All/Transportation and storage/Air transport/Freight air transport/Freight air transport",
          "All/Transportation and storage/Land transport and transport via pipelines/Transport via railways/Freight rail transport",
          "All/Human health and social work activities/Human health activities/Hospital activities/Hospital activities",
          "All/Wholesale and retail trade; repair of motor vehicles and motorcycles/Wholesale and retail trade and repair of motor vehicles and motorcycles/Maintenance and repair of motor vehicles/Maintenance and repair of motor vehicles",
          "All/Manufacturing/Manufacture of electrical equipment/Manufacture of batteries and accumulators/Manufacture of batteries and accumulators",
          "All/Manufacturing/Manufacture of other non-metallic mineral products/Manufacture of non-metallic mineral products n.e.c./Manufacture of cement, lime and plaster",
          "All/Manufacturing/Manufacture of electrical equipment/Manufacture of electric motors, generators, transformers and electricity distribution and control apparatus/Manufacture of electric motors, generators, transformers and electricity distribution and control apparatus",
          "All/Manufacturing/Manufacture of computer, electronic and optical products/Manufacture of electronic components and boards/Manufacture of electronic components and boards",
          "All/Electricity, gas, steam and air conditioning supply/Electricity, gas, steam and air conditioning supply/Manufacture of gas; distribution of gaseous fuels through mains/Manufacture of gas; distribution of gaseous fuels through mains",
          "All/Manufacturing/Manufacture of leather and related products/Tanning and dressing of leather; manufacture of luggage, handbags, saddlery and harness; dressing and dyeing of fur/Manufacture of luggage, handbags and the like, saddlery and harness",
          "All/Manufacturing/Manufacture of machinery and equipment n.e.c./Manufacture of general-purpose machinery/Manufacture of other general-purpose machinery",
          "All/Manufacturing/Manufacture of other non-metallic mineral products/Manufacture of non-metallic mineral products n.e.c./Manufacture of other non-metallic mineral products n.e.c.",
          "All/Administrative and support service activities/Travel agency, tour operator, reservation service and related activities/Other reservation service and related activities/Other reservation service and related activities",
          "All/Transportation and storage/Warehousing and support activities for transportation/Support activities for transportation/Other transportation support activities",
          "All/Transportation and storage/Air transport/Passenger air transport/Passenger air transport",
          "All/Agriculture, forestry and fishing/Crop and animal production, hunting and related service activities/Plant propagation/Plant propagation",
          "All/Construction/Specialized construction activities/Electrical, plumbing and other construction installation activities/Plumbing, heat and air-conditioning installation",
          "All/Information and communication/Programming and broadcasting activities/Radio broadcasting/Radio broadcasting",
          "All/Public administration and defence; compulsory social security/Public administration and defence; compulsory social security/Administration of the State and the economic and social policy of the community/Regulation of and contribution to more efficient operation of businesses",
          "All/Manufacturing/Repair and installation of machinery and equipment/Repair of fabricated metal products, machinery and equipment/Repair of electrical equipment",
          "All/Manufacturing/Repair and installation of machinery and equipment/Repair of fabricated metal products, machinery and equipment/Repair of machinery",
          "All/Manufacturing/Repair and installation of machinery and equipment/Repair of fabricated metal products, machinery and equipment/Repair of other equipment",
          "All/Professional, scientific and technical activities/Scientific research and development/Research and experimental development on natural sciences and engineering/Research and experimental development on natural sciences and engineering",
          "All/Transportation and storage/Water transport/Sea and coastal water transport/Sea and coastal freight water transport",
          "All/Transportation and storage/Warehousing and support activities for transportation/Support activities for transportation/Service activities incidental to air transportation",
          "All/Transportation and storage/Warehousing and support activities for transportation/Support activities for transportation/Service activities incidental to land transportation",
          "All/Agriculture, forestry and fishing/Crop and animal production, hunting and related service activities/Support activities to agriculture and post-harvest crop activities/Support activities for crop production",
          "All/Manufacturing/Manufacture of fabricated metal products, except machinery and equipment/Manufacture of other fabricated metal products; metalworking service activities/Treatment and coating of metals; machining",
          "All/Water supply; sewerage, waste management and remediation activities/Water collection, treatment and supply/Water collection, treatment and supply/Water collection, treatment and supply",
          "All/Information and communication/Telecommunications/Wireless telecommunications activities/Wireless telecommunications activities",
          "All/Professional, scientific and technical activities/Activities of head offices; management consultancy activities/Activities of head offices",
          "All/Public administration and defence; compulsory social security/Public administration and defence; compulsory social security/Administration of the State and the economic and social policy of the community",
          "All/Professional, scientific and technical activities/Architectural and engineering activities; technical testing and analysis/Architectural and engineering activities and related technical consultancy",
          "All/Manufacturing/Manufacture of basic metals/Casting of metals",
          "All/Information and communication/Computer programming, consultancy and related activities/Computer programming, consultancy and related activities",
          "All/Construction/Construction of buildings/Construction of buildings",
          "All/Information and communication/Information service activities/Data processing, hosting and related activities; web portals",
          "All/Electricity, gas, steam and air conditioning supply/Electricity, gas, steam and air conditioning supply/Electric power generation, transmission and distribution",
          "All/Construction/Specialized construction activities/Electrical, plumbing and other construction installation activities",
          "All/Mining and quarrying/Extraction of crude petroleum and natural gas/Extraction of crude petroleum",
          "All/Transportation and storage/Air transport/Freight air transport",
          "All/Human health and social work activities/Human health activities/Hospital activities",
          "All/Wholesale and retail trade; repair of motor vehicles and motorcycles/Wholesale and retail trade and repair of motor vehicles and motorcycles/Maintenance and repair of motor vehicles",
          "All/Manufacturing/Manufacture of electrical equipment/Manufacture of batteries and accumulators",
          "All/Manufacturing/Manufacture of electrical equipment/Manufacture of electric motors, generators, transformers and electricity distribution and control apparatus",
          "All/Manufacturing/Manufacture of computer, electronic and optical products/Manufacture of electronic components and boards",
          "All/Electricity, gas, steam and air conditioning supply/Electricity, gas, steam and air conditioning supply/Manufacture of gas; distribution of gaseous fuels through mains",
          "All/Manufacturing/Manufacture of machinery and equipment n.e.c./Manufacture of general-purpose machinery",
          "All/Manufacturing/Manufacture of other non-metallic mineral products/Manufacture of non-metallic mineral products n.e.c.",
          "All/Manufacturing/Manufacture of fabricated metal products, except machinery and equipment/Manufacture of other fabricated metal products; metalworking service activities",
          "All/Administrative and support service activities/Travel agency, tour operator, reservation service and related activities/Other reservation service and related activities",
          "All/Transportation and storage/Air transport/Passenger air transport",
          "All/Agriculture, forestry and fishing/Crop and animal production, hunting and related service activities/Plant propagation",
          "All/Public administration and defence; compulsory social security/Public administration and defence; compulsory social security/Provision of services to the community as a whole",
          "All/Information and communication/Programming and broadcasting activities/Radio broadcasting",
          "All/Manufacturing/Repair and installation of machinery and equipment/Repair of fabricated metal products, machinery and equipment",
          "All/Professional, scientific and technical activities/Scientific research and development/Research and experimental development on natural sciences and engineering",
          "All/Transportation and storage/Water transport/Sea and coastal water transport",
          "All/Arts, entertainment and recreation/Sports activities and amusement and recreation activities/Sports activities",
          "All/Transportation and storage/Warehousing and support activities for transportation/Support activities for transportation",
          "All/Agriculture, forestry and fishing/Crop and animal production, hunting and related service activities/Support activities to agriculture and post-harvest crop activities",
          "All/Manufacturing/Manufacture of leather and related products/Tanning and dressing of leather; manufacture of luggage, handbags, saddlery and harness; dressing and dyeing of fur",
          "All/Transportation and storage/Land transport and transport via pipelines/Transport via railways",
          "All/Water supply; sewerage, waste management and remediation activities/Waste collection, treatment and disposal activities; materials recovery/Waste collection",
          "All/Water supply; sewerage, waste management and remediation activities/Water collection, treatment and supply/Water collection, treatment and supply",
          "All/Information and communication/Telecommunications/Wireless telecommunications activities",
          "All/Professional, scientific and technical activities/Activities of head offices; management consultancy activities",
          "All/Transportation and storage/Air transport",
          "All/Professional, scientific and technical activities/Architectural and engineering activities; technical testing and analysis",
          "All/Information and communication/Computer programming, consultancy and related activities",
          "All/Construction/Construction of buildings",
          "All/Agriculture, forestry and fishing/Crop and animal production, hunting and related service activities",
          "All/Electricity, gas, steam and air conditioning supply/Electricity, gas, steam and air conditioning supply",
          "All/Mining and quarrying/Extraction of crude petroleum and natural gas",
          "All/Human health and social work activities/Human health activities",
          "All/Information and communication/Information service activities",
          "All/Transportation and storage/Land transport and transport via pipelines",
          "All/Manufacturing/Manufacture of basic metals",
          "All/Manufacturing/Manufacture of computer, electronic and optical products",
          "All/Manufacturing/Manufacture of electrical equipment",
          "All/Manufacturing/Manufacture of fabricated metal products, except machinery and equipment",
          "All/Manufacturing/Manufacture of leather and related products",
          "All/Manufacturing/Manufacture of machinery and equipment n.e.c.",
          "All/Manufacturing/Manufacture of other non-metallic mineral products",
          "All/Information and communication/Programming and broadcasting activities",
          "All/Public administration and defence; compulsory social security/Public administration and defence; compulsory social security",
          "All/Manufacturing/Repair and installation of machinery and equipment",
          "All/Professional, scientific and technical activities/Scientific research and development",
          "All/Construction/Specialized construction activities",
          "All/Arts, entertainment and recreation/Sports activities and amusement and recreation activities",
          "All/Information and communication/Telecommunications",
          "All/Administrative and support service activities/Travel agency, tour operator, reservation service and related activities",
          "All/Transportation and storage/Warehousing and support activities for transportation",
          "All/Water supply; sewerage, waste management and remediation activities/Waste collection, treatment and disposal activities; materials recovery",
          "All/Water supply; sewerage, waste management and remediation activities/Water collection, treatment and supply",
          "All/Transportation and storage/Water transport",
          "All/Wholesale and retail trade; repair of motor vehicles and motorcycles/Wholesale and retail trade and repair of motor vehicles and motorcycles",
          "All/Administrative and support service activities",
          "All/Agriculture, forestry and fishing",
          "All/Arts, entertainment and recreation",
          "All/Construction",
          "All/Electricity, gas, steam and air conditioning supply",
          "All/Human health and social work activities",
          "All/Information and communication",
          "All/Manufacturing",
          "All/Mining and quarrying",
          "All/Professional, scientific and technical activities",
          "All/Public administration and defence; compulsory social security",
          "All/Transportation and storage",
          "All/Water supply; sewerage, waste management and remediation activities",
          "All/Wholesale and retail trade; repair of motor vehicles and motorcycles",
          "All"
         ],
         "labels": [
          "Activities of head offices",
          "Activities of sports clubs",
          "Architectural and engineering activities and related technical consultancy",
          "Casting of iron and steel",
          "Collection of non-hazardous waste",
          "Computer consultancy and computer facilities management activities",
          "Computer programming activities",
          "Construction of buildings",
          "Data processing, hosting and related activities",
          "Defence activities",
          "Electric power generation, transmission and distribution",
          "Extraction of crude petroleum",
          "Freight air transport",
          "Freight rail transport",
          "Hospital activities",
          "Maintenance and repair of motor vehicles",
          "Manufacture of batteries and accumulators",
          "Manufacture of cement, lime and plaster",
          "Manufacture of electric motors, generators, transformers and electricity distribution and control apparatus",
          "Manufacture of electronic components and boards",
          "Manufacture of gas; distribution of gaseous fuels through mains",
          "Manufacture of luggage, handbags and the like, saddlery and harness",
          "Manufacture of other general-purpose machinery",
          "Manufacture of other non-metallic mineral products n.e.c.",
          "Other reservation service and related activities",
          "Other transportation support activities",
          "Passenger air transport",
          "Plant propagation",
          "Plumbing, heat and air-conditioning installation",
          "Radio broadcasting",
          "Regulation of and contribution to more efficient operation of businesses",
          "Repair of electrical equipment",
          "Repair of machinery",
          "Repair of other equipment",
          "Research and experimental development on natural sciences and engineering",
          "Sea and coastal freight water transport",
          "Service activities incidental to air transportation",
          "Service activities incidental to land transportation",
          "Support activities for crop production",
          "Treatment and coating of metals; machining",
          "Water collection, treatment and supply",
          "Wireless telecommunications activities",
          "Activities of head offices",
          "Administration of the State and the economic and social policy of the community",
          "Architectural and engineering activities and related technical consultancy",
          "Casting of metals",
          "Computer programming, consultancy and related activities",
          "Construction of buildings",
          "Data processing, hosting and related activities; web portals",
          "Electric power generation, transmission and distribution",
          "Electrical, plumbing and other construction installation activities",
          "Extraction of crude petroleum",
          "Freight air transport",
          "Hospital activities",
          "Maintenance and repair of motor vehicles",
          "Manufacture of batteries and accumulators",
          "Manufacture of electric motors, generators, transformers and electricity distribution and control apparatus",
          "Manufacture of electronic components and boards",
          "Manufacture of gas; distribution of gaseous fuels through mains",
          "Manufacture of general-purpose machinery",
          "Manufacture of non-metallic mineral products n.e.c.",
          "Manufacture of other fabricated metal products; metalworking service activities",
          "Other reservation service and related activities",
          "Passenger air transport",
          "Plant propagation",
          "Provision of services to the community as a whole",
          "Radio broadcasting",
          "Repair of fabricated metal products, machinery and equipment",
          "Research and experimental development on natural sciences and engineering",
          "Sea and coastal water transport",
          "Sports activities",
          "Support activities for transportation",
          "Support activities to agriculture and post-harvest crop activities",
          "Tanning and dressing of leather; manufacture of luggage, handbags, saddlery and harness; dressing and dyeing of fur",
          "Transport via railways",
          "Waste collection",
          "Water collection, treatment and supply",
          "Wireless telecommunications activities",
          "Activities of head offices; management consultancy activities",
          "Air transport",
          "Architectural and engineering activities; technical testing and analysis",
          "Computer programming, consultancy and related activities",
          "Construction of buildings",
          "Crop and animal production, hunting and related service activities",
          "Electricity, gas, steam and air conditioning supply",
          "Extraction of crude petroleum and natural gas",
          "Human health activities",
          "Information service activities",
          "Land transport and transport via pipelines",
          "Manufacture of basic metals",
          "Manufacture of computer, electronic and optical products",
          "Manufacture of electrical equipment",
          "Manufacture of fabricated metal products, except machinery and equipment",
          "Manufacture of leather and related products",
          "Manufacture of machinery and equipment n.e.c.",
          "Manufacture of other non-metallic mineral products",
          "Programming and broadcasting activities",
          "Public administration and defence; compulsory social security",
          "Repair and installation of machinery and equipment",
          "Scientific research and development",
          "Specialized construction activities",
          "Sports activities and amusement and recreation activities",
          "Telecommunications",
          "Travel agency, tour operator, reservation service and related activities",
          "Warehousing and support activities for transportation",
          "Waste collection, treatment and disposal activities; materials recovery",
          "Water collection, treatment and supply",
          "Water transport",
          "Wholesale and retail trade and repair of motor vehicles and motorcycles",
          "Administrative and support service activities",
          "Agriculture, forestry and fishing",
          "Arts, entertainment and recreation",
          "Construction",
          "Electricity, gas, steam and air conditioning supply",
          "Human health and social work activities",
          "Information and communication",
          "Manufacturing",
          "Mining and quarrying",
          "Professional, scientific and technical activities",
          "Public administration and defence; compulsory social security",
          "Transportation and storage",
          "Water supply; sewerage, waste management and remediation activities",
          "Wholesale and retail trade; repair of motor vehicles and motorcycles",
          "All"
         ],
         "name": "",
         "parents": [
          "All/Professional, scientific and technical activities/Activities of head offices; management consultancy activities/Activities of head offices",
          "All/Arts, entertainment and recreation/Sports activities and amusement and recreation activities/Sports activities",
          "All/Professional, scientific and technical activities/Architectural and engineering activities; technical testing and analysis/Architectural and engineering activities and related technical consultancy",
          "All/Manufacturing/Manufacture of basic metals/Casting of metals",
          "All/Water supply; sewerage, waste management and remediation activities/Waste collection, treatment and disposal activities; materials recovery/Waste collection",
          "All/Information and communication/Computer programming, consultancy and related activities/Computer programming, consultancy and related activities",
          "All/Information and communication/Computer programming, consultancy and related activities/Computer programming, consultancy and related activities",
          "All/Construction/Construction of buildings/Construction of buildings",
          "All/Information and communication/Information service activities/Data processing, hosting and related activities; web portals",
          "All/Public administration and defence; compulsory social security/Public administration and defence; compulsory social security/Provision of services to the community as a whole",
          "All/Electricity, gas, steam and air conditioning supply/Electricity, gas, steam and air conditioning supply/Electric power generation, transmission and distribution",
          "All/Mining and quarrying/Extraction of crude petroleum and natural gas/Extraction of crude petroleum",
          "All/Transportation and storage/Air transport/Freight air transport",
          "All/Transportation and storage/Land transport and transport via pipelines/Transport via railways",
          "All/Human health and social work activities/Human health activities/Hospital activities",
          "All/Wholesale and retail trade; repair of motor vehicles and motorcycles/Wholesale and retail trade and repair of motor vehicles and motorcycles/Maintenance and repair of motor vehicles",
          "All/Manufacturing/Manufacture of electrical equipment/Manufacture of batteries and accumulators",
          "All/Manufacturing/Manufacture of other non-metallic mineral products/Manufacture of non-metallic mineral products n.e.c.",
          "All/Manufacturing/Manufacture of electrical equipment/Manufacture of electric motors, generators, transformers and electricity distribution and control apparatus",
          "All/Manufacturing/Manufacture of computer, electronic and optical products/Manufacture of electronic components and boards",
          "All/Electricity, gas, steam and air conditioning supply/Electricity, gas, steam and air conditioning supply/Manufacture of gas; distribution of gaseous fuels through mains",
          "All/Manufacturing/Manufacture of leather and related products/Tanning and dressing of leather; manufacture of luggage, handbags, saddlery and harness; dressing and dyeing of fur",
          "All/Manufacturing/Manufacture of machinery and equipment n.e.c./Manufacture of general-purpose machinery",
          "All/Manufacturing/Manufacture of other non-metallic mineral products/Manufacture of non-metallic mineral products n.e.c.",
          "All/Administrative and support service activities/Travel agency, tour operator, reservation service and related activities/Other reservation service and related activities",
          "All/Transportation and storage/Warehousing and support activities for transportation/Support activities for transportation",
          "All/Transportation and storage/Air transport/Passenger air transport",
          "All/Agriculture, forestry and fishing/Crop and animal production, hunting and related service activities/Plant propagation",
          "All/Construction/Specialized construction activities/Electrical, plumbing and other construction installation activities",
          "All/Information and communication/Programming and broadcasting activities/Radio broadcasting",
          "All/Public administration and defence; compulsory social security/Public administration and defence; compulsory social security/Administration of the State and the economic and social policy of the community",
          "All/Manufacturing/Repair and installation of machinery and equipment/Repair of fabricated metal products, machinery and equipment",
          "All/Manufacturing/Repair and installation of machinery and equipment/Repair of fabricated metal products, machinery and equipment",
          "All/Manufacturing/Repair and installation of machinery and equipment/Repair of fabricated metal products, machinery and equipment",
          "All/Professional, scientific and technical activities/Scientific research and development/Research and experimental development on natural sciences and engineering",
          "All/Transportation and storage/Water transport/Sea and coastal water transport",
          "All/Transportation and storage/Warehousing and support activities for transportation/Support activities for transportation",
          "All/Transportation and storage/Warehousing and support activities for transportation/Support activities for transportation",
          "All/Agriculture, forestry and fishing/Crop and animal production, hunting and related service activities/Support activities to agriculture and post-harvest crop activities",
          "All/Manufacturing/Manufacture of fabricated metal products, except machinery and equipment/Manufacture of other fabricated metal products; metalworking service activities",
          "All/Water supply; sewerage, waste management and remediation activities/Water collection, treatment and supply/Water collection, treatment and supply",
          "All/Information and communication/Telecommunications/Wireless telecommunications activities",
          "All/Professional, scientific and technical activities/Activities of head offices; management consultancy activities",
          "All/Public administration and defence; compulsory social security/Public administration and defence; compulsory social security",
          "All/Professional, scientific and technical activities/Architectural and engineering activities; technical testing and analysis",
          "All/Manufacturing/Manufacture of basic metals",
          "All/Information and communication/Computer programming, consultancy and related activities",
          "All/Construction/Construction of buildings",
          "All/Information and communication/Information service activities",
          "All/Electricity, gas, steam and air conditioning supply/Electricity, gas, steam and air conditioning supply",
          "All/Construction/Specialized construction activities",
          "All/Mining and quarrying/Extraction of crude petroleum and natural gas",
          "All/Transportation and storage/Air transport",
          "All/Human health and social work activities/Human health activities",
          "All/Wholesale and retail trade; repair of motor vehicles and motorcycles/Wholesale and retail trade and repair of motor vehicles and motorcycles",
          "All/Manufacturing/Manufacture of electrical equipment",
          "All/Manufacturing/Manufacture of electrical equipment",
          "All/Manufacturing/Manufacture of computer, electronic and optical products",
          "All/Electricity, gas, steam and air conditioning supply/Electricity, gas, steam and air conditioning supply",
          "All/Manufacturing/Manufacture of machinery and equipment n.e.c.",
          "All/Manufacturing/Manufacture of other non-metallic mineral products",
          "All/Manufacturing/Manufacture of fabricated metal products, except machinery and equipment",
          "All/Administrative and support service activities/Travel agency, tour operator, reservation service and related activities",
          "All/Transportation and storage/Air transport",
          "All/Agriculture, forestry and fishing/Crop and animal production, hunting and related service activities",
          "All/Public administration and defence; compulsory social security/Public administration and defence; compulsory social security",
          "All/Information and communication/Programming and broadcasting activities",
          "All/Manufacturing/Repair and installation of machinery and equipment",
          "All/Professional, scientific and technical activities/Scientific research and development",
          "All/Transportation and storage/Water transport",
          "All/Arts, entertainment and recreation/Sports activities and amusement and recreation activities",
          "All/Transportation and storage/Warehousing and support activities for transportation",
          "All/Agriculture, forestry and fishing/Crop and animal production, hunting and related service activities",
          "All/Manufacturing/Manufacture of leather and related products",
          "All/Transportation and storage/Land transport and transport via pipelines",
          "All/Water supply; sewerage, waste management and remediation activities/Waste collection, treatment and disposal activities; materials recovery",
          "All/Water supply; sewerage, waste management and remediation activities/Water collection, treatment and supply",
          "All/Information and communication/Telecommunications",
          "All/Professional, scientific and technical activities",
          "All/Transportation and storage",
          "All/Professional, scientific and technical activities",
          "All/Information and communication",
          "All/Construction",
          "All/Agriculture, forestry and fishing",
          "All/Electricity, gas, steam and air conditioning supply",
          "All/Mining and quarrying",
          "All/Human health and social work activities",
          "All/Information and communication",
          "All/Transportation and storage",
          "All/Manufacturing",
          "All/Manufacturing",
          "All/Manufacturing",
          "All/Manufacturing",
          "All/Manufacturing",
          "All/Manufacturing",
          "All/Manufacturing",
          "All/Information and communication",
          "All/Public administration and defence; compulsory social security",
          "All/Manufacturing",
          "All/Professional, scientific and technical activities",
          "All/Construction",
          "All/Arts, entertainment and recreation",
          "All/Information and communication",
          "All/Administrative and support service activities",
          "All/Transportation and storage",
          "All/Water supply; sewerage, waste management and remediation activities",
          "All/Water supply; sewerage, waste management and remediation activities",
          "All/Transportation and storage",
          "All/Wholesale and retail trade; repair of motor vehicles and motorcycles",
          "All",
          "All",
          "All",
          "All",
          "All",
          "All",
          "All",
          "All",
          "All",
          "All",
          "All",
          "All",
          "All",
          "All",
          ""
         ],
         "type": "treemap",
         "values": [
          7,
          1,
          12,
          1,
          1,
          1,
          1,
          1,
          8,
          3,
          36,
          1,
          2,
          1,
          1,
          2,
          1,
          1,
          3,
          2,
          1,
          1,
          2,
          1,
          1,
          22,
          1,
          1,
          1,
          1,
          2,
          1,
          7,
          1,
          2,
          1,
          6,
          2,
          1,
          1,
          5,
          2,
          7,
          2,
          12,
          1,
          2,
          1,
          8,
          36,
          1,
          1,
          2,
          1,
          2,
          1,
          3,
          2,
          1,
          2,
          2,
          1,
          1,
          1,
          1,
          3,
          1,
          9,
          2,
          1,
          1,
          30,
          1,
          1,
          1,
          1,
          5,
          2,
          7,
          3,
          12,
          2,
          1,
          2,
          37,
          1,
          1,
          8,
          1,
          1,
          2,
          4,
          1,
          1,
          2,
          2,
          1,
          5,
          9,
          2,
          1,
          1,
          2,
          1,
          30,
          1,
          5,
          1,
          2,
          1,
          2,
          1,
          2,
          37,
          1,
          13,
          22,
          1,
          21,
          5,
          35,
          6,
          2,
          149
         ]
        }
       ],
       "layout": {
        "legend": {
         "tracegroupgap": 0
        },
        "margin": {
         "t": 60
        },
        "template": {
         "data": {
          "pie": [
           {
            "automargin": true,
            "type": "pie"
           }
          ]
         },
         "layout": {
          "xaxis": {
           "showgrid": true,
           "title": {
            "standoff": 15
           }
          },
          "yaxis": {
           "showgrid": true,
           "title": {
            "standoff": 15
           }
          }
         }
        }
       }
      }
     },
     "metadata": {},
     "output_type": "display_data"
    }
   ],
   "source": [
    "fig = px.treemap(df_quality, path=[px.Constant(\"All\"), 'ISIC Section Name', 'ISIC Division Name', 'ISIC Group Name', 'ISIC Class Name'])\n",
    "fig.write_image('analysis/individual_D050_to_D053.pdf', width=WIDTH, height=HEIGHT)\n",
    "fig.show()"
   ]
  },
  {
   "cell_type": "code",
   "execution_count": 51,
   "metadata": {},
   "outputs": [
    {
     "data": {
      "application/vnd.plotly.v1+json": {
       "config": {
        "plotlyServerURL": "https://plot.ly"
       },
       "data": [
        {
         "branchvalues": "total",
         "domain": {
          "x": [
           0,
           1
          ],
          "y": [
           0,
           1
          ]
         },
         "hovertemplate": "labels=%{label}<br>count=%{value}<br>parent=%{parent}<br>id=%{id}<extra></extra>",
         "ids": [
          "All/Administrative and support service activities",
          "All/Agriculture, forestry and fishing",
          "All/Arts, entertainment and recreation",
          "All/Construction",
          "All/Electricity, gas, steam and air conditioning supply",
          "All/Human health and social work activities",
          "All/Information and communication",
          "All/Manufacturing",
          "All/Mining and quarrying",
          "All/Professional, scientific and technical activities",
          "All/Public administration and defence; compulsory social security",
          "All/Transportation and storage",
          "All/Water supply; sewerage, waste management and remediation activities",
          "All/Wholesale and retail trade; repair of motor vehicles and motorcycles",
          "All"
         ],
         "labels": [
          "Administrative and support service activities",
          "Agriculture, forestry and fishing",
          "Arts, entertainment and recreation",
          "Construction",
          "Electricity, gas, steam and air conditioning supply",
          "Human health and social work activities",
          "Information and communication",
          "Manufacturing",
          "Mining and quarrying",
          "Professional, scientific and technical activities",
          "Public administration and defence; compulsory social security",
          "Transportation and storage",
          "Water supply; sewerage, waste management and remediation activities",
          "Wholesale and retail trade; repair of motor vehicles and motorcycles",
          "All"
         ],
         "name": "",
         "parents": [
          "All",
          "All",
          "All",
          "All",
          "All",
          "All",
          "All",
          "All",
          "All",
          "All",
          "All",
          "All",
          "All",
          "All",
          ""
         ],
         "type": "treemap",
         "values": [
          1,
          2,
          1,
          2,
          37,
          1,
          13,
          22,
          1,
          21,
          5,
          35,
          6,
          2,
          149
         ]
        }
       ],
       "layout": {
        "legend": {
         "tracegroupgap": 0
        },
        "margin": {
         "t": 60
        },
        "template": {
         "data": {
          "pie": [
           {
            "automargin": true,
            "type": "pie"
           }
          ]
         },
         "layout": {
          "xaxis": {
           "showgrid": true,
           "title": {
            "standoff": 15
           }
          },
          "yaxis": {
           "showgrid": true,
           "title": {
            "standoff": 15
           }
          }
         }
        }
       }
      }
     },
     "metadata": {},
     "output_type": "display_data"
    }
   ],
   "source": [
    "fig = px.treemap(df_quality, path=[px.Constant(\"All\"), 'ISIC Section Name'])\n",
    "fig.write_image('analysis/individual_D050.pdf', width=WIDTH, height=HEIGHT)\n",
    "fig.show()"
   ]
  },
  {
   "attachments": {},
   "cell_type": "markdown",
   "metadata": {},
   "source": [
    "## Analysis of Pairs\n",
    "\n",
    "### SS00 and D010"
   ]
  },
  {
   "cell_type": "code",
   "execution_count": 52,
   "metadata": {},
   "outputs": [
    {
     "data": {
      "application/vnd.plotly.v1+json": {
       "config": {
        "plotlyServerURL": "https://plot.ly"
       },
       "data": [
        {
         "box": {
          "visible": true
         },
         "marker": {
          "outliercolor": "black"
         },
         "meanline": {
          "color": "black",
          "visible": true
         },
         "name": "Classical",
         "points": "all",
         "type": "violin",
         "x": [
          0.571428571,
          0.75,
          0.75,
          0.555555556,
          0.25,
          0.571428571,
          0.75,
          0.375,
          0.75,
          0.5,
          0.625,
          0.75,
          0.333333333,
          0.75,
          0.625,
          0.555555556,
          0.625,
          0.375,
          0.5,
          0.333333333,
          0.333333333,
          0.444444444,
          0.444444444,
          0.7,
          0.555555556,
          0.666666667,
          0.555555556,
          0.75,
          0.555555556,
          0.625,
          0.444444444,
          0.875,
          0.75,
          0.666666667,
          0.444444444,
          0.666666667,
          0.555555556,
          0.75,
          0.75,
          0.444444444,
          0.666666667,
          0.75,
          0.666666667,
          0.75,
          0.571428571,
          0.666666667,
          0.75,
          0.444444444,
          0.75,
          0.777777778,
          0.625,
          0.875,
          0.666666667,
          0.625,
          0.444444444,
          0.666666667,
          0.625,
          0.75,
          0.444444444,
          0.625,
          0.5,
          0.875,
          0.625,
          0.625,
          0.625,
          0.666666667,
          0.666666667,
          0.444444444,
          0.777777778,
          0.666666667,
          0.666666667,
          0.777777778,
          0.75,
          0.625,
          0.777777778,
          0.666666667,
          0.555555556,
          0.875,
          0.666666667,
          0.75,
          0.625,
          0.75,
          0.444444444,
          0.777777778,
          0.75,
          0.555555556,
          0.555555556,
          0.444444444,
          0.444444444,
          0.375,
          0.555555556,
          0.666666667,
          0.75,
          0.625,
          0.875,
          0.75,
          0.875,
          0.444444444,
          0.75,
          0.75,
          0.444444444,
          0.555555556,
          0.555555556,
          0.75,
          0.555555556,
          0.25,
          0.777777778,
          0.444444444,
          0.375,
          0.555555556,
          0.555555556,
          0.75,
          0.333333333,
          0.75,
          0.555555556,
          0.875,
          0.5,
          0.428571429,
          0.75,
          0.666666667
         ]
        },
        {
         "box": {
          "visible": true
         },
         "marker": {
          "outliercolor": "black"
         },
         "meanline": {
          "color": "black",
          "visible": true
         },
         "name": "Hybrid",
         "points": "all",
         "type": "violin",
         "x": [
          0.571428571,
          0.166666667,
          0.714285714,
          0.125,
          0.625,
          0.75,
          0.571428571,
          0.75,
          0.5,
          0.5,
          0.555555556,
          0.555555556,
          0.75,
          0.75,
          0.75,
          0.555555556,
          0.444444444,
          0.666666667,
          0.625,
          0.555555556,
          0.555555556,
          0.666666667,
          0.555555556,
          0.666666667,
          0.666666667,
          0.875,
          0.444444444,
          0.625,
          0.625
         ]
        }
       ],
       "layout": {
        "showlegend": false,
        "template": {
         "data": {
          "pie": [
           {
            "automargin": true,
            "type": "pie"
           }
          ]
         },
         "layout": {
          "xaxis": {
           "showgrid": true,
           "title": {
            "standoff": 15
           }
          },
          "yaxis": {
           "showgrid": true,
           "title": {
            "standoff": 15
           }
          }
         }
        },
        "xaxis": {
         "range": [
          0,
          1
         ],
         "title": {
          "text": "$S_S$"
         }
        },
        "yaxis": {
         "title": {
          "text": "Type of Approach"
         }
        }
       }
      }
     },
     "metadata": {},
     "output_type": "display_data"
    }
   ],
   "source": [
    "df_quality_classical = df_quality[df_quality['Type of Approach'] == 'Classical']\n",
    "df_quality_quantum = df_quality[df_quality['Type of Approach'] == 'Hybrid']\n",
    "\n",
    "fig = go.Figure()\n",
    "fig.add_trace(go.Violin(x=df_quality_classical['SSTOTAL'], box_visible=True, meanline_visible=True, marker_outliercolor='black', meanline_color='black', points='all', name='Classical'))\n",
    "fig.add_trace(go.Violin(x=df_quality_quantum['SSTOTAL'], box_visible=True, meanline_visible=True, marker_outliercolor='black', meanline_color='black', points='all', name='Hybrid'))\n",
    "fig.update_xaxes(range=[0,1], title=\"$S_S$\")\n",
    "fig.update_yaxes(title='Type of Approach')\n",
    "fig.update_layout(showlegend=False)\n",
    "fig.write_image('analysis/pair_ss00_d010.pdf', width=WIDTH, height=HALF_HEIGHT)\n",
    "fig.show()"
   ]
  },
  {
   "cell_type": "code",
   "execution_count": 53,
   "metadata": {},
   "outputs": [
    {
     "data": {
      "text/plain": [
       "0.23164818294887013"
      ]
     },
     "execution_count": 53,
     "metadata": {},
     "output_type": "execute_result"
    }
   ],
   "source": [
    "x = df_quality_classical['SSTOTAL']\n",
    "y = df_quality_quantum['SSTOTAL']\n",
    "\n",
    "_, p = mannwhitneyu(x, y, alternative='greater')\n",
    "\n",
    "p"
   ]
  },
  {
   "attachments": {},
   "cell_type": "markdown",
   "metadata": {},
   "source": [
    "### SS00 and D020"
   ]
  },
  {
   "cell_type": "code",
   "execution_count": 54,
   "metadata": {},
   "outputs": [
    {
     "data": {
      "application/vnd.plotly.v1+json": {
       "config": {
        "plotlyServerURL": "https://plot.ly"
       },
       "data": [
        {
         "box": {
          "visible": true
         },
         "marker": {
          "outliercolor": "black"
         },
         "meanline": {
          "color": "black",
          "visible": true
         },
         "name": "Quantum Particle Swarm Optimization",
         "points": "all",
         "type": "violin",
         "x": [
          0.75,
          0.25,
          0.75,
          0.375,
          0.75,
          0.75,
          0.75,
          0.625,
          0.5,
          0.333333333,
          0.7,
          0.555555556,
          0.555555556,
          0.75,
          0.555555556,
          0.625,
          0.444444444,
          0.75,
          0.666666667,
          0.444444444,
          0.666666667,
          0.555555556,
          0.75,
          0.444444444,
          0.666666667,
          0.571428571,
          0.666666667,
          0.75,
          0.444444444,
          0.75,
          0.777777778,
          0.666666667,
          0.75,
          0.777777778,
          0.666666667,
          0.555555556,
          0.625,
          0.75,
          0.444444444,
          0.777777778,
          0.75,
          0.555555556,
          0.444444444,
          0.444444444,
          0.666666667,
          0.75,
          0.625,
          0.875,
          0.75,
          0.875,
          0.444444444,
          0.75,
          0.555555556,
          0.75,
          0.555555556,
          0.25,
          0.444444444,
          0.375,
          0.555555556,
          0.333333333,
          0.555555556,
          0.5,
          0.428571429,
          0.75
         ]
        },
        {
         "box": {
          "visible": true
         },
         "marker": {
          "outliercolor": "black"
         },
         "meanline": {
          "color": "black",
          "visible": true
         },
         "name": "Quadratic Unconstrained Binary Optimization",
         "points": "all",
         "type": "violin",
         "x": [
          0.571428571,
          0.714285714,
          0.625,
          0.75,
          0.571428571,
          0.75,
          0.75,
          0.5,
          0.5,
          0.555555556,
          0.555555556,
          0.75,
          0.75,
          0.75,
          0.444444444,
          0.666666667,
          0.625,
          0.555555556,
          0.75,
          0.555555556,
          0.666666667,
          0.555555556,
          0.666666667,
          0.666666667,
          0.875
         ]
        },
        {
         "box": {
          "visible": true
         },
         "marker": {
          "outliercolor": "black"
         },
         "meanline": {
          "color": "black",
          "visible": true
         },
         "name": "Quantum Genetic Algorithm",
         "points": "all",
         "type": "violin",
         "x": [
          0.571428571,
          0.333333333,
          0.625,
          0.333333333,
          0.444444444,
          0.625,
          0.444444444,
          0.625,
          0.75,
          0.444444444,
          0.625,
          0.5,
          0.875,
          0.625,
          0.625,
          0.625,
          0.444444444
         ]
        },
        {
         "box": {
          "visible": true
         },
         "marker": {
          "outliercolor": "black"
         },
         "meanline": {
          "color": "black",
          "visible": true
         },
         "name": "Quantum-inspired Evolutionary Algorithm",
         "points": "all",
         "type": "violin",
         "x": [
          0.555555556,
          0.625,
          0.375,
          0.875,
          0.75,
          0.666666667,
          0.777777778,
          0.666666667,
          0.666666667,
          0.875
         ]
        }
       ],
       "layout": {
        "margin": {
         "l": 300
        },
        "showlegend": false,
        "template": {
         "data": {
          "pie": [
           {
            "automargin": true,
            "type": "pie"
           }
          ]
         },
         "layout": {
          "xaxis": {
           "showgrid": true,
           "title": {
            "standoff": 15
           }
          },
          "yaxis": {
           "showgrid": true,
           "title": {
            "standoff": 15
           }
          }
         }
        },
        "xaxis": {
         "range": [
          0,
          1
         ],
         "title": {
          "text": "$S_S$"
         }
        },
        "yaxis": {
         "title": {
          "text": "Algorithm Name"
         }
        }
       }
      }
     },
     "metadata": {},
     "output_type": "display_data"
    }
   ],
   "source": [
    "df_quality_qpso = df_quality[df_quality['Algorithm Name'] == 'Quantum Particle Swarm Optimization']\n",
    "df_quality_qubo = df_quality[df_quality['Algorithm Name'] == 'Quadratic Unconstrained Binary Optimization']\n",
    "df_quality_qga = df_quality[df_quality['Algorithm Name'] == 'Quantum Genetic Algorithm']\n",
    "df_quality_qea = df_quality[df_quality['Algorithm Name'] == 'Quantum-inspired Evolutionary Algorithm']\n",
    "\n",
    "fig = go.Figure()\n",
    "fig.add_trace(go.Violin(x=df_quality_qpso['SSTOTAL'], box_visible=True, meanline_visible=True, marker_outliercolor='black', meanline_color='black', points='all', name='Quantum Particle Swarm Optimization'))\n",
    "fig.add_trace(go.Violin(x=df_quality_qubo['SSTOTAL'], box_visible=True, meanline_visible=True, marker_outliercolor='black', meanline_color='black', points='all', name='Quadratic Unconstrained Binary Optimization'))\n",
    "fig.add_trace(go.Violin(x=df_quality_qga['SSTOTAL'], box_visible=True, meanline_visible=True, marker_outliercolor='black', meanline_color='black', points='all', name='Quantum Genetic Algorithm'))\n",
    "fig.add_trace(go.Violin(x=df_quality_qea['SSTOTAL'], box_visible=True, meanline_visible=True, marker_outliercolor='black', meanline_color='black', points='all', name='Quantum-inspired Evolutionary Algorithm'))\n",
    "fig.update_xaxes(range=[0,1], title=\"$S_S$\")\n",
    "fig.update_yaxes(title='Algorithm Name')\n",
    "fig.update_layout(showlegend=False,margin={\"l\": 300})\n",
    "fig.write_image('analysis/pair_ss00_d020.pdf', width=WIDTH, height=HALF_HEIGHT)\n",
    "fig.show()"
   ]
  },
  {
   "cell_type": "code",
   "execution_count": 55,
   "metadata": {},
   "outputs": [],
   "source": [
    "def matrix_mannwhitneyu(list_pops) -> dict:\n",
    "    dict_p_values = dict()\n",
    "\n",
    "    num_pops = len(list_pops)\n",
    "\n",
    "    for i in range(num_pops):\n",
    "        x = list_pops[i]\n",
    "        for j in range(num_pops):\n",
    "            y = list_pops[j]\n",
    "            if x.equals(y):\n",
    "                continue\n",
    "            else:\n",
    "                dict_p_values[(i,j)] = mannwhitneyu(x, y, alternative='greater')\n",
    "\n",
    "    return dict_p_values"
   ]
  },
  {
   "cell_type": "code",
   "execution_count": 56,
   "metadata": {},
   "outputs": [
    {
     "name": "stdout",
     "output_type": "stream",
     "text": [
      "{(0, 1): MannwhitneyuResult(statistic=720.5, pvalue=0.7708855493646464), (0, 2): MannwhitneyuResult(statistic=660.5, pvalue=0.08682912700408191), (0, 3): MannwhitneyuResult(statistic=235.0, pvalue=0.9145216176906902), (1, 0): MannwhitneyuResult(statistic=879.5, pvalue=0.23193346402299597), (1, 2): MannwhitneyuResult(statistic=290.0, pvalue=0.023045145850625778), (1, 3): MannwhitneyuResult(statistic=98.0, pvalue=0.8455244621153799), (2, 0): MannwhitneyuResult(statistic=427.5, pvalue=0.9150105334229823), (2, 1): MannwhitneyuResult(statistic=135.0, pvalue=0.9783326149807263), (2, 3): MannwhitneyuResult(statistic=40.0, pvalue=0.9898751355371167), (3, 0): MannwhitneyuResult(statistic=405.0, pvalue=0.08800821405348219), (3, 1): MannwhitneyuResult(statistic=152.0, pvalue=0.16343740513129662), (3, 2): MannwhitneyuResult(statistic=130.0, pvalue=0.011583719918709363)}\n"
     ]
    }
   ],
   "source": [
    "a_0 = df_quality_qpso['SSTOTAL']\n",
    "a_1 = df_quality_qubo['SSTOTAL']\n",
    "a_2 = df_quality_qga['SSTOTAL']\n",
    "a_3 = df_quality_qea['SSTOTAL']\n",
    "\n",
    "print(matrix_mannwhitneyu(list_pops=[a_0, a_1, a_2, a_3]))\n"
   ]
  },
  {
   "attachments": {},
   "cell_type": "markdown",
   "metadata": {},
   "source": [
    "### SS00 and D030"
   ]
  },
  {
   "cell_type": "code",
   "execution_count": 57,
   "metadata": {},
   "outputs": [
    {
     "data": {
      "application/vnd.plotly.v1+json": {
       "config": {
        "plotlyServerURL": "https://plot.ly"
       },
       "data": [
        {
         "box": {
          "visible": true
         },
         "marker": {
          "outliercolor": "black"
         },
         "meanline": {
          "color": "black",
          "visible": true
         },
         "name": "Real Quantum Computer",
         "points": "all",
         "type": "violin",
         "x": [
          0.571428571,
          0.714285714,
          0.625,
          0.75,
          0.571428571,
          0.75,
          0.555555556,
          0.555555556,
          0.75,
          0.75,
          0.555555556,
          0.444444444,
          0.666666667,
          0.625,
          0.555555556,
          0.555555556,
          0.666666667,
          0.555555556,
          0.666666667,
          0.666666667,
          0.875,
          0.444444444,
          0.625,
          0.625
         ]
        },
        {
         "box": {
          "visible": true
         },
         "marker": {
          "outliercolor": "black"
         },
         "meanline": {
          "color": "black",
          "visible": true
         },
         "name": "Simulator",
         "points": "all",
         "type": "violin",
         "x": [
          0.75
         ]
        }
       ],
       "layout": {
        "margin": {
         "l": 180
        },
        "showlegend": false,
        "template": {
         "data": {
          "pie": [
           {
            "automargin": true,
            "type": "pie"
           }
          ]
         },
         "layout": {
          "xaxis": {
           "showgrid": true,
           "title": {
            "standoff": 15
           }
          },
          "yaxis": {
           "showgrid": true,
           "title": {
            "standoff": 15
           }
          }
         }
        },
        "xaxis": {
         "range": [
          0,
          1
         ],
         "title": {
          "text": "$S_S$"
         }
        },
        "yaxis": {
         "title": {
          "text": "Does the study use a simulator or a real quantum computer?"
         }
        }
       }
      }
     },
     "metadata": {},
     "output_type": "display_data"
    }
   ],
   "source": [
    "df_quality_real = df_quality[df_quality['Does the study use a simulator or a real quantum computer?'] == 'Real Quantum Computer']\n",
    "df_quality_sim = df_quality[df_quality['Does the study use a simulator or a real quantum computer?'] == 'Simulator']\n",
    "\n",
    "fig = go.Figure()\n",
    "fig.add_trace(go.Violin(x=df_quality_real['SSTOTAL'], box_visible=True, meanline_visible=True, marker_outliercolor='black', meanline_color='black', points='all', name='Real Quantum Computer'))\n",
    "fig.add_trace(go.Violin(x=df_quality_sim['SSTOTAL'], box_visible=True, meanline_visible=True, marker_outliercolor='black', meanline_color='black', points='all', name='Simulator'))\n",
    "fig.update_xaxes(range=[0,1], title=\"$S_S$\")\n",
    "fig.update_layout(showlegend=False,margin={\"l\": 180})\n",
    "fig.update_yaxes(title='Does the study use a simulator or a real quantum computer?')\n",
    "fig.write_image('analysis/pair_ss00_d030.pdf', width=WIDTH, height=HALF_HEIGHT)\n",
    "fig.show()"
   ]
  },
  {
   "cell_type": "code",
   "execution_count": 58,
   "metadata": {},
   "outputs": [
    {
     "data": {
      "text/plain": [
       "0.11573323574629413"
      ]
     },
     "execution_count": 58,
     "metadata": {},
     "output_type": "execute_result"
    }
   ],
   "source": [
    "x = df_quality_real['SSTOTAL']\n",
    "y = df_quality_sim['SSTOTAL']\n",
    "\n",
    "_, p = mannwhitneyu(x, y, alternative='less')\n",
    "\n",
    "p"
   ]
  },
  {
   "attachments": {},
   "cell_type": "markdown",
   "metadata": {},
   "source": [
    "### SS00 and D040"
   ]
  },
  {
   "cell_type": "code",
   "execution_count": 59,
   "metadata": {},
   "outputs": [
    {
     "data": {
      "application/vnd.plotly.v1+json": {
       "config": {
        "plotlyServerURL": "https://plot.ly"
       },
       "data": [
        {
         "box": {
          "visible": true
         },
         "marker": {
          "outliercolor": "black"
         },
         "meanline": {
          "color": "black",
          "visible": true
         },
         "name": "Gate-based",
         "points": "all",
         "type": "violin",
         "x": [
          0.125,
          0.555555556
         ]
        },
        {
         "box": {
          "visible": true
         },
         "marker": {
          "outliercolor": "black"
         },
         "meanline": {
          "color": "black",
          "visible": true
         },
         "name": "Annealer",
         "points": "all",
         "type": "violin",
         "x": [
          0.571428571,
          0.714285714,
          0.625,
          0.75,
          0.571428571,
          0.75,
          0.555555556,
          0.555555556,
          0.75,
          0.75,
          0.75,
          0.444444444,
          0.666666667,
          0.625,
          0.555555556,
          0.555555556,
          0.666666667,
          0.555555556,
          0.666666667,
          0.666666667,
          0.875,
          0.444444444,
          0.625,
          0.625
         ]
        }
       ],
       "layout": {
        "margin": {
         "l": 100
        },
        "showlegend": false,
        "template": {
         "data": {
          "pie": [
           {
            "automargin": true,
            "type": "pie"
           }
          ]
         },
         "layout": {
          "xaxis": {
           "showgrid": true,
           "title": {
            "standoff": 15
           }
          },
          "yaxis": {
           "showgrid": true,
           "title": {
            "standoff": 15
           }
          }
         }
        },
        "xaxis": {
         "range": [
          0,
          1
         ],
         "title": {
          "text": "$S_S$"
         }
        },
        "yaxis": {
         "title": {
          "text": "Type of Quantum Computer"
         }
        }
       }
      }
     },
     "metadata": {},
     "output_type": "display_data"
    }
   ],
   "source": [
    "df_quality_gate = df_quality[df_quality['Type of Quantum Computer'] == 'Gate-based']\n",
    "df_quality_anneal = df_quality[df_quality['Type of Quantum Computer'] == 'Annealer']\n",
    "\n",
    "fig = go.Figure()\n",
    "fig.add_trace(go.Violin(x=df_quality_gate['SSTOTAL'], box_visible=True, meanline_visible=True, marker_outliercolor='black', meanline_color='black', points='all', name='Gate-based'))\n",
    "fig.add_trace(go.Violin(x=df_quality_anneal['SSTOTAL'], box_visible=True, meanline_visible=True, marker_outliercolor='black', meanline_color='black', points='all', name='Annealer'))\n",
    "fig.update_xaxes(range=[0,1], title=\"$S_S$\")\n",
    "fig.update_yaxes(title='Type of Quantum Computer')\n",
    "fig.update_layout(showlegend=False, margin={\"l\": 100})\n",
    "fig.write_image('analysis/pair_ss00_d040.pdf', width=WIDTH, height=HALF_HEIGHT)\n",
    "fig.show()"
   ]
  },
  {
   "cell_type": "code",
   "execution_count": 60,
   "metadata": {},
   "outputs": [
    {
     "data": {
      "text/plain": [
       "0.03195364212949516"
      ]
     },
     "execution_count": 60,
     "metadata": {},
     "output_type": "execute_result"
    }
   ],
   "source": [
    "x = df_quality_gate['SSTOTAL']\n",
    "y = df_quality_anneal['SSTOTAL']\n",
    "\n",
    "_, p = mannwhitneyu(x, y, alternative='less')\n",
    "\n",
    "p"
   ]
  },
  {
   "attachments": {},
   "cell_type": "markdown",
   "metadata": {},
   "source": [
    "### SS00 and D050"
   ]
  },
  {
   "cell_type": "code",
   "execution_count": 61,
   "metadata": {},
   "outputs": [
    {
     "data": {
      "application/vnd.plotly.v1+json": {
       "config": {
        "plotlyServerURL": "https://plot.ly"
       },
       "data": [
        {
         "box": {
          "visible": true
         },
         "marker": {
          "outliercolor": "black"
         },
         "meanline": {
          "color": "black",
          "visible": true
         },
         "name": "C",
         "points": "all",
         "type": "violin",
         "x": [
          0.25,
          0.75,
          0.5,
          0.625,
          0.444444444,
          0.875,
          0.75,
          0.666666667,
          0.75,
          0.5,
          0.625,
          0.625,
          0.555555556,
          0.555555556,
          0.625,
          0.444444444,
          0.75,
          0.75,
          0.555555556,
          0.75,
          0.625,
          0.625
         ]
        },
        {
         "box": {
          "visible": true
         },
         "marker": {
          "outliercolor": "black"
         },
         "meanline": {
          "color": "black",
          "visible": true
         },
         "name": "D",
         "points": "all",
         "type": "violin",
         "x": [
          0.75,
          0.75,
          0.571428571,
          0.375,
          0.75,
          0.333333333,
          0.75,
          0.444444444,
          0.555555556,
          0.555555556,
          0.75,
          0.555555556,
          0.75,
          0.666666667,
          0.666666667,
          0.555555556,
          0.444444444,
          0.666666667,
          0.666666667,
          0.75,
          0.444444444,
          0.777777778,
          0.625,
          0.444444444,
          0.666666667,
          0.666666667,
          0.444444444,
          0.666666667,
          0.75,
          0.625,
          0.875,
          0.875,
          0.444444444,
          0.777777778,
          0.875,
          0.5,
          0.666666667
         ]
        },
        {
         "box": {
          "visible": true
         },
         "marker": {
          "outliercolor": "black"
         },
         "meanline": {
          "color": "black",
          "visible": true
         },
         "name": "E",
         "points": "all",
         "type": "violin",
         "x": [
          0.444444444,
          0.75,
          0.75,
          0.555555556,
          0.875,
          0.75
         ]
        },
        {
         "box": {
          "visible": true
         },
         "marker": {
          "outliercolor": "black"
         },
         "meanline": {
          "color": "black",
          "visible": true
         },
         "name": "H",
         "points": "all",
         "type": "violin",
         "x": [
          0.571428571,
          0.166666667,
          0.75,
          0.625,
          0.625,
          0.75,
          0.625,
          0.571428571,
          0.75,
          0.333333333,
          0.666666667,
          0.444444444,
          0.75,
          0.5,
          0.5,
          0.75,
          0.75,
          0.444444444,
          0.666666667,
          0.777777778,
          0.666666667,
          0.75,
          0.555555556,
          0.555555556,
          0.555555556,
          0.444444444,
          0.555555556,
          0.25,
          0.666666667,
          0.444444444,
          0.375,
          0.555555556,
          0.555555556,
          0.666666667,
          0.555555556
         ]
        },
        {
         "box": {
          "visible": true
         },
         "marker": {
          "outliercolor": "black"
         },
         "meanline": {
          "color": "black",
          "visible": true
         },
         "name": "J",
         "points": "all",
         "type": "violin",
         "x": [
          0.714285714,
          0.5,
          0.375,
          0.7,
          0.875,
          0.777777778,
          0.666666667,
          0.777777778,
          0.444444444,
          0.555555556,
          0.625,
          0.555555556,
          0.875
         ]
        },
        {
         "box": {
          "visible": true
         },
         "marker": {
          "outliercolor": "black"
         },
         "meanline": {
          "color": "black",
          "visible": true
         },
         "name": "M",
         "points": "all",
         "type": "violin",
         "x": [
          0.555555556,
          0.555555556,
          0.333333333,
          0.571428571,
          0.625,
          0.666666667,
          0.625,
          0.666666667,
          0.875,
          0.75,
          0.444444444,
          0.777777778,
          0.75,
          0.555555556,
          0.555555556,
          0.75,
          0.75,
          0.333333333,
          0.666666667,
          0.444444444,
          0.75
         ]
        },
        {
         "box": {
          "visible": true
         },
         "marker": {
          "outliercolor": "black"
         },
         "meanline": {
          "color": "black",
          "visible": true
         },
         "name": "O",
         "points": "all",
         "type": "violin",
         "x": [
          0.625,
          0.444444444,
          0.375,
          0.75,
          0.666666667
         ]
        }
       ],
       "layout": {
        "showlegend": false,
        "template": {
         "data": {
          "pie": [
           {
            "automargin": true,
            "type": "pie"
           }
          ]
         },
         "layout": {
          "xaxis": {
           "showgrid": true,
           "title": {
            "standoff": 15
           }
          },
          "yaxis": {
           "showgrid": true,
           "title": {
            "standoff": 15
           }
          }
         }
        },
        "xaxis": {
         "range": [
          0,
          1
         ],
         "title": {
          "text": "$S_S$"
         }
        },
        "yaxis": {
         "title": {
          "text": "ISIC Section"
         }
        }
       }
      }
     },
     "metadata": {},
     "output_type": "display_data"
    }
   ],
   "source": [
    "df_quality_C = df_quality[df_quality['ISIC Section'] == 'C']\n",
    "df_quality_D = df_quality[df_quality['ISIC Section'] == 'D']\n",
    "df_quality_E = df_quality[df_quality['ISIC Section'] == 'E']\n",
    "df_quality_H = df_quality[df_quality['ISIC Section'] == 'H']\n",
    "df_quality_J = df_quality[df_quality['ISIC Section'] == 'J']\n",
    "df_quality_M = df_quality[df_quality['ISIC Section'] == 'M']\n",
    "df_quality_O = df_quality[df_quality['ISIC Section'] == 'O']\n",
    "\n",
    "fig = go.Figure()\n",
    "fig.add_trace(go.Violin(x=df_quality_C['SSTOTAL'], box_visible=True, meanline_visible=True, marker_outliercolor='black', meanline_color='black', points='all', name='C'))\n",
    "fig.add_trace(go.Violin(x=df_quality_D['SSTOTAL'], box_visible=True, meanline_visible=True, marker_outliercolor='black', meanline_color='black', points='all', name='D'))\n",
    "fig.add_trace(go.Violin(x=df_quality_E['SSTOTAL'], box_visible=True, meanline_visible=True, marker_outliercolor='black', meanline_color='black', points='all', name='E'))\n",
    "fig.add_trace(go.Violin(x=df_quality_H['SSTOTAL'], box_visible=True, meanline_visible=True, marker_outliercolor='black', meanline_color='black', points='all', name='H'))\n",
    "fig.add_trace(go.Violin(x=df_quality_J['SSTOTAL'], box_visible=True, meanline_visible=True, marker_outliercolor='black', meanline_color='black', points='all', name='J'))\n",
    "fig.add_trace(go.Violin(x=df_quality_M['SSTOTAL'], box_visible=True, meanline_visible=True, marker_outliercolor='black', meanline_color='black', points='all', name='M'))\n",
    "fig.add_trace(go.Violin(x=df_quality_O['SSTOTAL'], box_visible=True, meanline_visible=True, marker_outliercolor='black', meanline_color='black', points='all', name='O'))\n",
    "fig.update_xaxes(range=[0,1], title=\"$S_S$\")\n",
    "fig.update_yaxes(title='ISIC Section')\n",
    "fig.update_layout(showlegend=False)\n",
    "fig.write_image('analysis/pair_ss00_d050.pdf', width=WIDTH, height=HEIGHT)\n",
    "fig.show()"
   ]
  },
  {
   "cell_type": "code",
   "execution_count": 62,
   "metadata": {},
   "outputs": [
    {
     "name": "stdout",
     "output_type": "stream",
     "text": [
      "{(0, 1): MannwhitneyuResult(statistic=373.5, pvalue=0.7051939316566379), (0, 2): MannwhitneyuResult(statistic=48.0, pvalue=0.8556375834505823), (0, 3): MannwhitneyuResult(statistic=437.5, pvalue=0.19416154290264992), (0, 4): MannwhitneyuResult(statistic=125.5, pvalue=0.7323581550759956), (0, 5): MannwhitneyuResult(statistic=224.0, pvalue=0.5733529212582714), (0, 6): MannwhitneyuResult(statistic=63.5, pvalue=0.3054054500248232), (1, 0): MannwhitneyuResult(statistic=440.5, pvalue=0.300301512846339), (1, 2): MannwhitneyuResult(statistic=86.5, pvalue=0.813136133943585), (1, 3): MannwhitneyuResult(statistic=778.0, pvalue=0.06933186503959168), (1, 4): MannwhitneyuResult(statistic=224.0, pvalue=0.6476631472248474), (1, 5): MannwhitneyuResult(statistic=410.0, pvalue=0.36545428915222977), (1, 6): MannwhitneyuResult(statistic=115.5, pvalue=0.1880000527457351), (2, 0): MannwhitneyuResult(statistic=84.0, pvalue=0.157791527903981), (2, 1): MannwhitneyuResult(statistic=135.5, pvalue=0.19657134567758106), (2, 3): MannwhitneyuResult(statistic=146.0, pvalue=0.06508436562255603), (2, 4): MannwhitneyuResult(statistic=44.5, pvalue=0.3295171715940027), (2, 5): MannwhitneyuResult(statistic=79.0, pvalue=0.1787144755466959), (2, 6): MannwhitneyuResult(statistic=22.0, pvalue=0.11169531571249802), (3, 0): MannwhitneyuResult(statistic=332.5, pvalue=0.8103677016698365), (3, 1): MannwhitneyuResult(statistic=517.0, pvalue=0.9321735202355523), (3, 2): MannwhitneyuResult(statistic=64.0, pvalue=0.9395258679211139), (3, 4): MannwhitneyuResult(statistic=171.5, pvalue=0.9065581351118679), (3, 5): MannwhitneyuResult(statistic=309.5, pvalue=0.8416687760206754), (3, 6): MannwhitneyuResult(statistic=90.0, pvalue=0.4670841563315833), (4, 0): MannwhitneyuResult(statistic=160.5, pvalue=0.27909959986239785), (4, 1): MannwhitneyuResult(statistic=257.0, pvalue=0.3606492830996012), (4, 2): MannwhitneyuResult(statistic=33.5, pvalue=0.7017693418983781), (4, 3): MannwhitneyuResult(statistic=283.5, pvalue=0.09740269607003921), (4, 5): MannwhitneyuResult(statistic=151.5, pvalue=0.3025404800967426), (4, 6): MannwhitneyuResult(statistic=42.0, pvalue=0.1866317037114102), (5, 0): MannwhitneyuResult(statistic=238.0, pvalue=0.4363375910446695), (5, 1): MannwhitneyuResult(statistic=367.0, pvalue=0.6406864239867986), (5, 2): MannwhitneyuResult(statistic=47.0, pvalue=0.8363700049998689), (5, 3): MannwhitneyuResult(statistic=425.5, pvalue=0.1625029143889235), (5, 4): MannwhitneyuResult(statistic=121.5, pvalue=0.7097896556860098), (5, 6): MannwhitneyuResult(statistic=61.0, pvalue=0.29935053466617123), (6, 0): MannwhitneyuResult(statistic=46.5, pvalue=0.7165187965769899), (6, 1): MannwhitneyuResult(statistic=69.5, pvalue=0.822422486417563), (6, 2): MannwhitneyuResult(statistic=8.0, pvalue=0.9199713268840276), (6, 3): MannwhitneyuResult(statistic=85.0, pvalue=0.5493037358732514), (6, 4): MannwhitneyuResult(statistic=23.0, pvalue=0.8387437509193861), (6, 5): MannwhitneyuResult(statistic=44.0, pvalue=0.723092460457628)}\n"
     ]
    }
   ],
   "source": [
    "\n",
    "print(matrix_mannwhitneyu(\n",
    "    list_pops=[\n",
    "        df_quality_C['SSTOTAL'],\n",
    "        df_quality_D['SSTOTAL'],\n",
    "        df_quality_E['SSTOTAL'],\n",
    "        df_quality_H['SSTOTAL'],\n",
    "        df_quality_J['SSTOTAL'],\n",
    "        df_quality_M['SSTOTAL'],\n",
    "        df_quality_O['SSTOTAL']]))\n"
   ]
  },
  {
   "attachments": {},
   "cell_type": "markdown",
   "metadata": {},
   "source": [
    "### SS00 and D060"
   ]
  },
  {
   "cell_type": "code",
   "execution_count": 63,
   "metadata": {},
   "outputs": [
    {
     "data": {
      "application/vnd.plotly.v1+json": {
       "config": {
        "plotlyServerURL": "https://plot.ly"
       },
       "data": [
        {
         "box": {
          "visible": true
         },
         "marker": {
          "outliercolor": "black"
         },
         "meanline": {
          "color": "black",
          "visible": true
         },
         "name": "2011",
         "points": "all",
         "type": "violin",
         "x": [
          0.444444444,
          0.7,
          0.875
         ]
        },
        {
         "box": {
          "visible": true
         },
         "marker": {
          "outliercolor": "black"
         },
         "meanline": {
          "color": "black",
          "visible": true
         },
         "name": "2012",
         "points": "all",
         "type": "violin",
         "x": [
          0.625,
          0.375,
          0.444444444,
          0.555555556,
          0.75,
          0.444444444
         ]
        },
        {
         "box": {
          "visible": true
         },
         "marker": {
          "outliercolor": "black"
         },
         "meanline": {
          "color": "black",
          "visible": true
         },
         "name": "2013",
         "points": "all",
         "type": "violin",
         "x": [
          0.625,
          0.75,
          0.666666667
         ]
        },
        {
         "box": {
          "visible": true
         },
         "marker": {
          "outliercolor": "black"
         },
         "meanline": {
          "color": "black",
          "visible": true
         },
         "name": "2014",
         "points": "all",
         "type": "violin",
         "x": [
          0.555555556,
          0.666666667,
          0.555555556,
          0.625,
          0.444444444,
          0.555555556,
          0.666666667,
          0.666666667
         ]
        },
        {
         "box": {
          "visible": true
         },
         "marker": {
          "outliercolor": "black"
         },
         "meanline": {
          "color": "black",
          "visible": true
         },
         "name": "2015",
         "points": "all",
         "type": "violin",
         "x": [
          0.333333333,
          0.625,
          0.666666667,
          0.625,
          0.375,
          0.555555556
         ]
        },
        {
         "box": {
          "visible": true
         },
         "marker": {
          "outliercolor": "black"
         },
         "meanline": {
          "color": "black",
          "visible": true
         },
         "name": "2016",
         "points": "all",
         "type": "violin",
         "x": [
          0.75,
          0.875,
          0.625,
          0.625,
          0.666666667,
          0.555555556,
          0.444444444,
          0.875,
          0.444444444,
          0.75,
          0.5
         ]
        },
        {
         "box": {
          "visible": true
         },
         "marker": {
          "outliercolor": "black"
         },
         "meanline": {
          "color": "black",
          "visible": true
         },
         "name": "2017",
         "points": "all",
         "type": "violin",
         "x": [
          0.625,
          0.555555556,
          0.625,
          0.5,
          0.666666667,
          0.625,
          0.777777778,
          0.444444444,
          0.75,
          0.75,
          0.666666667
         ]
        },
        {
         "box": {
          "visible": true
         },
         "marker": {
          "outliercolor": "black"
         },
         "meanline": {
          "color": "black",
          "visible": true
         },
         "name": "2018",
         "points": "all",
         "type": "violin",
         "x": [
          0.571428571,
          0.625,
          0.75,
          0.444444444,
          0.666666667,
          0.75,
          0.444444444,
          0.666666667,
          0.777777778
         ]
        },
        {
         "box": {
          "visible": true
         },
         "marker": {
          "outliercolor": "black"
         },
         "meanline": {
          "color": "black",
          "visible": true
         },
         "name": "2019",
         "points": "all",
         "type": "violin",
         "x": [
          0.75,
          0.75,
          0.555555556,
          0.571428571,
          0.333333333,
          0.333333333,
          0.75,
          0.5,
          0.555555556,
          0.625,
          0.777777778,
          0.555555556,
          0.555555556,
          0.75,
          0.75,
          0.666666667,
          0.666666667,
          0.875,
          0.555555556,
          0.875
         ]
        },
        {
         "box": {
          "visible": true
         },
         "marker": {
          "outliercolor": "black"
         },
         "meanline": {
          "color": "black",
          "visible": true
         },
         "name": "2020",
         "points": "all",
         "type": "violin",
         "x": [
          0.571428571,
          0.166666667,
          0.125,
          0.25,
          0.571428571,
          0.5,
          0.75,
          0.75,
          0.5,
          0.666666667,
          0.666666667,
          0.5,
          0.75,
          0.444444444,
          0.75,
          0.777777778,
          0.875,
          0.444444444,
          0.666666667,
          0.75,
          0.666666667,
          0.75,
          0.777777778,
          0.75,
          0.625,
          0.875,
          0.75,
          0.75,
          0.444444444,
          0.555555556,
          0.75,
          0.375,
          0.555555556,
          0.666666667,
          0.555555556,
          0.444444444,
          0.625,
          0.625
         ]
        },
        {
         "box": {
          "visible": true
         },
         "marker": {
          "outliercolor": "black"
         },
         "meanline": {
          "color": "black",
          "visible": true
         },
         "name": "2021",
         "points": "all",
         "type": "violin",
         "x": [
          0.714285714,
          0.375,
          0.75,
          0.75,
          0.444444444,
          0.75,
          0.666666667,
          0.571428571,
          0.666666667,
          0.555555556,
          0.75,
          0.625,
          0.625,
          0.875,
          0.75,
          0.444444444,
          0.444444444,
          0.555555556,
          0.25,
          0.777777778,
          0.666666667,
          0.444444444,
          0.625,
          0.555555556,
          0.555555556,
          0.75,
          0.555555556,
          0.333333333,
          0.428571429
         ]
        },
        {
         "box": {
          "visible": true
         },
         "marker": {
          "outliercolor": "black"
         },
         "meanline": {
          "color": "black",
          "visible": true
         },
         "name": "2022",
         "points": "all",
         "type": "violin",
         "x": [
          0.75,
          0.75,
          0.555555556,
          0.75,
          0.555555556
         ]
        }
       ],
       "layout": {
        "showlegend": false,
        "template": {
         "data": {
          "pie": [
           {
            "automargin": true,
            "type": "pie"
           }
          ]
         },
         "layout": {
          "xaxis": {
           "showgrid": true,
           "title": {
            "standoff": 15
           }
          },
          "yaxis": {
           "showgrid": true,
           "title": {
            "standoff": 15
           }
          }
         }
        },
        "xaxis": {
         "range": [
          0,
          1
         ],
         "title": {
          "text": "$S_S$"
         }
        },
        "yaxis": {
         "dtick": 1,
         "title": {
          "text": "Publication Year"
         }
        }
       }
      }
     },
     "metadata": {},
     "output_type": "display_data"
    }
   ],
   "source": [
    "df_quality_2011 = df_quality[df_quality['Publication Year'] == 2011]\n",
    "df_quality_2012 = df_quality[df_quality['Publication Year'] == 2012]\n",
    "df_quality_2013 = df_quality[df_quality['Publication Year'] == 2013]\n",
    "df_quality_2014 = df_quality[df_quality['Publication Year'] == 2014]\n",
    "df_quality_2015 = df_quality[df_quality['Publication Year'] == 2015]\n",
    "df_quality_2016 = df_quality[df_quality['Publication Year'] == 2016]\n",
    "df_quality_2017 = df_quality[df_quality['Publication Year'] == 2017]\n",
    "df_quality_2018 = df_quality[df_quality['Publication Year'] == 2018]\n",
    "df_quality_2019 = df_quality[df_quality['Publication Year'] == 2019]\n",
    "df_quality_2020 = df_quality[df_quality['Publication Year'] == 2020]\n",
    "df_quality_2021 = df_quality[df_quality['Publication Year'] == 2021]\n",
    "df_quality_2022 = df_quality[df_quality['Publication Year'] == 2022]\n",
    "\n",
    "fig = go.Figure()\n",
    "fig.add_trace(go.Violin(x=df_quality_2011['SSTOTAL'], box_visible=True, meanline_visible=True, marker_outliercolor='black', meanline_color='black', points='all', name='2011'))\n",
    "fig.add_trace(go.Violin(x=df_quality_2012['SSTOTAL'], box_visible=True, meanline_visible=True, marker_outliercolor='black', meanline_color='black', points='all', name='2012'))\n",
    "fig.add_trace(go.Violin(x=df_quality_2013['SSTOTAL'], box_visible=True, meanline_visible=True, marker_outliercolor='black', meanline_color='black', points='all', name='2013'))\n",
    "fig.add_trace(go.Violin(x=df_quality_2014['SSTOTAL'], box_visible=True, meanline_visible=True, marker_outliercolor='black', meanline_color='black', points='all', name='2014'))\n",
    "fig.add_trace(go.Violin(x=df_quality_2015['SSTOTAL'], box_visible=True, meanline_visible=True, marker_outliercolor='black', meanline_color='black', points='all', name='2015'))\n",
    "fig.add_trace(go.Violin(x=df_quality_2016['SSTOTAL'], box_visible=True, meanline_visible=True, marker_outliercolor='black', meanline_color='black', points='all', name='2016'))\n",
    "fig.add_trace(go.Violin(x=df_quality_2017['SSTOTAL'], box_visible=True, meanline_visible=True, marker_outliercolor='black', meanline_color='black', points='all', name='2017'))\n",
    "fig.add_trace(go.Violin(x=df_quality_2018['SSTOTAL'], box_visible=True, meanline_visible=True, marker_outliercolor='black', meanline_color='black', points='all', name='2018'))\n",
    "fig.add_trace(go.Violin(x=df_quality_2019['SSTOTAL'], box_visible=True, meanline_visible=True, marker_outliercolor='black', meanline_color='black', points='all', name='2019'))\n",
    "fig.add_trace(go.Violin(x=df_quality_2020['SSTOTAL'], box_visible=True, meanline_visible=True, marker_outliercolor='black', meanline_color='black', points='all', name='2020'))\n",
    "fig.add_trace(go.Violin(x=df_quality_2021['SSTOTAL'], box_visible=True, meanline_visible=True, marker_outliercolor='black', meanline_color='black', points='all', name='2021'))\n",
    "fig.add_trace(go.Violin(x=df_quality_2022['SSTOTAL'], box_visible=True, meanline_visible=True, marker_outliercolor='black', meanline_color='black', points='all', name='2022'))\n",
    "fig.update_xaxes(range=[0,1], title=\"$S_S$\")\n",
    "fig.update_yaxes(title='Publication Year',dtick=1)\n",
    "fig.update_layout(showlegend=False)\n",
    "fig.write_image('analysis/pair_ss00_d060.pdf', width=WIDTH, height=HEIGHT)\n",
    "fig.show()"
   ]
  },
  {
   "attachments": {},
   "cell_type": "markdown",
   "metadata": {},
   "source": [
    "### SS00 and D070"
   ]
  },
  {
   "cell_type": "code",
   "execution_count": 64,
   "metadata": {},
   "outputs": [
    {
     "data": {
      "application/vnd.plotly.v1+json": {
       "config": {
        "plotlyServerURL": "https://plot.ly"
       },
       "data": [
        {
         "box": {
          "visible": true
         },
         "marker": {
          "outliercolor": "black"
         },
         "meanline": {
          "color": "black",
          "visible": true
         },
         "name": "Journal",
         "points": "all",
         "type": "violin",
         "x": [
          0.166666667,
          0.75,
          0.75,
          0.555555556,
          0.25,
          0.571428571,
          0.75,
          0.75,
          0.5,
          0.75,
          0.625,
          0.625,
          0.75,
          0.625,
          0.75,
          0.444444444,
          0.7,
          0.555555556,
          0.666666667,
          0.555555556,
          0.75,
          0.555555556,
          0.625,
          0.444444444,
          0.875,
          0.75,
          0.666666667,
          0.444444444,
          0.666666667,
          0.555555556,
          0.75,
          0.666666667,
          0.75,
          0.666666667,
          0.75,
          0.555555556,
          0.571428571,
          0.666666667,
          0.75,
          0.444444444,
          0.75,
          0.777777778,
          0.625,
          0.875,
          0.666666667,
          0.625,
          0.444444444,
          0.666666667,
          0.625,
          0.75,
          0.444444444,
          0.5,
          0.875,
          0.625,
          0.625,
          0.666666667,
          0.666666667,
          0.444444444,
          0.777777778,
          0.666666667,
          0.75,
          0.625,
          0.777777778,
          0.666666667,
          0.555555556,
          0.875,
          0.666666667,
          0.75,
          0.625,
          0.75,
          0.444444444,
          0.777777778,
          0.75,
          0.555555556,
          0.555555556,
          0.444444444,
          0.444444444,
          0.555555556,
          0.666666667,
          0.75,
          0.875,
          0.75,
          0.875,
          0.444444444,
          0.75,
          0.75,
          0.75,
          0.444444444,
          0.555555556,
          0.75,
          0.555555556,
          0.75,
          0.555555556,
          0.555555556,
          0.25,
          0.777777778,
          0.666666667,
          0.375,
          0.555555556,
          0.555555556,
          0.555555556,
          0.75,
          0.666666667,
          0.875,
          0.555555556,
          0.875,
          0.444444444,
          0.625,
          0.5,
          0.75,
          0.666666667
         ]
        },
        {
         "box": {
          "visible": true
         },
         "marker": {
          "outliercolor": "black"
         },
         "meanline": {
          "color": "black",
          "visible": true
         },
         "name": "Conference",
         "points": "all",
         "type": "violin",
         "x": [
          0.571428571,
          0.714285714,
          0.125,
          0.375,
          0.625,
          0.75,
          0.333333333,
          0.555555556,
          0.375,
          0.5,
          0.333333333,
          0.333333333,
          0.444444444,
          0.75,
          0.444444444,
          0.5,
          0.5,
          0.555555556,
          0.75,
          0.625,
          0.625,
          0.666666667,
          0.777777778,
          0.375,
          0.625,
          0.444444444,
          0.444444444,
          0.625,
          0.555555556,
          0.75,
          0.555555556,
          0.333333333,
          0.666666667,
          0.666666667,
          0.625,
          0.428571429
         ]
        },
        {
         "box": {
          "visible": true
         },
         "marker": {
          "outliercolor": "black"
         },
         "meanline": {
          "color": "black",
          "visible": true
         },
         "name": "Workshop",
         "points": "all",
         "type": "violin",
         "x": [
          0.571428571,
          0.571428571
         ]
        }
       ],
       "layout": {
        "margin": {
         "l": 100
        },
        "showlegend": false,
        "template": {
         "data": {
          "pie": [
           {
            "automargin": true,
            "type": "pie"
           }
          ]
         },
         "layout": {
          "xaxis": {
           "showgrid": true,
           "title": {
            "standoff": 15
           }
          },
          "yaxis": {
           "showgrid": true,
           "title": {
            "standoff": 15
           }
          }
         }
        },
        "xaxis": {
         "range": [
          0,
          1
         ],
         "title": {
          "text": "$S_S$"
         }
        },
        "yaxis": {
         "dtick": 1,
         "title": {
          "text": "Publication Source"
         }
        }
       }
      }
     },
     "metadata": {},
     "output_type": "display_data"
    }
   ],
   "source": [
    "df_quality_journal = df_quality[df_quality['Publication Source'] == 'Journal']\n",
    "df_quality_conference = df_quality[df_quality['Publication Source'] == 'Conference']\n",
    "df_quality_workshop = df_quality[df_quality['Publication Source'] == 'Workshop']\n",
    "\n",
    "fig = go.Figure()\n",
    "fig.add_trace(go.Violin(x=df_quality_journal['SSTOTAL'], box_visible=True, meanline_visible=True, marker_outliercolor='black', meanline_color='black', points='all', name='Journal'))\n",
    "fig.add_trace(go.Violin(x=df_quality_conference['SSTOTAL'], box_visible=True, meanline_visible=True, marker_outliercolor='black', meanline_color='black', points='all', name='Conference'))\n",
    "fig.add_trace(go.Violin(x=df_quality_workshop['SSTOTAL'], box_visible=True, meanline_visible=True, marker_outliercolor='black', meanline_color='black', points='all', name='Workshop'))\n",
    "fig.update_xaxes(range=[0,1], title=\"$S_S$\")\n",
    "fig.update_yaxes(title='Publication Source',dtick=1)\n",
    "fig.update_layout(showlegend=False, margin={\"l\": 100})\n",
    "fig.write_image('analysis/pair_ss00_d070.pdf', width=WIDTH, height=HALF_HEIGHT)\n",
    "fig.show()"
   ]
  },
  {
   "cell_type": "code",
   "execution_count": 65,
   "metadata": {},
   "outputs": [
    {
     "name": "stdout",
     "output_type": "stream",
     "text": [
      "{(0, 1): MannwhitneyuResult(statistic=2753.0, pvalue=0.0002985457119961092), (0, 2): MannwhitneyuResult(statistic=144.0, pvalue=0.2366842024329141), (1, 0): MannwhitneyuResult(statistic=1243.0, pvalue=0.9997064252666015), (1, 2): MannwhitneyuResult(statistic=31.0, pvalue=0.6410810102722987), (2, 0): MannwhitneyuResult(statistic=78.0, pvalue=0.7700680715397527), (2, 1): MannwhitneyuResult(statistic=41.0, pvalue=0.3837487590016371)}\n"
     ]
    }
   ],
   "source": [
    "a_0 = df_quality_journal['SSTOTAL']\n",
    "a_1 = df_quality_conference['SSTOTAL']\n",
    "a_2 = df_quality_workshop['SSTOTAL']\n",
    "\n",
    "print(matrix_mannwhitneyu(list_pops=[a_0,a_1,a_2]))"
   ]
  },
  {
   "attachments": {},
   "cell_type": "markdown",
   "metadata": {},
   "source": [
    "### SR00 and D010"
   ]
  },
  {
   "cell_type": "code",
   "execution_count": 66,
   "metadata": {},
   "outputs": [
    {
     "data": {
      "application/vnd.plotly.v1+json": {
       "config": {
        "plotlyServerURL": "https://plot.ly"
       },
       "data": [
        {
         "box": {
          "visible": true
         },
         "marker": {
          "outliercolor": "black"
         },
         "meanline": {
          "color": "black",
          "visible": true
         },
         "name": "Classical",
         "points": "all",
         "type": "violin",
         "x": [
          0.714285714,
          0.666666667,
          0.866666667,
          0.733333333,
          0.857142857,
          0.785714286,
          0.75,
          0.571428571,
          0.466666667,
          0.666666667,
          0.666666667,
          0.6,
          0.538461538,
          0.8,
          0.733333333,
          0.666666667,
          0.6,
          0.714285714,
          0.466666667,
          0.428571429,
          0.466666667,
          0.533333333,
          0.6,
          0.666666667,
          0.733333333,
          0.666666667,
          0.6,
          0.666666667,
          0.8,
          0.8,
          0.733333333,
          0.8,
          0.8,
          0.6,
          0.733333333,
          0.666666667,
          0.666666667,
          0.666666667,
          0.8,
          0.4,
          0.666666667,
          0.666666667,
          0.666666667,
          0.6,
          0.571428571,
          0.666666667,
          0.733333333,
          0.6,
          0.733333333,
          0.666666667,
          0.666666667,
          0.733333333,
          0.666666667,
          0.666666667,
          0.733333333,
          0.733333333,
          0.733333333,
          0.733333333,
          0.666666667,
          0.666666667,
          0.666666667,
          0.666666667,
          0.666666667,
          0.666666667,
          0.6,
          0.666666667,
          0.733333333,
          0.6,
          0.733333333,
          0.733333333,
          0.666666667,
          0.733333333,
          0.533333333,
          0.666666667,
          0.666666667,
          0.6,
          0.6,
          0.6,
          0.733333333,
          0.533333333,
          0.6,
          0.8,
          0.666666667,
          0.666666667,
          0.666666667,
          0.733333333,
          0.666666667,
          0.666666667,
          0.666666667,
          0.5,
          0.666666667,
          0.666666667,
          0.666666667,
          0.533333333,
          0.8,
          0.8,
          0.733333333,
          0.533333333,
          0.666666667,
          0.733333333,
          0.533333333,
          0.733333333,
          0.533333333,
          0.733333333,
          0.666666667,
          0.714285714,
          0.733333333,
          0.666666667,
          0.642857143,
          0.666666667,
          0.6,
          0.8,
          0.733333333,
          0.6,
          0.666666667,
          0.8,
          0.857142857,
          0.571428571,
          0.733333333,
          0.666666667
         ]
        },
        {
         "box": {
          "visible": true
         },
         "marker": {
          "outliercolor": "black"
         },
         "meanline": {
          "color": "black",
          "visible": true
         },
         "name": "Hybrid",
         "points": "all",
         "type": "violin",
         "x": [
          0.714285714,
          0.833333333,
          0.866666667,
          0.357142857,
          0.733333333,
          0.666666667,
          0.642857143,
          0.8,
          0.384615385,
          0.230769231,
          0.733333333,
          0.533333333,
          0.666666667,
          0.733333333,
          0.6,
          0.533333333,
          0.6,
          0.666666667,
          0.533333333,
          0.8,
          0.666666667,
          0.666666667,
          0.75,
          0.733333333,
          0.666666667,
          0.666666667,
          0.666666667,
          0.6,
          0.8
         ]
        }
       ],
       "layout": {
        "showlegend": false,
        "template": {
         "data": {
          "pie": [
           {
            "automargin": true,
            "type": "pie"
           }
          ]
         },
         "layout": {
          "xaxis": {
           "showgrid": true,
           "title": {
            "standoff": 15
           }
          },
          "yaxis": {
           "showgrid": true,
           "title": {
            "standoff": 15
           }
          }
         }
        },
        "xaxis": {
         "range": [
          0,
          1
         ],
         "title": {
          "text": "$S_R$"
         }
        },
        "yaxis": {
         "title": {
          "text": "Type of Approach"
         }
        }
       }
      }
     },
     "metadata": {},
     "output_type": "display_data"
    }
   ],
   "source": [
    "df_quality_classical = df_quality[df_quality['Type of Approach'] == 'Classical']\n",
    "df_quality_quantum = df_quality[df_quality['Type of Approach'] == 'Hybrid']\n",
    "\n",
    "fig = go.Figure()\n",
    "fig.add_trace(go.Violin(x=df_quality_classical['SRTOTAL'], box_visible=True, meanline_visible=True, marker_outliercolor='black', meanline_color='black', points='all', name='Classical'))\n",
    "fig.add_trace(go.Violin(x=df_quality_quantum['SRTOTAL'], box_visible=True, meanline_visible=True, marker_outliercolor='black', meanline_color='black', points='all', name='Hybrid'))\n",
    "fig.update_xaxes(range=[0,1], title=\"$S_R$\")\n",
    "fig.update_yaxes(title='Type of Approach')\n",
    "fig.update_layout(showlegend=False)\n",
    "fig.write_image('analysis/pair_sr00_d010.pdf', width=WIDTH, height=HALF_HEIGHT)\n",
    "fig.show()"
   ]
  },
  {
   "cell_type": "code",
   "execution_count": 67,
   "metadata": {},
   "outputs": [
    {
     "data": {
      "text/plain": [
       "0.40283807026917307"
      ]
     },
     "execution_count": 67,
     "metadata": {},
     "output_type": "execute_result"
    }
   ],
   "source": [
    "x = df_quality_classical['SRTOTAL']\n",
    "y = df_quality_quantum['SRTOTAL']\n",
    "\n",
    "_, p = mannwhitneyu(x, y, alternative='greater')\n",
    "\n",
    "p"
   ]
  },
  {
   "attachments": {},
   "cell_type": "markdown",
   "metadata": {},
   "source": [
    "### SR00 and D020"
   ]
  },
  {
   "cell_type": "code",
   "execution_count": 68,
   "metadata": {},
   "outputs": [
    {
     "data": {
      "application/vnd.plotly.v1+json": {
       "config": {
        "plotlyServerURL": "https://plot.ly"
       },
       "data": [
        {
         "box": {
          "visible": true
         },
         "marker": {
          "outliercolor": "black"
         },
         "meanline": {
          "color": "black",
          "visible": true
         },
         "name": "Quantum Particle Swarm Optimization",
         "points": "all",
         "type": "violin",
         "x": [
          0.866666667,
          0.857142857,
          0.75,
          0.571428571,
          0.466666667,
          0.6,
          0.8,
          0.733333333,
          0.466666667,
          0.428571429,
          0.666666667,
          0.733333333,
          0.6,
          0.666666667,
          0.8,
          0.8,
          0.733333333,
          0.8,
          0.6,
          0.733333333,
          0.666666667,
          0.666666667,
          0.666666667,
          0.4,
          0.666666667,
          0.571428571,
          0.666666667,
          0.733333333,
          0.6,
          0.733333333,
          0.666666667,
          0.666666667,
          0.533333333,
          0.666666667,
          0.6,
          0.6,
          0.6,
          0.8,
          0.666666667,
          0.666666667,
          0.666666667,
          0.733333333,
          0.666666667,
          0.666666667,
          0.666666667,
          0.666666667,
          0.533333333,
          0.8,
          0.8,
          0.733333333,
          0.533333333,
          0.733333333,
          0.733333333,
          0.733333333,
          0.666666667,
          0.714285714,
          0.666666667,
          0.642857143,
          0.666666667,
          0.733333333,
          0.666666667,
          0.857142857,
          0.571428571,
          0.733333333
         ]
        },
        {
         "box": {
          "visible": true
         },
         "marker": {
          "outliercolor": "black"
         },
         "meanline": {
          "color": "black",
          "visible": true
         },
         "name": "Quadratic Unconstrained Binary Optimization",
         "points": "all",
         "type": "violin",
         "x": [
          0.714285714,
          0.866666667,
          0.733333333,
          0.666666667,
          0.642857143,
          0.8,
          0.8,
          0.384615385,
          0.230769231,
          0.733333333,
          0.533333333,
          0.666666667,
          0.733333333,
          0.6,
          0.6,
          0.666666667,
          0.533333333,
          0.6,
          0.8,
          0.666666667,
          0.666666667,
          0.75,
          0.733333333,
          0.666666667,
          0.666666667
         ]
        },
        {
         "box": {
          "visible": true
         },
         "marker": {
          "outliercolor": "black"
         },
         "meanline": {
          "color": "black",
          "visible": true
         },
         "name": "Quantum Genetic Algorithm",
         "points": "all",
         "type": "violin",
         "x": [
          0.785714286,
          0.538461538,
          0.6,
          0.466666667,
          0.6,
          0.666666667,
          0.733333333,
          0.733333333,
          0.733333333,
          0.666666667,
          0.666666667,
          0.666666667,
          0.666666667,
          0.666666667,
          0.666666667,
          0.6,
          0.6
         ]
        },
        {
         "box": {
          "visible": true
         },
         "marker": {
          "outliercolor": "black"
         },
         "meanline": {
          "color": "black",
          "visible": true
         },
         "name": "Quantum-inspired Evolutionary Algorithm",
         "points": "all",
         "type": "violin",
         "x": [
          0.733333333,
          0.666666667,
          0.714285714,
          0.8,
          0.6,
          0.733333333,
          0.733333333,
          0.733333333,
          0.666666667,
          0.6
         ]
        }
       ],
       "layout": {
        "margin": {
         "l": 300
        },
        "showlegend": false,
        "template": {
         "data": {
          "pie": [
           {
            "automargin": true,
            "type": "pie"
           }
          ]
         },
         "layout": {
          "xaxis": {
           "showgrid": true,
           "title": {
            "standoff": 15
           }
          },
          "yaxis": {
           "showgrid": true,
           "title": {
            "standoff": 15
           }
          }
         }
        },
        "xaxis": {
         "range": [
          0,
          1
         ],
         "title": {
          "text": "$S_R$"
         }
        },
        "yaxis": {
         "title": {
          "text": "Algorithm Name"
         }
        }
       }
      }
     },
     "metadata": {},
     "output_type": "display_data"
    }
   ],
   "source": [
    "df_quality_qpso = df_quality[df_quality['Algorithm Name'] == 'Quantum Particle Swarm Optimization']\n",
    "df_quality_qubo = df_quality[df_quality['Algorithm Name'] == 'Quadratic Unconstrained Binary Optimization']\n",
    "df_quality_qga = df_quality[df_quality['Algorithm Name'] == 'Quantum Genetic Algorithm']\n",
    "df_quality_qea = df_quality[df_quality['Algorithm Name'] == 'Quantum-inspired Evolutionary Algorithm']\n",
    "\n",
    "fig = go.Figure()\n",
    "fig.add_trace(go.Violin(x=df_quality_qpso['SRTOTAL'], box_visible=True, meanline_visible=True, marker_outliercolor='black', meanline_color='black', points='all', name='Quantum Particle Swarm Optimization'))\n",
    "fig.add_trace(go.Violin(x=df_quality_qubo['SRTOTAL'], box_visible=True, meanline_visible=True, marker_outliercolor='black', meanline_color='black', points='all', name='Quadratic Unconstrained Binary Optimization'))\n",
    "fig.add_trace(go.Violin(x=df_quality_qga['SRTOTAL'], box_visible=True, meanline_visible=True, marker_outliercolor='black', meanline_color='black', points='all', name='Quantum Genetic Algorithm'))\n",
    "fig.add_trace(go.Violin(x=df_quality_qea['SRTOTAL'], box_visible=True, meanline_visible=True, marker_outliercolor='black', meanline_color='black', points='all', name='Quantum-inspired Evolutionary Algorithm'))\n",
    "fig.update_xaxes(range=[0,1], title=\"$S_R$\")\n",
    "fig.update_yaxes(title='Algorithm Name')\n",
    "fig.update_layout(showlegend=False,margin={\"l\": 300})\n",
    "fig.write_image('analysis/pair_sr00_d020.pdf', width=WIDTH, height=HALF_HEIGHT)\n",
    "fig.show()"
   ]
  },
  {
   "cell_type": "code",
   "execution_count": 69,
   "metadata": {},
   "outputs": [
    {
     "name": "stdout",
     "output_type": "stream",
     "text": [
      "{(0, 1): MannwhitneyuResult(statistic=816.5, pvalue=0.4407145913983801), (0, 2): MannwhitneyuResult(statistic=631.0, pvalue=0.15139911913324844), (0, 3): MannwhitneyuResult(statistic=273.0, pvalue=0.7789433701052161), (1, 0): MannwhitneyuResult(statistic=783.5, pvalue=0.5629607401256033), (1, 2): MannwhitneyuResult(statistic=241.5, pvalue=0.22727652101140555), (1, 3): MannwhitneyuResult(statistic=106.0, pvalue=0.7654999498453505), (2, 0): MannwhitneyuResult(statistic=457.0, pvalue=0.8513785141062656), (2, 1): MannwhitneyuResult(statistic=183.5, pvalue=0.7805600994702577), (2, 3): MannwhitneyuResult(statistic=55.0, pvalue=0.9433153426553496), (3, 0): MannwhitneyuResult(statistic=367.0, pvalue=0.22589088334572044), (3, 1): MannwhitneyuResult(statistic=144.0, pvalue=0.2460498002970306), (3, 2): MannwhitneyuResult(statistic=115.0, pvalue=0.06284519948585808)}\n"
     ]
    }
   ],
   "source": [
    "a_0 = df_quality_qpso['SRTOTAL']\n",
    "a_1 = df_quality_qubo['SRTOTAL']\n",
    "a_2 = df_quality_qga['SRTOTAL']\n",
    "a_3 = df_quality_qea['SRTOTAL']\n",
    "\n",
    "print(matrix_mannwhitneyu(list_pops=[a_0, a_1, a_2, a_3]))\n"
   ]
  },
  {
   "attachments": {},
   "cell_type": "markdown",
   "metadata": {},
   "source": [
    "### SR00 and D030"
   ]
  },
  {
   "cell_type": "code",
   "execution_count": 70,
   "metadata": {},
   "outputs": [
    {
     "data": {
      "application/vnd.plotly.v1+json": {
       "config": {
        "plotlyServerURL": "https://plot.ly"
       },
       "data": [
        {
         "box": {
          "visible": true
         },
         "marker": {
          "outliercolor": "black"
         },
         "meanline": {
          "color": "black",
          "visible": true
         },
         "name": "Real Quantum Computer",
         "points": "all",
         "type": "violin",
         "x": [
          0.714285714,
          0.866666667,
          0.733333333,
          0.666666667,
          0.642857143,
          0.8,
          0.733333333,
          0.533333333,
          0.666666667,
          0.733333333,
          0.533333333,
          0.6,
          0.666666667,
          0.533333333,
          0.8,
          0.666666667,
          0.666666667,
          0.75,
          0.733333333,
          0.666666667,
          0.666666667,
          0.666666667,
          0.6,
          0.8
         ]
        },
        {
         "box": {
          "visible": true
         },
         "marker": {
          "outliercolor": "black"
         },
         "meanline": {
          "color": "black",
          "visible": true
         },
         "name": "Simulator",
         "points": "all",
         "type": "violin",
         "x": [
          0.6
         ]
        }
       ],
       "layout": {
        "margin": {
         "l": 180
        },
        "showlegend": false,
        "template": {
         "data": {
          "pie": [
           {
            "automargin": true,
            "type": "pie"
           }
          ]
         },
         "layout": {
          "xaxis": {
           "showgrid": true,
           "title": {
            "standoff": 15
           }
          },
          "yaxis": {
           "showgrid": true,
           "title": {
            "standoff": 15
           }
          }
         }
        },
        "xaxis": {
         "range": [
          0,
          1
         ],
         "title": {
          "text": "$S_R$"
         }
        },
        "yaxis": {
         "title": {
          "text": "Does the study use a simulator or a real quantum computer?"
         }
        }
       }
      }
     },
     "metadata": {},
     "output_type": "display_data"
    }
   ],
   "source": [
    "df_quality_real = df_quality[df_quality['Does the study use a simulator or a real quantum computer?'] == 'Real Quantum Computer']\n",
    "df_quality_sim = df_quality[df_quality['Does the study use a simulator or a real quantum computer?'] == 'Simulator']\n",
    "\n",
    "fig = go.Figure()\n",
    "fig.add_trace(go.Violin(x=df_quality_real['SRTOTAL'], box_visible=True, meanline_visible=True, marker_outliercolor='black', meanline_color='black', points='all', name='Real Quantum Computer'))\n",
    "fig.add_trace(go.Violin(x=df_quality_sim['SRTOTAL'], box_visible=True, meanline_visible=True, marker_outliercolor='black', meanline_color='black', points='all', name='Simulator'))\n",
    "fig.update_xaxes(range=[0,1], title=\"$S_R$\")\n",
    "fig.update_layout(showlegend=False,margin={\"l\": 180})\n",
    "fig.update_yaxes(title='Does the study use a simulator or a real quantum computer?')\n",
    "fig.write_image('analysis/pair_sr00_d030.pdf', width=WIDTH, height=HALF_HEIGHT)\n",
    "fig.show()"
   ]
  },
  {
   "cell_type": "code",
   "execution_count": 71,
   "metadata": {},
   "outputs": [
    {
     "data": {
      "text/plain": [
       "0.8856137032296558"
      ]
     },
     "execution_count": 71,
     "metadata": {},
     "output_type": "execute_result"
    }
   ],
   "source": [
    "x = df_quality_real['SRTOTAL']\n",
    "y = df_quality_sim['SRTOTAL']\n",
    "\n",
    "_, p = mannwhitneyu(x, y, alternative='less')\n",
    "\n",
    "p"
   ]
  },
  {
   "attachments": {},
   "cell_type": "markdown",
   "metadata": {},
   "source": [
    "### SR00 and D040"
   ]
  },
  {
   "cell_type": "code",
   "execution_count": 72,
   "metadata": {},
   "outputs": [
    {
     "data": {
      "application/vnd.plotly.v1+json": {
       "config": {
        "plotlyServerURL": "https://plot.ly"
       },
       "data": [
        {
         "box": {
          "visible": true
         },
         "marker": {
          "outliercolor": "black"
         },
         "meanline": {
          "color": "black",
          "visible": true
         },
         "name": "Gate-based",
         "points": "all",
         "type": "violin",
         "x": [
          0.357142857,
          0.533333333
         ]
        },
        {
         "box": {
          "visible": true
         },
         "marker": {
          "outliercolor": "black"
         },
         "meanline": {
          "color": "black",
          "visible": true
         },
         "name": "Annealer",
         "points": "all",
         "type": "violin",
         "x": [
          0.714285714,
          0.866666667,
          0.733333333,
          0.666666667,
          0.642857143,
          0.8,
          0.733333333,
          0.533333333,
          0.666666667,
          0.733333333,
          0.6,
          0.6,
          0.666666667,
          0.533333333,
          0.8,
          0.666666667,
          0.666666667,
          0.75,
          0.733333333,
          0.666666667,
          0.666666667,
          0.666666667,
          0.6,
          0.8
         ]
        }
       ],
       "layout": {
        "margin": {
         "l": 100
        },
        "showlegend": false,
        "template": {
         "data": {
          "pie": [
           {
            "automargin": true,
            "type": "pie"
           }
          ]
         },
         "layout": {
          "xaxis": {
           "showgrid": true,
           "title": {
            "standoff": 15
           }
          },
          "yaxis": {
           "showgrid": true,
           "title": {
            "standoff": 15
           }
          }
         }
        },
        "xaxis": {
         "range": [
          0,
          1
         ],
         "title": {
          "text": "$S_R$"
         }
        },
        "yaxis": {
         "title": {
          "text": "Type of Quantum Computer"
         }
        }
       }
      }
     },
     "metadata": {},
     "output_type": "display_data"
    }
   ],
   "source": [
    "df_quality_gate = df_quality[df_quality['Type of Quantum Computer'] == 'Gate-based']\n",
    "df_quality_anneal = df_quality[df_quality['Type of Quantum Computer'] == 'Annealer']\n",
    "\n",
    "fig = go.Figure()\n",
    "fig.add_trace(go.Violin(x=df_quality_gate['SRTOTAL'], box_visible=True, meanline_visible=True, marker_outliercolor='black', meanline_color='black', points='all', name='Gate-based'))\n",
    "fig.add_trace(go.Violin(x=df_quality_anneal['SRTOTAL'], box_visible=True, meanline_visible=True, marker_outliercolor='black', meanline_color='black', points='all', name='Annealer'))\n",
    "fig.update_xaxes(range=[0,1], title=\"$S_R$\")\n",
    "fig.update_yaxes(title='Type of Quantum Computer')\n",
    "fig.update_layout(showlegend=False, margin={\"l\": 100})\n",
    "fig.write_image('analysis/pair_sr00_d040.pdf', width=WIDTH, height=HALF_HEIGHT)\n",
    "fig.show()"
   ]
  },
  {
   "cell_type": "code",
   "execution_count": 73,
   "metadata": {},
   "outputs": [
    {
     "data": {
      "text/plain": [
       "0.013713256247898792"
      ]
     },
     "execution_count": 73,
     "metadata": {},
     "output_type": "execute_result"
    }
   ],
   "source": [
    "x = df_quality_gate['SRTOTAL']\n",
    "y = df_quality_anneal['SRTOTAL']\n",
    "\n",
    "_, p = mannwhitneyu(x, y, alternative='less')\n",
    "\n",
    "p"
   ]
  },
  {
   "attachments": {},
   "cell_type": "markdown",
   "metadata": {},
   "source": [
    "### SR00 and D050"
   ]
  },
  {
   "cell_type": "code",
   "execution_count": 74,
   "metadata": {},
   "outputs": [
    {
     "data": {
      "application/vnd.plotly.v1+json": {
       "config": {
        "plotlyServerURL": "https://plot.ly"
       },
       "data": [
        {
         "box": {
          "visible": true
         },
         "marker": {
          "outliercolor": "black"
         },
         "meanline": {
          "color": "black",
          "visible": true
         },
         "name": "C",
         "points": "all",
         "type": "violin",
         "x": [
          0.857142857,
          0.6,
          0.466666667,
          0.8,
          0.733333333,
          0.8,
          0.666666667,
          0.666666667,
          0.733333333,
          0.666666667,
          0.666666667,
          0.6,
          0.6,
          0.666666667,
          0.533333333,
          0.533333333,
          0.666666667,
          0.733333333,
          0.8,
          0.6,
          0.6,
          0.8
         ]
        },
        {
         "box": {
          "visible": true
         },
         "marker": {
          "outliercolor": "black"
         },
         "meanline": {
          "color": "black",
          "visible": true
         },
         "name": "D",
         "points": "all",
         "type": "violin",
         "x": [
          0.666666667,
          0.866666667,
          0.785714286,
          0.571428571,
          0.466666667,
          0.538461538,
          0.8,
          0.6,
          0.733333333,
          0.6,
          0.666666667,
          0.8,
          0.8,
          0.6,
          0.666666667,
          0.666666667,
          0.4,
          0.666666667,
          0.666666667,
          0.733333333,
          0.6,
          0.666666667,
          0.666666667,
          0.733333333,
          0.733333333,
          0.666666667,
          0.6,
          0.733333333,
          0.533333333,
          0.6,
          0.8,
          0.733333333,
          0.533333333,
          0.733333333,
          0.8,
          0.857142857,
          0.666666667
         ]
        },
        {
         "box": {
          "visible": true
         },
         "marker": {
          "outliercolor": "black"
         },
         "meanline": {
          "color": "black",
          "visible": true
         },
         "name": "E",
         "points": "all",
         "type": "violin",
         "x": [
          0.533333333,
          0.666666667,
          0.733333333,
          0.533333333,
          0.733333333,
          0.533333333
         ]
        },
        {
         "box": {
          "visible": true
         },
         "marker": {
          "outliercolor": "black"
         },
         "meanline": {
          "color": "black",
          "visible": true
         },
         "name": "H",
         "points": "all",
         "type": "violin",
         "x": [
          0.714285714,
          0.833333333,
          0.75,
          0.666666667,
          0.733333333,
          0.666666667,
          0.6,
          0.642857143,
          0.8,
          0.428571429,
          0.666666667,
          0.733333333,
          0.8,
          0.384615385,
          0.230769231,
          0.6,
          0.666666667,
          0.666666667,
          0.733333333,
          0.666666667,
          0.666666667,
          0.733333333,
          0.733333333,
          0.533333333,
          0.533333333,
          0.6,
          0.666666667,
          0.714285714,
          0.666666667,
          0.666666667,
          0.642857143,
          0.6,
          0.75,
          0.666666667,
          0.666666667
         ]
        },
        {
         "box": {
          "visible": true
         },
         "marker": {
          "outliercolor": "black"
         },
         "meanline": {
          "color": "black",
          "visible": true
         },
         "name": "J",
         "points": "all",
         "type": "violin",
         "x": [
          0.866666667,
          0.666666667,
          0.714285714,
          0.666666667,
          0.666666667,
          0.733333333,
          0.666666667,
          0.733333333,
          0.666666667,
          0.666666667,
          0.533333333,
          0.666666667,
          0.666666667
         ]
        },
        {
         "box": {
          "visible": true
         },
         "marker": {
          "outliercolor": "black"
         },
         "meanline": {
          "color": "black",
          "visible": true
         },
         "name": "M",
         "points": "all",
         "type": "violin",
         "x": [
          0.733333333,
          0.666666667,
          0.466666667,
          0.571428571,
          0.666666667,
          0.733333333,
          0.666666667,
          0.6,
          0.6,
          0.8,
          0.666666667,
          0.666666667,
          0.666666667,
          0.733333333,
          0.666666667,
          0.666666667,
          0.733333333,
          0.733333333,
          0.733333333,
          0.666666667,
          0.733333333
         ]
        },
        {
         "box": {
          "visible": true
         },
         "marker": {
          "outliercolor": "black"
         },
         "meanline": {
          "color": "black",
          "visible": true
         },
         "name": "O",
         "points": "all",
         "type": "violin",
         "x": [
          0.733333333,
          0.666666667,
          0.5,
          0.6,
          0.666666667
         ]
        }
       ],
       "layout": {
        "showlegend": false,
        "template": {
         "data": {
          "pie": [
           {
            "automargin": true,
            "type": "pie"
           }
          ]
         },
         "layout": {
          "xaxis": {
           "showgrid": true,
           "title": {
            "standoff": 15
           }
          },
          "yaxis": {
           "showgrid": true,
           "title": {
            "standoff": 15
           }
          }
         }
        },
        "xaxis": {
         "range": [
          0,
          1
         ],
         "title": {
          "text": "$S_R$"
         }
        },
        "yaxis": {
         "title": {
          "text": "ISIC Section"
         }
        }
       }
      }
     },
     "metadata": {},
     "output_type": "display_data"
    }
   ],
   "source": [
    "df_quality_C = df_quality[df_quality['ISIC Section'] == 'C']\n",
    "df_quality_D = df_quality[df_quality['ISIC Section'] == 'D']\n",
    "df_quality_E = df_quality[df_quality['ISIC Section'] == 'E']\n",
    "df_quality_H = df_quality[df_quality['ISIC Section'] == 'H']\n",
    "df_quality_J = df_quality[df_quality['ISIC Section'] == 'J']\n",
    "df_quality_M = df_quality[df_quality['ISIC Section'] == 'M']\n",
    "df_quality_O = df_quality[df_quality['ISIC Section'] == 'O']\n",
    "\n",
    "fig = go.Figure()\n",
    "fig.add_trace(go.Violin(x=df_quality_C['SRTOTAL'], box_visible=True, meanline_visible=True, marker_outliercolor='black', meanline_color='black', points='all', name='C'))\n",
    "fig.add_trace(go.Violin(x=df_quality_D['SRTOTAL'], box_visible=True, meanline_visible=True, marker_outliercolor='black', meanline_color='black', points='all', name='D'))\n",
    "fig.add_trace(go.Violin(x=df_quality_E['SRTOTAL'], box_visible=True, meanline_visible=True, marker_outliercolor='black', meanline_color='black', points='all', name='E'))\n",
    "fig.add_trace(go.Violin(x=df_quality_H['SRTOTAL'], box_visible=True, meanline_visible=True, marker_outliercolor='black', meanline_color='black', points='all', name='H'))\n",
    "fig.add_trace(go.Violin(x=df_quality_J['SRTOTAL'], box_visible=True, meanline_visible=True, marker_outliercolor='black', meanline_color='black', points='all', name='J'))\n",
    "fig.add_trace(go.Violin(x=df_quality_M['SRTOTAL'], box_visible=True, meanline_visible=True, marker_outliercolor='black', meanline_color='black', points='all', name='M'))\n",
    "fig.add_trace(go.Violin(x=df_quality_O['SRTOTAL'], box_visible=True, meanline_visible=True, marker_outliercolor='black', meanline_color='black', points='all', name='O'))\n",
    "fig.update_xaxes(range=[0,1], title=\"$S_R$\")\n",
    "fig.update_yaxes(title='ISIC Section')\n",
    "fig.update_layout(showlegend=False)\n",
    "fig.write_image('analysis/pair_sr00_d050.pdf', width=WIDTH, height=HEIGHT)\n",
    "fig.show()"
   ]
  },
  {
   "cell_type": "code",
   "execution_count": 75,
   "metadata": {},
   "outputs": [
    {
     "name": "stdout",
     "output_type": "stream",
     "text": [
      "{(0, 1): MannwhitneyuResult(statistic=396.5, pvalue=0.5696645684596058), (0, 2): MannwhitneyuResult(statistic=84.0, pvalue=0.1593446292176398), (0, 3): MannwhitneyuResult(statistic=397.5, pvalue=0.42046071015365066), (0, 4): MannwhitneyuResult(statistic=129.0, pvalue=0.6962585308477875), (0, 5): MannwhitneyuResult(statistic=221.0, pvalue=0.6038084763403451), (0, 6): MannwhitneyuResult(statistic=66.0, pvalue=0.2514713382229935), (1, 0): MannwhitneyuResult(statistic=417.5, pvalue=0.4366123245599215), (1, 2): MannwhitneyuResult(statistic=145.0, pvalue=0.11643181171571698), (1, 3): MannwhitneyuResult(statistic=694.5, pvalue=0.2967321394952518), (1, 4): MannwhitneyuResult(statistic=232.5, pvalue=0.576680551347309), (1, 5): MannwhitneyuResult(statistic=388.0, pvalue=0.5066317329064273), (1, 6): MannwhitneyuResult(statistic=114.5, pvalue=0.19749861266562063), (2, 0): MannwhitneyuResult(statistic=48.0, pvalue=0.8540895190535235), (2, 1): MannwhitneyuResult(statistic=77.0, pvalue=0.8903941674087918), (2, 3): MannwhitneyuResult(statistic=84.0, pvalue=0.790800406650819), (2, 4): MannwhitneyuResult(statistic=28.5, pvalue=0.8485151538687259), (2, 5): MannwhitneyuResult(statistic=44.5, pvalue=0.8771109698139383), (2, 6): MannwhitneyuResult(statistic=15.0, pvalue=0.5373991304287047), (3, 0): MannwhitneyuResult(statistic=372.5, pvalue=0.5860677616542505), (3, 1): MannwhitneyuResult(statistic=600.5, pvalue=0.7072273096678119), (3, 2): MannwhitneyuResult(statistic=126.0, pvalue=0.22018625388786534), (3, 4): MannwhitneyuResult(statistic=201.0, pvalue=0.7427284869301051), (3, 5): MannwhitneyuResult(statistic=334.5, pvalue=0.7210576787778604), (3, 6): MannwhitneyuResult(statistic=103.5, pvalue=0.25791832710908), (4, 0): MannwhitneyuResult(statistic=157.0, pvalue=0.3162382014679681), (4, 1): MannwhitneyuResult(statistic=248.5, pvalue=0.4322476260208413), (4, 2): MannwhitneyuResult(statistic=49.5, pvalue=0.17452290548534966), (4, 3): MannwhitneyuResult(statistic=254.0, pvalue=0.2651198606283923), (4, 5): MannwhitneyuResult(statistic=136.0, pvalue=0.515269685203854), (4, 6): MannwhitneyuResult(statistic=43.0, pvalue=0.13899164362292266), (5, 0): MannwhitneyuResult(statistic=241.0, pvalue=0.40588274839899613), (5, 1): MannwhitneyuResult(statistic=389.0, pvalue=0.5), (5, 2): MannwhitneyuResult(statistic=81.5, pvalue=0.1357581026998398), (5, 3): MannwhitneyuResult(statistic=400.5, pvalue=0.2848496924172147), (5, 4): MannwhitneyuResult(statistic=137.0, pvalue=0.5), (5, 6): MannwhitneyuResult(statistic=67.5, pvalue=0.15929979108441722), (6, 0): MannwhitneyuResult(statistic=44.0, pvalue=0.768423132692206), (6, 1): MannwhitneyuResult(statistic=70.5, pvalue=0.8133079102316509), (6, 2): MannwhitneyuResult(statistic=15.0, pvalue=0.5373991304287047), (6, 3): MannwhitneyuResult(statistic=71.5, pvalue=0.7554363339350985), (6, 4): MannwhitneyuResult(statistic=22.0, pvalue=0.883633237278287), (6, 5): MannwhitneyuResult(statistic=37.5, pvalue=0.8568157288836666)}\n"
     ]
    }
   ],
   "source": [
    "\n",
    "print(matrix_mannwhitneyu(\n",
    "    list_pops=[\n",
    "        df_quality_C['SRTOTAL'],\n",
    "        df_quality_D['SRTOTAL'],\n",
    "        df_quality_E['SRTOTAL'],\n",
    "        df_quality_H['SRTOTAL'],\n",
    "        df_quality_J['SRTOTAL'],\n",
    "        df_quality_M['SRTOTAL'],\n",
    "        df_quality_O['SRTOTAL']]))\n"
   ]
  },
  {
   "attachments": {},
   "cell_type": "markdown",
   "metadata": {},
   "source": [
    "### SR00 and D060"
   ]
  },
  {
   "cell_type": "code",
   "execution_count": 76,
   "metadata": {},
   "outputs": [
    {
     "data": {
      "application/vnd.plotly.v1+json": {
       "config": {
        "plotlyServerURL": "https://plot.ly"
       },
       "data": [
        {
         "box": {
          "visible": true
         },
         "marker": {
          "outliercolor": "black"
         },
         "meanline": {
          "color": "black",
          "visible": true
         },
         "name": "2011",
         "points": "all",
         "type": "violin",
         "x": [
          0.6,
          0.666666667,
          0.8
         ]
        },
        {
         "box": {
          "visible": true
         },
         "marker": {
          "outliercolor": "black"
         },
         "meanline": {
          "color": "black",
          "visible": true
         },
         "name": "2012",
         "points": "all",
         "type": "violin",
         "x": [
          0.6,
          0.714285714,
          0.533333333,
          0.6,
          0.666666667,
          0.6
         ]
        },
        {
         "box": {
          "visible": true
         },
         "marker": {
          "outliercolor": "black"
         },
         "meanline": {
          "color": "black",
          "visible": true
         },
         "name": "2013",
         "points": "all",
         "type": "violin",
         "x": [
          0.733333333,
          0.666666667,
          0.733333333
         ]
        },
        {
         "box": {
          "visible": true
         },
         "marker": {
          "outliercolor": "black"
         },
         "meanline": {
          "color": "black",
          "visible": true
         },
         "name": "2014",
         "points": "all",
         "type": "violin",
         "x": [
          0.733333333,
          0.666666667,
          0.8,
          0.8,
          0.733333333,
          0.666666667,
          0.666666667,
          0.666666667
         ]
        },
        {
         "box": {
          "visible": true
         },
         "marker": {
          "outliercolor": "black"
         },
         "meanline": {
          "color": "black",
          "visible": true
         },
         "name": "2015",
         "points": "all",
         "type": "violin",
         "x": [
          0.538461538,
          0.6,
          0.666666667,
          0.6,
          0.5,
          0.666666667
         ]
        },
        {
         "box": {
          "visible": true
         },
         "marker": {
          "outliercolor": "black"
         },
         "meanline": {
          "color": "black",
          "visible": true
         },
         "name": "2016",
         "points": "all",
         "type": "violin",
         "x": [
          0.866666667,
          0.666666667,
          0.666666667,
          0.666666667,
          0.6,
          0.6,
          0.666666667,
          0.733333333,
          0.533333333,
          0.666666667,
          0.857142857
         ]
        },
        {
         "box": {
          "visible": true
         },
         "marker": {
          "outliercolor": "black"
         },
         "meanline": {
          "color": "black",
          "visible": true
         },
         "name": "2017",
         "points": "all",
         "type": "violin",
         "x": [
          0.733333333,
          0.733333333,
          0.666666667,
          0.666666667,
          0.666666667,
          0.666666667,
          0.666666667,
          0.666666667,
          0.8,
          0.733333333,
          0.666666667
         ]
        },
        {
         "box": {
          "visible": true
         },
         "marker": {
          "outliercolor": "black"
         },
         "meanline": {
          "color": "black",
          "visible": true
         },
         "name": "2018",
         "points": "all",
         "type": "violin",
         "x": [
          0.714285714,
          0.666666667,
          0.6,
          0.733333333,
          0.666666667,
          0.733333333,
          0.666666667,
          0.733333333,
          0.733333333
         ]
        },
        {
         "box": {
          "visible": true
         },
         "marker": {
          "outliercolor": "black"
         },
         "meanline": {
          "color": "black",
          "visible": true
         },
         "name": "2019",
         "points": "all",
         "type": "violin",
         "x": [
          0.666666667,
          0.666666667,
          0.666666667,
          0.642857143,
          0.428571429,
          0.466666667,
          0.8,
          0.384615385,
          0.733333333,
          0.733333333,
          0.733333333,
          0.733333333,
          0.666666667,
          0.666666667,
          0.6,
          0.733333333,
          0.666666667,
          0.666666667,
          0.666666667,
          0.8
         ]
        },
        {
         "box": {
          "visible": true
         },
         "marker": {
          "outliercolor": "black"
         },
         "meanline": {
          "color": "black",
          "visible": true
         },
         "name": "2020",
         "points": "all",
         "type": "violin",
         "x": [
          0.714285714,
          0.833333333,
          0.357142857,
          0.857142857,
          0.785714286,
          0.666666667,
          0.8,
          0.8,
          0.466666667,
          0.6,
          0.666666667,
          0.230769231,
          0.733333333,
          0.6,
          0.733333333,
          0.666666667,
          0.733333333,
          0.733333333,
          0.733333333,
          0.533333333,
          0.733333333,
          0.533333333,
          0.666666667,
          0.666666667,
          0.533333333,
          0.8,
          0.733333333,
          0.733333333,
          0.533333333,
          0.733333333,
          0.6,
          0.642857143,
          0.666666667,
          0.666666667,
          0.75,
          0.666666667,
          0.6,
          0.8
         ]
        },
        {
         "box": {
          "visible": true
         },
         "marker": {
          "outliercolor": "black"
         },
         "meanline": {
          "color": "black",
          "visible": true
         },
         "name": "2021",
         "points": "all",
         "type": "violin",
         "x": [
          0.866666667,
          0.571428571,
          0.466666667,
          0.8,
          0.4,
          0.666666667,
          0.666666667,
          0.571428571,
          0.666666667,
          0.533333333,
          0.666666667,
          0.666666667,
          0.666666667,
          0.6,
          0.8,
          0.666666667,
          0.6,
          0.666666667,
          0.714285714,
          0.733333333,
          0.666666667,
          0.666666667,
          0.533333333,
          0.8,
          0.6,
          0.8,
          0.666666667,
          0.733333333,
          0.571428571
         ]
        },
        {
         "box": {
          "visible": true
         },
         "marker": {
          "outliercolor": "black"
         },
         "meanline": {
          "color": "black",
          "visible": true
         },
         "name": "2022",
         "points": "all",
         "type": "violin",
         "x": [
          0.75,
          0.6,
          0.533333333,
          0.733333333,
          0.533333333
         ]
        }
       ],
       "layout": {
        "showlegend": false,
        "template": {
         "data": {
          "pie": [
           {
            "automargin": true,
            "type": "pie"
           }
          ]
         },
         "layout": {
          "xaxis": {
           "showgrid": true,
           "title": {
            "standoff": 15
           }
          },
          "yaxis": {
           "showgrid": true,
           "title": {
            "standoff": 15
           }
          }
         }
        },
        "xaxis": {
         "range": [
          0,
          1
         ],
         "title": {
          "text": "$S_R$"
         }
        },
        "yaxis": {
         "dtick": 1,
         "title": {
          "text": "Publication Year"
         }
        }
       }
      }
     },
     "metadata": {},
     "output_type": "display_data"
    }
   ],
   "source": [
    "df_quality_2011 = df_quality[df_quality['Publication Year'] == 2011]\n",
    "df_quality_2012 = df_quality[df_quality['Publication Year'] == 2012]\n",
    "df_quality_2013 = df_quality[df_quality['Publication Year'] == 2013]\n",
    "df_quality_2014 = df_quality[df_quality['Publication Year'] == 2014]\n",
    "df_quality_2015 = df_quality[df_quality['Publication Year'] == 2015]\n",
    "df_quality_2016 = df_quality[df_quality['Publication Year'] == 2016]\n",
    "df_quality_2017 = df_quality[df_quality['Publication Year'] == 2017]\n",
    "df_quality_2018 = df_quality[df_quality['Publication Year'] == 2018]\n",
    "df_quality_2019 = df_quality[df_quality['Publication Year'] == 2019]\n",
    "df_quality_2020 = df_quality[df_quality['Publication Year'] == 2020]\n",
    "df_quality_2021 = df_quality[df_quality['Publication Year'] == 2021]\n",
    "df_quality_2022 = df_quality[df_quality['Publication Year'] == 2022]\n",
    "\n",
    "fig = go.Figure()\n",
    "fig.add_trace(go.Violin(x=df_quality_2011['SRTOTAL'], box_visible=True, meanline_visible=True, marker_outliercolor='black', meanline_color='black', points='all', name='2011'))\n",
    "fig.add_trace(go.Violin(x=df_quality_2012['SRTOTAL'], box_visible=True, meanline_visible=True, marker_outliercolor='black', meanline_color='black', points='all', name='2012'))\n",
    "fig.add_trace(go.Violin(x=df_quality_2013['SRTOTAL'], box_visible=True, meanline_visible=True, marker_outliercolor='black', meanline_color='black', points='all', name='2013'))\n",
    "fig.add_trace(go.Violin(x=df_quality_2014['SRTOTAL'], box_visible=True, meanline_visible=True, marker_outliercolor='black', meanline_color='black', points='all', name='2014'))\n",
    "fig.add_trace(go.Violin(x=df_quality_2015['SRTOTAL'], box_visible=True, meanline_visible=True, marker_outliercolor='black', meanline_color='black', points='all', name='2015'))\n",
    "fig.add_trace(go.Violin(x=df_quality_2016['SRTOTAL'], box_visible=True, meanline_visible=True, marker_outliercolor='black', meanline_color='black', points='all', name='2016'))\n",
    "fig.add_trace(go.Violin(x=df_quality_2017['SRTOTAL'], box_visible=True, meanline_visible=True, marker_outliercolor='black', meanline_color='black', points='all', name='2017'))\n",
    "fig.add_trace(go.Violin(x=df_quality_2018['SRTOTAL'], box_visible=True, meanline_visible=True, marker_outliercolor='black', meanline_color='black', points='all', name='2018'))\n",
    "fig.add_trace(go.Violin(x=df_quality_2019['SRTOTAL'], box_visible=True, meanline_visible=True, marker_outliercolor='black', meanline_color='black', points='all', name='2019'))\n",
    "fig.add_trace(go.Violin(x=df_quality_2020['SRTOTAL'], box_visible=True, meanline_visible=True, marker_outliercolor='black', meanline_color='black', points='all', name='2020'))\n",
    "fig.add_trace(go.Violin(x=df_quality_2021['SRTOTAL'], box_visible=True, meanline_visible=True, marker_outliercolor='black', meanline_color='black', points='all', name='2021'))\n",
    "fig.add_trace(go.Violin(x=df_quality_2022['SRTOTAL'], box_visible=True, meanline_visible=True, marker_outliercolor='black', meanline_color='black', points='all', name='2022'))\n",
    "fig.update_xaxes(range=[0,1], title=\"$S_R$\")\n",
    "fig.update_yaxes(title='Publication Year',dtick=1)\n",
    "fig.update_layout(showlegend=False)\n",
    "fig.write_image('analysis/pair_sr00_d060.pdf', width=WIDTH, height=HEIGHT)\n",
    "fig.show()"
   ]
  },
  {
   "attachments": {},
   "cell_type": "markdown",
   "metadata": {},
   "source": [
    "### SR00 and D070"
   ]
  },
  {
   "cell_type": "code",
   "execution_count": 77,
   "metadata": {},
   "outputs": [
    {
     "data": {
      "application/vnd.plotly.v1+json": {
       "config": {
        "plotlyServerURL": "https://plot.ly"
       },
       "data": [
        {
         "box": {
          "visible": true
         },
         "marker": {
          "outliercolor": "black"
         },
         "meanline": {
          "color": "black",
          "visible": true
         },
         "name": "Journal",
         "points": "all",
         "type": "violin",
         "x": [
          0.833333333,
          0.666666667,
          0.866666667,
          0.733333333,
          0.857142857,
          0.785714286,
          0.75,
          0.466666667,
          0.666666667,
          0.8,
          0.733333333,
          0.733333333,
          0.666666667,
          0.6,
          0.8,
          0.6,
          0.666666667,
          0.733333333,
          0.666666667,
          0.6,
          0.666666667,
          0.8,
          0.8,
          0.733333333,
          0.8,
          0.8,
          0.6,
          0.733333333,
          0.666666667,
          0.666666667,
          0.666666667,
          0.666666667,
          0.666666667,
          0.666666667,
          0.6,
          0.733333333,
          0.571428571,
          0.666666667,
          0.733333333,
          0.6,
          0.733333333,
          0.666666667,
          0.666666667,
          0.733333333,
          0.666666667,
          0.666666667,
          0.733333333,
          0.733333333,
          0.733333333,
          0.733333333,
          0.666666667,
          0.666666667,
          0.666666667,
          0.666666667,
          0.6,
          0.666666667,
          0.733333333,
          0.6,
          0.733333333,
          0.733333333,
          0.533333333,
          0.666666667,
          0.666666667,
          0.6,
          0.6,
          0.6,
          0.733333333,
          0.533333333,
          0.6,
          0.8,
          0.666666667,
          0.666666667,
          0.666666667,
          0.733333333,
          0.666666667,
          0.666666667,
          0.666666667,
          0.666666667,
          0.666666667,
          0.666666667,
          0.8,
          0.8,
          0.733333333,
          0.533333333,
          0.666666667,
          0.733333333,
          0.733333333,
          0.533333333,
          0.733333333,
          0.6,
          0.533333333,
          0.733333333,
          0.533333333,
          0.666666667,
          0.714285714,
          0.733333333,
          0.666666667,
          0.642857143,
          0.666666667,
          0.8,
          0.75,
          0.6,
          0.666666667,
          0.666666667,
          0.666666667,
          0.8,
          0.666666667,
          0.8,
          0.857142857,
          0.733333333,
          0.666666667
         ]
        },
        {
         "box": {
          "visible": true
         },
         "marker": {
          "outliercolor": "black"
         },
         "meanline": {
          "color": "black",
          "visible": true
         },
         "name": "Conference",
         "points": "all",
         "type": "violin",
         "x": [
          0.714285714,
          0.866666667,
          0.357142857,
          0.571428571,
          0.666666667,
          0.6,
          0.538461538,
          0.666666667,
          0.714285714,
          0.466666667,
          0.428571429,
          0.466666667,
          0.533333333,
          0.8,
          0.4,
          0.384615385,
          0.230769231,
          0.533333333,
          0.666666667,
          0.666666667,
          0.666666667,
          0.666666667,
          0.733333333,
          0.5,
          0.533333333,
          0.6,
          0.666666667,
          0.533333333,
          0.6,
          0.8,
          0.666666667,
          0.733333333,
          0.666666667,
          0.733333333,
          0.6,
          0.571428571
         ]
        },
        {
         "box": {
          "visible": true
         },
         "marker": {
          "outliercolor": "black"
         },
         "meanline": {
          "color": "black",
          "visible": true
         },
         "name": "Workshop",
         "points": "all",
         "type": "violin",
         "x": [
          0.714285714,
          0.642857143
         ]
        }
       ],
       "layout": {
        "margin": {
         "l": 100
        },
        "showlegend": false,
        "template": {
         "data": {
          "pie": [
           {
            "automargin": true,
            "type": "pie"
           }
          ]
         },
         "layout": {
          "xaxis": {
           "showgrid": true,
           "title": {
            "standoff": 15
           }
          },
          "yaxis": {
           "showgrid": true,
           "title": {
            "standoff": 15
           }
          }
         }
        },
        "xaxis": {
         "range": [
          0,
          1
         ],
         "title": {
          "text": "$S_R$"
         }
        },
        "yaxis": {
         "dtick": 1,
         "title": {
          "text": "Publication Source"
         }
        }
       }
      }
     },
     "metadata": {},
     "output_type": "display_data"
    }
   ],
   "source": [
    "df_quality_journal = df_quality[df_quality['Publication Source'] == 'Journal']\n",
    "df_quality_conference = df_quality[df_quality['Publication Source'] == 'Conference']\n",
    "df_quality_workshop = df_quality[df_quality['Publication Source'] == 'Workshop']\n",
    "\n",
    "fig = go.Figure()\n",
    "fig.add_trace(go.Violin(x=df_quality_journal['SRTOTAL'], box_visible=True, meanline_visible=True, marker_outliercolor='black', meanline_color='black', points='all', name='Journal'))\n",
    "fig.add_trace(go.Violin(x=df_quality_conference['SRTOTAL'], box_visible=True, meanline_visible=True, marker_outliercolor='black', meanline_color='black', points='all', name='Conference'))\n",
    "fig.add_trace(go.Violin(x=df_quality_workshop['SRTOTAL'], box_visible=True, meanline_visible=True, marker_outliercolor='black', meanline_color='black', points='all', name='Workshop'))\n",
    "fig.update_xaxes(range=[0,1], title=\"$S_R$\")\n",
    "fig.update_yaxes(title='Publication Source',dtick=1)\n",
    "fig.update_layout(showlegend=False, margin={\"l\": 100})\n",
    "fig.write_image('analysis/pair_sr00_d070.pdf', width=WIDTH, height=HALF_HEIGHT)\n",
    "fig.show()"
   ]
  },
  {
   "cell_type": "code",
   "execution_count": 78,
   "metadata": {},
   "outputs": [
    {
     "data": {
      "text/plain": [
       "7.259287736753392e-05"
      ]
     },
     "execution_count": 78,
     "metadata": {},
     "output_type": "execute_result"
    }
   ],
   "source": [
    "x = df_quality_journal['SRTOTAL']\n",
    "y = df_quality_conference['SRTOTAL']\n",
    "\n",
    "_, p = mannwhitneyu(x, y, alternative='greater')\n",
    "\n",
    "p"
   ]
  },
  {
   "attachments": {},
   "cell_type": "markdown",
   "metadata": {},
   "source": [
    "### D010 and D050"
   ]
  },
  {
   "cell_type": "code",
   "execution_count": 101,
   "metadata": {},
   "outputs": [],
   "source": [
    "def get_feature_d010_counts(dataframe: pd.DataFrame, feature_name: str, feature_id: str, index_name: str) -> pd.DataFrame:\n",
    "    counts = dataframe.value_counts(subset=[feature_name], dropna=False)\n",
    "    row_yes = pd.DataFrame({index_name: feature_id, 'Type of Approach': 'Hybrid', 'Count': counts.get('Hybrid', 0)}, pd.Index([feature_id], name=index_name))\n",
    "    row_no = pd.DataFrame({index_name: feature_id, 'Type of Approach': 'Classical', 'Count': counts.get('Classical', 0)}, pd.Index([feature_id], name=index_name))\n",
    "    return pd.concat([row_yes, row_no])\n"
   ]
  },
  {
   "cell_type": "code",
   "execution_count": 102,
   "metadata": {},
   "outputs": [
    {
     "data": {
      "application/vnd.plotly.v1+json": {
       "config": {
        "plotlyServerURL": "https://plot.ly"
       },
       "data": [
        {
         "alignmentgroup": "True",
         "hovertemplate": "Type of Approach=Hybrid<br>ISIC Section=%{x}<br>Count=%{text}<extra></extra>",
         "legendgroup": "Hybrid",
         "marker": {
          "color": "#1F77B4",
          "pattern": {
           "shape": ""
          }
         },
         "name": "Hybrid",
         "offsetgroup": "Hybrid",
         "orientation": "v",
         "showlegend": true,
         "text": [
          3,
          0,
          1,
          15,
          4,
          2,
          2
         ],
         "textposition": "auto",
         "type": "bar",
         "x": [
          "C",
          "D",
          "E",
          "H",
          "J",
          "M",
          "O"
         ],
         "xaxis": "x",
         "y": [
          3,
          0,
          1,
          15,
          4,
          2,
          2
         ],
         "yaxis": "y"
        },
        {
         "alignmentgroup": "True",
         "hovertemplate": "Type of Approach=Classical<br>ISIC Section=%{x}<br>Count=%{text}<extra></extra>",
         "legendgroup": "Classical",
         "marker": {
          "color": "#FF7F0E",
          "pattern": {
           "shape": ""
          }
         },
         "name": "Classical",
         "offsetgroup": "Classical",
         "orientation": "v",
         "showlegend": true,
         "text": [
          19,
          37,
          5,
          20,
          9,
          19,
          3
         ],
         "textposition": "auto",
         "type": "bar",
         "x": [
          "C",
          "D",
          "E",
          "H",
          "J",
          "M",
          "O"
         ],
         "xaxis": "x",
         "y": [
          19,
          37,
          5,
          20,
          9,
          19,
          3
         ],
         "yaxis": "y"
        }
       ],
       "layout": {
        "barmode": "relative",
        "legend": {
         "title": {
          "text": "Type of Approach"
         },
         "tracegroupgap": 0
        },
        "margin": {
         "t": 60
        },
        "template": {
         "data": {
          "pie": [
           {
            "automargin": true,
            "type": "pie"
           }
          ]
         },
         "layout": {
          "xaxis": {
           "showgrid": true,
           "title": {
            "standoff": 15
           }
          },
          "yaxis": {
           "showgrid": true,
           "title": {
            "standoff": 15
           }
          }
         }
        },
        "xaxis": {
         "anchor": "y",
         "domain": [
          0,
          1
         ],
         "title": {
          "text": "ISIC Section"
         }
        },
        "yaxis": {
         "anchor": "x",
         "domain": [
          0,
          1
         ],
         "title": {
          "text": "Count"
         }
        }
       }
      }
     },
     "metadata": {},
     "output_type": "display_data"
    }
   ],
   "source": [
    "df_quality_C = df_quality[df_quality['ISIC Section'] == 'C']\n",
    "df_quality_D = df_quality[df_quality['ISIC Section'] == 'D']\n",
    "df_quality_E = df_quality[df_quality['ISIC Section'] == 'E']\n",
    "df_quality_H = df_quality[df_quality['ISIC Section'] == 'H']\n",
    "df_quality_J = df_quality[df_quality['ISIC Section'] == 'J']\n",
    "df_quality_M = df_quality[df_quality['ISIC Section'] == 'M']\n",
    "df_quality_O = df_quality[df_quality['ISIC Section'] == 'O']\n",
    "\n",
    "df_pair_d010_d050_counts = pd.DataFrame([], columns=['ISIC Section', 'Type of Approach', 'Count'])\n",
    "df_pair_d010_d050_counts.set_index(['ISIC Section'], inplace=True)\n",
    "\n",
    "df_pair_d010_d050_counts = pd.concat([df_pair_d010_d050_counts,\n",
    "    get_feature_d010_counts(df_quality_C, 'Type of Approach', 'C', 'ISIC Section'),\n",
    "    get_feature_d010_counts(df_quality_D, 'Type of Approach', 'D', 'ISIC Section'),\n",
    "    get_feature_d010_counts(df_quality_E, 'Type of Approach', 'E', 'ISIC Section'),\n",
    "    get_feature_d010_counts(df_quality_H, 'Type of Approach', 'H', 'ISIC Section'),\n",
    "    get_feature_d010_counts(df_quality_J, 'Type of Approach', 'J', 'ISIC Section'),\n",
    "    get_feature_d010_counts(df_quality_M, 'Type of Approach', 'M', 'ISIC Section'),\n",
    "    get_feature_d010_counts(df_quality_O, 'Type of Approach', 'O', 'ISIC Section')])\n",
    "\n",
    "fig = px.bar(df_pair_d010_d050_counts, x='ISIC Section', y='Count', color='Type of Approach', text='Count')\n",
    "fig.write_image('analysis/pair_d010_d050.pdf', width=WIDTH, height=HALF_HEIGHT)\n",
    "fig.show()"
   ]
  },
  {
   "attachments": {},
   "cell_type": "markdown",
   "metadata": {},
   "source": [
    "### D010 and D060"
   ]
  },
  {
   "cell_type": "code",
   "execution_count": 103,
   "metadata": {},
   "outputs": [
    {
     "data": {
      "application/vnd.plotly.v1+json": {
       "config": {
        "plotlyServerURL": "https://plot.ly"
       },
       "data": [
        {
         "alignmentgroup": "True",
         "hovertemplate": "Type of Approach=Hybrid<br>Publication Year=%{x}<br>Count=%{text}<extra></extra>",
         "legendgroup": "Hybrid",
         "marker": {
          "color": "#1F77B4",
          "pattern": {
           "shape": ""
          }
         },
         "name": "Hybrid",
         "offsetgroup": "Hybrid",
         "orientation": "v",
         "showlegend": true,
         "text": [
          0,
          0,
          0,
          0,
          0,
          0,
          1,
          0,
          7,
          12,
          8,
          1
         ],
         "textposition": "auto",
         "type": "bar",
         "x": [
          "2011",
          "2012",
          "2013",
          "2014",
          "2015",
          "2016",
          "2017",
          "2018",
          "2019",
          "2020",
          "2021",
          "2022"
         ],
         "xaxis": "x",
         "y": [
          0,
          0,
          0,
          0,
          0,
          0,
          1,
          0,
          7,
          12,
          8,
          1
         ],
         "yaxis": "y"
        },
        {
         "alignmentgroup": "True",
         "hovertemplate": "Type of Approach=Classical<br>Publication Year=%{x}<br>Count=%{text}<extra></extra>",
         "legendgroup": "Classical",
         "marker": {
          "color": "#FF7F0E",
          "pattern": {
           "shape": ""
          }
         },
         "name": "Classical",
         "offsetgroup": "Classical",
         "orientation": "v",
         "showlegend": true,
         "text": [
          3,
          6,
          3,
          8,
          6,
          11,
          10,
          9,
          13,
          26,
          21,
          4
         ],
         "textposition": "auto",
         "type": "bar",
         "x": [
          "2011",
          "2012",
          "2013",
          "2014",
          "2015",
          "2016",
          "2017",
          "2018",
          "2019",
          "2020",
          "2021",
          "2022"
         ],
         "xaxis": "x",
         "y": [
          3,
          6,
          3,
          8,
          6,
          11,
          10,
          9,
          13,
          26,
          21,
          4
         ],
         "yaxis": "y"
        }
       ],
       "layout": {
        "barmode": "relative",
        "legend": {
         "title": {
          "text": "Type of Approach"
         },
         "tracegroupgap": 0
        },
        "margin": {
         "t": 60
        },
        "template": {
         "data": {
          "pie": [
           {
            "automargin": true,
            "type": "pie"
           }
          ]
         },
         "layout": {
          "xaxis": {
           "showgrid": true,
           "title": {
            "standoff": 15
           }
          },
          "yaxis": {
           "showgrid": true,
           "title": {
            "standoff": 15
           }
          }
         }
        },
        "xaxis": {
         "anchor": "y",
         "domain": [
          0,
          1
         ],
         "dtick": 1,
         "title": {
          "text": "Publication Year"
         }
        },
        "yaxis": {
         "anchor": "x",
         "domain": [
          0,
          1
         ],
         "title": {
          "text": "Count"
         }
        }
       }
      }
     },
     "metadata": {},
     "output_type": "display_data"
    }
   ],
   "source": [
    "df_quality_2011 = df_quality[df_quality['Publication Year'] == 2011]\n",
    "df_quality_2012 = df_quality[df_quality['Publication Year'] == 2012]\n",
    "df_quality_2013 = df_quality[df_quality['Publication Year'] == 2013]\n",
    "df_quality_2014 = df_quality[df_quality['Publication Year'] == 2014]\n",
    "df_quality_2015 = df_quality[df_quality['Publication Year'] == 2015]\n",
    "df_quality_2016 = df_quality[df_quality['Publication Year'] == 2016]\n",
    "df_quality_2017 = df_quality[df_quality['Publication Year'] == 2017]\n",
    "df_quality_2018 = df_quality[df_quality['Publication Year'] == 2018]\n",
    "df_quality_2019 = df_quality[df_quality['Publication Year'] == 2019]\n",
    "df_quality_2020 = df_quality[df_quality['Publication Year'] == 2020]\n",
    "df_quality_2021 = df_quality[df_quality['Publication Year'] == 2021]\n",
    "df_quality_2022 = df_quality[df_quality['Publication Year'] == 2022]\n",
    "\n",
    "df_pair_d010_d060_counts = pd.DataFrame([], columns=['Publication Year', 'Type of Approach', 'Count'])\n",
    "df_pair_d010_d060_counts.set_index(['Publication Year'], inplace=True)\n",
    "\n",
    "df_pair_d010_d060_counts = pd.concat([df_pair_d010_d060_counts,\n",
    "    get_feature_d010_counts(df_quality_2011, 'Type of Approach', '2011', 'Publication Year'),\n",
    "    get_feature_d010_counts(df_quality_2012, 'Type of Approach', '2012', 'Publication Year'),\n",
    "    get_feature_d010_counts(df_quality_2013, 'Type of Approach', '2013', 'Publication Year'),\n",
    "    get_feature_d010_counts(df_quality_2014, 'Type of Approach', '2014', 'Publication Year'),\n",
    "    get_feature_d010_counts(df_quality_2015, 'Type of Approach', '2015', 'Publication Year'),\n",
    "    get_feature_d010_counts(df_quality_2016, 'Type of Approach', '2016', 'Publication Year'),\n",
    "    get_feature_d010_counts(df_quality_2017, 'Type of Approach', '2017', 'Publication Year'),\n",
    "    get_feature_d010_counts(df_quality_2018, 'Type of Approach', '2018', 'Publication Year'),\n",
    "    get_feature_d010_counts(df_quality_2019, 'Type of Approach', '2019', 'Publication Year'),\n",
    "    get_feature_d010_counts(df_quality_2020, 'Type of Approach', '2020', 'Publication Year'),\n",
    "    get_feature_d010_counts(df_quality_2021, 'Type of Approach', '2021', 'Publication Year'),\n",
    "    get_feature_d010_counts(df_quality_2022, 'Type of Approach', '2022', 'Publication Year')])\n",
    "\n",
    "fig = px.bar(df_pair_d010_d060_counts, x='Publication Year', y='Count', color='Type of Approach', text='Count')\n",
    "fig.update_xaxes(dtick=1)\n",
    "fig.write_image('analysis/pair_d010_d060.pdf', width=WIDTH, height=HALF_HEIGHT)\n",
    "fig.show()"
   ]
  },
  {
   "cell_type": "code",
   "execution_count": 104,
   "metadata": {},
   "outputs": [
    {
     "data": {
      "application/vnd.plotly.v1+json": {
       "config": {
        "plotlyServerURL": "https://plot.ly"
       },
       "data": [
        {
         "alignmentgroup": "True",
         "hovertemplate": "Type of Approach=Hybrid<br>Publication Source=%{x}<br>Count=%{text}<extra></extra>",
         "legendgroup": "Hybrid",
         "marker": {
          "color": "#1F77B4",
          "pattern": {
           "shape": ""
          }
         },
         "name": "Hybrid",
         "offsetgroup": "Hybrid",
         "orientation": "v",
         "showlegend": true,
         "text": [
          15,
          12,
          2
         ],
         "textposition": "auto",
         "type": "bar",
         "x": [
          "Journal",
          "Conference",
          "Workshop"
         ],
         "xaxis": "x",
         "y": [
          15,
          12,
          2
         ],
         "yaxis": "y"
        },
        {
         "alignmentgroup": "True",
         "hovertemplate": "Type of Approach=Classical<br>Publication Source=%{x}<br>Count=%{text}<extra></extra>",
         "legendgroup": "Classical",
         "marker": {
          "color": "#FF7F0E",
          "pattern": {
           "shape": ""
          }
         },
         "name": "Classical",
         "offsetgroup": "Classical",
         "orientation": "v",
         "showlegend": true,
         "text": [
          96,
          24,
          0
         ],
         "textposition": "auto",
         "type": "bar",
         "x": [
          "Journal",
          "Conference",
          "Workshop"
         ],
         "xaxis": "x",
         "y": [
          96,
          24,
          0
         ],
         "yaxis": "y"
        }
       ],
       "layout": {
        "barmode": "relative",
        "legend": {
         "title": {
          "text": "Type of Approach"
         },
         "tracegroupgap": 0
        },
        "margin": {
         "t": 60
        },
        "template": {
         "data": {
          "pie": [
           {
            "automargin": true,
            "type": "pie"
           }
          ]
         },
         "layout": {
          "xaxis": {
           "showgrid": true,
           "title": {
            "standoff": 15
           }
          },
          "yaxis": {
           "showgrid": true,
           "title": {
            "standoff": 15
           }
          }
         }
        },
        "xaxis": {
         "anchor": "y",
         "domain": [
          0,
          1
         ],
         "dtick": 1,
         "title": {
          "text": "Publication Source"
         }
        },
        "yaxis": {
         "anchor": "x",
         "domain": [
          0,
          1
         ],
         "title": {
          "text": "Count"
         }
        }
       }
      }
     },
     "metadata": {},
     "output_type": "display_data"
    }
   ],
   "source": [
    "df_quality_journal = df_quality[df_quality['Publication Source'] == 'Journal']\n",
    "df_quality_conference = df_quality[df_quality['Publication Source'] == 'Conference']\n",
    "df_quality_workshop = df_quality[df_quality['Publication Source'] == 'Workshop']\n",
    "\n",
    "df_pair_d010_d070_counts = pd.DataFrame([], columns=['Publication Source', 'Type of Approach', 'Count'])\n",
    "df_pair_d010_d070_counts.set_index(['Publication Source'], inplace=True)\n",
    "\n",
    "df_pair_d010_d070_counts = pd.concat([df_pair_d010_d070_counts,\n",
    "    get_feature_d010_counts(df_quality_journal, 'Type of Approach', 'Journal', 'Publication Source'),\n",
    "    get_feature_d010_counts(df_quality_conference, 'Type of Approach', 'Conference', 'Publication Source'),\n",
    "    get_feature_d010_counts(df_quality_workshop, 'Type of Approach', 'Workshop', 'Publication Source')])\n",
    "\n",
    "fig = px.bar(df_pair_d010_d070_counts, x='Publication Source', y='Count', color='Type of Approach', text='Count')\n",
    "fig.update_xaxes(dtick=1)\n",
    "fig.write_image('analysis/pair_d010_d070.pdf', width=WIDTH, height=HALF_HEIGHT)\n",
    "fig.show()"
   ]
  },
  {
   "attachments": {},
   "cell_type": "markdown",
   "metadata": {},
   "source": [
    "### D020 and D050"
   ]
  },
  {
   "cell_type": "code",
   "execution_count": 105,
   "metadata": {},
   "outputs": [],
   "source": [
    "def get_feature_d020_counts(dataframe: pd.DataFrame, feature_name: str, feature_id: str, index_name: str) -> pd.DataFrame:\n",
    "    counts = dataframe.value_counts(subset=[feature_name], dropna=False)\n",
    "    row_qpso = pd.DataFrame({index_name: feature_id, 'Algorithm Name': 'QPSO', 'Count': counts.get('Quantum Particle Swarm Optimization', 0)}, pd.Index([feature_id], name=index_name))\n",
    "    row_qubo = pd.DataFrame({index_name: feature_id, 'Algorithm Name': 'QUBO', 'Count': counts.get('Quadratic Unconstrained Binary Optimization', 0)}, pd.Index([feature_id], name=index_name))\n",
    "    row_qga = pd.DataFrame({index_name: feature_id, 'Algorithm Name': 'QGA', 'Count': counts.get('Quantum Genetic Algorithm', 0)}, pd.Index([feature_id], name=index_name))\n",
    "    row_qea = pd.DataFrame({index_name: feature_id, 'Algorithm Name': 'QEA', 'Count': counts.get('Quantum-inspired Evolutionary Algorithm', 0)}, pd.Index([feature_id], name=index_name))\n",
    "    return pd.concat([row_qpso, row_qubo, row_qga, row_qea])\n"
   ]
  },
  {
   "cell_type": "code",
   "execution_count": 106,
   "metadata": {},
   "outputs": [
    {
     "data": {
      "application/vnd.plotly.v1+json": {
       "config": {
        "plotlyServerURL": "https://plot.ly"
       },
       "data": [
        {
         "alignmentgroup": "True",
         "hovertemplate": "Algorithm Name=QPSO<br>ISIC Section=%{x}<br>Count=%{text}<extra></extra>",
         "legendgroup": "QPSO",
         "marker": {
          "color": "#1F77B4",
          "pattern": {
           "shape": ""
          }
         },
         "name": "QPSO",
         "offsetgroup": "QPSO",
         "orientation": "v",
         "showlegend": true,
         "text": [
          10,
          22,
          2,
          11,
          3,
          11,
          2
         ],
         "textposition": "auto",
         "type": "bar",
         "x": [
          "C",
          "D",
          "E",
          "H",
          "J",
          "M",
          "O"
         ],
         "xaxis": "x",
         "y": [
          10,
          22,
          2,
          11,
          3,
          11,
          2
         ],
         "yaxis": "y"
        },
        {
         "alignmentgroup": "True",
         "hovertemplate": "Algorithm Name=QUBO<br>ISIC Section=%{x}<br>Count=%{text}<extra></extra>",
         "legendgroup": "QUBO",
         "marker": {
          "color": "#FF7F0E",
          "pattern": {
           "shape": ""
          }
         },
         "name": "QUBO",
         "offsetgroup": "QUBO",
         "orientation": "v",
         "showlegend": true,
         "text": [
          0,
          0,
          1,
          15,
          4,
          1,
          2
         ],
         "textposition": "auto",
         "type": "bar",
         "x": [
          "C",
          "D",
          "E",
          "H",
          "J",
          "M",
          "O"
         ],
         "xaxis": "x",
         "y": [
          0,
          0,
          1,
          15,
          4,
          1,
          2
         ],
         "yaxis": "y"
        },
        {
         "alignmentgroup": "True",
         "hovertemplate": "Algorithm Name=QGA<br>ISIC Section=%{x}<br>Count=%{text}<extra></extra>",
         "legendgroup": "QGA",
         "marker": {
          "color": "#2CA02C",
          "pattern": {
           "shape": ""
          }
         },
         "name": "QGA",
         "offsetgroup": "QGA",
         "orientation": "v",
         "showlegend": true,
         "text": [
          4,
          6,
          0,
          2,
          1,
          2,
          0
         ],
         "textposition": "auto",
         "type": "bar",
         "x": [
          "C",
          "D",
          "E",
          "H",
          "J",
          "M",
          "O"
         ],
         "xaxis": "x",
         "y": [
          4,
          6,
          0,
          2,
          1,
          2,
          0
         ],
         "yaxis": "y"
        },
        {
         "alignmentgroup": "True",
         "hovertemplate": "Algorithm Name=QEA<br>ISIC Section=%{x}<br>Count=%{text}<extra></extra>",
         "legendgroup": "QEA",
         "marker": {
          "color": "#D62728",
          "pattern": {
           "shape": ""
          }
         },
         "name": "QEA",
         "offsetgroup": "QEA",
         "orientation": "v",
         "showlegend": true,
         "text": [
          1,
          0,
          0,
          3,
          3,
          3,
          0
         ],
         "textposition": "auto",
         "type": "bar",
         "x": [
          "C",
          "D",
          "E",
          "H",
          "J",
          "M",
          "O"
         ],
         "xaxis": "x",
         "y": [
          1,
          0,
          0,
          3,
          3,
          3,
          0
         ],
         "yaxis": "y"
        }
       ],
       "layout": {
        "barmode": "group",
        "legend": {
         "title": {
          "text": "Algorithm Name"
         },
         "tracegroupgap": 0
        },
        "margin": {
         "t": 60
        },
        "template": {
         "data": {
          "pie": [
           {
            "automargin": true,
            "type": "pie"
           }
          ]
         },
         "layout": {
          "xaxis": {
           "showgrid": true,
           "title": {
            "standoff": 15
           }
          },
          "yaxis": {
           "showgrid": true,
           "title": {
            "standoff": 15
           }
          }
         }
        },
        "xaxis": {
         "anchor": "y",
         "domain": [
          0,
          1
         ],
         "title": {
          "text": "ISIC Section"
         }
        },
        "yaxis": {
         "anchor": "x",
         "domain": [
          0,
          1
         ],
         "title": {
          "text": "Count"
         }
        }
       }
      }
     },
     "metadata": {},
     "output_type": "display_data"
    }
   ],
   "source": [
    "df_quality_C = df_quality[df_quality['ISIC Section'] == 'C']\n",
    "df_quality_D = df_quality[df_quality['ISIC Section'] == 'D']\n",
    "df_quality_E = df_quality[df_quality['ISIC Section'] == 'E']\n",
    "df_quality_H = df_quality[df_quality['ISIC Section'] == 'H']\n",
    "df_quality_J = df_quality[df_quality['ISIC Section'] == 'J']\n",
    "df_quality_M = df_quality[df_quality['ISIC Section'] == 'M']\n",
    "df_quality_O = df_quality[df_quality['ISIC Section'] == 'O']\n",
    "\n",
    "df_pair_d020_d050_counts = pd.DataFrame([], columns=['ISIC Section', 'Algorithm Name', 'Count'])\n",
    "df_pair_d020_d050_counts.set_index(['ISIC Section'], inplace=True)\n",
    "\n",
    "df_pair_d020_d050_counts = pd.concat([df_pair_d020_d050_counts,\n",
    "    get_feature_d020_counts(df_quality_C, 'Algorithm Name', 'C', 'ISIC Section'),\n",
    "    get_feature_d020_counts(df_quality_D, 'Algorithm Name', 'D', 'ISIC Section'),\n",
    "    get_feature_d020_counts(df_quality_E, 'Algorithm Name', 'E', 'ISIC Section'),\n",
    "    get_feature_d020_counts(df_quality_H, 'Algorithm Name', 'H', 'ISIC Section'),\n",
    "    get_feature_d020_counts(df_quality_J, 'Algorithm Name', 'J', 'ISIC Section'),\n",
    "    get_feature_d020_counts(df_quality_M, 'Algorithm Name', 'M', 'ISIC Section'),\n",
    "    get_feature_d020_counts(df_quality_O, 'Algorithm Name', 'O', 'ISIC Section')])\n",
    "\n",
    "fig = px.bar(df_pair_d020_d050_counts, x='ISIC Section', y='Count', color='Algorithm Name', text='Count', barmode=\"group\")\n",
    "fig.write_image('analysis/pair_d020_d050.pdf', width=WIDTH, height=HALF_HEIGHT)\n",
    "fig.show()"
   ]
  },
  {
   "attachments": {},
   "cell_type": "markdown",
   "metadata": {},
   "source": [
    "### D020 and D060"
   ]
  },
  {
   "cell_type": "code",
   "execution_count": 107,
   "metadata": {},
   "outputs": [
    {
     "data": {
      "application/vnd.plotly.v1+json": {
       "config": {
        "plotlyServerURL": "https://plot.ly"
       },
       "data": [
        {
         "alignmentgroup": "True",
         "hovertemplate": "Algorithm Name=QPSO<br>Publication Year=%{x}<br>Count=%{text}<extra></extra>",
         "legendgroup": "QPSO",
         "marker": {
          "color": "#1F77B4",
          "pattern": {
           "shape": ""
          }
         },
         "name": "QPSO",
         "offsetgroup": "QPSO",
         "orientation": "v",
         "showlegend": true,
         "text": [
          1,
          2,
          2,
          5,
          2,
          7,
          5,
          3,
          5,
          18,
          12,
          2
         ],
         "textposition": "auto",
         "type": "bar",
         "x": [
          "2011",
          "2012",
          "2013",
          "2014",
          "2015",
          "2016",
          "2017",
          "2018",
          "2019",
          "2020",
          "2021",
          "2022"
         ],
         "xaxis": "x",
         "y": [
          1,
          2,
          2,
          5,
          2,
          7,
          5,
          3,
          5,
          18,
          12,
          2
         ],
         "yaxis": "y"
        },
        {
         "alignmentgroup": "True",
         "hovertemplate": "Algorithm Name=QUBO<br>Publication Year=%{x}<br>Count=%{text}<extra></extra>",
         "legendgroup": "QUBO",
         "marker": {
          "color": "#FF7F0E",
          "pattern": {
           "shape": ""
          }
         },
         "name": "QUBO",
         "offsetgroup": "QUBO",
         "orientation": "v",
         "showlegend": true,
         "text": [
          0,
          0,
          0,
          0,
          0,
          0,
          1,
          0,
          7,
          7,
          10,
          0
         ],
         "textposition": "auto",
         "type": "bar",
         "x": [
          "2011",
          "2012",
          "2013",
          "2014",
          "2015",
          "2016",
          "2017",
          "2018",
          "2019",
          "2020",
          "2021",
          "2022"
         ],
         "xaxis": "x",
         "y": [
          0,
          0,
          0,
          0,
          0,
          0,
          1,
          0,
          7,
          7,
          10,
          0
         ],
         "yaxis": "y"
        },
        {
         "alignmentgroup": "True",
         "hovertemplate": "Algorithm Name=QGA<br>Publication Year=%{x}<br>Count=%{text}<extra></extra>",
         "legendgroup": "QGA",
         "marker": {
          "color": "#2CA02C",
          "pattern": {
           "shape": ""
          }
         },
         "name": "QGA",
         "offsetgroup": "QGA",
         "orientation": "v",
         "showlegend": true,
         "text": [
          1,
          2,
          0,
          0,
          2,
          3,
          2,
          2,
          2,
          2,
          1,
          0
         ],
         "textposition": "auto",
         "type": "bar",
         "x": [
          "2011",
          "2012",
          "2013",
          "2014",
          "2015",
          "2016",
          "2017",
          "2018",
          "2019",
          "2020",
          "2021",
          "2022"
         ],
         "xaxis": "x",
         "y": [
          1,
          2,
          0,
          0,
          2,
          3,
          2,
          2,
          2,
          2,
          1,
          0
         ],
         "yaxis": "y"
        },
        {
         "alignmentgroup": "True",
         "hovertemplate": "Algorithm Name=QEA<br>Publication Year=%{x}<br>Count=%{text}<extra></extra>",
         "legendgroup": "QEA",
         "marker": {
          "color": "#D62728",
          "pattern": {
           "shape": ""
          }
         },
         "name": "QEA",
         "offsetgroup": "QEA",
         "orientation": "v",
         "showlegend": true,
         "text": [
          1,
          1,
          1,
          1,
          0,
          0,
          1,
          2,
          1,
          0,
          1,
          1
         ],
         "textposition": "auto",
         "type": "bar",
         "x": [
          "2011",
          "2012",
          "2013",
          "2014",
          "2015",
          "2016",
          "2017",
          "2018",
          "2019",
          "2020",
          "2021",
          "2022"
         ],
         "xaxis": "x",
         "y": [
          1,
          1,
          1,
          1,
          0,
          0,
          1,
          2,
          1,
          0,
          1,
          1
         ],
         "yaxis": "y"
        }
       ],
       "layout": {
        "barmode": "group",
        "legend": {
         "title": {
          "text": "Algorithm Name"
         },
         "tracegroupgap": 0
        },
        "margin": {
         "t": 60
        },
        "template": {
         "data": {
          "pie": [
           {
            "automargin": true,
            "type": "pie"
           }
          ]
         },
         "layout": {
          "xaxis": {
           "showgrid": true,
           "title": {
            "standoff": 15
           }
          },
          "yaxis": {
           "showgrid": true,
           "title": {
            "standoff": 15
           }
          }
         }
        },
        "xaxis": {
         "anchor": "y",
         "domain": [
          0,
          1
         ],
         "dtick": 1,
         "title": {
          "text": "Publication Year"
         }
        },
        "yaxis": {
         "anchor": "x",
         "domain": [
          0,
          1
         ],
         "title": {
          "text": "Count"
         }
        }
       }
      }
     },
     "metadata": {},
     "output_type": "display_data"
    }
   ],
   "source": [
    "df_quality_2011 = df_quality[df_quality['Publication Year'] == 2011]\n",
    "df_quality_2012 = df_quality[df_quality['Publication Year'] == 2012]\n",
    "df_quality_2013 = df_quality[df_quality['Publication Year'] == 2013]\n",
    "df_quality_2014 = df_quality[df_quality['Publication Year'] == 2014]\n",
    "df_quality_2015 = df_quality[df_quality['Publication Year'] == 2015]\n",
    "df_quality_2016 = df_quality[df_quality['Publication Year'] == 2016]\n",
    "df_quality_2017 = df_quality[df_quality['Publication Year'] == 2017]\n",
    "df_quality_2018 = df_quality[df_quality['Publication Year'] == 2018]\n",
    "df_quality_2019 = df_quality[df_quality['Publication Year'] == 2019]\n",
    "df_quality_2020 = df_quality[df_quality['Publication Year'] == 2020]\n",
    "df_quality_2021 = df_quality[df_quality['Publication Year'] == 2021]\n",
    "df_quality_2022 = df_quality[df_quality['Publication Year'] == 2022]\n",
    "\n",
    "df_pair_d020_d060_counts = pd.DataFrame([], columns=['Publication Year', 'Algorithm Name', 'Count'])\n",
    "df_pair_d020_d060_counts.set_index(['Publication Year'], inplace=True)\n",
    "\n",
    "df_pair_d020_d060_counts = pd.concat([df_pair_d020_d060_counts,\n",
    "    get_feature_d020_counts(df_quality_2011, 'Algorithm Name', '2011', 'Publication Year'),\n",
    "    get_feature_d020_counts(df_quality_2012, 'Algorithm Name', '2012', 'Publication Year'),\n",
    "    get_feature_d020_counts(df_quality_2013, 'Algorithm Name', '2013', 'Publication Year'),\n",
    "    get_feature_d020_counts(df_quality_2014, 'Algorithm Name', '2014', 'Publication Year'),\n",
    "    get_feature_d020_counts(df_quality_2015, 'Algorithm Name', '2015', 'Publication Year'),\n",
    "    get_feature_d020_counts(df_quality_2016, 'Algorithm Name', '2016', 'Publication Year'),\n",
    "    get_feature_d020_counts(df_quality_2017, 'Algorithm Name', '2017', 'Publication Year'),\n",
    "    get_feature_d020_counts(df_quality_2018, 'Algorithm Name', '2018', 'Publication Year'),\n",
    "    get_feature_d020_counts(df_quality_2019, 'Algorithm Name', '2019', 'Publication Year'),\n",
    "    get_feature_d020_counts(df_quality_2020, 'Algorithm Name', '2020', 'Publication Year'),\n",
    "    get_feature_d020_counts(df_quality_2021, 'Algorithm Name', '2021', 'Publication Year'),\n",
    "    get_feature_d020_counts(df_quality_2022, 'Algorithm Name', '2022', 'Publication Year')])\n",
    "\n",
    "fig = px.bar(df_pair_d020_d060_counts, x='Publication Year', y='Count', color='Algorithm Name', text='Count', barmode=\"group\")\n",
    "fig.update_xaxes(dtick=1)\n",
    "fig.write_image('analysis/pair_d020_d060.pdf', width=WIDTH, height=HALF_HEIGHT)\n",
    "fig.show()"
   ]
  },
  {
   "attachments": {},
   "cell_type": "markdown",
   "metadata": {},
   "source": [
    "### D020 and D070"
   ]
  },
  {
   "cell_type": "code",
   "execution_count": 86,
   "metadata": {},
   "outputs": [
    {
     "data": {
      "application/vnd.plotly.v1+json": {
       "config": {
        "plotlyServerURL": "https://plot.ly"
       },
       "data": [
        {
         "alignmentgroup": "True",
         "hovertemplate": "Response=QPSO<br>Publication Source=%{x}<br>Count=%{text}<extra></extra>",
         "legendgroup": "QPSO",
         "marker": {
          "color": "#1F77B4",
          "pattern": {
           "shape": ""
          }
         },
         "name": "QPSO",
         "offsetgroup": "QPSO",
         "orientation": "v",
         "showlegend": true,
         "text": [
          55,
          9,
          0
         ],
         "textposition": "auto",
         "type": "bar",
         "x": [
          "Journal",
          "Conference",
          "Workshop"
         ],
         "xaxis": "x",
         "y": [
          55,
          9,
          0
         ],
         "yaxis": "y"
        },
        {
         "alignmentgroup": "True",
         "hovertemplate": "Response=QUBO<br>Publication Source=%{x}<br>Count=%{text}<extra></extra>",
         "legendgroup": "QUBO",
         "marker": {
          "color": "#FF7F0E",
          "pattern": {
           "shape": ""
          }
         },
         "name": "QUBO",
         "offsetgroup": "QUBO",
         "orientation": "v",
         "showlegend": true,
         "text": [
          10,
          13,
          2
         ],
         "textposition": "auto",
         "type": "bar",
         "x": [
          "Journal",
          "Conference",
          "Workshop"
         ],
         "xaxis": "x",
         "y": [
          10,
          13,
          2
         ],
         "yaxis": "y"
        },
        {
         "alignmentgroup": "True",
         "hovertemplate": "Response=QGA<br>Publication Source=%{x}<br>Count=%{text}<extra></extra>",
         "legendgroup": "QGA",
         "marker": {
          "color": "#2CA02C",
          "pattern": {
           "shape": ""
          }
         },
         "name": "QGA",
         "offsetgroup": "QGA",
         "orientation": "v",
         "showlegend": true,
         "text": [
          13,
          4,
          0
         ],
         "textposition": "auto",
         "type": "bar",
         "x": [
          "Journal",
          "Conference",
          "Workshop"
         ],
         "xaxis": "x",
         "y": [
          13,
          4,
          0
         ],
         "yaxis": "y"
        },
        {
         "alignmentgroup": "True",
         "hovertemplate": "Response=QEA<br>Publication Source=%{x}<br>Count=%{text}<extra></extra>",
         "legendgroup": "QEA",
         "marker": {
          "color": "#D62728",
          "pattern": {
           "shape": ""
          }
         },
         "name": "QEA",
         "offsetgroup": "QEA",
         "orientation": "v",
         "showlegend": true,
         "text": [
          7,
          3,
          0
         ],
         "textposition": "auto",
         "type": "bar",
         "x": [
          "Journal",
          "Conference",
          "Workshop"
         ],
         "xaxis": "x",
         "y": [
          7,
          3,
          0
         ],
         "yaxis": "y"
        }
       ],
       "layout": {
        "barmode": "group",
        "legend": {
         "title": {
          "text": "Response"
         },
         "tracegroupgap": 0
        },
        "margin": {
         "t": 60
        },
        "template": {
         "data": {
          "pie": [
           {
            "automargin": true,
            "type": "pie"
           }
          ]
         },
         "layout": {
          "xaxis": {
           "showgrid": true,
           "title": {
            "standoff": 15
           }
          },
          "yaxis": {
           "showgrid": true,
           "title": {
            "standoff": 15
           }
          }
         }
        },
        "xaxis": {
         "anchor": "y",
         "domain": [
          0,
          1
         ],
         "dtick": 1,
         "title": {
          "text": "Publication Source"
         }
        },
        "yaxis": {
         "anchor": "x",
         "domain": [
          0,
          1
         ],
         "title": {
          "text": "Count"
         }
        }
       }
      }
     },
     "metadata": {},
     "output_type": "display_data"
    }
   ],
   "source": [
    "df_quality_journal = df_quality[df_quality['Publication Source'] == 'Journal']\n",
    "df_quality_conference = df_quality[df_quality['Publication Source'] == 'Conference']\n",
    "df_quality_workshop = df_quality[df_quality['Publication Source'] == 'Workshop']\n",
    "\n",
    "df_pair_d020_d070_counts = pd.DataFrame([], columns=['Publication Source', 'Response', 'Count'])\n",
    "df_pair_d020_d070_counts.set_index(['Publication Source'], inplace=True)\n",
    "\n",
    "df_pair_d020_d070_counts = pd.concat([df_pair_d020_d070_counts,\n",
    "    get_feature_d020_counts(df_quality_journal, 'Algorithm Name', 'Journal', 'Publication Source'),\n",
    "    get_feature_d020_counts(df_quality_conference, 'Algorithm Name', 'Conference', 'Publication Source'),\n",
    "    get_feature_d020_counts(df_quality_workshop, 'Algorithm Name', 'Workshop', 'Publication Source')])\n",
    "\n",
    "fig = px.bar(df_pair_d020_d070_counts, x='Publication Source', y='Count', color='Response', text='Count', barmode=\"group\")\n",
    "fig.update_xaxes(dtick=1)\n",
    "fig.write_image('analysis/pair_d020_d070.pdf', width=WIDTH, height=HALF_HEIGHT)\n",
    "fig.show()"
   ]
  },
  {
   "attachments": {},
   "cell_type": "markdown",
   "metadata": {},
   "source": [
    "### D030 and D040"
   ]
  },
  {
   "cell_type": "code",
   "execution_count": 87,
   "metadata": {},
   "outputs": [],
   "source": [
    "def get_feature_d030_counts(dataframe: pd.DataFrame, feature_name: str, feature_id: str, index_name: str) -> pd.DataFrame:\n",
    "    counts = dataframe.value_counts(subset=[feature_name], dropna=False)\n",
    "    row_real = pd.DataFrame({index_name: feature_id, 'Response': 'Real QC', 'Count': counts.get('Real Quantum Computer', 0)}, pd.Index([feature_id], name=index_name))\n",
    "    row_sim = pd.DataFrame({index_name: feature_id, 'Response': 'Simulator', 'Count': counts.get('Simulator', 0)}, pd.Index([feature_id], name=index_name))\n",
    "    return pd.concat([row_real, row_sim])\n"
   ]
  },
  {
   "cell_type": "code",
   "execution_count": 88,
   "metadata": {},
   "outputs": [
    {
     "data": {
      "application/vnd.plotly.v1+json": {
       "config": {
        "plotlyServerURL": "https://plot.ly"
       },
       "data": [
        {
         "alignmentgroup": "True",
         "hovertemplate": "Response=Real QC<br>Type of Quantum Computer=%{x}<br>Count=%{text}<extra></extra>",
         "legendgroup": "Real QC",
         "marker": {
          "color": "#1F77B4",
          "pattern": {
           "shape": ""
          }
         },
         "name": "Real QC",
         "offsetgroup": "Real QC",
         "orientation": "v",
         "showlegend": true,
         "text": [
          1,
          23
         ],
         "textposition": "auto",
         "type": "bar",
         "x": [
          "Gate-based",
          "Annealer"
         ],
         "xaxis": "x",
         "y": [
          1,
          23
         ],
         "yaxis": "y"
        },
        {
         "alignmentgroup": "True",
         "hovertemplate": "Response=Simulator<br>Type of Quantum Computer=%{x}<br>Count=%{text}<extra></extra>",
         "legendgroup": "Simulator",
         "marker": {
          "color": "#FF7F0E",
          "pattern": {
           "shape": ""
          }
         },
         "name": "Simulator",
         "offsetgroup": "Simulator",
         "orientation": "v",
         "showlegend": true,
         "text": [
          0,
          1
         ],
         "textposition": "auto",
         "type": "bar",
         "x": [
          "Gate-based",
          "Annealer"
         ],
         "xaxis": "x",
         "y": [
          0,
          1
         ],
         "yaxis": "y"
        }
       ],
       "layout": {
        "barmode": "relative",
        "legend": {
         "title": {
          "text": "Response"
         },
         "tracegroupgap": 0
        },
        "margin": {
         "t": 60
        },
        "template": {
         "data": {
          "pie": [
           {
            "automargin": true,
            "type": "pie"
           }
          ]
         },
         "layout": {
          "xaxis": {
           "showgrid": true,
           "title": {
            "standoff": 15
           }
          },
          "yaxis": {
           "showgrid": true,
           "title": {
            "standoff": 15
           }
          }
         }
        },
        "xaxis": {
         "anchor": "y",
         "domain": [
          0,
          1
         ],
         "dtick": 1,
         "title": {
          "text": "Type of Quantum Computer"
         }
        },
        "yaxis": {
         "anchor": "x",
         "domain": [
          0,
          1
         ],
         "title": {
          "text": "Count"
         }
        }
       }
      }
     },
     "metadata": {},
     "output_type": "display_data"
    }
   ],
   "source": [
    "df_quality_gate = df_quality[df_quality['Type of Quantum Computer'] == 'Gate-based']\n",
    "df_quality_anneal = df_quality[df_quality['Type of Quantum Computer'] == 'Annealer']\n",
    "\n",
    "df_pair_d030_d040_counts = pd.DataFrame([], columns=['Type of Quantum Computer', 'Response', 'Count'])\n",
    "df_pair_d030_d040_counts.set_index(['Type of Quantum Computer'], inplace=True)\n",
    "\n",
    "df_pair_d030_d040_counts = pd.concat([df_pair_d030_d040_counts,\n",
    "    get_feature_d030_counts(df_quality_gate, 'Does the study use a simulator or a real quantum computer?', 'Gate-based', 'Type of Quantum Computer'),\n",
    "    get_feature_d030_counts(df_quality_anneal, 'Does the study use a simulator or a real quantum computer?', 'Annealer', 'Type of Quantum Computer')])\n",
    "\n",
    "fig = px.bar(df_pair_d030_d040_counts, x='Type of Quantum Computer', y='Count', color='Response', text='Count')\n",
    "fig.update_xaxes(dtick=1)\n",
    "fig.write_image('analysis/pair_d030_d040.pdf', width=WIDTH, height=QUARTER_HEIGHT)\n",
    "fig.show()"
   ]
  },
  {
   "attachments": {},
   "cell_type": "markdown",
   "metadata": {},
   "source": [
    "### D040 and D050"
   ]
  },
  {
   "cell_type": "code",
   "execution_count": 89,
   "metadata": {},
   "outputs": [],
   "source": [
    "def get_feature_d040_counts(dataframe: pd.DataFrame, feature_name: str, feature_id: str, index_name: str) -> pd.DataFrame:\n",
    "    counts = dataframe.value_counts(subset=[feature_name], dropna=False)\n",
    "    row_real = pd.DataFrame({index_name: feature_id, 'Response': 'Gate-based', 'Count': counts.get('Gate-based', 0)}, pd.Index([feature_id], name=index_name))\n",
    "    row_sim = pd.DataFrame({index_name: feature_id, 'Response': 'Annealer', 'Count': counts.get('Annealer', 0)}, pd.Index([feature_id], name=index_name))\n",
    "    return pd.concat([row_real, row_sim])\n"
   ]
  },
  {
   "cell_type": "code",
   "execution_count": 90,
   "metadata": {},
   "outputs": [
    {
     "data": {
      "application/vnd.plotly.v1+json": {
       "config": {
        "plotlyServerURL": "https://plot.ly"
       },
       "data": [
        {
         "alignmentgroup": "True",
         "hovertemplate": "Response=Gate-based<br>ISIC Section=%{x}<br>Count=%{text}<extra></extra>",
         "legendgroup": "Gate-based",
         "marker": {
          "color": "#1F77B4",
          "pattern": {
           "shape": ""
          }
         },
         "name": "Gate-based",
         "offsetgroup": "Gate-based",
         "orientation": "v",
         "showlegend": true,
         "text": [
          0,
          0,
          0,
          1,
          0,
          0,
          0
         ],
         "textposition": "auto",
         "type": "bar",
         "x": [
          "C",
          "D",
          "E",
          "H",
          "J",
          "M",
          "O"
         ],
         "xaxis": "x",
         "y": [
          0,
          0,
          0,
          1,
          0,
          0,
          0
         ],
         "yaxis": "y"
        },
        {
         "alignmentgroup": "True",
         "hovertemplate": "Response=Annealer<br>ISIC Section=%{x}<br>Count=%{text}<extra></extra>",
         "legendgroup": "Annealer",
         "marker": {
          "color": "#FF7F0E",
          "pattern": {
           "shape": ""
          }
         },
         "name": "Annealer",
         "offsetgroup": "Annealer",
         "orientation": "v",
         "showlegend": true,
         "text": [
          3,
          0,
          1,
          11,
          4,
          2,
          2
         ],
         "textposition": "auto",
         "type": "bar",
         "x": [
          "C",
          "D",
          "E",
          "H",
          "J",
          "M",
          "O"
         ],
         "xaxis": "x",
         "y": [
          3,
          0,
          1,
          11,
          4,
          2,
          2
         ],
         "yaxis": "y"
        }
       ],
       "layout": {
        "barmode": "relative",
        "legend": {
         "title": {
          "text": "Response"
         },
         "tracegroupgap": 0
        },
        "margin": {
         "t": 60
        },
        "template": {
         "data": {
          "pie": [
           {
            "automargin": true,
            "type": "pie"
           }
          ]
         },
         "layout": {
          "xaxis": {
           "showgrid": true,
           "title": {
            "standoff": 15
           }
          },
          "yaxis": {
           "showgrid": true,
           "title": {
            "standoff": 15
           }
          }
         }
        },
        "xaxis": {
         "anchor": "y",
         "domain": [
          0,
          1
         ],
         "title": {
          "text": "ISIC Section"
         }
        },
        "yaxis": {
         "anchor": "x",
         "domain": [
          0,
          1
         ],
         "title": {
          "text": "Count"
         }
        }
       }
      }
     },
     "metadata": {},
     "output_type": "display_data"
    }
   ],
   "source": [
    "df_quality_C = df_quality[df_quality['ISIC Section'] == 'C']\n",
    "df_quality_D = df_quality[df_quality['ISIC Section'] == 'D']\n",
    "df_quality_E = df_quality[df_quality['ISIC Section'] == 'E']\n",
    "df_quality_H = df_quality[df_quality['ISIC Section'] == 'H']\n",
    "df_quality_J = df_quality[df_quality['ISIC Section'] == 'J']\n",
    "df_quality_M = df_quality[df_quality['ISIC Section'] == 'M']\n",
    "df_quality_O = df_quality[df_quality['ISIC Section'] == 'O']\n",
    "\n",
    "df_pair_d040_d050_counts = pd.DataFrame([], columns=['ISIC Section', 'Response', 'Count'])\n",
    "df_pair_d040_d050_counts.set_index(['ISIC Section'], inplace=True)\n",
    "\n",
    "df_pair_d040_d050_counts = pd.concat([df_pair_d040_d050_counts,\n",
    "    get_feature_d040_counts(df_quality_C, 'Type of Quantum Computer', 'C', 'ISIC Section'),\n",
    "    get_feature_d040_counts(df_quality_D, 'Type of Quantum Computer', 'D', 'ISIC Section'),\n",
    "    get_feature_d040_counts(df_quality_E, 'Type of Quantum Computer', 'E', 'ISIC Section'),\n",
    "    get_feature_d040_counts(df_quality_H, 'Type of Quantum Computer', 'H', 'ISIC Section'),\n",
    "    get_feature_d040_counts(df_quality_J, 'Type of Quantum Computer', 'J', 'ISIC Section'),\n",
    "    get_feature_d040_counts(df_quality_M, 'Type of Quantum Computer', 'M', 'ISIC Section'),\n",
    "    get_feature_d040_counts(df_quality_O, 'Type of Quantum Computer', 'O', 'ISIC Section')])\n",
    "\n",
    "fig = px.bar(df_pair_d040_d050_counts, x='ISIC Section', y='Count', color='Response', text='Count')\n",
    "fig.write_image('analysis/pair_d040_d050.pdf', width=WIDTH, height=HALF_HEIGHT)\n",
    "fig.show()"
   ]
  },
  {
   "attachments": {},
   "cell_type": "markdown",
   "metadata": {},
   "source": [
    "### D050 and D060"
   ]
  },
  {
   "cell_type": "code",
   "execution_count": 91,
   "metadata": {},
   "outputs": [],
   "source": [
    "def get_feature_d050_counts(dataframe: pd.DataFrame, feature_name: str, feature_id: str, index_name: str) -> pd.DataFrame:\n",
    "    counts = dataframe.value_counts(subset=[feature_name], dropna=False)\n",
    "    row_c = pd.DataFrame({index_name: feature_id, 'ISIC Section': 'C', 'Count': counts.get('C', 0)}, pd.Index([feature_id], name=index_name))\n",
    "    row_d = pd.DataFrame({index_name: feature_id, 'ISIC Section': 'D', 'Count': counts.get('D', 0)}, pd.Index([feature_id], name=index_name))\n",
    "    row_e = pd.DataFrame({index_name: feature_id, 'ISIC Section': 'E', 'Count': counts.get('E', 0)}, pd.Index([feature_id], name=index_name))\n",
    "    row_h = pd.DataFrame({index_name: feature_id, 'ISIC Section': 'H', 'Count': counts.get('H', 0)}, pd.Index([feature_id], name=index_name))\n",
    "    row_j = pd.DataFrame({index_name: feature_id, 'ISIC Section': 'J', 'Count': counts.get('J', 0)}, pd.Index([feature_id], name=index_name))\n",
    "    row_m = pd.DataFrame({index_name: feature_id, 'ISIC Section': 'M', 'Count': counts.get('M', 0)}, pd.Index([feature_id], name=index_name))\n",
    "    row_o = pd.DataFrame({index_name: feature_id, 'ISIC Section': 'O', 'Count': counts.get('O', 0)}, pd.Index([feature_id], name=index_name))\n",
    "    return pd.concat([row_c, row_d, row_e, row_h, row_j, row_m, row_o])\n"
   ]
  },
  {
   "cell_type": "code",
   "execution_count": 92,
   "metadata": {},
   "outputs": [
    {
     "data": {
      "application/vnd.plotly.v1+json": {
       "config": {
        "plotlyServerURL": "https://plot.ly"
       },
       "data": [
        {
         "alignmentgroup": "True",
         "hovertemplate": "ISIC Section=C<br>Publication Year=%{x}<br>Count=%{text}<extra></extra>",
         "legendgroup": "C",
         "marker": {
          "color": "#1F77B4",
          "pattern": {
           "shape": ""
          }
         },
         "name": "C",
         "offsetgroup": "C",
         "orientation": "v",
         "showlegend": true,
         "text": [
          1,
          1,
          0,
          3,
          2,
          4,
          1,
          2,
          1,
          5,
          1,
          1
         ],
         "textposition": "auto",
         "type": "bar",
         "x": [
          "2011",
          "2012",
          "2013",
          "2014",
          "2015",
          "2016",
          "2017",
          "2018",
          "2019",
          "2020",
          "2021",
          "2022"
         ],
         "xaxis": "x",
         "y": [
          1,
          1,
          0,
          3,
          2,
          4,
          1,
          2,
          1,
          5,
          1,
          1
         ],
         "yaxis": "y"
        },
        {
         "alignmentgroup": "True",
         "hovertemplate": "ISIC Section=D<br>Publication Year=%{x}<br>Count=%{text}<extra></extra>",
         "legendgroup": "D",
         "marker": {
          "color": "#FF7F0E",
          "pattern": {
           "shape": ""
          }
         },
         "name": "D",
         "offsetgroup": "D",
         "orientation": "v",
         "showlegend": true,
         "text": [
          1,
          2,
          1,
          2,
          3,
          3,
          2,
          1,
          3,
          12,
          7,
          0
         ],
         "textposition": "auto",
         "type": "bar",
         "x": [
          "2011",
          "2012",
          "2013",
          "2014",
          "2015",
          "2016",
          "2017",
          "2018",
          "2019",
          "2020",
          "2021",
          "2022"
         ],
         "xaxis": "x",
         "y": [
          1,
          2,
          1,
          2,
          3,
          3,
          2,
          1,
          3,
          12,
          7,
          0
         ],
         "yaxis": "y"
        },
        {
         "alignmentgroup": "True",
         "hovertemplate": "ISIC Section=E<br>Publication Year=%{x}<br>Count=%{text}<extra></extra>",
         "legendgroup": "E",
         "marker": {
          "color": "#2CA02C",
          "pattern": {
           "shape": ""
          }
         },
         "name": "E",
         "offsetgroup": "E",
         "orientation": "v",
         "showlegend": true,
         "text": [
          0,
          1,
          0,
          0,
          0,
          0,
          0,
          0,
          0,
          3,
          2,
          0
         ],
         "textposition": "auto",
         "type": "bar",
         "x": [
          "2011",
          "2012",
          "2013",
          "2014",
          "2015",
          "2016",
          "2017",
          "2018",
          "2019",
          "2020",
          "2021",
          "2022"
         ],
         "xaxis": "x",
         "y": [
          0,
          1,
          0,
          0,
          0,
          0,
          0,
          0,
          0,
          3,
          2,
          0
         ],
         "yaxis": "y"
        },
        {
         "alignmentgroup": "True",
         "hovertemplate": "ISIC Section=H<br>Publication Year=%{x}<br>Count=%{text}<extra></extra>",
         "legendgroup": "H",
         "marker": {
          "color": "#D62728",
          "pattern": {
           "shape": ""
          }
         },
         "name": "H",
         "offsetgroup": "H",
         "orientation": "v",
         "showlegend": true,
         "text": [
          0,
          1,
          1,
          2,
          0,
          0,
          2,
          3,
          6,
          8,
          8,
          4
         ],
         "textposition": "auto",
         "type": "bar",
         "x": [
          "2011",
          "2012",
          "2013",
          "2014",
          "2015",
          "2016",
          "2017",
          "2018",
          "2019",
          "2020",
          "2021",
          "2022"
         ],
         "xaxis": "x",
         "y": [
          0,
          1,
          1,
          2,
          0,
          0,
          2,
          3,
          6,
          8,
          8,
          4
         ],
         "yaxis": "y"
        },
        {
         "alignmentgroup": "True",
         "hovertemplate": "ISIC Section=J<br>Publication Year=%{x}<br>Count=%{text}<extra></extra>",
         "legendgroup": "J",
         "marker": {
          "color": "#9467BD",
          "pattern": {
           "shape": ""
          }
         },
         "name": "J",
         "offsetgroup": "J",
         "orientation": "v",
         "showlegend": true,
         "text": [
          1,
          1,
          0,
          0,
          0,
          2,
          1,
          1,
          2,
          2,
          3,
          0
         ],
         "textposition": "auto",
         "type": "bar",
         "x": [
          "2011",
          "2012",
          "2013",
          "2014",
          "2015",
          "2016",
          "2017",
          "2018",
          "2019",
          "2020",
          "2021",
          "2022"
         ],
         "xaxis": "x",
         "y": [
          1,
          1,
          0,
          0,
          0,
          2,
          1,
          1,
          2,
          2,
          3,
          0
         ],
         "yaxis": "y"
        },
        {
         "alignmentgroup": "True",
         "hovertemplate": "ISIC Section=M<br>Publication Year=%{x}<br>Count=%{text}<extra></extra>",
         "legendgroup": "M",
         "marker": {
          "color": "#8C564B",
          "pattern": {
           "shape": ""
          }
         },
         "name": "M",
         "offsetgroup": "M",
         "orientation": "v",
         "showlegend": true,
         "text": [
          0,
          0,
          0,
          1,
          0,
          2,
          2,
          1,
          6,
          4,
          5,
          0
         ],
         "textposition": "auto",
         "type": "bar",
         "x": [
          "2011",
          "2012",
          "2013",
          "2014",
          "2015",
          "2016",
          "2017",
          "2018",
          "2019",
          "2020",
          "2021",
          "2022"
         ],
         "xaxis": "x",
         "y": [
          0,
          0,
          0,
          1,
          0,
          2,
          2,
          1,
          6,
          4,
          5,
          0
         ],
         "yaxis": "y"
        },
        {
         "alignmentgroup": "True",
         "hovertemplate": "ISIC Section=O<br>Publication Year=%{x}<br>Count=%{text}<extra></extra>",
         "legendgroup": "O",
         "marker": {
          "color": "#E377C2",
          "pattern": {
           "shape": ""
          }
         },
         "name": "O",
         "offsetgroup": "O",
         "orientation": "v",
         "showlegend": true,
         "text": [
          0,
          0,
          1,
          0,
          1,
          0,
          1,
          0,
          0,
          2,
          0,
          0
         ],
         "textposition": "auto",
         "type": "bar",
         "x": [
          "2011",
          "2012",
          "2013",
          "2014",
          "2015",
          "2016",
          "2017",
          "2018",
          "2019",
          "2020",
          "2021",
          "2022"
         ],
         "xaxis": "x",
         "y": [
          0,
          0,
          1,
          0,
          1,
          0,
          1,
          0,
          0,
          2,
          0,
          0
         ],
         "yaxis": "y"
        }
       ],
       "layout": {
        "barmode": "group",
        "legend": {
         "title": {
          "text": "ISIC Section"
         },
         "tracegroupgap": 0
        },
        "margin": {
         "t": 60
        },
        "template": {
         "data": {
          "pie": [
           {
            "automargin": true,
            "type": "pie"
           }
          ]
         },
         "layout": {
          "xaxis": {
           "showgrid": true,
           "title": {
            "standoff": 15
           }
          },
          "yaxis": {
           "showgrid": true,
           "title": {
            "standoff": 15
           }
          }
         }
        },
        "xaxis": {
         "anchor": "y",
         "domain": [
          0,
          1
         ],
         "dtick": 1,
         "title": {
          "text": "Publication Year"
         }
        },
        "yaxis": {
         "anchor": "x",
         "domain": [
          0,
          1
         ],
         "title": {
          "text": "Count"
         }
        }
       }
      }
     },
     "metadata": {},
     "output_type": "display_data"
    }
   ],
   "source": [
    "df_quality_2011 = df_quality[df_quality['Publication Year'] == 2011]\n",
    "df_quality_2012 = df_quality[df_quality['Publication Year'] == 2012]\n",
    "df_quality_2013 = df_quality[df_quality['Publication Year'] == 2013]\n",
    "df_quality_2014 = df_quality[df_quality['Publication Year'] == 2014]\n",
    "df_quality_2015 = df_quality[df_quality['Publication Year'] == 2015]\n",
    "df_quality_2016 = df_quality[df_quality['Publication Year'] == 2016]\n",
    "df_quality_2017 = df_quality[df_quality['Publication Year'] == 2017]\n",
    "df_quality_2018 = df_quality[df_quality['Publication Year'] == 2018]\n",
    "df_quality_2019 = df_quality[df_quality['Publication Year'] == 2019]\n",
    "df_quality_2020 = df_quality[df_quality['Publication Year'] == 2020]\n",
    "df_quality_2021 = df_quality[df_quality['Publication Year'] == 2021]\n",
    "df_quality_2022 = df_quality[df_quality['Publication Year'] == 2022]\n",
    "\n",
    "df_pair_d050_d060_counts = pd.DataFrame([], columns=['Publication Year', 'ISIC Section', 'Count'])\n",
    "df_pair_d050_d060_counts.set_index(['Publication Year'], inplace=True)\n",
    "\n",
    "df_pair_d050_d060_counts = pd.concat([df_pair_d050_d060_counts,\n",
    "    get_feature_d050_counts(df_quality_2011, 'ISIC Section', '2011', 'Publication Year'),\n",
    "    get_feature_d050_counts(df_quality_2012, 'ISIC Section', '2012', 'Publication Year'),\n",
    "    get_feature_d050_counts(df_quality_2013, 'ISIC Section', '2013', 'Publication Year'),\n",
    "    get_feature_d050_counts(df_quality_2014, 'ISIC Section', '2014', 'Publication Year'),\n",
    "    get_feature_d050_counts(df_quality_2015, 'ISIC Section', '2015', 'Publication Year'),\n",
    "    get_feature_d050_counts(df_quality_2016, 'ISIC Section', '2016', 'Publication Year'),\n",
    "    get_feature_d050_counts(df_quality_2017, 'ISIC Section', '2017', 'Publication Year'),\n",
    "    get_feature_d050_counts(df_quality_2018, 'ISIC Section', '2018', 'Publication Year'),\n",
    "    get_feature_d050_counts(df_quality_2019, 'ISIC Section', '2019', 'Publication Year'),\n",
    "    get_feature_d050_counts(df_quality_2020, 'ISIC Section', '2020', 'Publication Year'),\n",
    "    get_feature_d050_counts(df_quality_2021, 'ISIC Section', '2021', 'Publication Year'),\n",
    "    get_feature_d050_counts(df_quality_2022, 'ISIC Section', '2022', 'Publication Year')])\n",
    "\n",
    "fig = px.bar(df_pair_d050_d060_counts, x='Publication Year', y='Count', color='ISIC Section', text='Count', barmode=\"group\")\n",
    "fig.update_xaxes(dtick=1)\n",
    "fig.write_image('analysis/pair_d050_d060.pdf', width=WIDTH, height=HALF_HEIGHT)\n",
    "fig.show()"
   ]
  },
  {
   "cell_type": "code",
   "execution_count": 93,
   "metadata": {},
   "outputs": [
    {
     "data": {
      "application/vnd.plotly.v1+json": {
       "config": {
        "plotlyServerURL": "https://plot.ly"
       },
       "data": [
        {
         "alignmentgroup": "True",
         "hovertemplate": "ISIC Section=C<br>Publication Source=%{x}<br>Count=%{text}<extra></extra>",
         "legendgroup": "C",
         "marker": {
          "color": "#1F77B4",
          "pattern": {
           "shape": ""
          }
         },
         "name": "C",
         "offsetgroup": "C",
         "orientation": "v",
         "showlegend": true,
         "text": [
          17,
          5,
          0
         ],
         "textposition": "auto",
         "type": "bar",
         "x": [
          "Journal",
          "Conference",
          "Workshop"
         ],
         "xaxis": "x",
         "y": [
          17,
          5,
          0
         ],
         "yaxis": "y"
        },
        {
         "alignmentgroup": "True",
         "hovertemplate": "ISIC Section=D<br>Publication Source=%{x}<br>Count=%{text}<extra></extra>",
         "legendgroup": "D",
         "marker": {
          "color": "#FF7F0E",
          "pattern": {
           "shape": ""
          }
         },
         "name": "D",
         "offsetgroup": "D",
         "orientation": "v",
         "showlegend": true,
         "text": [
          34,
          3,
          0
         ],
         "textposition": "auto",
         "type": "bar",
         "x": [
          "Journal",
          "Conference",
          "Workshop"
         ],
         "xaxis": "x",
         "y": [
          34,
          3,
          0
         ],
         "yaxis": "y"
        },
        {
         "alignmentgroup": "True",
         "hovertemplate": "ISIC Section=E<br>Publication Source=%{x}<br>Count=%{text}<extra></extra>",
         "legendgroup": "E",
         "marker": {
          "color": "#2CA02C",
          "pattern": {
           "shape": ""
          }
         },
         "name": "E",
         "offsetgroup": "E",
         "orientation": "v",
         "showlegend": true,
         "text": [
          4,
          2,
          0
         ],
         "textposition": "auto",
         "type": "bar",
         "x": [
          "Journal",
          "Conference",
          "Workshop"
         ],
         "xaxis": "x",
         "y": [
          4,
          2,
          0
         ],
         "yaxis": "y"
        },
        {
         "alignmentgroup": "True",
         "hovertemplate": "ISIC Section=H<br>Publication Source=%{x}<br>Count=%{text}<extra></extra>",
         "legendgroup": "H",
         "marker": {
          "color": "#D62728",
          "pattern": {
           "shape": ""
          }
         },
         "name": "H",
         "offsetgroup": "H",
         "orientation": "v",
         "showlegend": true,
         "text": [
          24,
          9,
          2
         ],
         "textposition": "auto",
         "type": "bar",
         "x": [
          "Journal",
          "Conference",
          "Workshop"
         ],
         "xaxis": "x",
         "y": [
          24,
          9,
          2
         ],
         "yaxis": "y"
        },
        {
         "alignmentgroup": "True",
         "hovertemplate": "ISIC Section=J<br>Publication Source=%{x}<br>Count=%{text}<extra></extra>",
         "legendgroup": "J",
         "marker": {
          "color": "#9467BD",
          "pattern": {
           "shape": ""
          }
         },
         "name": "J",
         "offsetgroup": "J",
         "orientation": "v",
         "showlegend": true,
         "text": [
          7,
          6,
          0
         ],
         "textposition": "auto",
         "type": "bar",
         "x": [
          "Journal",
          "Conference",
          "Workshop"
         ],
         "xaxis": "x",
         "y": [
          7,
          6,
          0
         ],
         "yaxis": "y"
        },
        {
         "alignmentgroup": "True",
         "hovertemplate": "ISIC Section=M<br>Publication Source=%{x}<br>Count=%{text}<extra></extra>",
         "legendgroup": "M",
         "marker": {
          "color": "#8C564B",
          "pattern": {
           "shape": ""
          }
         },
         "name": "M",
         "offsetgroup": "M",
         "orientation": "v",
         "showlegend": true,
         "text": [
          17,
          4,
          0
         ],
         "textposition": "auto",
         "type": "bar",
         "x": [
          "Journal",
          "Conference",
          "Workshop"
         ],
         "xaxis": "x",
         "y": [
          17,
          4,
          0
         ],
         "yaxis": "y"
        },
        {
         "alignmentgroup": "True",
         "hovertemplate": "ISIC Section=O<br>Publication Source=%{x}<br>Count=%{text}<extra></extra>",
         "legendgroup": "O",
         "marker": {
          "color": "#E377C2",
          "pattern": {
           "shape": ""
          }
         },
         "name": "O",
         "offsetgroup": "O",
         "orientation": "v",
         "showlegend": true,
         "text": [
          3,
          2,
          0
         ],
         "textposition": "auto",
         "type": "bar",
         "x": [
          "Journal",
          "Conference",
          "Workshop"
         ],
         "xaxis": "x",
         "y": [
          3,
          2,
          0
         ],
         "yaxis": "y"
        }
       ],
       "layout": {
        "barmode": "group",
        "legend": {
         "title": {
          "text": "ISIC Section"
         },
         "tracegroupgap": 0
        },
        "margin": {
         "t": 60
        },
        "template": {
         "data": {
          "pie": [
           {
            "automargin": true,
            "type": "pie"
           }
          ]
         },
         "layout": {
          "xaxis": {
           "showgrid": true,
           "title": {
            "standoff": 15
           }
          },
          "yaxis": {
           "showgrid": true,
           "title": {
            "standoff": 15
           }
          }
         }
        },
        "xaxis": {
         "anchor": "y",
         "domain": [
          0,
          1
         ],
         "dtick": 1,
         "title": {
          "text": "Publication Source"
         }
        },
        "yaxis": {
         "anchor": "x",
         "domain": [
          0,
          1
         ],
         "title": {
          "text": "Count"
         }
        }
       }
      }
     },
     "metadata": {},
     "output_type": "display_data"
    }
   ],
   "source": [
    "df_quality_journal = df_quality[df_quality['Publication Source'] == 'Journal']\n",
    "df_quality_conference = df_quality[df_quality['Publication Source'] == 'Conference']\n",
    "df_quality_workshop = df_quality[df_quality['Publication Source'] == 'Workshop']\n",
    "\n",
    "df_pair_d050_d070_counts = pd.DataFrame([], columns=['Publication Source', 'ISIC Section', 'Count'])\n",
    "df_pair_d050_d070_counts.set_index(['Publication Source'], inplace=True)\n",
    "\n",
    "df_pair_d050_d070_counts = pd.concat([df_pair_d050_d070_counts,\n",
    "    get_feature_d050_counts(df_quality_journal, 'ISIC Section', 'Journal', 'Publication Source'),\n",
    "    get_feature_d050_counts(df_quality_conference, 'ISIC Section', 'Conference', 'Publication Source'),\n",
    "    get_feature_d050_counts(df_quality_workshop, 'ISIC Section', 'Workshop', 'Publication Source')])\n",
    "\n",
    "fig = px.bar(df_pair_d050_d070_counts, x='Publication Source', y='Count', color='ISIC Section', text='Count', barmode=\"group\")\n",
    "fig.update_xaxes(dtick=1)\n",
    "fig.write_image('analysis/pair_d050_d070.pdf', width=WIDTH, height=HALF_HEIGHT)\n",
    "fig.show()"
   ]
  },
  {
   "attachments": {},
   "cell_type": "markdown",
   "metadata": {},
   "source": [
    "### D060 and D070"
   ]
  },
  {
   "cell_type": "code",
   "execution_count": 109,
   "metadata": {},
   "outputs": [],
   "source": [
    "def get_feature_d070_counts(dataframe: pd.DataFrame, feature_name: str, feature_id: str, index_name: str) -> pd.DataFrame:\n",
    "    counts = dataframe.value_counts(subset=[feature_name], dropna=False)\n",
    "    row_c = pd.DataFrame({index_name: feature_id, 'Publication Source': 'Journal', 'Count': counts.get('Journal', 0)}, pd.Index([feature_id], name=index_name))\n",
    "    row_d = pd.DataFrame({index_name: feature_id, 'Publication Source': 'Conference', 'Count': counts.get('Conference', 0)}, pd.Index([feature_id], name=index_name))\n",
    "    row_e = pd.DataFrame({index_name: feature_id, 'Publication Source': 'Workshop', 'Count': counts.get('Workshop', 0)}, pd.Index([feature_id], name=index_name))\n",
    "    return pd.concat([row_c, row_d, row_e])\n"
   ]
  },
  {
   "cell_type": "code",
   "execution_count": 110,
   "metadata": {},
   "outputs": [
    {
     "data": {
      "application/vnd.plotly.v1+json": {
       "config": {
        "plotlyServerURL": "https://plot.ly"
       },
       "data": [
        {
         "alignmentgroup": "True",
         "hovertemplate": "Publication Source=Journal<br>Publication Year=%{x}<br>Count=%{text}<extra></extra>",
         "legendgroup": "Journal",
         "marker": {
          "color": "#1F77B4",
          "pattern": {
           "shape": ""
          }
         },
         "name": "Journal",
         "offsetgroup": "Journal",
         "orientation": "v",
         "showlegend": true,
         "text": [
          3,
          4,
          3,
          8,
          4,
          10,
          9,
          5,
          14,
          31,
          15,
          5
         ],
         "textposition": "auto",
         "type": "bar",
         "x": [
          "2011",
          "2012",
          "2013",
          "2014",
          "2015",
          "2016",
          "2017",
          "2018",
          "2019",
          "2020",
          "2021",
          "2022"
         ],
         "xaxis": "x",
         "y": [
          3,
          4,
          3,
          8,
          4,
          10,
          9,
          5,
          14,
          31,
          15,
          5
         ],
         "yaxis": "y"
        },
        {
         "alignmentgroup": "True",
         "hovertemplate": "Publication Source=Conference<br>Publication Year=%{x}<br>Count=%{text}<extra></extra>",
         "legendgroup": "Conference",
         "marker": {
          "color": "#FF7F0E",
          "pattern": {
           "shape": ""
          }
         },
         "name": "Conference",
         "offsetgroup": "Conference",
         "orientation": "v",
         "showlegend": true,
         "text": [
          0,
          2,
          0,
          0,
          2,
          1,
          2,
          4,
          5,
          6,
          14,
          0
         ],
         "textposition": "auto",
         "type": "bar",
         "x": [
          "2011",
          "2012",
          "2013",
          "2014",
          "2015",
          "2016",
          "2017",
          "2018",
          "2019",
          "2020",
          "2021",
          "2022"
         ],
         "xaxis": "x",
         "y": [
          0,
          2,
          0,
          0,
          2,
          1,
          2,
          4,
          5,
          6,
          14,
          0
         ],
         "yaxis": "y"
        },
        {
         "alignmentgroup": "True",
         "hovertemplate": "Publication Source=Workshop<br>Publication Year=%{x}<br>Count=%{text}<extra></extra>",
         "legendgroup": "Workshop",
         "marker": {
          "color": "#2CA02C",
          "pattern": {
           "shape": ""
          }
         },
         "name": "Workshop",
         "offsetgroup": "Workshop",
         "orientation": "v",
         "showlegend": true,
         "text": [
          0,
          0,
          0,
          0,
          0,
          0,
          0,
          0,
          1,
          1,
          0,
          0
         ],
         "textposition": "auto",
         "type": "bar",
         "x": [
          "2011",
          "2012",
          "2013",
          "2014",
          "2015",
          "2016",
          "2017",
          "2018",
          "2019",
          "2020",
          "2021",
          "2022"
         ],
         "xaxis": "x",
         "y": [
          0,
          0,
          0,
          0,
          0,
          0,
          0,
          0,
          1,
          1,
          0,
          0
         ],
         "yaxis": "y"
        }
       ],
       "layout": {
        "barmode": "group",
        "legend": {
         "title": {
          "text": "Publication Source"
         },
         "tracegroupgap": 0
        },
        "margin": {
         "t": 60
        },
        "template": {
         "data": {
          "pie": [
           {
            "automargin": true,
            "type": "pie"
           }
          ]
         },
         "layout": {
          "xaxis": {
           "showgrid": true,
           "title": {
            "standoff": 15
           }
          },
          "yaxis": {
           "showgrid": true,
           "title": {
            "standoff": 15
           }
          }
         }
        },
        "xaxis": {
         "anchor": "y",
         "domain": [
          0,
          1
         ],
         "dtick": 1,
         "title": {
          "text": "Publication Year"
         }
        },
        "yaxis": {
         "anchor": "x",
         "domain": [
          0,
          1
         ],
         "title": {
          "text": "Count"
         }
        }
       }
      }
     },
     "metadata": {},
     "output_type": "display_data"
    }
   ],
   "source": [
    "df_quality_2011 = df_quality[df_quality['Publication Year'] == 2011]\n",
    "df_quality_2012 = df_quality[df_quality['Publication Year'] == 2012]\n",
    "df_quality_2013 = df_quality[df_quality['Publication Year'] == 2013]\n",
    "df_quality_2014 = df_quality[df_quality['Publication Year'] == 2014]\n",
    "df_quality_2015 = df_quality[df_quality['Publication Year'] == 2015]\n",
    "df_quality_2016 = df_quality[df_quality['Publication Year'] == 2016]\n",
    "df_quality_2017 = df_quality[df_quality['Publication Year'] == 2017]\n",
    "df_quality_2018 = df_quality[df_quality['Publication Year'] == 2018]\n",
    "df_quality_2019 = df_quality[df_quality['Publication Year'] == 2019]\n",
    "df_quality_2020 = df_quality[df_quality['Publication Year'] == 2020]\n",
    "df_quality_2021 = df_quality[df_quality['Publication Year'] == 2021]\n",
    "df_quality_2022 = df_quality[df_quality['Publication Year'] == 2022]\n",
    "\n",
    "df_pair_d070_d060_counts = pd.DataFrame([], columns=['Publication Year', 'Publication Source', 'Count'])\n",
    "df_pair_d070_d060_counts.set_index(['Publication Year'], inplace=True)\n",
    "\n",
    "df_pair_d070_d060_counts = pd.concat([df_pair_d070_d060_counts,\n",
    "    get_feature_d070_counts(df_quality_2011, 'Publication Source', '2011', 'Publication Year'),\n",
    "    get_feature_d070_counts(df_quality_2012, 'Publication Source', '2012', 'Publication Year'),\n",
    "    get_feature_d070_counts(df_quality_2013, 'Publication Source', '2013', 'Publication Year'),\n",
    "    get_feature_d070_counts(df_quality_2014, 'Publication Source', '2014', 'Publication Year'),\n",
    "    get_feature_d070_counts(df_quality_2015, 'Publication Source', '2015', 'Publication Year'),\n",
    "    get_feature_d070_counts(df_quality_2016, 'Publication Source', '2016', 'Publication Year'),\n",
    "    get_feature_d070_counts(df_quality_2017, 'Publication Source', '2017', 'Publication Year'),\n",
    "    get_feature_d070_counts(df_quality_2018, 'Publication Source', '2018', 'Publication Year'),\n",
    "    get_feature_d070_counts(df_quality_2019, 'Publication Source', '2019', 'Publication Year'),\n",
    "    get_feature_d070_counts(df_quality_2020, 'Publication Source', '2020', 'Publication Year'),\n",
    "    get_feature_d070_counts(df_quality_2021, 'Publication Source', '2021', 'Publication Year'),\n",
    "    get_feature_d070_counts(df_quality_2022, 'Publication Source', '2022', 'Publication Year')])\n",
    "\n",
    "fig = px.bar(df_pair_d070_d060_counts, x='Publication Year', y='Count', color='Publication Source', text='Count', barmode=\"group\")\n",
    "fig.update_xaxes(dtick=1)\n",
    "fig.write_image('analysis/pair_d070_d060.pdf', width=WIDTH, height=HALF_HEIGHT)\n",
    "fig.show()"
   ]
  },
  {
   "attachments": {},
   "cell_type": "markdown",
   "metadata": {},
   "source": [
    "### SS03 and D040"
   ]
  },
  {
   "cell_type": "code",
   "execution_count": 113,
   "metadata": {},
   "outputs": [],
   "source": [
    "def get_feature_ss03_counts(dataframe: pd.DataFrame, feature_name: str, feature_id: str, index_name: str) -> pd.DataFrame:\n",
    "    counts = dataframe.value_counts(subset=[feature_name], dropna=False)\n",
    "    row_c = pd.DataFrame({index_name: feature_id, 'Does the study use a real-world scenario or case study for its application?': 'Yes', 'Count': counts.get('YES', 0)}, pd.Index([feature_id], name=index_name))\n",
    "    row_d = pd.DataFrame({index_name: feature_id, 'Does the study use a real-world scenario or case study for its application?': 'No', 'Count': counts.get('NO', 0)}, pd.Index([feature_id], name=index_name))\n",
    "    return pd.concat([row_c, row_d])\n"
   ]
  },
  {
   "cell_type": "code",
   "execution_count": 114,
   "metadata": {},
   "outputs": [
    {
     "data": {
      "application/vnd.plotly.v1+json": {
       "config": {
        "plotlyServerURL": "https://plot.ly"
       },
       "data": [
        {
         "alignmentgroup": "True",
         "hovertemplate": "Does the study use a real-world scenario or case study for its application?=Yes<br>Type of Quantum Computer=%{x}<br>Count=%{text}<extra></extra>",
         "legendgroup": "Yes",
         "marker": {
          "color": "#1F77B4",
          "pattern": {
           "shape": ""
          }
         },
         "name": "Yes",
         "offsetgroup": "Yes",
         "orientation": "v",
         "showlegend": true,
         "text": [
          0,
          13
         ],
         "textposition": "auto",
         "type": "bar",
         "x": [
          "Gate-based",
          "Annealer"
         ],
         "xaxis": "x",
         "y": [
          0,
          13
         ],
         "yaxis": "y"
        },
        {
         "alignmentgroup": "True",
         "hovertemplate": "Does the study use a real-world scenario or case study for its application?=No<br>Type of Quantum Computer=%{x}<br>Count=%{text}<extra></extra>",
         "legendgroup": "No",
         "marker": {
          "color": "#FF7F0E",
          "pattern": {
           "shape": ""
          }
         },
         "name": "No",
         "offsetgroup": "No",
         "orientation": "v",
         "showlegend": true,
         "text": [
          2,
          11
         ],
         "textposition": "auto",
         "type": "bar",
         "x": [
          "Gate-based",
          "Annealer"
         ],
         "xaxis": "x",
         "y": [
          2,
          11
         ],
         "yaxis": "y"
        }
       ],
       "layout": {
        "barmode": "relative",
        "legend": {
         "title": {
          "text": "Does the study use a real-world scenario or case study for its application?"
         },
         "tracegroupgap": 0
        },
        "margin": {
         "t": 60
        },
        "template": {
         "data": {
          "pie": [
           {
            "automargin": true,
            "type": "pie"
           }
          ]
         },
         "layout": {
          "xaxis": {
           "showgrid": true,
           "title": {
            "standoff": 15
           }
          },
          "yaxis": {
           "showgrid": true,
           "title": {
            "standoff": 15
           }
          }
         }
        },
        "xaxis": {
         "anchor": "y",
         "domain": [
          0,
          1
         ],
         "dtick": 1,
         "title": {
          "text": "Type of Quantum Computer"
         }
        },
        "yaxis": {
         "anchor": "x",
         "domain": [
          0,
          1
         ],
         "title": {
          "text": "Count"
         }
        }
       }
      }
     },
     "metadata": {},
     "output_type": "display_data"
    }
   ],
   "source": [
    "df_quality_gate = df_quality[df_quality['Type of Quantum Computer'] == 'Gate-based']\n",
    "df_quality_anneal = df_quality[df_quality['Type of Quantum Computer'] == 'Annealer']\n",
    "\n",
    "df_pair_ss03_d040_counts = pd.DataFrame([], columns=['Type of Quantum Computer', 'Does the study use a real-world scenario or case study for its application?', 'Count'])\n",
    "df_pair_ss03_d040_counts.set_index(['Type of Quantum Computer'], inplace=True)\n",
    "\n",
    "df_pair_ss03_d040_counts = pd.concat([df_pair_ss03_d040_counts,\n",
    "    get_feature_ss03_counts(df_quality_gate, 'SS3', 'Gate-based', 'Type of Quantum Computer'),\n",
    "    get_feature_ss03_counts(df_quality_anneal, 'SS3', 'Annealer', 'Type of Quantum Computer')])\n",
    "\n",
    "fig = px.bar(df_pair_ss03_d040_counts, x='Type of Quantum Computer', y='Count', color='Does the study use a real-world scenario or case study for its application?', text='Count')\n",
    "fig.update_xaxes(dtick=1)\n",
    "fig.write_image('analysis/pair_ss03_d040.pdf', width=WIDTH, height=QUARTER_HEIGHT)\n",
    "fig.show()"
   ]
  },
  {
   "attachments": {},
   "cell_type": "markdown",
   "metadata": {},
   "source": [
    "### SS03 and D050"
   ]
  },
  {
   "cell_type": "code",
   "execution_count": 115,
   "metadata": {},
   "outputs": [
    {
     "data": {
      "application/vnd.plotly.v1+json": {
       "config": {
        "plotlyServerURL": "https://plot.ly"
       },
       "data": [
        {
         "alignmentgroup": "True",
         "hovertemplate": "Does the study use a real-world scenario or case study for its application?=Yes<br>ISIC Section=%{x}<br>Count=%{text}<extra></extra>",
         "legendgroup": "Yes",
         "marker": {
          "color": "#1F77B4",
          "pattern": {
           "shape": ""
          }
         },
         "name": "Yes",
         "offsetgroup": "Yes",
         "orientation": "v",
         "showlegend": true,
         "text": [
          15,
          15,
          4,
          14,
          4,
          9,
          2
         ],
         "textposition": "auto",
         "type": "bar",
         "x": [
          "C",
          "D",
          "E",
          "H",
          "J",
          "M",
          "O"
         ],
         "xaxis": "x",
         "y": [
          15,
          15,
          4,
          14,
          4,
          9,
          2
         ],
         "yaxis": "y"
        },
        {
         "alignmentgroup": "True",
         "hovertemplate": "Does the study use a real-world scenario or case study for its application?=No<br>ISIC Section=%{x}<br>Count=%{text}<extra></extra>",
         "legendgroup": "No",
         "marker": {
          "color": "#FF7F0E",
          "pattern": {
           "shape": ""
          }
         },
         "name": "No",
         "offsetgroup": "No",
         "orientation": "v",
         "showlegend": true,
         "text": [
          7,
          22,
          2,
          21,
          9,
          12,
          3
         ],
         "textposition": "auto",
         "type": "bar",
         "x": [
          "C",
          "D",
          "E",
          "H",
          "J",
          "M",
          "O"
         ],
         "xaxis": "x",
         "y": [
          7,
          22,
          2,
          21,
          9,
          12,
          3
         ],
         "yaxis": "y"
        }
       ],
       "layout": {
        "barmode": "group",
        "legend": {
         "title": {
          "text": "Does the study use a real-world scenario or case study for its application?"
         },
         "tracegroupgap": 0
        },
        "margin": {
         "t": 60
        },
        "template": {
         "data": {
          "pie": [
           {
            "automargin": true,
            "type": "pie"
           }
          ]
         },
         "layout": {
          "xaxis": {
           "showgrid": true,
           "title": {
            "standoff": 15
           }
          },
          "yaxis": {
           "showgrid": true,
           "title": {
            "standoff": 15
           }
          }
         }
        },
        "xaxis": {
         "anchor": "y",
         "domain": [
          0,
          1
         ],
         "title": {
          "text": "ISIC Section"
         }
        },
        "yaxis": {
         "anchor": "x",
         "domain": [
          0,
          1
         ],
         "title": {
          "text": "Count"
         }
        }
       }
      }
     },
     "metadata": {},
     "output_type": "display_data"
    }
   ],
   "source": [
    "df_quality_C = df_quality[df_quality['ISIC Section'] == 'C']\n",
    "df_quality_D = df_quality[df_quality['ISIC Section'] == 'D']\n",
    "df_quality_E = df_quality[df_quality['ISIC Section'] == 'E']\n",
    "df_quality_H = df_quality[df_quality['ISIC Section'] == 'H']\n",
    "df_quality_J = df_quality[df_quality['ISIC Section'] == 'J']\n",
    "df_quality_M = df_quality[df_quality['ISIC Section'] == 'M']\n",
    "df_quality_O = df_quality[df_quality['ISIC Section'] == 'O']\n",
    "\n",
    "df_pair_ss03_d050_counts = pd.DataFrame([], columns=['ISIC Section', 'Does the study use a real-world scenario or case study for its application?', 'Count'])\n",
    "df_pair_ss03_d050_counts.set_index(['ISIC Section'], inplace=True)\n",
    "\n",
    "df_pair_ss03_d050_counts = pd.concat([df_pair_ss03_d050_counts,\n",
    "    get_feature_ss03_counts(df_quality_C, 'SS3', 'C', 'ISIC Section'),\n",
    "    get_feature_ss03_counts(df_quality_D, 'SS3', 'D', 'ISIC Section'),\n",
    "    get_feature_ss03_counts(df_quality_E, 'SS3', 'E', 'ISIC Section'),\n",
    "    get_feature_ss03_counts(df_quality_H, 'SS3', 'H', 'ISIC Section'),\n",
    "    get_feature_ss03_counts(df_quality_J, 'SS3', 'J', 'ISIC Section'),\n",
    "    get_feature_ss03_counts(df_quality_M, 'SS3', 'M', 'ISIC Section'),\n",
    "    get_feature_ss03_counts(df_quality_O, 'SS3', 'O', 'ISIC Section')])\n",
    "\n",
    "fig = px.bar(df_pair_ss03_d050_counts, x='ISIC Section', y='Count', color='Does the study use a real-world scenario or case study for its application?', text='Count', barmode='group')\n",
    "fig.write_image('analysis/pair_ss03_d050.pdf', width=WIDTH, height=HALF_HEIGHT)\n",
    "fig.show()"
   ]
  },
  {
   "cell_type": "code",
   "execution_count": 116,
   "metadata": {},
   "outputs": [
    {
     "data": {
      "application/vnd.plotly.v1+json": {
       "config": {
        "plotlyServerURL": "https://plot.ly"
       },
       "data": [
        {
         "alignmentgroup": "True",
         "hovertemplate": "Does the study use a real-world scenario or case study for its application?=Yes<br>Publication Year=%{x}<br>Count=%{text}<extra></extra>",
         "legendgroup": "Yes",
         "marker": {
          "color": "#1F77B4",
          "pattern": {
           "shape": ""
          }
         },
         "name": "Yes",
         "offsetgroup": "Yes",
         "orientation": "v",
         "showlegend": true,
         "text": [
          1,
          2,
          2,
          1,
          3,
          6,
          6,
          4,
          10,
          19,
          13,
          3
         ],
         "textposition": "auto",
         "type": "bar",
         "x": [
          "2011",
          "2012",
          "2013",
          "2014",
          "2015",
          "2016",
          "2017",
          "2018",
          "2019",
          "2020",
          "2021",
          "2022"
         ],
         "xaxis": "x",
         "y": [
          1,
          2,
          2,
          1,
          3,
          6,
          6,
          4,
          10,
          19,
          13,
          3
         ],
         "yaxis": "y"
        },
        {
         "alignmentgroup": "True",
         "hovertemplate": "Does the study use a real-world scenario or case study for its application?=No<br>Publication Year=%{x}<br>Count=%{text}<extra></extra>",
         "legendgroup": "No",
         "marker": {
          "color": "#FF7F0E",
          "pattern": {
           "shape": ""
          }
         },
         "name": "No",
         "offsetgroup": "No",
         "orientation": "v",
         "showlegend": true,
         "text": [
          2,
          4,
          1,
          7,
          3,
          5,
          5,
          5,
          10,
          19,
          16,
          2
         ],
         "textposition": "auto",
         "type": "bar",
         "x": [
          "2011",
          "2012",
          "2013",
          "2014",
          "2015",
          "2016",
          "2017",
          "2018",
          "2019",
          "2020",
          "2021",
          "2022"
         ],
         "xaxis": "x",
         "y": [
          2,
          4,
          1,
          7,
          3,
          5,
          5,
          5,
          10,
          19,
          16,
          2
         ],
         "yaxis": "y"
        }
       ],
       "layout": {
        "barmode": "group",
        "legend": {
         "title": {
          "text": "Does the study use a real-world scenario or case study for its application?"
         },
         "tracegroupgap": 0
        },
        "margin": {
         "t": 60
        },
        "template": {
         "data": {
          "pie": [
           {
            "automargin": true,
            "type": "pie"
           }
          ]
         },
         "layout": {
          "xaxis": {
           "showgrid": true,
           "title": {
            "standoff": 15
           }
          },
          "yaxis": {
           "showgrid": true,
           "title": {
            "standoff": 15
           }
          }
         }
        },
        "xaxis": {
         "anchor": "y",
         "domain": [
          0,
          1
         ],
         "dtick": 1,
         "title": {
          "text": "Publication Year"
         }
        },
        "yaxis": {
         "anchor": "x",
         "domain": [
          0,
          1
         ],
         "title": {
          "text": "Count"
         }
        }
       }
      }
     },
     "metadata": {},
     "output_type": "display_data"
    }
   ],
   "source": [
    "df_quality_2011 = df_quality[df_quality['Publication Year'] == 2011]\n",
    "df_quality_2012 = df_quality[df_quality['Publication Year'] == 2012]\n",
    "df_quality_2013 = df_quality[df_quality['Publication Year'] == 2013]\n",
    "df_quality_2014 = df_quality[df_quality['Publication Year'] == 2014]\n",
    "df_quality_2015 = df_quality[df_quality['Publication Year'] == 2015]\n",
    "df_quality_2016 = df_quality[df_quality['Publication Year'] == 2016]\n",
    "df_quality_2017 = df_quality[df_quality['Publication Year'] == 2017]\n",
    "df_quality_2018 = df_quality[df_quality['Publication Year'] == 2018]\n",
    "df_quality_2019 = df_quality[df_quality['Publication Year'] == 2019]\n",
    "df_quality_2020 = df_quality[df_quality['Publication Year'] == 2020]\n",
    "df_quality_2021 = df_quality[df_quality['Publication Year'] == 2021]\n",
    "df_quality_2022 = df_quality[df_quality['Publication Year'] == 2022]\n",
    "\n",
    "df_pair_ss03_d060_counts = pd.DataFrame([], columns=['Publication Year', 'Does the study use a real-world scenario or case study for its application?', 'Count'])\n",
    "df_pair_ss03_d060_counts.set_index(['Publication Year'], inplace=True)\n",
    "\n",
    "df_pair_ss03_d060_counts = pd.concat([df_pair_ss03_d060_counts,\n",
    "    get_feature_ss03_counts(df_quality_2011, 'SS3', '2011', 'Publication Year'),\n",
    "    get_feature_ss03_counts(df_quality_2012, 'SS3', '2012', 'Publication Year'),\n",
    "    get_feature_ss03_counts(df_quality_2013, 'SS3', '2013', 'Publication Year'),\n",
    "    get_feature_ss03_counts(df_quality_2014, 'SS3', '2014', 'Publication Year'),\n",
    "    get_feature_ss03_counts(df_quality_2015, 'SS3', '2015', 'Publication Year'),\n",
    "    get_feature_ss03_counts(df_quality_2016, 'SS3', '2016', 'Publication Year'),\n",
    "    get_feature_ss03_counts(df_quality_2017, 'SS3', '2017', 'Publication Year'),\n",
    "    get_feature_ss03_counts(df_quality_2018, 'SS3', '2018', 'Publication Year'),\n",
    "    get_feature_ss03_counts(df_quality_2019, 'SS3', '2019', 'Publication Year'),\n",
    "    get_feature_ss03_counts(df_quality_2020, 'SS3', '2020', 'Publication Year'),\n",
    "    get_feature_ss03_counts(df_quality_2021, 'SS3', '2021', 'Publication Year'),\n",
    "    get_feature_ss03_counts(df_quality_2022, 'SS3', '2022', 'Publication Year')])\n",
    "\n",
    "fig = px.bar(df_pair_ss03_d060_counts, x='Publication Year', y='Count', color='Does the study use a real-world scenario or case study for its application?', text='Count', barmode=\"group\")\n",
    "fig.update_xaxes(dtick=1)\n",
    "fig.write_image('analysis/pair_ss03_d060.pdf', width=WIDTH, height=HALF_HEIGHT)\n",
    "fig.show()"
   ]
  },
  {
   "cell_type": "code",
   "execution_count": 117,
   "metadata": {},
   "outputs": [
    {
     "data": {
      "application/vnd.plotly.v1+json": {
       "config": {
        "plotlyServerURL": "https://plot.ly"
       },
       "data": [
        {
         "alignmentgroup": "True",
         "hovertemplate": "Does the study use a real-world scenario or case study for its application?=Yes<br>Publication Source=%{x}<br>Count=%{text}<extra></extra>",
         "legendgroup": "Yes",
         "marker": {
          "color": "#1F77B4",
          "pattern": {
           "shape": ""
          }
         },
         "name": "Yes",
         "offsetgroup": "Yes",
         "orientation": "v",
         "showlegend": true,
         "text": [
          51,
          17,
          2
         ],
         "textposition": "auto",
         "type": "bar",
         "x": [
          "Journal",
          "Conference",
          "Workshop"
         ],
         "xaxis": "x",
         "y": [
          51,
          17,
          2
         ],
         "yaxis": "y"
        },
        {
         "alignmentgroup": "True",
         "hovertemplate": "Does the study use a real-world scenario or case study for its application?=No<br>Publication Source=%{x}<br>Count=%{text}<extra></extra>",
         "legendgroup": "No",
         "marker": {
          "color": "#FF7F0E",
          "pattern": {
           "shape": ""
          }
         },
         "name": "No",
         "offsetgroup": "No",
         "orientation": "v",
         "showlegend": true,
         "text": [
          60,
          19,
          0
         ],
         "textposition": "auto",
         "type": "bar",
         "x": [
          "Journal",
          "Conference",
          "Workshop"
         ],
         "xaxis": "x",
         "y": [
          60,
          19,
          0
         ],
         "yaxis": "y"
        }
       ],
       "layout": {
        "barmode": "group",
        "legend": {
         "title": {
          "text": "Does the study use a real-world scenario or case study for its application?"
         },
         "tracegroupgap": 0
        },
        "margin": {
         "t": 60
        },
        "template": {
         "data": {
          "pie": [
           {
            "automargin": true,
            "type": "pie"
           }
          ]
         },
         "layout": {
          "xaxis": {
           "showgrid": true,
           "title": {
            "standoff": 15
           }
          },
          "yaxis": {
           "showgrid": true,
           "title": {
            "standoff": 15
           }
          }
         }
        },
        "xaxis": {
         "anchor": "y",
         "domain": [
          0,
          1
         ],
         "dtick": 1,
         "title": {
          "text": "Publication Source"
         }
        },
        "yaxis": {
         "anchor": "x",
         "domain": [
          0,
          1
         ],
         "title": {
          "text": "Count"
         }
        }
       }
      }
     },
     "metadata": {},
     "output_type": "display_data"
    }
   ],
   "source": [
    "df_quality_journal = df_quality[df_quality['Publication Source'] == 'Journal']\n",
    "df_quality_conference = df_quality[df_quality['Publication Source'] == 'Conference']\n",
    "df_quality_workshop = df_quality[df_quality['Publication Source'] == 'Workshop']\n",
    "\n",
    "df_pair_ss03_d070_counts = pd.DataFrame([], columns=['Publication Source', 'Does the study use a real-world scenario or case study for its application?', 'Count'])\n",
    "df_pair_ss03_d070_counts.set_index(['Publication Source'], inplace=True)\n",
    "\n",
    "df_pair_ss03_d070_counts = pd.concat([df_pair_ss03_d070_counts,\n",
    "    get_feature_ss03_counts(df_quality_journal, 'SS3', 'Journal', 'Publication Source'),\n",
    "    get_feature_ss03_counts(df_quality_conference, 'SS3', 'Conference', 'Publication Source'),\n",
    "    get_feature_ss03_counts(df_quality_workshop, 'SS3', 'Workshop', 'Publication Source')])\n",
    "\n",
    "fig = px.bar(df_pair_ss03_d070_counts, x='Publication Source', y='Count', color='Does the study use a real-world scenario or case study for its application?', text='Count', barmode=\"group\")\n",
    "fig.update_xaxes(dtick=1)\n",
    "fig.write_image('analysis/pair_ss03_d070.pdf', width=WIDTH, height=HALF_HEIGHT)\n",
    "fig.show()"
   ]
  }
 ],
 "metadata": {
  "kernelspec": {
   "display_name": "Python 3.9.13 ('sms')",
   "language": "python",
   "name": "python3"
  },
  "language_info": {
   "codemirror_mode": {
    "name": "ipython",
    "version": 3
   },
   "file_extension": ".py",
   "mimetype": "text/x-python",
   "name": "python",
   "nbconvert_exporter": "python",
   "pygments_lexer": "ipython3",
   "version": "3.9.13"
  },
  "orig_nbformat": 4,
  "vscode": {
   "interpreter": {
    "hash": "a81850c486be7432e6ac53fe2bb18027ea4a8f4121dc8bd68c81c24bd7414df4"
   }
  }
 },
 "nbformat": 4,
 "nbformat_minor": 2
}
